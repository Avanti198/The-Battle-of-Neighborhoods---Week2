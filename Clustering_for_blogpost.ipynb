{
    "nbformat_minor": 2, 
    "cells": [
        {
            "source": "# Segmenting and Clustering Neighborhoods in London City", 
            "cell_type": "markdown", 
            "metadata": {}
        }, 
        {
            "execution_count": 118, 
            "cell_type": "code", 
            "metadata": {}, 
            "outputs": [], 
            "source": "import requests \nimport pandas as pd\nimport numpy as np\nfrom bs4 import BeautifulSoup\nfrom urllib.request import urlopen\nimport re\nfrom geopy.geocoders import Nominatim # convert an address into latitude and longitude values"
        }, 
        {
            "execution_count": 119, 
            "cell_type": "code", 
            "metadata": {}, 
            "outputs": [], 
            "source": "import json # library to handle JSON files\nfrom pandas.io.json import json_normalize # tranform JSON file into a pandas dataframe\n# import k-means from clustering stage\nfrom sklearn.cluster import KMeans\n\n# Matplotlib and associated plotting modules\nimport matplotlib.cm as cm\nimport matplotlib.colors as colors\n\n# install and import folium library \n!pip -q install folium\nimport folium \n\n# import k-means from clustering stage\nfrom sklearn.cluster import KMeans"
        }, 
        {
            "execution_count": 120, 
            "cell_type": "code", 
            "metadata": {}, 
            "outputs": [], 
            "source": "URL = \"https://en.wikipedia.org/wiki/List_of_London_boroughs\"\nres = requests.get(URL).text\nsoup = BeautifulSoup(res,'lxml')\n\ndf_list = []\n# print(soup)\nfor items in soup.find('table', class_= 'wikitable sortable').find_all('tr')[1::]:\n    data = items.find_all(['td'])\n    data1 = data[0]\n    data8 = data[8]    \n    try:\n        borough_name = data1.get_text()\n        borough_name = borough_name[0]\n        ll = data8.get_text()\n        lat_long = ll[2]\n        latitude = lat_long[0]\n        longitude = lat_long[1]\n#       Append the borough name, latitude and logitude in a list\n        df_list.append((borough_name, latitude, longitude))\n    except IndexError:pass"
        }, 
        {
            "source": "### 1) Download and Explore the Dataset", 
            "cell_type": "markdown", 
            "metadata": {}
        }, 
        {
            "source": "#### Read the latitude and longitude coordinates of all Boroughs in London from a Wikipedia link", 
            "cell_type": "markdown", 
            "metadata": {}
        }, 
        {
            "execution_count": 121, 
            "cell_type": "code", 
            "metadata": {}, 
            "outputs": [], 
            "source": "URL = \"https://en.wikipedia.org/wiki/List_of_London_boroughs\"\nres = requests.get(URL).text\nsoup = BeautifulSoup(res,'lxml')\n\ndf_list = []\n# print(soup)\nfor items in soup.find('table', class_= 'wikitable sortable').find_all('tr')[1::]:\n    data = items.find_all(['td'])\n    data1 = data[0]\n    data8 = data[8]    \n    try:\n        borough_name = data1.get_text()\n        borough_name = borough_name.split('[')\n        borough_name = borough_name[0]\n        borough_name = borough_name.strip()\n        \n        ll = data8.get_text()\n        ll = ll.split('/')\n        lat_long = ll[2]\n        lat_long = lat_long.split('(')\n        lat_long = lat_long[0]\n        lat_long = lat_long.split(';')\n        latitude = lat_long[0]\n        latitude = latitude.strip()\n        longitude = lat_long[1]\n        longitude = longitude.strip()\n        longitude = longitude.replace(u'\\ufeff', '')\n        latitude = float(latitude)\n        longitude = float(longitude)\n\n#       Append the borough name, latitude and logitude in a list\n        df_list.append((borough_name, latitude, longitude))\n    except IndexError:pass"
        }, 
        {
            "execution_count": 122, 
            "cell_type": "code", 
            "metadata": {}, 
            "outputs": [], 
            "source": "df_boroughs = pd.DataFrame(df_list, columns=['Borough', 'Latitude' , 'Longitude'])"
        }, 
        {
            "execution_count": 123, 
            "cell_type": "code", 
            "metadata": {}, 
            "outputs": [
                {
                    "execution_count": 123, 
                    "metadata": {}, 
                    "data": {
                        "text/plain": "(32, 3)"
                    }, 
                    "output_type": "execute_result"
                }
            ], 
            "source": "df_boroughs.shape"
        }, 
        {
            "execution_count": 124, 
            "cell_type": "code", 
            "metadata": {}, 
            "outputs": [
                {
                    "execution_count": 124, 
                    "metadata": {}, 
                    "data": {
                        "text/html": "<div>\n<style scoped>\n    .dataframe tbody tr th:only-of-type {\n        vertical-align: middle;\n    }\n\n    .dataframe tbody tr th {\n        vertical-align: top;\n    }\n\n    .dataframe thead th {\n        text-align: right;\n    }\n</style>\n<table border=\"1\" class=\"dataframe\">\n  <thead>\n    <tr style=\"text-align: right;\">\n      <th></th>\n      <th>Borough</th>\n      <th>Latitude</th>\n      <th>Longitude</th>\n    </tr>\n  </thead>\n  <tbody>\n    <tr>\n      <th>0</th>\n      <td>Barking and Dagenham</td>\n      <td>51.5607</td>\n      <td>0.1557</td>\n    </tr>\n    <tr>\n      <th>1</th>\n      <td>Barnet</td>\n      <td>51.6252</td>\n      <td>-0.1517</td>\n    </tr>\n    <tr>\n      <th>2</th>\n      <td>Bexley</td>\n      <td>51.4549</td>\n      <td>0.1505</td>\n    </tr>\n    <tr>\n      <th>3</th>\n      <td>Brent</td>\n      <td>51.5588</td>\n      <td>-0.2817</td>\n    </tr>\n    <tr>\n      <th>4</th>\n      <td>Bromley</td>\n      <td>51.4039</td>\n      <td>0.0198</td>\n    </tr>\n  </tbody>\n</table>\n</div>", 
                        "text/plain": "                Borough  Latitude  Longitude\n0  Barking and Dagenham   51.5607     0.1557\n1                Barnet   51.6252    -0.1517\n2                Bexley   51.4549     0.1505\n3                 Brent   51.5588    -0.2817\n4               Bromley   51.4039     0.0198"
                    }, 
                    "output_type": "execute_result"
                }
            ], 
            "source": "df_boroughs.head()"
        }, 
        {
            "execution_count": 125, 
            "cell_type": "code", 
            "metadata": {}, 
            "outputs": [
                {
                    "execution_count": 125, 
                    "metadata": {}, 
                    "data": {
                        "text/plain": "Borough       object\nLatitude     float64\nLongitude    float64\ndtype: object"
                    }, 
                    "output_type": "execute_result"
                }
            ], 
            "source": "df_boroughs.dtypes"
        }, 
        {
            "execution_count": 126, 
            "cell_type": "code", 
            "metadata": {}, 
            "outputs": [
                {
                    "execution_count": 126, 
                    "metadata": {}, 
                    "data": {
                        "text/html": "<div>\n<style scoped>\n    .dataframe tbody tr th:only-of-type {\n        vertical-align: middle;\n    }\n\n    .dataframe tbody tr th {\n        vertical-align: top;\n    }\n\n    .dataframe thead th {\n        text-align: right;\n    }\n</style>\n<table border=\"1\" class=\"dataframe\">\n  <thead>\n    <tr style=\"text-align: right;\">\n      <th></th>\n      <th>Borough</th>\n      <th>Latitude</th>\n      <th>Longitude</th>\n    </tr>\n  </thead>\n  <tbody>\n    <tr>\n      <th>23</th>\n      <td>Newham</td>\n      <td>51.5077</td>\n      <td>0.0469</td>\n    </tr>\n  </tbody>\n</table>\n</div>", 
                        "text/plain": "   Borough  Latitude  Longitude\n23  Newham   51.5077     0.0469"
                    }, 
                    "output_type": "execute_result"
                }
            ], 
            "source": "df_boroughs.loc[df_boroughs['Borough'] == 'Newham']"
        }, 
        {
            "source": "#### Get the Latitude and Longitude of London City using geopy library", 
            "cell_type": "markdown", 
            "metadata": {}
        }, 
        {
            "execution_count": 127, 
            "cell_type": "code", 
            "metadata": {}, 
            "outputs": [
                {
                    "output_type": "stream", 
                    "name": "stdout", 
                    "text": "The geograpical coordinate of London City are 51.5073219, -0.1276474.\n"
                }
            ], 
            "source": "from geopy.geocoders import Nominatim # convert an address into latitude and longitude values\naddress = 'London, UK'\ngeolocator = Nominatim()\nlocation = geolocator.geocode(address)\nlatitude = location.latitude\nlongitude = location.longitude\nprint('The geograpical coordinate of London City are {}, {}.'.format(latitude, longitude))"
        }, 
        {
            "source": "#### Create a map of London with Boroughs superimposed on top.", 
            "cell_type": "markdown", 
            "metadata": {}
        }, 
        {
            "execution_count": 128, 
            "cell_type": "code", 
            "metadata": {
                "scrolled": true
            }, 
            "outputs": [
                {
                    "execution_count": 128, 
                    "metadata": {}, 
                    "data": {
                        "text/html": "<div style=\"width:100%;\"><div style=\"position:relative;width:100%;height:0;padding-bottom:60%;\"><iframe src=\"data:text/html;charset=utf-8;base64,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\" style=\"position:absolute;width:100%;height:100%;left:0;top:0;border:none !important;\" allowfullscreen webkitallowfullscreen mozallowfullscreen></iframe></div></div>", 
                        "text/plain": "<folium.folium.Map at 0x7f486c338f98>"
                    }, 
                    "output_type": "execute_result"
                }
            ], 
            "source": "import folium \n\n# create map of London using latitude and longitude values\nmap_london = folium.Map(location=[latitude, longitude], zoom_start=10)\n\n# add markers to map\nfor lat, lng, borough in zip(df_boroughs['Latitude'], df_boroughs['Longitude'], df_boroughs['Borough']):\n    label = '{}'.format(borough)\n    label = folium.Popup(label, parse_html=True)\n    folium.CircleMarker(\n        [lat, lng],\n        radius=5,\n        popup=label,\n        color='blue',\n        fill=True,\n        fill_color='#3186cc',\nfill_opacity=0.7).add_to(map_london)  \nmap_london    "
        }, 
        {
            "source": "## Preferred location for Asian restuarant - Newham Borough", 
            "cell_type": "markdown", 
            "metadata": {}
        }, 
        {
            "source": "#### As the borough Newham is having high asian population, we will consider to Segment and Cluster only the neighbourhoods of this borough. For that we have to get the latitude and longitude details of all the areas(neighbourhoods) of Newham borough.", 
            "cell_type": "markdown", 
            "metadata": {}
        }, 
        {
            "source": "#### Read the latitude and longitude coordinates of all the neighborhoods(areas) in Newham Borough", 
            "cell_type": "markdown", 
            "metadata": {}
        }, 
        {
            "execution_count": 129, 
            "cell_type": "code", 
            "metadata": {}, 
            "outputs": [], 
            "source": "from urllib.request import urlopen\nimport re\nURL = \"https://en.wikipedia.org/wiki/List_of_areas_of_London\"\nres = requests.get(URL).text\nsoup = BeautifulSoup(res,'lxml')\n\ncodes = []\nareas_list = []\nhref_links_list = []\nfor items in soup.find('table', class_= 'wikitable sortable').find_all('tr')[1::]:\n    data = items.find_all(['td'])\n    data0 = data[0]\n    area_name = data0.text\n\n    data1 = data[1]\n    data1 = data1.text\n    borough = data1.split('[')\n    borough_name = borough[0]\n    data5 = data[5]\n    code = data5.text\n    code = code.strip()\n    \n    if borough_name == 'Newham':\n        codes.append(code)\n        areas_list.append((borough_name,area_name,code))\n\n                \nfor link in soup.findAll('a', attrs={'href': re.compile(\"^https://tools.wmflabs.org\")}):\n            htext = link.text\n            if htext in codes:\n                hlink = link.get('href')\n                href_links_list.append((htext, hlink))"
        }, 
        {
            "source": "#### Create a DataFrame from the Areas list ", 
            "cell_type": "markdown", 
            "metadata": {}
        }, 
        {
            "execution_count": 130, 
            "cell_type": "code", 
            "metadata": {}, 
            "outputs": [], 
            "source": "df_areas = pd.DataFrame(areas_list, columns=['Borough', 'Area', 'Code'])"
        }, 
        {
            "execution_count": 131, 
            "cell_type": "code", 
            "metadata": {}, 
            "outputs": [
                {
                    "execution_count": 131, 
                    "metadata": {}, 
                    "data": {
                        "text/html": "<div>\n<style scoped>\n    .dataframe tbody tr th:only-of-type {\n        vertical-align: middle;\n    }\n\n    .dataframe tbody tr th {\n        vertical-align: top;\n    }\n\n    .dataframe thead th {\n        text-align: right;\n    }\n</style>\n<table border=\"1\" class=\"dataframe\">\n  <thead>\n    <tr style=\"text-align: right;\">\n      <th></th>\n      <th>Borough</th>\n      <th>Area</th>\n      <th>Code</th>\n    </tr>\n  </thead>\n  <tbody>\n    <tr>\n      <th>0</th>\n      <td>Newham</td>\n      <td>Beckton</td>\n      <td>TQ435815</td>\n    </tr>\n    <tr>\n      <th>1</th>\n      <td>Newham</td>\n      <td>Canning Town</td>\n      <td>TQ405815</td>\n    </tr>\n    <tr>\n      <th>2</th>\n      <td>Newham</td>\n      <td>Custom House</td>\n      <td>TQ408807</td>\n    </tr>\n    <tr>\n      <th>3</th>\n      <td>Newham</td>\n      <td>East Ham</td>\n      <td>TQ425835</td>\n    </tr>\n    <tr>\n      <th>4</th>\n      <td>Newham</td>\n      <td>Forest Gate</td>\n      <td>TQ405855</td>\n    </tr>\n  </tbody>\n</table>\n</div>", 
                        "text/plain": "  Borough          Area      Code\n0  Newham       Beckton  TQ435815\n1  Newham  Canning Town  TQ405815\n2  Newham  Custom House  TQ408807\n3  Newham      East Ham  TQ425835\n4  Newham   Forest Gate  TQ405855"
                    }, 
                    "output_type": "execute_result"
                }
            ], 
            "source": "df_areas.head()"
        }, 
        {
            "execution_count": 132, 
            "cell_type": "code", 
            "metadata": {}, 
            "outputs": [
                {
                    "execution_count": 132, 
                    "metadata": {}, 
                    "data": {
                        "text/plain": "Index(['Borough', 'Area', 'Code'], dtype='object')"
                    }, 
                    "output_type": "execute_result"
                }
            ], 
            "source": "df_areas.columns"
        }, 
        {
            "execution_count": 133, 
            "cell_type": "code", 
            "metadata": {}, 
            "outputs": [
                {
                    "execution_count": 133, 
                    "metadata": {}, 
                    "data": {
                        "text/plain": "(14, 3)"
                    }, 
                    "output_type": "execute_result"
                }
            ], 
            "source": "df_areas.shape"
        }, 
        {
            "source": "#### Create a DataFrame from the list of href links", 
            "cell_type": "markdown", 
            "metadata": {}
        }, 
        {
            "execution_count": 134, 
            "cell_type": "code", 
            "metadata": {}, 
            "outputs": [], 
            "source": "df_links = pd.DataFrame(href_links_list, columns=['Code','href'])"
        }, 
        {
            "execution_count": 135, 
            "cell_type": "code", 
            "metadata": {}, 
            "outputs": [
                {
                    "execution_count": 135, 
                    "metadata": {}, 
                    "data": {
                        "text/plain": "Index(['Code', 'href'], dtype='object')"
                    }, 
                    "output_type": "execute_result"
                }
            ], 
            "source": "df_links.columns"
        }, 
        {
            "execution_count": 136, 
            "cell_type": "code", 
            "metadata": {}, 
            "outputs": [
                {
                    "execution_count": 136, 
                    "metadata": {}, 
                    "data": {
                        "text/plain": "(15, 2)"
                    }, 
                    "output_type": "execute_result"
                }
            ], 
            "source": "df_links.shape"
        }, 
        {
            "execution_count": 137, 
            "cell_type": "code", 
            "metadata": {}, 
            "outputs": [
                {
                    "execution_count": 137, 
                    "metadata": {}, 
                    "data": {
                        "text/html": "<div>\n<style scoped>\n    .dataframe tbody tr th:only-of-type {\n        vertical-align: middle;\n    }\n\n    .dataframe tbody tr th {\n        vertical-align: top;\n    }\n\n    .dataframe thead th {\n        text-align: right;\n    }\n</style>\n<table border=\"1\" class=\"dataframe\">\n  <thead>\n    <tr style=\"text-align: right;\">\n      <th></th>\n      <th>Code</th>\n      <th>href</th>\n    </tr>\n  </thead>\n  <tbody>\n    <tr>\n      <th>0</th>\n      <td>TQ435815</td>\n      <td>https://tools.wmflabs.org/os/coor_g/?pagename=...</td>\n    </tr>\n    <tr>\n      <th>1</th>\n      <td>TQ405815</td>\n      <td>https://tools.wmflabs.org/os/coor_g/?pagename=...</td>\n    </tr>\n    <tr>\n      <th>2</th>\n      <td>TQ408807</td>\n      <td>https://tools.wmflabs.org/os/coor_g/?pagename=...</td>\n    </tr>\n    <tr>\n      <th>3</th>\n      <td>TQ425835</td>\n      <td>https://tools.wmflabs.org/os/coor_g/?pagename=...</td>\n    </tr>\n    <tr>\n      <th>4</th>\n      <td>TQ405855</td>\n      <td>https://tools.wmflabs.org/os/coor_g/?pagename=...</td>\n    </tr>\n    <tr>\n      <th>5</th>\n      <td>TQ435855</td>\n      <td>https://tools.wmflabs.org/os/coor_g/?pagename=...</td>\n    </tr>\n    <tr>\n      <th>6</th>\n      <td>TQ425855</td>\n      <td>https://tools.wmflabs.org/os/coor_g/?pagename=...</td>\n    </tr>\n    <tr>\n      <th>7</th>\n      <td>TQ391849</td>\n      <td>https://tools.wmflabs.org/os/coor_g/?pagename=...</td>\n    </tr>\n    <tr>\n      <th>8</th>\n      <td>TQ435795</td>\n      <td>https://tools.wmflabs.org/os/coor_g/?pagename=...</td>\n    </tr>\n    <tr>\n      <th>9</th>\n      <td>TQ405825</td>\n      <td>https://tools.wmflabs.org/os/coor_g/?pagename=...</td>\n    </tr>\n    <tr>\n      <th>10</th>\n      <td>TQ415795</td>\n      <td>https://tools.wmflabs.org/os/coor_g/?pagename=...</td>\n    </tr>\n    <tr>\n      <th>11</th>\n      <td>TQ385845</td>\n      <td>https://tools.wmflabs.org/os/coor_g/?pagename=...</td>\n    </tr>\n    <tr>\n      <th>12</th>\n      <td>TQ405837</td>\n      <td>https://tools.wmflabs.org/os/coor_g/?pagename=...</td>\n    </tr>\n    <tr>\n      <th>13</th>\n      <td>TQ405837</td>\n      <td>https://tools.wmflabs.org/os/coor_g/?pagename=...</td>\n    </tr>\n    <tr>\n      <th>14</th>\n      <td>TQ435795</td>\n      <td>https://tools.wmflabs.org/os/coor_g/?pagename=...</td>\n    </tr>\n  </tbody>\n</table>\n</div>", 
                        "text/plain": "        Code                                               href\n0   TQ435815  https://tools.wmflabs.org/os/coor_g/?pagename=...\n1   TQ405815  https://tools.wmflabs.org/os/coor_g/?pagename=...\n2   TQ408807  https://tools.wmflabs.org/os/coor_g/?pagename=...\n3   TQ425835  https://tools.wmflabs.org/os/coor_g/?pagename=...\n4   TQ405855  https://tools.wmflabs.org/os/coor_g/?pagename=...\n5   TQ435855  https://tools.wmflabs.org/os/coor_g/?pagename=...\n6   TQ425855  https://tools.wmflabs.org/os/coor_g/?pagename=...\n7   TQ391849  https://tools.wmflabs.org/os/coor_g/?pagename=...\n8   TQ435795  https://tools.wmflabs.org/os/coor_g/?pagename=...\n9   TQ405825  https://tools.wmflabs.org/os/coor_g/?pagename=...\n10  TQ415795  https://tools.wmflabs.org/os/coor_g/?pagename=...\n11  TQ385845  https://tools.wmflabs.org/os/coor_g/?pagename=...\n12  TQ405837  https://tools.wmflabs.org/os/coor_g/?pagename=...\n13  TQ405837  https://tools.wmflabs.org/os/coor_g/?pagename=...\n14  TQ435795  https://tools.wmflabs.org/os/coor_g/?pagename=..."
                    }, 
                    "output_type": "execute_result"
                }
            ], 
            "source": "df_links"
        }, 
        {
            "source": "#### Merge the Areas and href Links DataFrames", 
            "cell_type": "markdown", 
            "metadata": {}
        }, 
        {
            "execution_count": 138, 
            "cell_type": "code", 
            "metadata": {}, 
            "outputs": [], 
            "source": "cols = df_links.columns.difference(df_areas.columns)"
        }, 
        {
            "execution_count": 139, 
            "cell_type": "code", 
            "metadata": {}, 
            "outputs": [
                {
                    "execution_count": 139, 
                    "metadata": {}, 
                    "data": {
                        "text/plain": "Index(['href'], dtype='object')"
                    }, 
                    "output_type": "execute_result"
                }
            ], 
            "source": "cols"
        }, 
        {
            "execution_count": 140, 
            "cell_type": "code", 
            "metadata": {}, 
            "outputs": [], 
            "source": "df_areas_links = pd.concat([df_areas, df_links[cols]], axis=1)"
        }, 
        {
            "execution_count": 141, 
            "cell_type": "code", 
            "metadata": {}, 
            "outputs": [
                {
                    "execution_count": 141, 
                    "metadata": {}, 
                    "data": {
                        "text/plain": "(15, 4)"
                    }, 
                    "output_type": "execute_result"
                }
            ], 
            "source": "df_areas_links.shape"
        }, 
        {
            "execution_count": 142, 
            "cell_type": "code", 
            "metadata": {}, 
            "outputs": [
                {
                    "execution_count": 142, 
                    "metadata": {}, 
                    "data": {
                        "text/html": "<div>\n<style scoped>\n    .dataframe tbody tr th:only-of-type {\n        vertical-align: middle;\n    }\n\n    .dataframe tbody tr th {\n        vertical-align: top;\n    }\n\n    .dataframe thead th {\n        text-align: right;\n    }\n</style>\n<table border=\"1\" class=\"dataframe\">\n  <thead>\n    <tr style=\"text-align: right;\">\n      <th></th>\n      <th>Borough</th>\n      <th>Area</th>\n      <th>Code</th>\n      <th>href</th>\n    </tr>\n  </thead>\n  <tbody>\n    <tr>\n      <th>0</th>\n      <td>Newham</td>\n      <td>Beckton</td>\n      <td>TQ435815</td>\n      <td>https://tools.wmflabs.org/os/coor_g/?pagename=...</td>\n    </tr>\n    <tr>\n      <th>1</th>\n      <td>Newham</td>\n      <td>Canning Town</td>\n      <td>TQ405815</td>\n      <td>https://tools.wmflabs.org/os/coor_g/?pagename=...</td>\n    </tr>\n    <tr>\n      <th>2</th>\n      <td>Newham</td>\n      <td>Custom House</td>\n      <td>TQ408807</td>\n      <td>https://tools.wmflabs.org/os/coor_g/?pagename=...</td>\n    </tr>\n    <tr>\n      <th>3</th>\n      <td>Newham</td>\n      <td>East Ham</td>\n      <td>TQ425835</td>\n      <td>https://tools.wmflabs.org/os/coor_g/?pagename=...</td>\n    </tr>\n    <tr>\n      <th>4</th>\n      <td>Newham</td>\n      <td>Forest Gate</td>\n      <td>TQ405855</td>\n      <td>https://tools.wmflabs.org/os/coor_g/?pagename=...</td>\n    </tr>\n    <tr>\n      <th>5</th>\n      <td>Newham</td>\n      <td>Little Ilford</td>\n      <td>TQ435855</td>\n      <td>https://tools.wmflabs.org/os/coor_g/?pagename=...</td>\n    </tr>\n    <tr>\n      <th>6</th>\n      <td>Newham</td>\n      <td>Manor Park</td>\n      <td>TQ425855</td>\n      <td>https://tools.wmflabs.org/os/coor_g/?pagename=...</td>\n    </tr>\n    <tr>\n      <th>7</th>\n      <td>Newham</td>\n      <td>Maryland</td>\n      <td>TQ391849</td>\n      <td>https://tools.wmflabs.org/os/coor_g/?pagename=...</td>\n    </tr>\n    <tr>\n      <th>8</th>\n      <td>Newham</td>\n      <td>North Woolwich</td>\n      <td>TQ435795</td>\n      <td>https://tools.wmflabs.org/os/coor_g/?pagename=...</td>\n    </tr>\n    <tr>\n      <th>9</th>\n      <td>Newham</td>\n      <td>Plaistow</td>\n      <td>TQ405825</td>\n      <td>https://tools.wmflabs.org/os/coor_g/?pagename=...</td>\n    </tr>\n    <tr>\n      <th>10</th>\n      <td>Newham</td>\n      <td>Silvertown</td>\n      <td>TQ415795</td>\n      <td>https://tools.wmflabs.org/os/coor_g/?pagename=...</td>\n    </tr>\n    <tr>\n      <th>11</th>\n      <td>Newham</td>\n      <td>Stratford</td>\n      <td>TQ385845</td>\n      <td>https://tools.wmflabs.org/os/coor_g/?pagename=...</td>\n    </tr>\n    <tr>\n      <th>12</th>\n      <td>Newham</td>\n      <td>Upton Park</td>\n      <td>TQ405837</td>\n      <td>https://tools.wmflabs.org/os/coor_g/?pagename=...</td>\n    </tr>\n    <tr>\n      <th>13</th>\n      <td>Newham</td>\n      <td>West Ham</td>\n      <td>TQ405837</td>\n      <td>https://tools.wmflabs.org/os/coor_g/?pagename=...</td>\n    </tr>\n    <tr>\n      <th>14</th>\n      <td>NaN</td>\n      <td>NaN</td>\n      <td>NaN</td>\n      <td>https://tools.wmflabs.org/os/coor_g/?pagename=...</td>\n    </tr>\n  </tbody>\n</table>\n</div>", 
                        "text/plain": "   Borough            Area      Code  \\\n0   Newham         Beckton  TQ435815   \n1   Newham    Canning Town  TQ405815   \n2   Newham    Custom House  TQ408807   \n3   Newham        East Ham  TQ425835   \n4   Newham     Forest Gate  TQ405855   \n5   Newham   Little Ilford  TQ435855   \n6   Newham      Manor Park  TQ425855   \n7   Newham        Maryland  TQ391849   \n8   Newham  North Woolwich  TQ435795   \n9   Newham        Plaistow  TQ405825   \n10  Newham      Silvertown  TQ415795   \n11  Newham       Stratford  TQ385845   \n12  Newham      Upton Park  TQ405837   \n13  Newham        West Ham  TQ405837   \n14     NaN             NaN       NaN   \n\n                                                 href  \n0   https://tools.wmflabs.org/os/coor_g/?pagename=...  \n1   https://tools.wmflabs.org/os/coor_g/?pagename=...  \n2   https://tools.wmflabs.org/os/coor_g/?pagename=...  \n3   https://tools.wmflabs.org/os/coor_g/?pagename=...  \n4   https://tools.wmflabs.org/os/coor_g/?pagename=...  \n5   https://tools.wmflabs.org/os/coor_g/?pagename=...  \n6   https://tools.wmflabs.org/os/coor_g/?pagename=...  \n7   https://tools.wmflabs.org/os/coor_g/?pagename=...  \n8   https://tools.wmflabs.org/os/coor_g/?pagename=...  \n9   https://tools.wmflabs.org/os/coor_g/?pagename=...  \n10  https://tools.wmflabs.org/os/coor_g/?pagename=...  \n11  https://tools.wmflabs.org/os/coor_g/?pagename=...  \n12  https://tools.wmflabs.org/os/coor_g/?pagename=...  \n13  https://tools.wmflabs.org/os/coor_g/?pagename=...  \n14  https://tools.wmflabs.org/os/coor_g/?pagename=...  "
                    }, 
                    "output_type": "execute_result"
                }
            ], 
            "source": "df_areas_links"
        }, 
        {
            "source": "#### Remove the row where there is no data ", 
            "cell_type": "markdown", 
            "metadata": {}
        }, 
        {
            "execution_count": 143, 
            "cell_type": "code", 
            "metadata": {}, 
            "outputs": [], 
            "source": "df_areas_links = df_areas_links.dropna(how='any')"
        }, 
        {
            "execution_count": 144, 
            "cell_type": "code", 
            "metadata": {}, 
            "outputs": [
                {
                    "execution_count": 144, 
                    "metadata": {}, 
                    "data": {
                        "text/html": "<div>\n<style scoped>\n    .dataframe tbody tr th:only-of-type {\n        vertical-align: middle;\n    }\n\n    .dataframe tbody tr th {\n        vertical-align: top;\n    }\n\n    .dataframe thead th {\n        text-align: right;\n    }\n</style>\n<table border=\"1\" class=\"dataframe\">\n  <thead>\n    <tr style=\"text-align: right;\">\n      <th></th>\n      <th>Borough</th>\n      <th>Area</th>\n      <th>Code</th>\n      <th>href</th>\n    </tr>\n  </thead>\n  <tbody>\n    <tr>\n      <th>0</th>\n      <td>Newham</td>\n      <td>Beckton</td>\n      <td>TQ435815</td>\n      <td>https://tools.wmflabs.org/os/coor_g/?pagename=...</td>\n    </tr>\n    <tr>\n      <th>1</th>\n      <td>Newham</td>\n      <td>Canning Town</td>\n      <td>TQ405815</td>\n      <td>https://tools.wmflabs.org/os/coor_g/?pagename=...</td>\n    </tr>\n    <tr>\n      <th>2</th>\n      <td>Newham</td>\n      <td>Custom House</td>\n      <td>TQ408807</td>\n      <td>https://tools.wmflabs.org/os/coor_g/?pagename=...</td>\n    </tr>\n    <tr>\n      <th>3</th>\n      <td>Newham</td>\n      <td>East Ham</td>\n      <td>TQ425835</td>\n      <td>https://tools.wmflabs.org/os/coor_g/?pagename=...</td>\n    </tr>\n    <tr>\n      <th>4</th>\n      <td>Newham</td>\n      <td>Forest Gate</td>\n      <td>TQ405855</td>\n      <td>https://tools.wmflabs.org/os/coor_g/?pagename=...</td>\n    </tr>\n    <tr>\n      <th>5</th>\n      <td>Newham</td>\n      <td>Little Ilford</td>\n      <td>TQ435855</td>\n      <td>https://tools.wmflabs.org/os/coor_g/?pagename=...</td>\n    </tr>\n    <tr>\n      <th>6</th>\n      <td>Newham</td>\n      <td>Manor Park</td>\n      <td>TQ425855</td>\n      <td>https://tools.wmflabs.org/os/coor_g/?pagename=...</td>\n    </tr>\n    <tr>\n      <th>7</th>\n      <td>Newham</td>\n      <td>Maryland</td>\n      <td>TQ391849</td>\n      <td>https://tools.wmflabs.org/os/coor_g/?pagename=...</td>\n    </tr>\n    <tr>\n      <th>8</th>\n      <td>Newham</td>\n      <td>North Woolwich</td>\n      <td>TQ435795</td>\n      <td>https://tools.wmflabs.org/os/coor_g/?pagename=...</td>\n    </tr>\n    <tr>\n      <th>9</th>\n      <td>Newham</td>\n      <td>Plaistow</td>\n      <td>TQ405825</td>\n      <td>https://tools.wmflabs.org/os/coor_g/?pagename=...</td>\n    </tr>\n    <tr>\n      <th>10</th>\n      <td>Newham</td>\n      <td>Silvertown</td>\n      <td>TQ415795</td>\n      <td>https://tools.wmflabs.org/os/coor_g/?pagename=...</td>\n    </tr>\n    <tr>\n      <th>11</th>\n      <td>Newham</td>\n      <td>Stratford</td>\n      <td>TQ385845</td>\n      <td>https://tools.wmflabs.org/os/coor_g/?pagename=...</td>\n    </tr>\n    <tr>\n      <th>12</th>\n      <td>Newham</td>\n      <td>Upton Park</td>\n      <td>TQ405837</td>\n      <td>https://tools.wmflabs.org/os/coor_g/?pagename=...</td>\n    </tr>\n    <tr>\n      <th>13</th>\n      <td>Newham</td>\n      <td>West Ham</td>\n      <td>TQ405837</td>\n      <td>https://tools.wmflabs.org/os/coor_g/?pagename=...</td>\n    </tr>\n  </tbody>\n</table>\n</div>", 
                        "text/plain": "   Borough            Area      Code  \\\n0   Newham         Beckton  TQ435815   \n1   Newham    Canning Town  TQ405815   \n2   Newham    Custom House  TQ408807   \n3   Newham        East Ham  TQ425835   \n4   Newham     Forest Gate  TQ405855   \n5   Newham   Little Ilford  TQ435855   \n6   Newham      Manor Park  TQ425855   \n7   Newham        Maryland  TQ391849   \n8   Newham  North Woolwich  TQ435795   \n9   Newham        Plaistow  TQ405825   \n10  Newham      Silvertown  TQ415795   \n11  Newham       Stratford  TQ385845   \n12  Newham      Upton Park  TQ405837   \n13  Newham        West Ham  TQ405837   \n\n                                                 href  \n0   https://tools.wmflabs.org/os/coor_g/?pagename=...  \n1   https://tools.wmflabs.org/os/coor_g/?pagename=...  \n2   https://tools.wmflabs.org/os/coor_g/?pagename=...  \n3   https://tools.wmflabs.org/os/coor_g/?pagename=...  \n4   https://tools.wmflabs.org/os/coor_g/?pagename=...  \n5   https://tools.wmflabs.org/os/coor_g/?pagename=...  \n6   https://tools.wmflabs.org/os/coor_g/?pagename=...  \n7   https://tools.wmflabs.org/os/coor_g/?pagename=...  \n8   https://tools.wmflabs.org/os/coor_g/?pagename=...  \n9   https://tools.wmflabs.org/os/coor_g/?pagename=...  \n10  https://tools.wmflabs.org/os/coor_g/?pagename=...  \n11  https://tools.wmflabs.org/os/coor_g/?pagename=...  \n12  https://tools.wmflabs.org/os/coor_g/?pagename=...  \n13  https://tools.wmflabs.org/os/coor_g/?pagename=...  "
                    }, 
                    "output_type": "execute_result"
                }
            ], 
            "source": "df_areas_links"
        }, 
        {
            "source": "#### Get the geo co-ordinates for all the areas in the Newham borough", 
            "cell_type": "markdown", 
            "metadata": {}
        }, 
        {
            "execution_count": 145, 
            "cell_type": "code", 
            "metadata": {}, 
            "outputs": [
                {
                    "output_type": "stream", 
                    "name": "stdout", 
                    "text": "[('TQ435815', 51.514642, 0.067375), ('TQ405815', 51.515396, 0.024169), ('TQ408807', 51.508133, 0.028171), ('TQ425835', 51.532867, 0.053782), ('TQ405855', 51.551339, 0.025765), ('TQ435855', 51.550584, 0.069004), ('TQ425855', 51.550838, 0.054591), ('TQ391849', 51.546294, 0.005349), ('TQ435795', 51.496671, 0.066561), ('TQ405825', 51.524382, 0.024568), ('TQ415795', 51.497175, 0.037769), ('TQ385845', 51.542847, -0.003456), ('TQ405837', 51.535165, 0.025046), ('TQ405837', 51.535165, 0.025046)]\n"
                }
            ], 
            "source": "geo_codes = []\nfor row in df_areas_links.itertuples():\n    url = row.href\n    code = row.Code\n    res = requests.get(url).text\n    soup1 = BeautifulSoup(res,'lxml')\n    \n    for lat in soup1.find('span',{'class':'latitude'}):\n        latitude = lat\n        latitude = float(latitude)\n            \n    for long in soup1.find('span',{'class':'longitude'}):    \n        longitude = long\n        longitude = float(longitude)\n        \n    geo_codes.append((code, latitude, longitude))\n\nprint(geo_codes)    "
        }, 
        {
            "source": "#### Create a DataFrame from the above list", 
            "cell_type": "markdown", 
            "metadata": {}
        }, 
        {
            "execution_count": 146, 
            "cell_type": "code", 
            "metadata": {}, 
            "outputs": [], 
            "source": "df_geo_codes = pd.DataFrame(geo_codes, columns=['Code','Latitude','Longitude'])"
        }, 
        {
            "execution_count": 147, 
            "cell_type": "code", 
            "metadata": {}, 
            "outputs": [
                {
                    "execution_count": 147, 
                    "metadata": {}, 
                    "data": {
                        "text/html": "<div>\n<style scoped>\n    .dataframe tbody tr th:only-of-type {\n        vertical-align: middle;\n    }\n\n    .dataframe tbody tr th {\n        vertical-align: top;\n    }\n\n    .dataframe thead th {\n        text-align: right;\n    }\n</style>\n<table border=\"1\" class=\"dataframe\">\n  <thead>\n    <tr style=\"text-align: right;\">\n      <th></th>\n      <th>Code</th>\n      <th>Latitude</th>\n      <th>Longitude</th>\n    </tr>\n  </thead>\n  <tbody>\n    <tr>\n      <th>0</th>\n      <td>TQ435815</td>\n      <td>51.514642</td>\n      <td>0.067375</td>\n    </tr>\n    <tr>\n      <th>1</th>\n      <td>TQ405815</td>\n      <td>51.515396</td>\n      <td>0.024169</td>\n    </tr>\n    <tr>\n      <th>2</th>\n      <td>TQ408807</td>\n      <td>51.508133</td>\n      <td>0.028171</td>\n    </tr>\n    <tr>\n      <th>3</th>\n      <td>TQ425835</td>\n      <td>51.532867</td>\n      <td>0.053782</td>\n    </tr>\n    <tr>\n      <th>4</th>\n      <td>TQ405855</td>\n      <td>51.551339</td>\n      <td>0.025765</td>\n    </tr>\n    <tr>\n      <th>5</th>\n      <td>TQ435855</td>\n      <td>51.550584</td>\n      <td>0.069004</td>\n    </tr>\n    <tr>\n      <th>6</th>\n      <td>TQ425855</td>\n      <td>51.550838</td>\n      <td>0.054591</td>\n    </tr>\n    <tr>\n      <th>7</th>\n      <td>TQ391849</td>\n      <td>51.546294</td>\n      <td>0.005349</td>\n    </tr>\n    <tr>\n      <th>8</th>\n      <td>TQ435795</td>\n      <td>51.496671</td>\n      <td>0.066561</td>\n    </tr>\n    <tr>\n      <th>9</th>\n      <td>TQ405825</td>\n      <td>51.524382</td>\n      <td>0.024568</td>\n    </tr>\n    <tr>\n      <th>10</th>\n      <td>TQ415795</td>\n      <td>51.497175</td>\n      <td>0.037769</td>\n    </tr>\n    <tr>\n      <th>11</th>\n      <td>TQ385845</td>\n      <td>51.542847</td>\n      <td>-0.003456</td>\n    </tr>\n    <tr>\n      <th>12</th>\n      <td>TQ405837</td>\n      <td>51.535165</td>\n      <td>0.025046</td>\n    </tr>\n    <tr>\n      <th>13</th>\n      <td>TQ405837</td>\n      <td>51.535165</td>\n      <td>0.025046</td>\n    </tr>\n  </tbody>\n</table>\n</div>", 
                        "text/plain": "        Code   Latitude  Longitude\n0   TQ435815  51.514642   0.067375\n1   TQ405815  51.515396   0.024169\n2   TQ408807  51.508133   0.028171\n3   TQ425835  51.532867   0.053782\n4   TQ405855  51.551339   0.025765\n5   TQ435855  51.550584   0.069004\n6   TQ425855  51.550838   0.054591\n7   TQ391849  51.546294   0.005349\n8   TQ435795  51.496671   0.066561\n9   TQ405825  51.524382   0.024568\n10  TQ415795  51.497175   0.037769\n11  TQ385845  51.542847  -0.003456\n12  TQ405837  51.535165   0.025046\n13  TQ405837  51.535165   0.025046"
                    }, 
                    "output_type": "execute_result"
                }
            ], 
            "source": "df_geo_codes"
        }, 
        {
            "source": "#### Now merge the Neighborhoods and Geocodes DataFrames", 
            "cell_type": "markdown", 
            "metadata": {}
        }, 
        {
            "execution_count": 148, 
            "cell_type": "code", 
            "metadata": {}, 
            "outputs": [
                {
                    "execution_count": 148, 
                    "metadata": {}, 
                    "data": {
                        "text/plain": "Index(['Borough', 'Area', 'Code'], dtype='object')"
                    }, 
                    "output_type": "execute_result"
                }
            ], 
            "source": "df_areas.columns"
        }, 
        {
            "execution_count": 149, 
            "cell_type": "code", 
            "metadata": {}, 
            "outputs": [
                {
                    "execution_count": 149, 
                    "metadata": {}, 
                    "data": {
                        "text/plain": "(14, 3)"
                    }, 
                    "output_type": "execute_result"
                }
            ], 
            "source": "df_areas.shape"
        }, 
        {
            "execution_count": 150, 
            "cell_type": "code", 
            "metadata": {}, 
            "outputs": [
                {
                    "execution_count": 150, 
                    "metadata": {}, 
                    "data": {
                        "text/plain": "Index(['Code', 'Latitude', 'Longitude'], dtype='object')"
                    }, 
                    "output_type": "execute_result"
                }
            ], 
            "source": "df_geo_codes.columns"
        }, 
        {
            "execution_count": 151, 
            "cell_type": "code", 
            "metadata": {}, 
            "outputs": [
                {
                    "execution_count": 151, 
                    "metadata": {}, 
                    "data": {
                        "text/plain": "(14, 3)"
                    }, 
                    "output_type": "execute_result"
                }
            ], 
            "source": "df_geo_codes.shape"
        }, 
        {
            "execution_count": 152, 
            "cell_type": "code", 
            "metadata": {}, 
            "outputs": [], 
            "source": "cols = df_geo_codes.columns.difference(df_areas.columns)"
        }, 
        {
            "execution_count": 153, 
            "cell_type": "code", 
            "metadata": {}, 
            "outputs": [
                {
                    "execution_count": 153, 
                    "metadata": {}, 
                    "data": {
                        "text/plain": "Index(['Latitude', 'Longitude'], dtype='object')"
                    }, 
                    "output_type": "execute_result"
                }
            ], 
            "source": "cols"
        }, 
        {
            "execution_count": 154, 
            "cell_type": "code", 
            "metadata": {}, 
            "outputs": [], 
            "source": "Newham_borough = pd.concat([df_areas, df_geo_codes[cols]], axis=1)"
        }, 
        {
            "execution_count": 155, 
            "cell_type": "code", 
            "metadata": {}, 
            "outputs": [
                {
                    "execution_count": 155, 
                    "metadata": {}, 
                    "data": {
                        "text/html": "<div>\n<style scoped>\n    .dataframe tbody tr th:only-of-type {\n        vertical-align: middle;\n    }\n\n    .dataframe tbody tr th {\n        vertical-align: top;\n    }\n\n    .dataframe thead th {\n        text-align: right;\n    }\n</style>\n<table border=\"1\" class=\"dataframe\">\n  <thead>\n    <tr style=\"text-align: right;\">\n      <th></th>\n      <th>Borough</th>\n      <th>Area</th>\n      <th>Code</th>\n      <th>Latitude</th>\n      <th>Longitude</th>\n    </tr>\n  </thead>\n  <tbody>\n    <tr>\n      <th>0</th>\n      <td>Newham</td>\n      <td>Beckton</td>\n      <td>TQ435815</td>\n      <td>51.514642</td>\n      <td>0.067375</td>\n    </tr>\n    <tr>\n      <th>1</th>\n      <td>Newham</td>\n      <td>Canning Town</td>\n      <td>TQ405815</td>\n      <td>51.515396</td>\n      <td>0.024169</td>\n    </tr>\n    <tr>\n      <th>2</th>\n      <td>Newham</td>\n      <td>Custom House</td>\n      <td>TQ408807</td>\n      <td>51.508133</td>\n      <td>0.028171</td>\n    </tr>\n    <tr>\n      <th>3</th>\n      <td>Newham</td>\n      <td>East Ham</td>\n      <td>TQ425835</td>\n      <td>51.532867</td>\n      <td>0.053782</td>\n    </tr>\n    <tr>\n      <th>4</th>\n      <td>Newham</td>\n      <td>Forest Gate</td>\n      <td>TQ405855</td>\n      <td>51.551339</td>\n      <td>0.025765</td>\n    </tr>\n    <tr>\n      <th>5</th>\n      <td>Newham</td>\n      <td>Little Ilford</td>\n      <td>TQ435855</td>\n      <td>51.550584</td>\n      <td>0.069004</td>\n    </tr>\n    <tr>\n      <th>6</th>\n      <td>Newham</td>\n      <td>Manor Park</td>\n      <td>TQ425855</td>\n      <td>51.550838</td>\n      <td>0.054591</td>\n    </tr>\n    <tr>\n      <th>7</th>\n      <td>Newham</td>\n      <td>Maryland</td>\n      <td>TQ391849</td>\n      <td>51.546294</td>\n      <td>0.005349</td>\n    </tr>\n    <tr>\n      <th>8</th>\n      <td>Newham</td>\n      <td>North Woolwich</td>\n      <td>TQ435795</td>\n      <td>51.496671</td>\n      <td>0.066561</td>\n    </tr>\n    <tr>\n      <th>9</th>\n      <td>Newham</td>\n      <td>Plaistow</td>\n      <td>TQ405825</td>\n      <td>51.524382</td>\n      <td>0.024568</td>\n    </tr>\n    <tr>\n      <th>10</th>\n      <td>Newham</td>\n      <td>Silvertown</td>\n      <td>TQ415795</td>\n      <td>51.497175</td>\n      <td>0.037769</td>\n    </tr>\n    <tr>\n      <th>11</th>\n      <td>Newham</td>\n      <td>Stratford</td>\n      <td>TQ385845</td>\n      <td>51.542847</td>\n      <td>-0.003456</td>\n    </tr>\n    <tr>\n      <th>12</th>\n      <td>Newham</td>\n      <td>Upton Park</td>\n      <td>TQ405837</td>\n      <td>51.535165</td>\n      <td>0.025046</td>\n    </tr>\n    <tr>\n      <th>13</th>\n      <td>Newham</td>\n      <td>West Ham</td>\n      <td>TQ405837</td>\n      <td>51.535165</td>\n      <td>0.025046</td>\n    </tr>\n  </tbody>\n</table>\n</div>", 
                        "text/plain": "   Borough            Area      Code   Latitude  Longitude\n0   Newham         Beckton  TQ435815  51.514642   0.067375\n1   Newham    Canning Town  TQ405815  51.515396   0.024169\n2   Newham    Custom House  TQ408807  51.508133   0.028171\n3   Newham        East Ham  TQ425835  51.532867   0.053782\n4   Newham     Forest Gate  TQ405855  51.551339   0.025765\n5   Newham   Little Ilford  TQ435855  51.550584   0.069004\n6   Newham      Manor Park  TQ425855  51.550838   0.054591\n7   Newham        Maryland  TQ391849  51.546294   0.005349\n8   Newham  North Woolwich  TQ435795  51.496671   0.066561\n9   Newham        Plaistow  TQ405825  51.524382   0.024568\n10  Newham      Silvertown  TQ415795  51.497175   0.037769\n11  Newham       Stratford  TQ385845  51.542847  -0.003456\n12  Newham      Upton Park  TQ405837  51.535165   0.025046\n13  Newham        West Ham  TQ405837  51.535165   0.025046"
                    }, 
                    "output_type": "execute_result"
                }
            ], 
            "source": "Newham_borough"
        }, 
        {
            "source": "#### Change the name of the column 'Area' to 'Neighborhood '", 
            "cell_type": "markdown", 
            "metadata": {}
        }, 
        {
            "execution_count": 156, 
            "cell_type": "code", 
            "metadata": {}, 
            "outputs": [], 
            "source": "Newham_borough = Newham_borough.rename(columns={'Area' :'Neighborhood'})"
        }, 
        {
            "source": "#### We do not need the column Code for our further analysis, so we will drop it ", 
            "cell_type": "markdown", 
            "metadata": {}
        }, 
        {
            "execution_count": 157, 
            "cell_type": "code", 
            "metadata": {}, 
            "outputs": [], 
            "source": "Newham_borough.drop(['Code'], axis=1, inplace=True)"
        }, 
        {
            "execution_count": 158, 
            "cell_type": "code", 
            "metadata": {}, 
            "outputs": [
                {
                    "execution_count": 158, 
                    "metadata": {}, 
                    "data": {
                        "text/plain": "Index(['Borough', 'Neighborhood', 'Latitude', 'Longitude'], dtype='object')"
                    }, 
                    "output_type": "execute_result"
                }
            ], 
            "source": "Newham_borough.columns"
        }, 
        {
            "execution_count": 159, 
            "cell_type": "code", 
            "metadata": {}, 
            "outputs": [
                {
                    "execution_count": 159, 
                    "metadata": {}, 
                    "data": {
                        "text/html": "<div>\n<style scoped>\n    .dataframe tbody tr th:only-of-type {\n        vertical-align: middle;\n    }\n\n    .dataframe tbody tr th {\n        vertical-align: top;\n    }\n\n    .dataframe thead th {\n        text-align: right;\n    }\n</style>\n<table border=\"1\" class=\"dataframe\">\n  <thead>\n    <tr style=\"text-align: right;\">\n      <th></th>\n      <th>Borough</th>\n      <th>Neighborhood</th>\n      <th>Latitude</th>\n      <th>Longitude</th>\n    </tr>\n  </thead>\n  <tbody>\n    <tr>\n      <th>0</th>\n      <td>Newham</td>\n      <td>Beckton</td>\n      <td>51.514642</td>\n      <td>0.067375</td>\n    </tr>\n    <tr>\n      <th>1</th>\n      <td>Newham</td>\n      <td>Canning Town</td>\n      <td>51.515396</td>\n      <td>0.024169</td>\n    </tr>\n    <tr>\n      <th>2</th>\n      <td>Newham</td>\n      <td>Custom House</td>\n      <td>51.508133</td>\n      <td>0.028171</td>\n    </tr>\n    <tr>\n      <th>3</th>\n      <td>Newham</td>\n      <td>East Ham</td>\n      <td>51.532867</td>\n      <td>0.053782</td>\n    </tr>\n    <tr>\n      <th>4</th>\n      <td>Newham</td>\n      <td>Forest Gate</td>\n      <td>51.551339</td>\n      <td>0.025765</td>\n    </tr>\n    <tr>\n      <th>5</th>\n      <td>Newham</td>\n      <td>Little Ilford</td>\n      <td>51.550584</td>\n      <td>0.069004</td>\n    </tr>\n    <tr>\n      <th>6</th>\n      <td>Newham</td>\n      <td>Manor Park</td>\n      <td>51.550838</td>\n      <td>0.054591</td>\n    </tr>\n    <tr>\n      <th>7</th>\n      <td>Newham</td>\n      <td>Maryland</td>\n      <td>51.546294</td>\n      <td>0.005349</td>\n    </tr>\n    <tr>\n      <th>8</th>\n      <td>Newham</td>\n      <td>North Woolwich</td>\n      <td>51.496671</td>\n      <td>0.066561</td>\n    </tr>\n    <tr>\n      <th>9</th>\n      <td>Newham</td>\n      <td>Plaistow</td>\n      <td>51.524382</td>\n      <td>0.024568</td>\n    </tr>\n    <tr>\n      <th>10</th>\n      <td>Newham</td>\n      <td>Silvertown</td>\n      <td>51.497175</td>\n      <td>0.037769</td>\n    </tr>\n    <tr>\n      <th>11</th>\n      <td>Newham</td>\n      <td>Stratford</td>\n      <td>51.542847</td>\n      <td>-0.003456</td>\n    </tr>\n    <tr>\n      <th>12</th>\n      <td>Newham</td>\n      <td>Upton Park</td>\n      <td>51.535165</td>\n      <td>0.025046</td>\n    </tr>\n    <tr>\n      <th>13</th>\n      <td>Newham</td>\n      <td>West Ham</td>\n      <td>51.535165</td>\n      <td>0.025046</td>\n    </tr>\n  </tbody>\n</table>\n</div>", 
                        "text/plain": "   Borough    Neighborhood   Latitude  Longitude\n0   Newham         Beckton  51.514642   0.067375\n1   Newham    Canning Town  51.515396   0.024169\n2   Newham    Custom House  51.508133   0.028171\n3   Newham        East Ham  51.532867   0.053782\n4   Newham     Forest Gate  51.551339   0.025765\n5   Newham   Little Ilford  51.550584   0.069004\n6   Newham      Manor Park  51.550838   0.054591\n7   Newham        Maryland  51.546294   0.005349\n8   Newham  North Woolwich  51.496671   0.066561\n9   Newham        Plaistow  51.524382   0.024568\n10  Newham      Silvertown  51.497175   0.037769\n11  Newham       Stratford  51.542847  -0.003456\n12  Newham      Upton Park  51.535165   0.025046\n13  Newham        West Ham  51.535165   0.025046"
                    }, 
                    "output_type": "execute_result"
                }
            ], 
            "source": "Newham_borough"
        }, 
        {
            "execution_count": 160, 
            "cell_type": "code", 
            "metadata": {}, 
            "outputs": [
                {
                    "execution_count": 160, 
                    "metadata": {}, 
                    "data": {
                        "text/plain": "Borough          object\nNeighborhood     object\nLatitude        float64\nLongitude       float64\ndtype: object"
                    }, 
                    "output_type": "execute_result"
                }
            ], 
            "source": "Newham_borough.dtypes"
        }, 
        {
            "source": "#### Now lets get the Coordinates of Newham Borough", 
            "cell_type": "markdown", 
            "metadata": {}
        }, 
        {
            "execution_count": 161, 
            "cell_type": "code", 
            "metadata": {}, 
            "outputs": [
                {
                    "output_type": "stream", 
                    "name": "stdout", 
                    "text": "The geograpical coordinate of Newham are 51.52999955, 0.0293179602938221.\n"
                }
            ], 
            "source": "address = 'Newham, London'\n\ngeolocator = Nominatim()\nlocation = geolocator.geocode(address)\nlatitude = location.latitude\nlongitude = location.longitude\nprint('The geograpical coordinate of Newham are {}, {}.'.format(latitude, longitude))"
        }, 
        {
            "source": "### Let's Visualize the Areas(Neighborhoods) of Newham Borough", 
            "cell_type": "markdown", 
            "metadata": {}
        }, 
        {
            "execution_count": 162, 
            "cell_type": "code", 
            "metadata": {}, 
            "outputs": [
                {
                    "execution_count": 162, 
                    "metadata": {}, 
                    "data": {
                        "text/html": "<div style=\"width:100%;\"><div style=\"position:relative;width:100%;height:0;padding-bottom:60%;\"><iframe src=\"data:text/html;charset=utf-8;base64,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\" style=\"position:absolute;width:100%;height:100%;left:0;top:0;border:none !important;\" allowfullscreen webkitallowfullscreen mozallowfullscreen></iframe></div></div>", 
                        "text/plain": "<folium.folium.Map at 0x7f4830352358>"
                    }, 
                    "output_type": "execute_result"
                }
            ], 
            "source": "# create map of Newham using latitude and longitude values\nmap_Newham = folium.Map(location=[latitude, longitude], zoom_start=11)\n\n# add markers to map\nfor lat, lng, label in zip(Newham_borough['Latitude'], Newham_borough['Longitude'], Newham_borough['Neighborhood']):\n    label = folium.Popup(label, parse_html=True)\n    folium.CircleMarker(\n        [lat, lng],\n        radius=5,\n        popup=label,\n        color='blue',\n        fill=True,\n        fill_color='#3186cc',\n        fill_opacity=0.7).add_to(map_Newham)  \n    \nmap_Newham"
        }, 
        {
            "source": "#### Define FourSquare Credentials ", 
            "cell_type": "markdown", 
            "metadata": {}
        }, 
        {
            "execution_count": 163, 
            "cell_type": "code", 
            "metadata": {}, 
            "outputs": [
                {
                    "output_type": "stream", 
                    "name": "stdout", 
                    "text": "Your credentails:\nCLIENT_ID: 2SOZTXSIXUULTVR1H5IXJJNRWOLETFJ3A1ZUMKN2T4Z30HFG\nCLIENT_SECRET:Z2H2BVM2JJH5KX5SWJ2UTFHOKZWBG4ELJ4UWJKAHIZID5MNJ\n"
                }
            ], 
            "source": "CLIENT_ID = '2SOZTXSIXUULTVR1H5IXJJNRWOLETFJ3A1ZUMKN2T4Z30HFG' # your Foursquare ID\nCLIENT_SECRET = 'Z2H2BVM2JJH5KX5SWJ2UTFHOKZWBG4ELJ4UWJKAHIZID5MNJ' # your Foursquare Secret\nVERSION = '20180605' # Foursquare API version\n\nprint('Your credentails:')\nprint('CLIENT_ID: ' + CLIENT_ID)\nprint('CLIENT_SECRET:' + CLIENT_SECRET)"
        }, 
        {
            "source": "#### Let's explore the first Neighborhood(Area) in Newham Borough", 
            "cell_type": "markdown", 
            "metadata": {}
        }, 
        {
            "execution_count": 164, 
            "cell_type": "code", 
            "metadata": {}, 
            "outputs": [
                {
                    "execution_count": 164, 
                    "metadata": {}, 
                    "data": {
                        "text/plain": "(14, 4)"
                    }, 
                    "output_type": "execute_result"
                }
            ], 
            "source": "Newham_borough.shape"
        }, 
        {
            "execution_count": 165, 
            "cell_type": "code", 
            "metadata": {}, 
            "outputs": [
                {
                    "execution_count": 165, 
                    "metadata": {}, 
                    "data": {
                        "text/plain": "Index(['Borough', 'Neighborhood', 'Latitude', 'Longitude'], dtype='object')"
                    }, 
                    "output_type": "execute_result"
                }
            ], 
            "source": "Newham_borough.columns"
        }, 
        {
            "execution_count": 166, 
            "cell_type": "code", 
            "metadata": {}, 
            "outputs": [
                {
                    "execution_count": 166, 
                    "metadata": {}, 
                    "data": {
                        "text/plain": "'Beckton'"
                    }, 
                    "output_type": "execute_result"
                }
            ], 
            "source": "Newham_borough.loc[0, 'Neighborhood']"
        }, 
        {
            "execution_count": 167, 
            "cell_type": "code", 
            "metadata": {}, 
            "outputs": [
                {
                    "execution_count": 167, 
                    "metadata": {}, 
                    "data": {
                        "text/plain": "Borough           Newham\nNeighborhood     Beckton\nLatitude         51.5146\nLongitude       0.067375\nName: 0, dtype: object"
                    }, 
                    "output_type": "execute_result"
                }
            ], 
            "source": "Newham_borough.loc[0]"
        }, 
        {
            "source": "#### Get the Neighborhood's latitude and longitude value ", 
            "cell_type": "markdown", 
            "metadata": {}
        }, 
        {
            "execution_count": 168, 
            "cell_type": "code", 
            "metadata": {}, 
            "outputs": [
                {
                    "output_type": "stream", 
                    "name": "stdout", 
                    "text": "Latitude and longitude values of Beckton are 51.514642, 0.067375.\n"
                }
            ], 
            "source": "neighborhood_latitude = Newham_borough.loc[0, 'Latitude'] # neighborhood latitude value\nneighborhood_longitude = Newham_borough.loc[0, 'Longitude'] # neighborhood longitude value\n\nneighborhood_name = Newham_borough.loc[0, 'Neighborhood'] # neighborhood name\n\nprint('Latitude and longitude values of {} are {}, {}.'.format(neighborhood_name, \n                                                               neighborhood_latitude, \n                                                               neighborhood_longitude))"
        }, 
        {
            "source": "#### Now get the top 100 places of Newham Neighborhood within 500KM radius \n#### Create the GET request URL. Name your URL url.", 
            "cell_type": "markdown", 
            "metadata": {}
        }, 
        {
            "execution_count": 169, 
            "cell_type": "code", 
            "metadata": {}, 
            "outputs": [
                {
                    "execution_count": 169, 
                    "metadata": {}, 
                    "data": {
                        "text/plain": "'https://api.foursquare.com/v2/venues/explore?&client_id=2SOZTXSIXUULTVR1H5IXJJNRWOLETFJ3A1ZUMKN2T4Z30HFG&client_secret=       Z2H2BVM2JJH5KX5SWJ2UTFHOKZWBG4ELJ4UWJKAHIZID5MNJ&v=20180605&ll=51.514642,0.067375&radius=500&limit=100'"
                    }, 
                    "output_type": "execute_result"
                }
            ], 
            "source": "LIMIT = 100 # limit of number of venues returned by Foursquare API\nradius = 500 # define radius\n# create URL\nurl = 'https://api.foursquare.com/v2/venues/explore?&client_id={}&client_secret=\\\n       {}&v={}&ll={},{}&radius={}&limit={}'.format(\n    CLIENT_ID, \n    CLIENT_SECRET, \n    VERSION, \n    neighborhood_latitude, \n    neighborhood_longitude, \n    radius, \n    LIMIT)\nurl # display URL"
        }, 
        {
            "execution_count": 170, 
            "cell_type": "code", 
            "metadata": {}, 
            "outputs": [
                {
                    "execution_count": 170, 
                    "metadata": {}, 
                    "data": {
                        "text/plain": "{'meta': {'code': 200, 'requestId': '5c530c964c1f674506611ca1'},\n 'response': {'groups': [{'items': [{'reasons': {'count': 0,\n       'items': [{'reasonName': 'globalInteractionReason',\n         'summary': 'This spot is popular',\n         'type': 'general'}]},\n      'referralId': 'e-0-4cd462e4886cb60c1bcb7d89-0',\n      'venue': {'categories': [{'icon': {'prefix': 'https://ss3.4sqi.net/img/categories_v2/shops/food_grocery_',\n          'suffix': '.png'},\n         'id': '4bf58dd8d48988d118951735',\n         'name': 'Grocery Store',\n         'pluralName': 'Grocery Stores',\n         'primary': True,\n         'shortName': 'Grocery Store'}],\n       'id': '4cd462e4886cb60c1bcb7d89',\n       'location': {'address': 'Alpine Way (Unit 4C, Beckton Retail Park)',\n        'cc': 'GB',\n        'city': 'London',\n        'country': 'United Kingdom',\n        'distance': 367,\n        'formattedAddress': ['Alpine Way (Unit 4C, Beckton Retail Park)',\n         'London',\n         'Greater London',\n         'E6 6LA',\n         'United Kingdom'],\n        'labeledLatLngs': [{'label': 'display',\n          'lat': 51.51644209755886,\n          'lng': 0.06292681188810904}],\n        'lat': 51.51644209755886,\n        'lng': 0.06292681188810904,\n        'postalCode': 'E6 6LA',\n        'state': 'Greater London'},\n       'name': 'Lituanica',\n       'photos': {'count': 0, 'groups': []}}},\n     {'reasons': {'count': 0,\n       'items': [{'reasonName': 'globalInteractionReason',\n         'summary': 'This spot is popular',\n         'type': 'general'}]},\n      'referralId': 'e-0-52cecf5711d25db28fc70b17-1',\n      'venue': {'categories': [{'icon': {'prefix': 'https://ss3.4sqi.net/img/categories_v2/shops/discountstore_',\n          'suffix': '.png'},\n         'id': '52dea92d3cf9994f4e043dbb',\n         'name': 'Discount Store',\n         'pluralName': 'Discount Stores',\n         'primary': True,\n         'shortName': 'Discount Store'}],\n       'id': '52cecf5711d25db28fc70b17',\n       'location': {'address': 'Alpine Way',\n        'cc': 'GB',\n        'country': 'United Kingdom',\n        'distance': 427,\n        'formattedAddress': ['Alpine Way', 'United Kingdom'],\n        'labeledLatLngs': [{'label': 'display',\n          'lat': 51.517190267073836,\n          'lng': 0.06275368423335088}],\n        'lat': 51.517190267073836,\n        'lng': 0.06275368423335088},\n       'name': 'Home Bargains',\n       'photos': {'count': 0, 'groups': []}}},\n     {'reasons': {'count': 0,\n       'items': [{'reasonName': 'globalInteractionReason',\n         'summary': 'This spot is popular',\n         'type': 'general'}]},\n      'referralId': 'e-0-4bbed90a98f4952177d8d163-2',\n      'venue': {'categories': [{'icon': {'prefix': 'https://ss3.4sqi.net/img/categories_v2/travel/hotel_',\n          'suffix': '.png'},\n         'id': '4bf58dd8d48988d1fa931735',\n         'name': 'Hotel',\n         'pluralName': 'Hotels',\n         'primary': True,\n         'shortName': 'Hotel'}],\n       'id': '4bbed90a98f4952177d8d163',\n       'location': {'address': '1 Woolwich Manor Way',\n        'cc': 'GB',\n        'city': 'London',\n        'country': 'United Kingdom',\n        'crossStreet': '1 Woolwich Manor Way',\n        'distance': 445,\n        'formattedAddress': ['1 Woolwich Manor Way (1 Woolwich Manor Way)',\n         'London',\n         'E6 5NT',\n         'United Kingdom'],\n        'labeledLatLngs': [{'label': 'display',\n          'lat': 51.5150175,\n          'lng': 0.0609785}],\n        'lat': 51.5150175,\n        'lng': 0.0609785,\n        'postalCode': 'E6 5NT'},\n       'name': 'Premier Inn London Beckton',\n       'photos': {'count': 0, 'groups': []}}},\n     {'reasons': {'count': 0,\n       'items': [{'reasonName': 'globalInteractionReason',\n         'summary': 'This spot is popular',\n         'type': 'general'}]},\n      'referralId': 'e-0-4f942748e4b04c0c9f9862d0-3',\n      'venue': {'categories': [{'icon': {'prefix': 'https://ss3.4sqi.net/img/categories_v2/shops/furniture_',\n          'suffix': '.png'},\n         'id': '4bf58dd8d48988d1f8941735',\n         'name': 'Furniture / Home Store',\n         'pluralName': 'Furniture / Home Stores',\n         'primary': True,\n         'shortName': 'Furniture / Home'}],\n       'id': '4f942748e4b04c0c9f9862d0',\n       'location': {'address': 'Beckton Retail Park, Alpine Way',\n        'cc': 'GB',\n        'city': 'Beckton',\n        'country': 'United Kingdom',\n        'distance': 342,\n        'formattedAddress': ['Beckton Retail Park, Alpine Way',\n         'Beckton',\n         'Greater London',\n         'E6 6LA',\n         'United Kingdom'],\n        'labeledLatLngs': [{'label': 'display',\n          'lat': 51.516101,\n          'lng': 0.063028}],\n        'lat': 51.516101,\n        'lng': 0.063028,\n        'postalCode': 'E6 6LA',\n        'state': 'Greater London'},\n       'name': 'Dreams Beckton',\n       'photos': {'count': 0, 'groups': []}}},\n     {'reasons': {'count': 0,\n       'items': [{'reasonName': 'globalInteractionReason',\n         'summary': 'This spot is popular',\n         'type': 'general'}]},\n      'referralId': 'e-0-4bf69e4cbfeac92898a19436-4',\n      'venue': {'categories': [{'icon': {'prefix': 'https://ss3.4sqi.net/img/categories_v2/travel/lightrail_',\n          'suffix': '.png'},\n         'id': '4bf58dd8d48988d1fc931735',\n         'name': 'Light Rail Station',\n         'pluralName': 'Light Rail Stations',\n         'primary': True,\n         'shortName': 'Light Rail'}],\n       'id': '4bf69e4cbfeac92898a19436',\n       'location': {'address': 'Woolwich Manor Way',\n        'cc': 'GB',\n        'city': 'Beckton',\n        'country': 'United Kingdom',\n        'distance': 410,\n        'formattedAddress': ['Woolwich Manor Way',\n         'Beckton',\n         'Greater London',\n         'E6 5NT',\n         'United Kingdom'],\n        'labeledLatLngs': [{'label': 'display',\n          'lat': 51.51436463106562,\n          'lng': 0.061460137367248535}],\n        'lat': 51.51436463106562,\n        'lng': 0.061460137367248535,\n        'postalCode': 'E6 5NT',\n        'state': 'Greater London'},\n       'name': 'Beckton DLR Station',\n       'photos': {'count': 0, 'groups': []}}},\n     {'reasons': {'count': 0,\n       'items': [{'reasonName': 'globalInteractionReason',\n         'summary': 'This spot is popular',\n         'type': 'general'}]},\n      'referralId': 'e-0-50228c58e4b057124f4b1b58-5',\n      'venue': {'categories': [{'icon': {'prefix': 'https://ss3.4sqi.net/img/categories_v2/shops/apparel_',\n          'suffix': '.png'},\n         'id': '4bf58dd8d48988d103951735',\n         'name': 'Clothing Store',\n         'pluralName': 'Clothing Stores',\n         'primary': True,\n         'shortName': 'Apparel'}],\n       'id': '50228c58e4b057124f4b1b58',\n       'location': {'address': '8, Beckton Retail Park, Alpine Way',\n        'cc': 'GB',\n        'city': 'Beckton',\n        'country': 'United Kingdom',\n        'distance': 416,\n        'formattedAddress': ['8, Beckton Retail Park, Alpine Way',\n         'Beckton',\n         'E6 6LA',\n         'United Kingdom'],\n        'labeledLatLngs': [{'label': 'display',\n          'lat': 51.51626701119118,\n          'lng': 0.06196051215582541}],\n        'lat': 51.51626701119118,\n        'lng': 0.06196051215582541,\n        'postalCode': 'E6 6LA'},\n       'name': 'Matalan',\n       'photos': {'count': 0, 'groups': []}}},\n     {'reasons': {'count': 0,\n       'items': [{'reasonName': 'globalInteractionReason',\n         'summary': 'This spot is popular',\n         'type': 'general'}]},\n      'referralId': 'e-0-4cee7f6d0acea35d33ebe9ae-6',\n      'venue': {'categories': [{'icon': {'prefix': 'https://ss3.4sqi.net/img/categories_v2/shops/mall_',\n          'suffix': '.png'},\n         'id': '5744ccdfe4b0c0459246b4dc',\n         'name': 'Shopping Plaza',\n         'pluralName': 'Shopping Plazas',\n         'primary': True,\n         'shortName': 'Shopping Plaza'}],\n       'id': '4cee7f6d0acea35d33ebe9ae',\n       'location': {'address': '9 Alpine Way',\n        'cc': 'GB',\n        'city': 'Beckton',\n        'country': 'United Kingdom',\n        'distance': 483,\n        'formattedAddress': ['9 Alpine Way',\n         'Beckton',\n         'Greater London',\n         'E6 6LA',\n         'United Kingdom'],\n        'labeledLatLngs': [{'label': 'display',\n          'lat': 51.51527720416674,\n          'lng': 0.06047142600895339}],\n        'lat': 51.51527720416674,\n        'lng': 0.06047142600895339,\n        'postalCode': 'E6 6LA',\n        'state': 'Greater London'},\n       'name': 'Beckton Retail Park',\n       'photos': {'count': 0, 'groups': []}}},\n     {'reasons': {'count': 0,\n       'items': [{'reasonName': 'globalInteractionReason',\n         'summary': 'This spot is popular',\n         'type': 'general'}]},\n      'referralId': 'e-0-4c07fc177e3fc928ea98ef82-7',\n      'venue': {'categories': [{'icon': {'prefix': 'https://ss3.4sqi.net/img/categories_v2/nightlife/pub_',\n          'suffix': '.png'},\n         'id': '4bf58dd8d48988d11b941735',\n         'name': 'Pub',\n         'pluralName': 'Pubs',\n         'primary': True,\n         'shortName': 'Pub'}],\n       'id': '4c07fc177e3fc928ea98ef82',\n       'location': {'address': '1 Woolwich Manor Way',\n        'cc': 'GB',\n        'city': 'Beckton',\n        'country': 'United Kingdom',\n        'distance': 451,\n        'formattedAddress': ['1 Woolwich Manor Way',\n         'Beckton',\n         'Greater London',\n         'E6 5NT',\n         'United Kingdom'],\n        'labeledLatLngs': [{'label': 'display',\n          'lat': 51.51481196163808,\n          'lng': 0.06086126705726321}],\n        'lat': 51.51481196163808,\n        'lng': 0.06086126705726321,\n        'postalCode': 'E6 5NT',\n        'state': 'Greater London'},\n       'name': 'Brewers Fayre',\n       'photos': {'count': 0, 'groups': []}}}],\n    'name': 'recommended',\n    'type': 'Recommended Places'}],\n  'headerFullLocation': 'Beckton, London',\n  'headerLocation': 'Beckton',\n  'headerLocationGranularity': 'neighborhood',\n  'suggestedBounds': {'ne': {'lat': 51.519142004500004,\n    'lng': 0.07459257505421912},\n   'sw': {'lat': 51.5101419955, 'lng': 0.060157424945780885}},\n  'suggestedFilters': {'filters': [{'key': 'openNow', 'name': 'Open now'}],\n   'header': 'Tap to show:'},\n  'totalResults': 8}}"
                    }, 
                    "output_type": "execute_result"
                }
            ], 
            "source": "results = requests.get(url).json()\nresults"
        }, 
        {
            "source": "#### Extract the Categories of the Venues", 
            "cell_type": "markdown", 
            "metadata": {}
        }, 
        {
            "execution_count": 171, 
            "cell_type": "code", 
            "metadata": {}, 
            "outputs": [], 
            "source": "# function that extracts the category of the venue\ndef get_category_type(row):\n    try:\n        categories_list = row['categories']\n    except:\n        categories_list = row['venue.categories']\n        \n    if len(categories_list) == 0:\n        return None\n    else:\n        return categories_list[0]['name']"
        }, 
        {
            "source": "#### We are ready to clean the json and structure it into a pandas dataframe.", 
            "cell_type": "markdown", 
            "metadata": {}
        }, 
        {
            "execution_count": 172, 
            "cell_type": "code", 
            "metadata": {}, 
            "outputs": [
                {
                    "execution_count": 172, 
                    "metadata": {}, 
                    "data": {
                        "text/html": "<div>\n<style scoped>\n    .dataframe tbody tr th:only-of-type {\n        vertical-align: middle;\n    }\n\n    .dataframe tbody tr th {\n        vertical-align: top;\n    }\n\n    .dataframe thead th {\n        text-align: right;\n    }\n</style>\n<table border=\"1\" class=\"dataframe\">\n  <thead>\n    <tr style=\"text-align: right;\">\n      <th></th>\n      <th>name</th>\n      <th>categories</th>\n      <th>lat</th>\n      <th>lng</th>\n    </tr>\n  </thead>\n  <tbody>\n    <tr>\n      <th>0</th>\n      <td>Lituanica</td>\n      <td>Grocery Store</td>\n      <td>51.516442</td>\n      <td>0.062927</td>\n    </tr>\n    <tr>\n      <th>1</th>\n      <td>Home Bargains</td>\n      <td>Discount Store</td>\n      <td>51.517190</td>\n      <td>0.062754</td>\n    </tr>\n    <tr>\n      <th>2</th>\n      <td>Premier Inn London Beckton</td>\n      <td>Hotel</td>\n      <td>51.515017</td>\n      <td>0.060978</td>\n    </tr>\n    <tr>\n      <th>3</th>\n      <td>Dreams Beckton</td>\n      <td>Furniture / Home Store</td>\n      <td>51.516101</td>\n      <td>0.063028</td>\n    </tr>\n    <tr>\n      <th>4</th>\n      <td>Beckton DLR Station</td>\n      <td>Light Rail Station</td>\n      <td>51.514365</td>\n      <td>0.061460</td>\n    </tr>\n  </tbody>\n</table>\n</div>", 
                        "text/plain": "                         name              categories        lat       lng\n0                   Lituanica           Grocery Store  51.516442  0.062927\n1               Home Bargains          Discount Store  51.517190  0.062754\n2  Premier Inn London Beckton                   Hotel  51.515017  0.060978\n3              Dreams Beckton  Furniture / Home Store  51.516101  0.063028\n4         Beckton DLR Station      Light Rail Station  51.514365  0.061460"
                    }, 
                    "output_type": "execute_result"
                }
            ], 
            "source": "results = requests.get(url).json()\n\nvenues = results['response']['groups'][0]['items']\nnearby_venues = json_normalize(venues) # flatten JSON\n\n# filter columns\nfiltered_columns = ['venue.name', 'venue.categories', 'venue.location.lat', 'venue.location.lng']\nnearby_venues =nearby_venues.loc[:, filtered_columns]\n\n# filter the category for each row\nnearby_venues['venue.categories'] = nearby_venues.apply(get_category_type, axis=1)\n\n# clean columns\nnearby_venues.columns = [col.split(\".\")[-1] for col in nearby_venues.columns]\nnearby_venues.head()"
        }, 
        {
            "execution_count": 173, 
            "cell_type": "code", 
            "metadata": {}, 
            "outputs": [
                {
                    "execution_count": 173, 
                    "metadata": {}, 
                    "data": {
                        "text/plain": "(8, 4)"
                    }, 
                    "output_type": "execute_result"
                }
            ], 
            "source": "nearby_venues.shape"
        }, 
        {
            "execution_count": 174, 
            "cell_type": "code", 
            "metadata": {}, 
            "outputs": [
                {
                    "execution_count": 174, 
                    "metadata": {}, 
                    "data": {
                        "text/plain": "Brewers Fayre                 1\nBeckton DLR Station           1\nLituanica                     1\nMatalan                       1\nPremier Inn London Beckton    1\nDreams Beckton                1\nHome Bargains                 1\nBeckton Retail Park           1\nName: name, dtype: int64"
                    }, 
                    "output_type": "execute_result"
                }
            ], 
            "source": "nearby_venues['name'].value_counts()"
        }, 
        {
            "source": "#### And how many venues were returned by Foursquare?", 
            "cell_type": "markdown", 
            "metadata": {}
        }, 
        {
            "execution_count": 175, 
            "cell_type": "code", 
            "metadata": {}, 
            "outputs": [
                {
                    "output_type": "stream", 
                    "name": "stdout", 
                    "text": "8 venues were returned by Foursquare.\n"
                }
            ], 
            "source": "print('{} venues were returned by Foursquare.'.format(nearby_venues.shape[0]))"
        }, 
        {
            "source": "### 2) Explore Neighborhoods in Newham Borough", 
            "cell_type": "markdown", 
            "metadata": {}
        }, 
        {
            "execution_count": 176, 
            "cell_type": "code", 
            "metadata": {}, 
            "outputs": [], 
            "source": "def getNearbyVenues(names, latitudes, longitudes, radius=500):\n    venues_list=[]\n    for name, lat, lng in zip(names, latitudes, longitudes):\n        # create the API request URL\n        url = 'https://api.foursquare.com/v2/venues/explore?&client_id={}&client_secret={}&v={}&ll={},{}&radius={}&limit={}'.format(\n            CLIENT_ID, CLIENT_SECRET, \n            VERSION, lat, lng, radius, LIMIT)\n            \n        # make the GET request\n        results = requests.get(url).json()[\"response\"]['groups'][0]['items']\n        \n        # return only relevant information for each nearby venue\n        venues_list.append([(\n            name, lat, lng, \n            v['venue']['name'], \n            v['venue']['location']['lat'], \n            v['venue']['location']['lng'],  \n            v['venue']['categories'][0]['name']) for v in results])\n\n    nearby_venues = pd.DataFrame([item for venue_list in venues_list for item in venue_list])\n    nearby_venues.columns = ['Neighborhood', 'Neighborhood Latitude', 'Neighborhood Longitude', \n                             'Venue', 'Venue Latitude', 'Venue Longitude', 'Venue Category']\n    \n    return(nearby_venues)"
        }, 
        {
            "source": "#### Now write the code to run the above function on each neighborhood and create a new dataframe called Newham venues", 
            "cell_type": "markdown", 
            "metadata": {}
        }, 
        {
            "execution_count": 177, 
            "cell_type": "code", 
            "metadata": {}, 
            "outputs": [], 
            "source": "Newham_venues = getNearbyVenues(names=Newham_borough['Neighborhood'],\n                                   latitudes=Newham_borough['Latitude'],\n                                   longitudes=Newham_borough['Longitude']\n                                  )"
        }, 
        {
            "execution_count": 178, 
            "cell_type": "code", 
            "metadata": {}, 
            "outputs": [
                {
                    "execution_count": 178, 
                    "metadata": {}, 
                    "data": {
                        "text/plain": "(208, 7)"
                    }, 
                    "output_type": "execute_result"
                }
            ], 
            "source": "Newham_venues.shape"
        }, 
        {
            "execution_count": 179, 
            "cell_type": "code", 
            "metadata": {}, 
            "outputs": [
                {
                    "execution_count": 179, 
                    "metadata": {}, 
                    "data": {
                        "text/html": "<div>\n<style scoped>\n    .dataframe tbody tr th:only-of-type {\n        vertical-align: middle;\n    }\n\n    .dataframe tbody tr th {\n        vertical-align: top;\n    }\n\n    .dataframe thead th {\n        text-align: right;\n    }\n</style>\n<table border=\"1\" class=\"dataframe\">\n  <thead>\n    <tr style=\"text-align: right;\">\n      <th></th>\n      <th>Neighborhood</th>\n      <th>Neighborhood Latitude</th>\n      <th>Neighborhood Longitude</th>\n      <th>Venue</th>\n      <th>Venue Latitude</th>\n      <th>Venue Longitude</th>\n      <th>Venue Category</th>\n    </tr>\n  </thead>\n  <tbody>\n    <tr>\n      <th>0</th>\n      <td>Beckton</td>\n      <td>51.514642</td>\n      <td>0.067375</td>\n      <td>Lituanica</td>\n      <td>51.516442</td>\n      <td>0.062927</td>\n      <td>Grocery Store</td>\n    </tr>\n    <tr>\n      <th>1</th>\n      <td>Beckton</td>\n      <td>51.514642</td>\n      <td>0.067375</td>\n      <td>Home Bargains</td>\n      <td>51.517190</td>\n      <td>0.062754</td>\n      <td>Discount Store</td>\n    </tr>\n    <tr>\n      <th>2</th>\n      <td>Beckton</td>\n      <td>51.514642</td>\n      <td>0.067375</td>\n      <td>Premier Inn London Beckton</td>\n      <td>51.515017</td>\n      <td>0.060978</td>\n      <td>Hotel</td>\n    </tr>\n    <tr>\n      <th>3</th>\n      <td>Beckton</td>\n      <td>51.514642</td>\n      <td>0.067375</td>\n      <td>Dreams Beckton</td>\n      <td>51.516101</td>\n      <td>0.063028</td>\n      <td>Furniture / Home Store</td>\n    </tr>\n    <tr>\n      <th>4</th>\n      <td>Beckton</td>\n      <td>51.514642</td>\n      <td>0.067375</td>\n      <td>Beckton DLR Station</td>\n      <td>51.514365</td>\n      <td>0.061460</td>\n      <td>Light Rail Station</td>\n    </tr>\n  </tbody>\n</table>\n</div>", 
                        "text/plain": "  Neighborhood  Neighborhood Latitude  Neighborhood Longitude  \\\n0      Beckton              51.514642                0.067375   \n1      Beckton              51.514642                0.067375   \n2      Beckton              51.514642                0.067375   \n3      Beckton              51.514642                0.067375   \n4      Beckton              51.514642                0.067375   \n\n                        Venue  Venue Latitude  Venue Longitude  \\\n0                   Lituanica       51.516442         0.062927   \n1               Home Bargains       51.517190         0.062754   \n2  Premier Inn London Beckton       51.515017         0.060978   \n3              Dreams Beckton       51.516101         0.063028   \n4         Beckton DLR Station       51.514365         0.061460   \n\n           Venue Category  \n0           Grocery Store  \n1          Discount Store  \n2                   Hotel  \n3  Furniture / Home Store  \n4      Light Rail Station  "
                    }, 
                    "output_type": "execute_result"
                }
            ], 
            "source": "Newham_venues.head()"
        }, 
        {
            "source": "#### Let's check how many venues were returned for each neighborhood", 
            "cell_type": "markdown", 
            "metadata": {}
        }, 
        {
            "execution_count": 180, 
            "cell_type": "code", 
            "metadata": {}, 
            "outputs": [
                {
                    "execution_count": 180, 
                    "metadata": {}, 
                    "data": {
                        "text/html": "<div>\n<style scoped>\n    .dataframe tbody tr th:only-of-type {\n        vertical-align: middle;\n    }\n\n    .dataframe tbody tr th {\n        vertical-align: top;\n    }\n\n    .dataframe thead th {\n        text-align: right;\n    }\n</style>\n<table border=\"1\" class=\"dataframe\">\n  <thead>\n    <tr style=\"text-align: right;\">\n      <th></th>\n      <th>Neighborhood Latitude</th>\n      <th>Neighborhood Longitude</th>\n      <th>Venue</th>\n      <th>Venue Latitude</th>\n      <th>Venue Longitude</th>\n      <th>Venue Category</th>\n    </tr>\n    <tr>\n      <th>Neighborhood</th>\n      <th></th>\n      <th></th>\n      <th></th>\n      <th></th>\n      <th></th>\n      <th></th>\n    </tr>\n  </thead>\n  <tbody>\n    <tr>\n      <th>Beckton</th>\n      <td>8</td>\n      <td>8</td>\n      <td>8</td>\n      <td>8</td>\n      <td>8</td>\n      <td>8</td>\n    </tr>\n    <tr>\n      <th>Canning Town</th>\n      <td>4</td>\n      <td>4</td>\n      <td>4</td>\n      <td>4</td>\n      <td>4</td>\n      <td>4</td>\n    </tr>\n    <tr>\n      <th>Custom House</th>\n      <td>26</td>\n      <td>26</td>\n      <td>26</td>\n      <td>26</td>\n      <td>26</td>\n      <td>26</td>\n    </tr>\n    <tr>\n      <th>East Ham</th>\n      <td>20</td>\n      <td>20</td>\n      <td>20</td>\n      <td>20</td>\n      <td>20</td>\n      <td>20</td>\n    </tr>\n    <tr>\n      <th>Forest Gate</th>\n      <td>9</td>\n      <td>9</td>\n      <td>9</td>\n      <td>9</td>\n      <td>9</td>\n      <td>9</td>\n    </tr>\n    <tr>\n      <th>Little Ilford</th>\n      <td>4</td>\n      <td>4</td>\n      <td>4</td>\n      <td>4</td>\n      <td>4</td>\n      <td>4</td>\n    </tr>\n    <tr>\n      <th>Manor Park</th>\n      <td>4</td>\n      <td>4</td>\n      <td>4</td>\n      <td>4</td>\n      <td>4</td>\n      <td>4</td>\n    </tr>\n    <tr>\n      <th>Maryland</th>\n      <td>22</td>\n      <td>22</td>\n      <td>22</td>\n      <td>22</td>\n      <td>22</td>\n      <td>22</td>\n    </tr>\n    <tr>\n      <th>North Woolwich</th>\n      <td>18</td>\n      <td>18</td>\n      <td>18</td>\n      <td>18</td>\n      <td>18</td>\n      <td>18</td>\n    </tr>\n    <tr>\n      <th>Plaistow</th>\n      <td>8</td>\n      <td>8</td>\n      <td>8</td>\n      <td>8</td>\n      <td>8</td>\n      <td>8</td>\n    </tr>\n    <tr>\n      <th>Silvertown</th>\n      <td>8</td>\n      <td>8</td>\n      <td>8</td>\n      <td>8</td>\n      <td>8</td>\n      <td>8</td>\n    </tr>\n    <tr>\n      <th>Stratford</th>\n      <td>67</td>\n      <td>67</td>\n      <td>67</td>\n      <td>67</td>\n      <td>67</td>\n      <td>67</td>\n    </tr>\n    <tr>\n      <th>Upton Park</th>\n      <td>5</td>\n      <td>5</td>\n      <td>5</td>\n      <td>5</td>\n      <td>5</td>\n      <td>5</td>\n    </tr>\n    <tr>\n      <th>West Ham</th>\n      <td>5</td>\n      <td>5</td>\n      <td>5</td>\n      <td>5</td>\n      <td>5</td>\n      <td>5</td>\n    </tr>\n  </tbody>\n</table>\n</div>", 
                        "text/plain": "                Neighborhood Latitude  Neighborhood Longitude  Venue  \\\nNeighborhood                                                           \nBeckton                             8                       8      8   \nCanning Town                        4                       4      4   \nCustom House                       26                      26     26   \nEast Ham                           20                      20     20   \nForest Gate                         9                       9      9   \nLittle Ilford                       4                       4      4   \nManor Park                          4                       4      4   \nMaryland                           22                      22     22   \nNorth Woolwich                     18                      18     18   \nPlaistow                            8                       8      8   \nSilvertown                          8                       8      8   \nStratford                          67                      67     67   \nUpton Park                          5                       5      5   \nWest Ham                            5                       5      5   \n\n                Venue Latitude  Venue Longitude  Venue Category  \nNeighborhood                                                     \nBeckton                      8                8               8  \nCanning Town                 4                4               4  \nCustom House                26               26              26  \nEast Ham                    20               20              20  \nForest Gate                  9                9               9  \nLittle Ilford                4                4               4  \nManor Park                   4                4               4  \nMaryland                    22               22              22  \nNorth Woolwich              18               18              18  \nPlaistow                     8                8               8  \nSilvertown                   8                8               8  \nStratford                   67               67              67  \nUpton Park                   5                5               5  \nWest Ham                     5                5               5  "
                    }, 
                    "output_type": "execute_result"
                }
            ], 
            "source": "Newham_venues.groupby('Neighborhood').count()"
        }, 
        {
            "source": "#### Let's find out how many unique categories can be curated from all the returned venues  ", 
            "cell_type": "markdown", 
            "metadata": {}
        }, 
        {
            "execution_count": 181, 
            "cell_type": "code", 
            "metadata": {}, 
            "outputs": [
                {
                    "output_type": "stream", 
                    "name": "stdout", 
                    "text": "There are 95 uniques categories.\n"
                }
            ], 
            "source": "print('There are {} uniques categories.'.format(len(Newham_venues['Venue Category'].unique())))"
        }, 
        {
            "source": "## 3) Analyze Each Neighborhood in Newham borough", 
            "cell_type": "markdown", 
            "metadata": {}
        }, 
        {
            "execution_count": 182, 
            "cell_type": "code", 
            "metadata": {}, 
            "outputs": [
                {
                    "execution_count": 182, 
                    "metadata": {}, 
                    "data": {
                        "text/html": "<div>\n<style scoped>\n    .dataframe tbody tr th:only-of-type {\n        vertical-align: middle;\n    }\n\n    .dataframe tbody tr th {\n        vertical-align: top;\n    }\n\n    .dataframe thead th {\n        text-align: right;\n    }\n</style>\n<table border=\"1\" class=\"dataframe\">\n  <thead>\n    <tr style=\"text-align: right;\">\n      <th></th>\n      <th>Neighborhood</th>\n      <th>Accessories Store</th>\n      <th>American Restaurant</th>\n      <th>Art Gallery</th>\n      <th>Asian Restaurant</th>\n      <th>Bagel Shop</th>\n      <th>Bakery</th>\n      <th>Bar</th>\n      <th>Boat or Ferry</th>\n      <th>Bookstore</th>\n      <th>...</th>\n      <th>Tapas Restaurant</th>\n      <th>Tennis Court</th>\n      <th>Thai Restaurant</th>\n      <th>Theater</th>\n      <th>Toy / Game Store</th>\n      <th>Train Station</th>\n      <th>Tunnel</th>\n      <th>Turkish Restaurant</th>\n      <th>Warehouse Store</th>\n      <th>Wine Bar</th>\n    </tr>\n  </thead>\n  <tbody>\n    <tr>\n      <th>0</th>\n      <td>Beckton</td>\n      <td>0</td>\n      <td>0</td>\n      <td>0</td>\n      <td>0</td>\n      <td>0</td>\n      <td>0</td>\n      <td>0</td>\n      <td>0</td>\n      <td>0</td>\n      <td>...</td>\n      <td>0</td>\n      <td>0</td>\n      <td>0</td>\n      <td>0</td>\n      <td>0</td>\n      <td>0</td>\n      <td>0</td>\n      <td>0</td>\n      <td>0</td>\n      <td>0</td>\n    </tr>\n    <tr>\n      <th>1</th>\n      <td>Beckton</td>\n      <td>0</td>\n      <td>0</td>\n      <td>0</td>\n      <td>0</td>\n      <td>0</td>\n      <td>0</td>\n      <td>0</td>\n      <td>0</td>\n      <td>0</td>\n      <td>...</td>\n      <td>0</td>\n      <td>0</td>\n      <td>0</td>\n      <td>0</td>\n      <td>0</td>\n      <td>0</td>\n      <td>0</td>\n      <td>0</td>\n      <td>0</td>\n      <td>0</td>\n    </tr>\n    <tr>\n      <th>2</th>\n      <td>Beckton</td>\n      <td>0</td>\n      <td>0</td>\n      <td>0</td>\n      <td>0</td>\n      <td>0</td>\n      <td>0</td>\n      <td>0</td>\n      <td>0</td>\n      <td>0</td>\n      <td>...</td>\n      <td>0</td>\n      <td>0</td>\n      <td>0</td>\n      <td>0</td>\n      <td>0</td>\n      <td>0</td>\n      <td>0</td>\n      <td>0</td>\n      <td>0</td>\n      <td>0</td>\n    </tr>\n    <tr>\n      <th>3</th>\n      <td>Beckton</td>\n      <td>0</td>\n      <td>0</td>\n      <td>0</td>\n      <td>0</td>\n      <td>0</td>\n      <td>0</td>\n      <td>0</td>\n      <td>0</td>\n      <td>0</td>\n      <td>...</td>\n      <td>0</td>\n      <td>0</td>\n      <td>0</td>\n      <td>0</td>\n      <td>0</td>\n      <td>0</td>\n      <td>0</td>\n      <td>0</td>\n      <td>0</td>\n      <td>0</td>\n    </tr>\n    <tr>\n      <th>4</th>\n      <td>Beckton</td>\n      <td>0</td>\n      <td>0</td>\n      <td>0</td>\n      <td>0</td>\n      <td>0</td>\n      <td>0</td>\n      <td>0</td>\n      <td>0</td>\n      <td>0</td>\n      <td>...</td>\n      <td>0</td>\n      <td>0</td>\n      <td>0</td>\n      <td>0</td>\n      <td>0</td>\n      <td>0</td>\n      <td>0</td>\n      <td>0</td>\n      <td>0</td>\n      <td>0</td>\n    </tr>\n  </tbody>\n</table>\n<p>5 rows \u00d7 96 columns</p>\n</div>", 
                        "text/plain": "  Neighborhood  Accessories Store  American Restaurant  Art Gallery  \\\n0      Beckton                  0                    0            0   \n1      Beckton                  0                    0            0   \n2      Beckton                  0                    0            0   \n3      Beckton                  0                    0            0   \n4      Beckton                  0                    0            0   \n\n   Asian Restaurant  Bagel Shop  Bakery  Bar  Boat or Ferry  Bookstore  \\\n0                 0           0       0    0              0          0   \n1                 0           0       0    0              0          0   \n2                 0           0       0    0              0          0   \n3                 0           0       0    0              0          0   \n4                 0           0       0    0              0          0   \n\n     ...     Tapas Restaurant  Tennis Court  Thai Restaurant  Theater  \\\n0    ...                    0             0                0        0   \n1    ...                    0             0                0        0   \n2    ...                    0             0                0        0   \n3    ...                    0             0                0        0   \n4    ...                    0             0                0        0   \n\n   Toy / Game Store  Train Station  Tunnel  Turkish Restaurant  \\\n0                 0              0       0                   0   \n1                 0              0       0                   0   \n2                 0              0       0                   0   \n3                 0              0       0                   0   \n4                 0              0       0                   0   \n\n   Warehouse Store  Wine Bar  \n0                0         0  \n1                0         0  \n2                0         0  \n3                0         0  \n4                0         0  \n\n[5 rows x 96 columns]"
                    }, 
                    "output_type": "execute_result"
                }
            ], 
            "source": "# one hot encoding\nNewham_onehot = pd.get_dummies(Newham_venues[['Venue Category']], prefix=\"\", prefix_sep=\"\")\n\n# add neighborhood column back to dataframe\nNewham_onehot['Neighborhood'] = Newham_venues['Neighborhood'] \n\n# move neighborhood column to the first column\nfixed_columns = [Newham_onehot.columns[-1]] + list(Newham_onehot.columns[:-1])\nNewham_onehot = Newham_onehot[fixed_columns]\n\nNewham_onehot.head()"
        }, 
        {
            "execution_count": 183, 
            "cell_type": "code", 
            "metadata": {}, 
            "outputs": [
                {
                    "execution_count": 183, 
                    "metadata": {}, 
                    "data": {
                        "text/plain": "(208, 96)"
                    }, 
                    "output_type": "execute_result"
                }
            ], 
            "source": "Newham_onehot.shape"
        }, 
        {
            "source": "#### Let's group rows by neighborhood and by taking the mean of the frequency of occurrence of each category", 
            "cell_type": "markdown", 
            "metadata": {}
        }, 
        {
            "execution_count": 184, 
            "cell_type": "code", 
            "metadata": {}, 
            "outputs": [
                {
                    "execution_count": 184, 
                    "metadata": {}, 
                    "data": {
                        "text/html": "<div>\n<style scoped>\n    .dataframe tbody tr th:only-of-type {\n        vertical-align: middle;\n    }\n\n    .dataframe tbody tr th {\n        vertical-align: top;\n    }\n\n    .dataframe thead th {\n        text-align: right;\n    }\n</style>\n<table border=\"1\" class=\"dataframe\">\n  <thead>\n    <tr style=\"text-align: right;\">\n      <th></th>\n      <th>Neighborhood</th>\n      <th>Accessories Store</th>\n      <th>American Restaurant</th>\n      <th>Art Gallery</th>\n      <th>Asian Restaurant</th>\n      <th>Bagel Shop</th>\n      <th>Bakery</th>\n      <th>Bar</th>\n      <th>Boat or Ferry</th>\n      <th>Bookstore</th>\n      <th>...</th>\n      <th>Tapas Restaurant</th>\n      <th>Tennis Court</th>\n      <th>Thai Restaurant</th>\n      <th>Theater</th>\n      <th>Toy / Game Store</th>\n      <th>Train Station</th>\n      <th>Tunnel</th>\n      <th>Turkish Restaurant</th>\n      <th>Warehouse Store</th>\n      <th>Wine Bar</th>\n    </tr>\n  </thead>\n  <tbody>\n    <tr>\n      <th>0</th>\n      <td>Beckton</td>\n      <td>0.0</td>\n      <td>0.000000</td>\n      <td>0.0</td>\n      <td>0.0</td>\n      <td>0.000000</td>\n      <td>0.000000</td>\n      <td>0.0</td>\n      <td>0.0</td>\n      <td>0.00</td>\n      <td>...</td>\n      <td>0.000000</td>\n      <td>0.00</td>\n      <td>0.0</td>\n      <td>0.0</td>\n      <td>0.0</td>\n      <td>0.000000</td>\n      <td>0.0</td>\n      <td>0.00</td>\n      <td>0.00</td>\n      <td>0.000000</td>\n    </tr>\n    <tr>\n      <th>1</th>\n      <td>Canning Town</td>\n      <td>0.0</td>\n      <td>0.000000</td>\n      <td>0.0</td>\n      <td>0.0</td>\n      <td>0.000000</td>\n      <td>0.000000</td>\n      <td>0.0</td>\n      <td>0.0</td>\n      <td>0.00</td>\n      <td>...</td>\n      <td>0.000000</td>\n      <td>0.25</td>\n      <td>0.0</td>\n      <td>0.0</td>\n      <td>0.0</td>\n      <td>0.000000</td>\n      <td>0.0</td>\n      <td>0.00</td>\n      <td>0.00</td>\n      <td>0.000000</td>\n    </tr>\n    <tr>\n      <th>2</th>\n      <td>Custom House</td>\n      <td>0.0</td>\n      <td>0.038462</td>\n      <td>0.0</td>\n      <td>0.0</td>\n      <td>0.038462</td>\n      <td>0.038462</td>\n      <td>0.0</td>\n      <td>0.0</td>\n      <td>0.00</td>\n      <td>...</td>\n      <td>0.038462</td>\n      <td>0.00</td>\n      <td>0.0</td>\n      <td>0.0</td>\n      <td>0.0</td>\n      <td>0.000000</td>\n      <td>0.0</td>\n      <td>0.00</td>\n      <td>0.00</td>\n      <td>0.038462</td>\n    </tr>\n    <tr>\n      <th>3</th>\n      <td>East Ham</td>\n      <td>0.0</td>\n      <td>0.000000</td>\n      <td>0.0</td>\n      <td>0.0</td>\n      <td>0.000000</td>\n      <td>0.050000</td>\n      <td>0.0</td>\n      <td>0.0</td>\n      <td>0.05</td>\n      <td>...</td>\n      <td>0.000000</td>\n      <td>0.00</td>\n      <td>0.0</td>\n      <td>0.0</td>\n      <td>0.0</td>\n      <td>0.000000</td>\n      <td>0.0</td>\n      <td>0.05</td>\n      <td>0.05</td>\n      <td>0.000000</td>\n    </tr>\n    <tr>\n      <th>4</th>\n      <td>Forest Gate</td>\n      <td>0.0</td>\n      <td>0.000000</td>\n      <td>0.0</td>\n      <td>0.0</td>\n      <td>0.000000</td>\n      <td>0.111111</td>\n      <td>0.0</td>\n      <td>0.0</td>\n      <td>0.00</td>\n      <td>...</td>\n      <td>0.000000</td>\n      <td>0.00</td>\n      <td>0.0</td>\n      <td>0.0</td>\n      <td>0.0</td>\n      <td>0.111111</td>\n      <td>0.0</td>\n      <td>0.00</td>\n      <td>0.00</td>\n      <td>0.000000</td>\n    </tr>\n  </tbody>\n</table>\n<p>5 rows \u00d7 96 columns</p>\n</div>", 
                        "text/plain": "   Neighborhood  Accessories Store  American Restaurant  Art Gallery  \\\n0       Beckton                0.0             0.000000          0.0   \n1  Canning Town                0.0             0.000000          0.0   \n2  Custom House                0.0             0.038462          0.0   \n3      East Ham                0.0             0.000000          0.0   \n4   Forest Gate                0.0             0.000000          0.0   \n\n   Asian Restaurant  Bagel Shop    Bakery  Bar  Boat or Ferry  Bookstore  \\\n0               0.0    0.000000  0.000000  0.0            0.0       0.00   \n1               0.0    0.000000  0.000000  0.0            0.0       0.00   \n2               0.0    0.038462  0.038462  0.0            0.0       0.00   \n3               0.0    0.000000  0.050000  0.0            0.0       0.05   \n4               0.0    0.000000  0.111111  0.0            0.0       0.00   \n\n     ...     Tapas Restaurant  Tennis Court  Thai Restaurant  Theater  \\\n0    ...             0.000000          0.00              0.0      0.0   \n1    ...             0.000000          0.25              0.0      0.0   \n2    ...             0.038462          0.00              0.0      0.0   \n3    ...             0.000000          0.00              0.0      0.0   \n4    ...             0.000000          0.00              0.0      0.0   \n\n   Toy / Game Store  Train Station  Tunnel  Turkish Restaurant  \\\n0               0.0       0.000000     0.0                0.00   \n1               0.0       0.000000     0.0                0.00   \n2               0.0       0.000000     0.0                0.00   \n3               0.0       0.000000     0.0                0.05   \n4               0.0       0.111111     0.0                0.00   \n\n   Warehouse Store  Wine Bar  \n0             0.00  0.000000  \n1             0.00  0.000000  \n2             0.00  0.038462  \n3             0.05  0.000000  \n4             0.00  0.000000  \n\n[5 rows x 96 columns]"
                    }, 
                    "output_type": "execute_result"
                }
            ], 
            "source": "Newham_grouped = Newham_onehot.groupby('Neighborhood').mean().reset_index()\nNewham_grouped.head()"
        }, 
        {
            "execution_count": 185, 
            "cell_type": "code", 
            "metadata": {}, 
            "outputs": [
                {
                    "execution_count": 185, 
                    "metadata": {}, 
                    "data": {
                        "text/plain": "Index(['Neighborhood', 'Accessories Store', 'American Restaurant',\n       'Art Gallery', 'Asian Restaurant', 'Bagel Shop', 'Bakery', 'Bar',\n       'Boat or Ferry', 'Bookstore', 'Boutique', 'Brewery', 'Bridal Shop',\n       'Bridge', 'Bubble Tea Shop', 'Burger Joint', 'Bus Line', 'Bus Stop',\n       'Caf\u00e9', 'Chinese Restaurant', 'Clothing Store', 'Coffee Shop',\n       'Construction & Landscaping', 'Convenience Store', 'Cosmetics Shop',\n       'Creperie', 'Dance Studio', 'Department Store', 'Dessert Shop',\n       'Discount Store', 'Doner Restaurant', 'Eastern European Restaurant',\n       'Electronics Store', 'English Restaurant', 'Fast Food Restaurant',\n       'Food Court', 'Fried Chicken Joint', 'Furniture / Home Store',\n       'Gas Station', 'General Entertainment', 'Gift Shop', 'Go Kart Track',\n       'Greek Restaurant', 'Grocery Store', 'Gym / Fitness Center', 'Gym Pool',\n       'History Museum', 'Hotel', 'Hotel Bar', 'Ice Cream Shop',\n       'Indian Restaurant', 'Indie Movie Theater', 'Indie Theater',\n       'Italian Restaurant', 'Japanese Restaurant', 'Juice Bar',\n       'Latin American Restaurant', 'Light Rail Station', 'Lingerie Store',\n       'Liquor Store', 'Market', 'Mediterranean Restaurant', 'Men's Store',\n       'Mexican Restaurant', 'Movie Theater', 'Moving Target', 'Museum',\n       'Outdoor Sculpture', 'Paintball Field', 'Park', 'Pharmacy', 'Pier',\n       'Pizza Place', 'Plaza', 'Portuguese Restaurant', 'Pub', 'Restaurant',\n       'Salad Place', 'Sandwich Place', 'Scenic Lookout', 'Sculpture Garden',\n       'Shopping Mall', 'Shopping Plaza', 'Sporting Goods Shop', 'Supermarket',\n       'Sushi Restaurant', 'Tapas Restaurant', 'Tennis Court',\n       'Thai Restaurant', 'Theater', 'Toy / Game Store', 'Train Station',\n       'Tunnel', 'Turkish Restaurant', 'Warehouse Store', 'Wine Bar'],\n      dtype='object')"
                    }, 
                    "output_type": "execute_result"
                }
            ], 
            "source": "Newham_grouped.columns"
        }, 
        {
            "execution_count": 186, 
            "cell_type": "code", 
            "metadata": {}, 
            "outputs": [
                {
                    "execution_count": 186, 
                    "metadata": {}, 
                    "data": {
                        "text/plain": "(14, 96)"
                    }, 
                    "output_type": "execute_result"
                }
            ], 
            "source": "Newham_grouped.shape"
        }, 
        {
            "source": "#### Let's print each neighborhood along with the top 5 most common venues", 
            "cell_type": "markdown", 
            "metadata": {}
        }, 
        {
            "execution_count": 187, 
            "cell_type": "code", 
            "metadata": {}, 
            "outputs": [
                {
                    "output_type": "stream", 
                    "name": "stdout", 
                    "text": "----Beckton----\n                    venue  freq\n0          Discount Store  0.12\n1  Furniture / Home Store  0.12\n2                   Hotel  0.12\n3                     Pub  0.12\n4      Light Rail Station  0.12\n\n\n----Canning Town----\n                      venue  freq\n0               Gas Station  0.25\n1         Convenience Store  0.25\n2                      Park  0.25\n3              Tennis Court  0.25\n4  Mediterranean Restaurant  0.00\n\n\n----Custom House----\n                 venue  freq\n0                Hotel  0.19\n1                  Pub  0.08\n2            Hotel Bar  0.04\n3  Japanese Restaurant  0.04\n4    Convenience Store  0.04\n\n\n----East Ham----\n                  venue  freq\n0        Clothing Store  0.10\n1  Fast Food Restaurant  0.10\n2         Grocery Store  0.05\n3              Gym Pool  0.05\n4         Shopping Mall  0.05\n\n\n----Forest Gate----\n                venue  freq\n0       Grocery Store  0.22\n1  Italian Restaurant  0.11\n2                 Pub  0.11\n3              Bakery  0.11\n4       Train Station  0.11\n\n\n----Little Ilford----\n                 venue  freq\n0       Ice Cream Shop  0.25\n1        Grocery Store  0.25\n2  Fried Chicken Joint  0.25\n3    Indian Restaurant  0.25\n4   Italian Restaurant  0.00\n\n\n----Manor Park----\n                      venue  freq\n0         Indian Restaurant  0.25\n1        Turkish Restaurant  0.25\n2      Gym / Fitness Center  0.25\n3                Restaurant  0.25\n4  Mediterranean Restaurant  0.00\n\n\n----Maryland----\n                   venue  freq\n0                    Pub  0.14\n1                  Hotel  0.14\n2               Bus Stop  0.09\n3          Grocery Store  0.09\n4  Portuguese Restaurant  0.05\n\n\n----North Woolwich----\n                venue  freq\n0                Pier  0.17\n1      History Museum  0.11\n2  Italian Restaurant  0.06\n3       Grocery Store  0.06\n4               Plaza  0.06\n\n\n----Plaistow----\n                  venue  freq\n0                  Park  0.25\n1                  Caf\u00e9  0.25\n2     Indian Restaurant  0.12\n3  Gym / Fitness Center  0.12\n4         Grocery Store  0.12\n\n\n----Silvertown----\n                        venue  freq\n0                        Park  0.12\n1             Paintball Field  0.12\n2  Construction & Landscaping  0.12\n3        Gym / Fitness Center  0.12\n4                     Theater  0.12\n\n\n----Stratford----\n                  venue  freq\n0                   Pub  0.06\n1        Sandwich Place  0.04\n2  Fast Food Restaurant  0.03\n3           Pizza Place  0.03\n4                 Hotel  0.03\n\n\n----Upton Park----\n               venue  freq\n0                Pub   0.2\n1  Convenience Store   0.2\n2           Boutique   0.2\n3           Bus Stop   0.2\n4           Bus Line   0.2\n\n\n----West Ham----\n               venue  freq\n0                Pub   0.2\n1  Convenience Store   0.2\n2           Boutique   0.2\n3           Bus Stop   0.2\n4           Bus Line   0.2\n\n\n"
                }
            ], 
            "source": "num_top_venues = 5\nfor hood in Newham_grouped['Neighborhood']:\n    print(\"----\"+hood+\"----\")\n    temp = Newham_grouped[Newham_grouped['Neighborhood'] == hood].T.reset_index()\n    temp.columns = ['venue','freq']\n    temp = temp.iloc[1:]\n    temp['freq'] = temp['freq'].astype(float)\n    temp = temp.round({'freq': 2})\n    print(temp.sort_values('freq', ascending=False).reset_index(drop=True).head(num_top_venues))\n    print('\\n')"
        }, 
        {
            "source": "#### Let's put that into a pandas dataframe\n#### First, let's write a function to sort the venues in descending order.", 
            "cell_type": "markdown", 
            "metadata": {}
        }, 
        {
            "execution_count": 188, 
            "cell_type": "code", 
            "metadata": {}, 
            "outputs": [], 
            "source": "def return_most_common_venues(row, num_top_venues):\n    row_categories = row.iloc[1:]\n    row_categories_sorted = row_categories.sort_values(ascending=False)\n    \n    return row_categories_sorted.index.values[0:num_top_venues]"
        }, 
        {
            "source": "#### Now let's create the new dataframe and display the top 10 venues for each neighborhood.", 
            "cell_type": "markdown", 
            "metadata": {}
        }, 
        {
            "execution_count": 189, 
            "cell_type": "code", 
            "metadata": {}, 
            "outputs": [], 
            "source": "num_top_venues = 10\nindicators = ['st', 'nd', 'rd']\n\n# create columns according to number of top venues\ncolumns = ['Neighborhood']\nfor ind in np.arange(num_top_venues):\n    try:\n        columns.append('{}{} Most Common Venue'.format(ind+1, indicators[ind]))\n    except:\n        columns.append('{}th Most Common Venue'.format(ind+1))\n        \n# create a new dataframe\nneighborhoods_venues_sorted = pd.DataFrame(columns=columns)\nneighborhoods_venues_sorted['Neighborhood'] = Newham_grouped['Neighborhood']\n\nfor ind in np.arange(Newham_grouped.shape[0]):\n    neighborhoods_venues_sorted.iloc[ind, 1:] = return_most_common_venues(Newham_grouped.iloc[ind, :], num_top_venues)\n"
        }, 
        {
            "execution_count": 190, 
            "cell_type": "code", 
            "metadata": {}, 
            "outputs": [
                {
                    "execution_count": 190, 
                    "metadata": {}, 
                    "data": {
                        "text/html": "<div>\n<style scoped>\n    .dataframe tbody tr th:only-of-type {\n        vertical-align: middle;\n    }\n\n    .dataframe tbody tr th {\n        vertical-align: top;\n    }\n\n    .dataframe thead th {\n        text-align: right;\n    }\n</style>\n<table border=\"1\" class=\"dataframe\">\n  <thead>\n    <tr style=\"text-align: right;\">\n      <th></th>\n      <th>Neighborhood</th>\n      <th>1st Most Common Venue</th>\n      <th>2nd Most Common Venue</th>\n      <th>3rd Most Common Venue</th>\n      <th>4th Most Common Venue</th>\n      <th>5th Most Common Venue</th>\n      <th>6th Most Common Venue</th>\n      <th>7th Most Common Venue</th>\n      <th>8th Most Common Venue</th>\n      <th>9th Most Common Venue</th>\n      <th>10th Most Common Venue</th>\n    </tr>\n  </thead>\n  <tbody>\n    <tr>\n      <th>0</th>\n      <td>Beckton</td>\n      <td>Hotel</td>\n      <td>Furniture / Home Store</td>\n      <td>Clothing Store</td>\n      <td>Pub</td>\n      <td>Discount Store</td>\n      <td>Light Rail Station</td>\n      <td>Shopping Plaza</td>\n      <td>Grocery Store</td>\n      <td>General Entertainment</td>\n      <td>Eastern European Restaurant</td>\n    </tr>\n    <tr>\n      <th>1</th>\n      <td>Canning Town</td>\n      <td>Convenience Store</td>\n      <td>Tennis Court</td>\n      <td>Gas Station</td>\n      <td>Park</td>\n      <td>Greek Restaurant</td>\n      <td>Go Kart Track</td>\n      <td>Creperie</td>\n      <td>Dance Studio</td>\n      <td>Department Store</td>\n      <td>Dessert Shop</td>\n    </tr>\n    <tr>\n      <th>2</th>\n      <td>Custom House</td>\n      <td>Hotel</td>\n      <td>Pub</td>\n      <td>Wine Bar</td>\n      <td>English Restaurant</td>\n      <td>Light Rail Station</td>\n      <td>Japanese Restaurant</td>\n      <td>Italian Restaurant</td>\n      <td>Gym / Fitness Center</td>\n      <td>Convenience Store</td>\n      <td>Salad Place</td>\n    </tr>\n    <tr>\n      <th>3</th>\n      <td>East Ham</td>\n      <td>Fast Food Restaurant</td>\n      <td>Clothing Store</td>\n      <td>Park</td>\n      <td>Sporting Goods Shop</td>\n      <td>Pub</td>\n      <td>Sandwich Place</td>\n      <td>Caf\u00e9</td>\n      <td>Chinese Restaurant</td>\n      <td>Shopping Mall</td>\n      <td>Grocery Store</td>\n    </tr>\n    <tr>\n      <th>4</th>\n      <td>Forest Gate</td>\n      <td>Grocery Store</td>\n      <td>Train Station</td>\n      <td>Moving Target</td>\n      <td>Bakery</td>\n      <td>Italian Restaurant</td>\n      <td>Pub</td>\n      <td>Caf\u00e9</td>\n      <td>Fast Food Restaurant</td>\n      <td>Wine Bar</td>\n      <td>Electronics Store</td>\n    </tr>\n  </tbody>\n</table>\n</div>", 
                        "text/plain": "   Neighborhood 1st Most Common Venue   2nd Most Common Venue  \\\n0       Beckton                 Hotel  Furniture / Home Store   \n1  Canning Town     Convenience Store            Tennis Court   \n2  Custom House                 Hotel                     Pub   \n3      East Ham  Fast Food Restaurant          Clothing Store   \n4   Forest Gate         Grocery Store           Train Station   \n\n  3rd Most Common Venue 4th Most Common Venue 5th Most Common Venue  \\\n0        Clothing Store                   Pub        Discount Store   \n1           Gas Station                  Park      Greek Restaurant   \n2              Wine Bar    English Restaurant    Light Rail Station   \n3                  Park   Sporting Goods Shop                   Pub   \n4         Moving Target                Bakery    Italian Restaurant   \n\n  6th Most Common Venue 7th Most Common Venue 8th Most Common Venue  \\\n0    Light Rail Station        Shopping Plaza         Grocery Store   \n1         Go Kart Track              Creperie          Dance Studio   \n2   Japanese Restaurant    Italian Restaurant  Gym / Fitness Center   \n3        Sandwich Place                  Caf\u00e9    Chinese Restaurant   \n4                   Pub                  Caf\u00e9  Fast Food Restaurant   \n\n   9th Most Common Venue       10th Most Common Venue  \n0  General Entertainment  Eastern European Restaurant  \n1       Department Store                 Dessert Shop  \n2      Convenience Store                  Salad Place  \n3          Shopping Mall                Grocery Store  \n4               Wine Bar            Electronics Store  "
                    }, 
                    "output_type": "execute_result"
                }
            ], 
            "source": "neighborhoods_venues_sorted.head()"
        }, 
        {
            "source": "### 4) Cluster the Neighborhoods", 
            "cell_type": "markdown", 
            "metadata": {}
        }, 
        {
            "source": "### Run K-means algorithm to cluster the neighborhood into 5 clusters.", 
            "cell_type": "markdown", 
            "metadata": {}
        }, 
        {
            "execution_count": 191, 
            "cell_type": "code", 
            "metadata": {}, 
            "outputs": [
                {
                    "execution_count": 191, 
                    "metadata": {}, 
                    "data": {
                        "text/html": "<div>\n<style scoped>\n    .dataframe tbody tr th:only-of-type {\n        vertical-align: middle;\n    }\n\n    .dataframe tbody tr th {\n        vertical-align: top;\n    }\n\n    .dataframe thead th {\n        text-align: right;\n    }\n</style>\n<table border=\"1\" class=\"dataframe\">\n  <thead>\n    <tr style=\"text-align: right;\">\n      <th></th>\n      <th>Neighborhood</th>\n      <th>Accessories Store</th>\n      <th>American Restaurant</th>\n      <th>Art Gallery</th>\n      <th>Asian Restaurant</th>\n      <th>Bagel Shop</th>\n      <th>Bakery</th>\n      <th>Bar</th>\n      <th>Boat or Ferry</th>\n      <th>Bookstore</th>\n      <th>...</th>\n      <th>Tapas Restaurant</th>\n      <th>Tennis Court</th>\n      <th>Thai Restaurant</th>\n      <th>Theater</th>\n      <th>Toy / Game Store</th>\n      <th>Train Station</th>\n      <th>Tunnel</th>\n      <th>Turkish Restaurant</th>\n      <th>Warehouse Store</th>\n      <th>Wine Bar</th>\n    </tr>\n  </thead>\n  <tbody>\n    <tr>\n      <th>0</th>\n      <td>Beckton</td>\n      <td>0.0</td>\n      <td>0.000000</td>\n      <td>0.0</td>\n      <td>0.0</td>\n      <td>0.000000</td>\n      <td>0.000000</td>\n      <td>0.0</td>\n      <td>0.0</td>\n      <td>0.00</td>\n      <td>...</td>\n      <td>0.000000</td>\n      <td>0.00</td>\n      <td>0.0</td>\n      <td>0.0</td>\n      <td>0.0</td>\n      <td>0.000000</td>\n      <td>0.0</td>\n      <td>0.00</td>\n      <td>0.00</td>\n      <td>0.000000</td>\n    </tr>\n    <tr>\n      <th>1</th>\n      <td>Canning Town</td>\n      <td>0.0</td>\n      <td>0.000000</td>\n      <td>0.0</td>\n      <td>0.0</td>\n      <td>0.000000</td>\n      <td>0.000000</td>\n      <td>0.0</td>\n      <td>0.0</td>\n      <td>0.00</td>\n      <td>...</td>\n      <td>0.000000</td>\n      <td>0.25</td>\n      <td>0.0</td>\n      <td>0.0</td>\n      <td>0.0</td>\n      <td>0.000000</td>\n      <td>0.0</td>\n      <td>0.00</td>\n      <td>0.00</td>\n      <td>0.000000</td>\n    </tr>\n    <tr>\n      <th>2</th>\n      <td>Custom House</td>\n      <td>0.0</td>\n      <td>0.038462</td>\n      <td>0.0</td>\n      <td>0.0</td>\n      <td>0.038462</td>\n      <td>0.038462</td>\n      <td>0.0</td>\n      <td>0.0</td>\n      <td>0.00</td>\n      <td>...</td>\n      <td>0.038462</td>\n      <td>0.00</td>\n      <td>0.0</td>\n      <td>0.0</td>\n      <td>0.0</td>\n      <td>0.000000</td>\n      <td>0.0</td>\n      <td>0.00</td>\n      <td>0.00</td>\n      <td>0.038462</td>\n    </tr>\n    <tr>\n      <th>3</th>\n      <td>East Ham</td>\n      <td>0.0</td>\n      <td>0.000000</td>\n      <td>0.0</td>\n      <td>0.0</td>\n      <td>0.000000</td>\n      <td>0.050000</td>\n      <td>0.0</td>\n      <td>0.0</td>\n      <td>0.05</td>\n      <td>...</td>\n      <td>0.000000</td>\n      <td>0.00</td>\n      <td>0.0</td>\n      <td>0.0</td>\n      <td>0.0</td>\n      <td>0.000000</td>\n      <td>0.0</td>\n      <td>0.05</td>\n      <td>0.05</td>\n      <td>0.000000</td>\n    </tr>\n    <tr>\n      <th>4</th>\n      <td>Forest Gate</td>\n      <td>0.0</td>\n      <td>0.000000</td>\n      <td>0.0</td>\n      <td>0.0</td>\n      <td>0.000000</td>\n      <td>0.111111</td>\n      <td>0.0</td>\n      <td>0.0</td>\n      <td>0.00</td>\n      <td>...</td>\n      <td>0.000000</td>\n      <td>0.00</td>\n      <td>0.0</td>\n      <td>0.0</td>\n      <td>0.0</td>\n      <td>0.111111</td>\n      <td>0.0</td>\n      <td>0.00</td>\n      <td>0.00</td>\n      <td>0.000000</td>\n    </tr>\n  </tbody>\n</table>\n<p>5 rows \u00d7 96 columns</p>\n</div>", 
                        "text/plain": "   Neighborhood  Accessories Store  American Restaurant  Art Gallery  \\\n0       Beckton                0.0             0.000000          0.0   \n1  Canning Town                0.0             0.000000          0.0   \n2  Custom House                0.0             0.038462          0.0   \n3      East Ham                0.0             0.000000          0.0   \n4   Forest Gate                0.0             0.000000          0.0   \n\n   Asian Restaurant  Bagel Shop    Bakery  Bar  Boat or Ferry  Bookstore  \\\n0               0.0    0.000000  0.000000  0.0            0.0       0.00   \n1               0.0    0.000000  0.000000  0.0            0.0       0.00   \n2               0.0    0.038462  0.038462  0.0            0.0       0.00   \n3               0.0    0.000000  0.050000  0.0            0.0       0.05   \n4               0.0    0.000000  0.111111  0.0            0.0       0.00   \n\n     ...     Tapas Restaurant  Tennis Court  Thai Restaurant  Theater  \\\n0    ...             0.000000          0.00              0.0      0.0   \n1    ...             0.000000          0.25              0.0      0.0   \n2    ...             0.038462          0.00              0.0      0.0   \n3    ...             0.000000          0.00              0.0      0.0   \n4    ...             0.000000          0.00              0.0      0.0   \n\n   Toy / Game Store  Train Station  Tunnel  Turkish Restaurant  \\\n0               0.0       0.000000     0.0                0.00   \n1               0.0       0.000000     0.0                0.00   \n2               0.0       0.000000     0.0                0.00   \n3               0.0       0.000000     0.0                0.05   \n4               0.0       0.111111     0.0                0.00   \n\n   Warehouse Store  Wine Bar  \n0             0.00  0.000000  \n1             0.00  0.000000  \n2             0.00  0.038462  \n3             0.05  0.000000  \n4             0.00  0.000000  \n\n[5 rows x 96 columns]"
                    }, 
                    "output_type": "execute_result"
                }
            ], 
            "source": "Newham_grouped.head()"
        }, 
        {
            "execution_count": 192, 
            "cell_type": "code", 
            "metadata": {}, 
            "outputs": [
                {
                    "execution_count": 192, 
                    "metadata": {}, 
                    "data": {
                        "text/plain": "array([1, 0, 1, 1, 1, 3, 4, 1, 1, 0], dtype=int32)"
                    }, 
                    "output_type": "execute_result"
                }
            ], 
            "source": "# set number of clusters\nkclusters = 5\nNewham_grouped_clustering = Newham_grouped.drop('Neighborhood', 1)\n\n# run k-means clustering\nkmeans = KMeans(n_clusters=kclusters, random_state=0).fit(Newham_grouped_clustering)\n\n# check cluster labels generated for each row in the dataframe\nkmeans.labels_[0:10] "
        }, 
        {
            "execution_count": 193, 
            "cell_type": "code", 
            "metadata": {}, 
            "outputs": [
                {
                    "execution_count": 193, 
                    "metadata": {}, 
                    "data": {
                        "text/plain": "KMeans(algorithm='auto', copy_x=True, init='k-means++', max_iter=300,\n    n_clusters=5, n_init=10, n_jobs=1, precompute_distances='auto',\n    random_state=0, tol=0.0001, verbose=0)"
                    }, 
                    "output_type": "execute_result"
                }
            ], 
            "source": "kmeans"
        }, 
        {
            "source": "#### Let's create a new dataframe that includes the cluster as well as the top 10 venues for each neighborhood.", 
            "cell_type": "markdown", 
            "metadata": {}
        }, 
        {
            "execution_count": 194, 
            "cell_type": "code", 
            "metadata": {}, 
            "outputs": [
                {
                    "execution_count": 194, 
                    "metadata": {}, 
                    "data": {
                        "text/html": "<div>\n<style scoped>\n    .dataframe tbody tr th:only-of-type {\n        vertical-align: middle;\n    }\n\n    .dataframe tbody tr th {\n        vertical-align: top;\n    }\n\n    .dataframe thead th {\n        text-align: right;\n    }\n</style>\n<table border=\"1\" class=\"dataframe\">\n  <thead>\n    <tr style=\"text-align: right;\">\n      <th></th>\n      <th>Borough</th>\n      <th>Neighborhood</th>\n      <th>Latitude</th>\n      <th>Longitude</th>\n      <th>Cluster Labels</th>\n      <th>1st Most Common Venue</th>\n      <th>2nd Most Common Venue</th>\n      <th>3rd Most Common Venue</th>\n      <th>4th Most Common Venue</th>\n      <th>5th Most Common Venue</th>\n      <th>6th Most Common Venue</th>\n      <th>7th Most Common Venue</th>\n      <th>8th Most Common Venue</th>\n      <th>9th Most Common Venue</th>\n      <th>10th Most Common Venue</th>\n    </tr>\n  </thead>\n  <tbody>\n    <tr>\n      <th>0</th>\n      <td>Newham</td>\n      <td>Beckton</td>\n      <td>51.514642</td>\n      <td>0.067375</td>\n      <td>1</td>\n      <td>Hotel</td>\n      <td>Furniture / Home Store</td>\n      <td>Clothing Store</td>\n      <td>Pub</td>\n      <td>Discount Store</td>\n      <td>Light Rail Station</td>\n      <td>Shopping Plaza</td>\n      <td>Grocery Store</td>\n      <td>General Entertainment</td>\n      <td>Eastern European Restaurant</td>\n    </tr>\n    <tr>\n      <th>1</th>\n      <td>Newham</td>\n      <td>Canning Town</td>\n      <td>51.515396</td>\n      <td>0.024169</td>\n      <td>0</td>\n      <td>Convenience Store</td>\n      <td>Tennis Court</td>\n      <td>Gas Station</td>\n      <td>Park</td>\n      <td>Greek Restaurant</td>\n      <td>Go Kart Track</td>\n      <td>Creperie</td>\n      <td>Dance Studio</td>\n      <td>Department Store</td>\n      <td>Dessert Shop</td>\n    </tr>\n    <tr>\n      <th>2</th>\n      <td>Newham</td>\n      <td>Custom House</td>\n      <td>51.508133</td>\n      <td>0.028171</td>\n      <td>1</td>\n      <td>Hotel</td>\n      <td>Pub</td>\n      <td>Wine Bar</td>\n      <td>English Restaurant</td>\n      <td>Light Rail Station</td>\n      <td>Japanese Restaurant</td>\n      <td>Italian Restaurant</td>\n      <td>Gym / Fitness Center</td>\n      <td>Convenience Store</td>\n      <td>Salad Place</td>\n    </tr>\n    <tr>\n      <th>3</th>\n      <td>Newham</td>\n      <td>East Ham</td>\n      <td>51.532867</td>\n      <td>0.053782</td>\n      <td>1</td>\n      <td>Fast Food Restaurant</td>\n      <td>Clothing Store</td>\n      <td>Park</td>\n      <td>Sporting Goods Shop</td>\n      <td>Pub</td>\n      <td>Sandwich Place</td>\n      <td>Caf\u00e9</td>\n      <td>Chinese Restaurant</td>\n      <td>Shopping Mall</td>\n      <td>Grocery Store</td>\n    </tr>\n    <tr>\n      <th>4</th>\n      <td>Newham</td>\n      <td>Forest Gate</td>\n      <td>51.551339</td>\n      <td>0.025765</td>\n      <td>1</td>\n      <td>Grocery Store</td>\n      <td>Train Station</td>\n      <td>Moving Target</td>\n      <td>Bakery</td>\n      <td>Italian Restaurant</td>\n      <td>Pub</td>\n      <td>Caf\u00e9</td>\n      <td>Fast Food Restaurant</td>\n      <td>Wine Bar</td>\n      <td>Electronics Store</td>\n    </tr>\n  </tbody>\n</table>\n</div>", 
                        "text/plain": "  Borough  Neighborhood   Latitude  Longitude  Cluster Labels  \\\n0  Newham       Beckton  51.514642   0.067375               1   \n1  Newham  Canning Town  51.515396   0.024169               0   \n2  Newham  Custom House  51.508133   0.028171               1   \n3  Newham      East Ham  51.532867   0.053782               1   \n4  Newham   Forest Gate  51.551339   0.025765               1   \n\n  1st Most Common Venue   2nd Most Common Venue 3rd Most Common Venue  \\\n0                 Hotel  Furniture / Home Store        Clothing Store   \n1     Convenience Store            Tennis Court           Gas Station   \n2                 Hotel                     Pub              Wine Bar   \n3  Fast Food Restaurant          Clothing Store                  Park   \n4         Grocery Store           Train Station         Moving Target   \n\n  4th Most Common Venue 5th Most Common Venue 6th Most Common Venue  \\\n0                   Pub        Discount Store    Light Rail Station   \n1                  Park      Greek Restaurant         Go Kart Track   \n2    English Restaurant    Light Rail Station   Japanese Restaurant   \n3   Sporting Goods Shop                   Pub        Sandwich Place   \n4                Bakery    Italian Restaurant                   Pub   \n\n  7th Most Common Venue 8th Most Common Venue  9th Most Common Venue  \\\n0        Shopping Plaza         Grocery Store  General Entertainment   \n1              Creperie          Dance Studio       Department Store   \n2    Italian Restaurant  Gym / Fitness Center      Convenience Store   \n3                  Caf\u00e9    Chinese Restaurant          Shopping Mall   \n4                  Caf\u00e9  Fast Food Restaurant               Wine Bar   \n\n        10th Most Common Venue  \n0  Eastern European Restaurant  \n1                 Dessert Shop  \n2                  Salad Place  \n3                Grocery Store  \n4            Electronics Store  "
                    }, 
                    "output_type": "execute_result"
                }
            ], 
            "source": "Newham_merged = Newham_borough\n# add clustering labels\nNewham_merged['Cluster Labels'] = kmeans.labels_\n\n# merge Neighborhoods dataframe with Newham borough dataframe to add latitude/longitude for each neighborhood\nNewham_merged = Newham_merged.join(neighborhoods_venues_sorted.set_index('Neighborhood'), on='Neighborhood')\n\nNewham_merged.head() # check the last columns!"
        }, 
        {
            "source": "#### Let's Visualize the Cluster ", 
            "cell_type": "markdown", 
            "metadata": {}
        }, 
        {
            "execution_count": 195, 
            "cell_type": "code", 
            "metadata": {
                "scrolled": true
            }, 
            "outputs": [
                {
                    "execution_count": 195, 
                    "metadata": {}, 
                    "data": {
                        "text/html": "<div style=\"width:100%;\"><div style=\"position:relative;width:100%;height:0;padding-bottom:60%;\"><iframe src=\"data:text/html;charset=utf-8;base64,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\" style=\"position:absolute;width:100%;height:100%;left:0;top:0;border:none !important;\" allowfullscreen webkitallowfullscreen mozallowfullscreen></iframe></div></div>", 
                        "text/plain": "<folium.folium.Map at 0x7f48c5d277f0>"
                    }, 
                    "output_type": "execute_result"
                }
            ], 
            "source": "# create map\nmap_clusters = folium.Map(location=[latitude, longitude], zoom_start=11)\n\n# set color scheme for the clusters\nx = np.arange(kclusters)\ny = [i+x+(i*x)**2 for i in range(kclusters)]\ncolors_array = cm.rainbow(np.linspace(0, 1, len(ys)))\nrainbow = [colors.rgb2hex(i) for i in colors_array]\n\n# add markers to the map\nmarkers_colors = []\nfor lat, lon, poi, cluster in zip(Newham_merged['Latitude'], Newham_merged['Longitude'], Newham_merged['Neighborhood'], Newham_merged['Cluster Labels']):\n    label = folium.Popup(str(poi) + ' Cluster ' + str(cluster), parse_html=True)\n    folium.CircleMarker(\n        [lat, lon],\n        radius=5,\n        popup=label,\n        color=rainbow[cluster-1],\n        fill=True,\n        fill_color=rainbow[cluster-1],\n        fill_opacity=0.7).add_to(map_clusters)\n       \nmap_clusters"
        }, 
        {
            "source": "### 5) Examine the Clusters", 
            "cell_type": "markdown", 
            "metadata": {}
        }, 
        {
            "execution_count": 196, 
            "cell_type": "code", 
            "metadata": {}, 
            "outputs": [
                {
                    "execution_count": 196, 
                    "metadata": {}, 
                    "data": {
                        "text/html": "<div>\n<style scoped>\n    .dataframe tbody tr th:only-of-type {\n        vertical-align: middle;\n    }\n\n    .dataframe tbody tr th {\n        vertical-align: top;\n    }\n\n    .dataframe thead th {\n        text-align: right;\n    }\n</style>\n<table border=\"1\" class=\"dataframe\">\n  <thead>\n    <tr style=\"text-align: right;\">\n      <th></th>\n      <th>Neighborhood</th>\n      <th>1st Most Common Venue</th>\n      <th>2nd Most Common Venue</th>\n      <th>3rd Most Common Venue</th>\n      <th>4th Most Common Venue</th>\n      <th>5th Most Common Venue</th>\n      <th>6th Most Common Venue</th>\n      <th>7th Most Common Venue</th>\n      <th>8th Most Common Venue</th>\n      <th>9th Most Common Venue</th>\n      <th>10th Most Common Venue</th>\n    </tr>\n  </thead>\n  <tbody>\n    <tr>\n      <th>1</th>\n      <td>Canning Town</td>\n      <td>Convenience Store</td>\n      <td>Tennis Court</td>\n      <td>Gas Station</td>\n      <td>Park</td>\n      <td>Greek Restaurant</td>\n      <td>Go Kart Track</td>\n      <td>Creperie</td>\n      <td>Dance Studio</td>\n      <td>Department Store</td>\n      <td>Dessert Shop</td>\n    </tr>\n    <tr>\n      <th>9</th>\n      <td>Plaistow</td>\n      <td>Park</td>\n      <td>Caf\u00e9</td>\n      <td>Gym / Fitness Center</td>\n      <td>Indian Restaurant</td>\n      <td>Grocery Store</td>\n      <td>Bus Stop</td>\n      <td>English Restaurant</td>\n      <td>Dance Studio</td>\n      <td>Department Store</td>\n      <td>Dessert Shop</td>\n    </tr>\n    <tr>\n      <th>10</th>\n      <td>Silvertown</td>\n      <td>Gym / Fitness Center</td>\n      <td>Theater</td>\n      <td>Construction &amp; Landscaping</td>\n      <td>Museum</td>\n      <td>Caf\u00e9</td>\n      <td>Park</td>\n      <td>Paintball Field</td>\n      <td>Go Kart Track</td>\n      <td>General Entertainment</td>\n      <td>Discount Store</td>\n    </tr>\n  </tbody>\n</table>\n</div>", 
                        "text/plain": "    Neighborhood 1st Most Common Venue 2nd Most Common Venue  \\\n1   Canning Town     Convenience Store          Tennis Court   \n9       Plaistow                  Park                  Caf\u00e9   \n10    Silvertown  Gym / Fitness Center               Theater   \n\n         3rd Most Common Venue 4th Most Common Venue 5th Most Common Venue  \\\n1                  Gas Station                  Park      Greek Restaurant   \n9         Gym / Fitness Center     Indian Restaurant         Grocery Store   \n10  Construction & Landscaping                Museum                  Caf\u00e9   \n\n   6th Most Common Venue 7th Most Common Venue 8th Most Common Venue  \\\n1          Go Kart Track              Creperie          Dance Studio   \n9               Bus Stop    English Restaurant          Dance Studio   \n10                  Park       Paintball Field         Go Kart Track   \n\n    9th Most Common Venue 10th Most Common Venue  \n1        Department Store           Dessert Shop  \n9        Department Store           Dessert Shop  \n10  General Entertainment         Discount Store  "
                    }, 
                    "output_type": "execute_result"
                }
            ], 
            "source": "Newham_merged.loc[Newham_merged['Cluster Labels'] == 0, Newham_merged.columns[[1] + list(range(5, Newham_merged.shape[1]))]]"
        }, 
        {
            "execution_count": 197, 
            "cell_type": "code", 
            "metadata": {}, 
            "outputs": [
                {
                    "execution_count": 197, 
                    "metadata": {}, 
                    "data": {
                        "text/html": "<div>\n<style scoped>\n    .dataframe tbody tr th:only-of-type {\n        vertical-align: middle;\n    }\n\n    .dataframe tbody tr th {\n        vertical-align: top;\n    }\n\n    .dataframe thead th {\n        text-align: right;\n    }\n</style>\n<table border=\"1\" class=\"dataframe\">\n  <thead>\n    <tr style=\"text-align: right;\">\n      <th></th>\n      <th>Neighborhood</th>\n      <th>1st Most Common Venue</th>\n      <th>2nd Most Common Venue</th>\n      <th>3rd Most Common Venue</th>\n      <th>4th Most Common Venue</th>\n      <th>5th Most Common Venue</th>\n      <th>6th Most Common Venue</th>\n      <th>7th Most Common Venue</th>\n      <th>8th Most Common Venue</th>\n      <th>9th Most Common Venue</th>\n      <th>10th Most Common Venue</th>\n    </tr>\n  </thead>\n  <tbody>\n    <tr>\n      <th>0</th>\n      <td>Beckton</td>\n      <td>Hotel</td>\n      <td>Furniture / Home Store</td>\n      <td>Clothing Store</td>\n      <td>Pub</td>\n      <td>Discount Store</td>\n      <td>Light Rail Station</td>\n      <td>Shopping Plaza</td>\n      <td>Grocery Store</td>\n      <td>General Entertainment</td>\n      <td>Eastern European Restaurant</td>\n    </tr>\n    <tr>\n      <th>2</th>\n      <td>Custom House</td>\n      <td>Hotel</td>\n      <td>Pub</td>\n      <td>Wine Bar</td>\n      <td>English Restaurant</td>\n      <td>Light Rail Station</td>\n      <td>Japanese Restaurant</td>\n      <td>Italian Restaurant</td>\n      <td>Gym / Fitness Center</td>\n      <td>Convenience Store</td>\n      <td>Salad Place</td>\n    </tr>\n    <tr>\n      <th>3</th>\n      <td>East Ham</td>\n      <td>Fast Food Restaurant</td>\n      <td>Clothing Store</td>\n      <td>Park</td>\n      <td>Sporting Goods Shop</td>\n      <td>Pub</td>\n      <td>Sandwich Place</td>\n      <td>Caf\u00e9</td>\n      <td>Chinese Restaurant</td>\n      <td>Shopping Mall</td>\n      <td>Grocery Store</td>\n    </tr>\n    <tr>\n      <th>4</th>\n      <td>Forest Gate</td>\n      <td>Grocery Store</td>\n      <td>Train Station</td>\n      <td>Moving Target</td>\n      <td>Bakery</td>\n      <td>Italian Restaurant</td>\n      <td>Pub</td>\n      <td>Caf\u00e9</td>\n      <td>Fast Food Restaurant</td>\n      <td>Wine Bar</td>\n      <td>Electronics Store</td>\n    </tr>\n    <tr>\n      <th>7</th>\n      <td>Maryland</td>\n      <td>Hotel</td>\n      <td>Pub</td>\n      <td>Bus Stop</td>\n      <td>Grocery Store</td>\n      <td>Supermarket</td>\n      <td>Liquor Store</td>\n      <td>Portuguese Restaurant</td>\n      <td>Caf\u00e9</td>\n      <td>Sculpture Garden</td>\n      <td>Dance Studio</td>\n    </tr>\n    <tr>\n      <th>8</th>\n      <td>North Woolwich</td>\n      <td>Pier</td>\n      <td>History Museum</td>\n      <td>Clothing Store</td>\n      <td>Scenic Lookout</td>\n      <td>Gym / Fitness Center</td>\n      <td>Hotel</td>\n      <td>Italian Restaurant</td>\n      <td>Outdoor Sculpture</td>\n      <td>Pharmacy</td>\n      <td>Chinese Restaurant</td>\n    </tr>\n    <tr>\n      <th>11</th>\n      <td>Stratford</td>\n      <td>Pub</td>\n      <td>Sandwich Place</td>\n      <td>Caf\u00e9</td>\n      <td>Cosmetics Shop</td>\n      <td>Pizza Place</td>\n      <td>Bookstore</td>\n      <td>Burger Joint</td>\n      <td>Bar</td>\n      <td>Coffee Shop</td>\n      <td>Toy / Game Store</td>\n    </tr>\n  </tbody>\n</table>\n</div>", 
                        "text/plain": "      Neighborhood 1st Most Common Venue   2nd Most Common Venue  \\\n0          Beckton                 Hotel  Furniture / Home Store   \n2     Custom House                 Hotel                     Pub   \n3         East Ham  Fast Food Restaurant          Clothing Store   \n4      Forest Gate         Grocery Store           Train Station   \n7         Maryland                 Hotel                     Pub   \n8   North Woolwich                  Pier          History Museum   \n11       Stratford                   Pub          Sandwich Place   \n\n   3rd Most Common Venue 4th Most Common Venue 5th Most Common Venue  \\\n0         Clothing Store                   Pub        Discount Store   \n2               Wine Bar    English Restaurant    Light Rail Station   \n3                   Park   Sporting Goods Shop                   Pub   \n4          Moving Target                Bakery    Italian Restaurant   \n7               Bus Stop         Grocery Store           Supermarket   \n8         Clothing Store        Scenic Lookout  Gym / Fitness Center   \n11                  Caf\u00e9        Cosmetics Shop           Pizza Place   \n\n   6th Most Common Venue  7th Most Common Venue 8th Most Common Venue  \\\n0     Light Rail Station         Shopping Plaza         Grocery Store   \n2    Japanese Restaurant     Italian Restaurant  Gym / Fitness Center   \n3         Sandwich Place                   Caf\u00e9    Chinese Restaurant   \n4                    Pub                   Caf\u00e9  Fast Food Restaurant   \n7           Liquor Store  Portuguese Restaurant                  Caf\u00e9   \n8                  Hotel     Italian Restaurant     Outdoor Sculpture   \n11             Bookstore           Burger Joint                   Bar   \n\n    9th Most Common Venue       10th Most Common Venue  \n0   General Entertainment  Eastern European Restaurant  \n2       Convenience Store                  Salad Place  \n3           Shopping Mall                Grocery Store  \n4                Wine Bar            Electronics Store  \n7        Sculpture Garden                 Dance Studio  \n8                Pharmacy           Chinese Restaurant  \n11            Coffee Shop             Toy / Game Store  "
                    }, 
                    "output_type": "execute_result"
                }
            ], 
            "source": "Newham_merged.loc[Newham_merged['Cluster Labels'] == 1, Newham_merged.columns[[1] + list(range(5, Newham_merged.shape[1]))]]"
        }, 
        {
            "execution_count": 198, 
            "cell_type": "code", 
            "metadata": {}, 
            "outputs": [
                {
                    "execution_count": 198, 
                    "metadata": {}, 
                    "data": {
                        "text/html": "<div>\n<style scoped>\n    .dataframe tbody tr th:only-of-type {\n        vertical-align: middle;\n    }\n\n    .dataframe tbody tr th {\n        vertical-align: top;\n    }\n\n    .dataframe thead th {\n        text-align: right;\n    }\n</style>\n<table border=\"1\" class=\"dataframe\">\n  <thead>\n    <tr style=\"text-align: right;\">\n      <th></th>\n      <th>Neighborhood</th>\n      <th>1st Most Common Venue</th>\n      <th>2nd Most Common Venue</th>\n      <th>3rd Most Common Venue</th>\n      <th>4th Most Common Venue</th>\n      <th>5th Most Common Venue</th>\n      <th>6th Most Common Venue</th>\n      <th>7th Most Common Venue</th>\n      <th>8th Most Common Venue</th>\n      <th>9th Most Common Venue</th>\n      <th>10th Most Common Venue</th>\n    </tr>\n  </thead>\n  <tbody>\n    <tr>\n      <th>12</th>\n      <td>Upton Park</td>\n      <td>Convenience Store</td>\n      <td>Pub</td>\n      <td>Bus Stop</td>\n      <td>Boutique</td>\n      <td>Bus Line</td>\n      <td>Fast Food Restaurant</td>\n      <td>Department Store</td>\n      <td>Dessert Shop</td>\n      <td>Discount Store</td>\n      <td>Doner Restaurant</td>\n    </tr>\n    <tr>\n      <th>13</th>\n      <td>West Ham</td>\n      <td>Convenience Store</td>\n      <td>Pub</td>\n      <td>Bus Stop</td>\n      <td>Boutique</td>\n      <td>Bus Line</td>\n      <td>Fast Food Restaurant</td>\n      <td>Department Store</td>\n      <td>Dessert Shop</td>\n      <td>Discount Store</td>\n      <td>Doner Restaurant</td>\n    </tr>\n  </tbody>\n</table>\n</div>", 
                        "text/plain": "   Neighborhood 1st Most Common Venue 2nd Most Common Venue  \\\n12   Upton Park     Convenience Store                   Pub   \n13     West Ham     Convenience Store                   Pub   \n\n   3rd Most Common Venue 4th Most Common Venue 5th Most Common Venue  \\\n12              Bus Stop              Boutique              Bus Line   \n13              Bus Stop              Boutique              Bus Line   \n\n   6th Most Common Venue 7th Most Common Venue 8th Most Common Venue  \\\n12  Fast Food Restaurant      Department Store          Dessert Shop   \n13  Fast Food Restaurant      Department Store          Dessert Shop   \n\n   9th Most Common Venue 10th Most Common Venue  \n12        Discount Store       Doner Restaurant  \n13        Discount Store       Doner Restaurant  "
                    }, 
                    "output_type": "execute_result"
                }
            ], 
            "source": "Newham_merged.loc[Newham_merged['Cluster Labels'] == 2, Newham_merged.columns[[1] + list(range(5, Newham_merged.shape[1]))]]"
        }, 
        {
            "execution_count": 199, 
            "cell_type": "code", 
            "metadata": {}, 
            "outputs": [
                {
                    "execution_count": 199, 
                    "metadata": {}, 
                    "data": {
                        "text/html": "<div>\n<style scoped>\n    .dataframe tbody tr th:only-of-type {\n        vertical-align: middle;\n    }\n\n    .dataframe tbody tr th {\n        vertical-align: top;\n    }\n\n    .dataframe thead th {\n        text-align: right;\n    }\n</style>\n<table border=\"1\" class=\"dataframe\">\n  <thead>\n    <tr style=\"text-align: right;\">\n      <th></th>\n      <th>Neighborhood</th>\n      <th>1st Most Common Venue</th>\n      <th>2nd Most Common Venue</th>\n      <th>3rd Most Common Venue</th>\n      <th>4th Most Common Venue</th>\n      <th>5th Most Common Venue</th>\n      <th>6th Most Common Venue</th>\n      <th>7th Most Common Venue</th>\n      <th>8th Most Common Venue</th>\n      <th>9th Most Common Venue</th>\n      <th>10th Most Common Venue</th>\n    </tr>\n  </thead>\n  <tbody>\n    <tr>\n      <th>5</th>\n      <td>Little Ilford</td>\n      <td>Fried Chicken Joint</td>\n      <td>Ice Cream Shop</td>\n      <td>Indian Restaurant</td>\n      <td>Grocery Store</td>\n      <td>Fast Food Restaurant</td>\n      <td>Dance Studio</td>\n      <td>Department Store</td>\n      <td>Dessert Shop</td>\n      <td>Discount Store</td>\n      <td>Doner Restaurant</td>\n    </tr>\n  </tbody>\n</table>\n</div>", 
                        "text/plain": "    Neighborhood 1st Most Common Venue 2nd Most Common Venue  \\\n5  Little Ilford   Fried Chicken Joint        Ice Cream Shop   \n\n  3rd Most Common Venue 4th Most Common Venue 5th Most Common Venue  \\\n5     Indian Restaurant         Grocery Store  Fast Food Restaurant   \n\n  6th Most Common Venue 7th Most Common Venue 8th Most Common Venue  \\\n5          Dance Studio      Department Store          Dessert Shop   \n\n  9th Most Common Venue 10th Most Common Venue  \n5        Discount Store       Doner Restaurant  "
                    }, 
                    "output_type": "execute_result"
                }
            ], 
            "source": "Newham_merged.loc[Newham_merged['Cluster Labels'] == 3, Newham_merged.columns[[1] + list(range(5, Newham_merged.shape[1]))]]"
        }, 
        {
            "execution_count": 200, 
            "cell_type": "code", 
            "metadata": {}, 
            "outputs": [
                {
                    "execution_count": 200, 
                    "metadata": {}, 
                    "data": {
                        "text/html": "<div>\n<style scoped>\n    .dataframe tbody tr th:only-of-type {\n        vertical-align: middle;\n    }\n\n    .dataframe tbody tr th {\n        vertical-align: top;\n    }\n\n    .dataframe thead th {\n        text-align: right;\n    }\n</style>\n<table border=\"1\" class=\"dataframe\">\n  <thead>\n    <tr style=\"text-align: right;\">\n      <th></th>\n      <th>Neighborhood</th>\n      <th>1st Most Common Venue</th>\n      <th>2nd Most Common Venue</th>\n      <th>3rd Most Common Venue</th>\n      <th>4th Most Common Venue</th>\n      <th>5th Most Common Venue</th>\n      <th>6th Most Common Venue</th>\n      <th>7th Most Common Venue</th>\n      <th>8th Most Common Venue</th>\n      <th>9th Most Common Venue</th>\n      <th>10th Most Common Venue</th>\n    </tr>\n  </thead>\n  <tbody>\n    <tr>\n      <th>6</th>\n      <td>Manor Park</td>\n      <td>Turkish Restaurant</td>\n      <td>Gym / Fitness Center</td>\n      <td>Indian Restaurant</td>\n      <td>Restaurant</td>\n      <td>Wine Bar</td>\n      <td>Fast Food Restaurant</td>\n      <td>Dance Studio</td>\n      <td>Department Store</td>\n      <td>Dessert Shop</td>\n      <td>Discount Store</td>\n    </tr>\n  </tbody>\n</table>\n</div>", 
                        "text/plain": "  Neighborhood 1st Most Common Venue 2nd Most Common Venue  \\\n6   Manor Park    Turkish Restaurant  Gym / Fitness Center   \n\n  3rd Most Common Venue 4th Most Common Venue 5th Most Common Venue  \\\n6     Indian Restaurant            Restaurant              Wine Bar   \n\n  6th Most Common Venue 7th Most Common Venue 8th Most Common Venue  \\\n6  Fast Food Restaurant          Dance Studio      Department Store   \n\n  9th Most Common Venue 10th Most Common Venue  \n6          Dessert Shop         Discount Store  "
                    }, 
                    "output_type": "execute_result"
                }
            ], 
            "source": "Newham_merged.loc[Newham_merged['Cluster Labels'] == 4, Newham_merged.columns[[1] + list(range(5, Newham_merged.shape[1]))]]"
        }, 
        {
            "source": "### Conclusion: After examining the above 5 clusters, we can recommend our stakeholders that Beckton,Custom House, Maryland, Eastham and Manor Park are the best neighborhoods in Newham borough, to open their asian restuarant. This is because in these areas, the most common venue visited by the public is the hotel and as these areas are highly populated with asians, opening an asian restuarant would definitley be a good idea.", 
            "cell_type": "markdown", 
            "metadata": {}
        }
    ], 
    "metadata": {
        "kernelspec": {
            "display_name": "Python 3.5", 
            "name": "python3", 
            "language": "python"
        }, 
        "language_info": {
            "mimetype": "text/x-python", 
            "nbconvert_exporter": "python", 
            "version": "3.5.5", 
            "name": "python", 
            "file_extension": ".py", 
            "pygments_lexer": "ipython3", 
            "codemirror_mode": {
                "version": 3, 
                "name": "ipython"
            }
        }
    }, 
    "nbformat": 4
}