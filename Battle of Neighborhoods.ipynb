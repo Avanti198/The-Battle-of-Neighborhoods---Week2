{
    "nbformat_minor": 2, 
    "cells": [
        {
            "source": "# Battle of Neighborhoods \n#### For finding a best location to start an Asian restaurant in London. ", 
            "cell_type": "markdown", 
            "metadata": {}
        }, 
        {
            "source": "### Import necessary modules and libraries", 
            "cell_type": "markdown", 
            "metadata": {}
        }, 
        {
            "execution_count": 114, 
            "cell_type": "code", 
            "metadata": {}, 
            "outputs": [], 
            "source": "import pandas as pd \nimport numpy as np"
        }, 
        {
            "execution_count": 115, 
            "cell_type": "code", 
            "metadata": {}, 
            "outputs": [], 
            "source": "# The code was removed by Watson Studio for sharing."
        }, 
        {
            "source": "### 1) Read the \"Population by ethinicty\" data into a Pandas DataFrame.\nNote: I have collected the Ethnic population of only 5 Asian Countries (India, Pakistan, China, Bangladesh and Srilanka) who are living in 33 Boroughs of London", 
            "cell_type": "markdown", 
            "metadata": {}
        }, 
        {
            "execution_count": 116, 
            "cell_type": "code", 
            "metadata": {}, 
            "outputs": [], 
            "source": "df_popu = pd.read_excel(streaming_body_1)"
        }, 
        {
            "execution_count": 117, 
            "cell_type": "code", 
            "metadata": {}, 
            "outputs": [
                {
                    "execution_count": 117, 
                    "metadata": {}, 
                    "data": {
                        "text/plain": "(33, 8)"
                    }, 
                    "output_type": "execute_result"
                }
            ], 
            "source": "df_popu.shape"
        }, 
        {
            "execution_count": 118, 
            "cell_type": "code", 
            "metadata": {}, 
            "outputs": [
                {
                    "execution_count": 118, 
                    "metadata": {}, 
                    "data": {
                        "text/html": "<div>\n<style scoped>\n    .dataframe tbody tr th:only-of-type {\n        vertical-align: middle;\n    }\n\n    .dataframe tbody tr th {\n        vertical-align: top;\n    }\n\n    .dataframe thead th {\n        text-align: right;\n    }\n</style>\n<table border=\"1\" class=\"dataframe\">\n  <thead>\n    <tr style=\"text-align: right;\">\n      <th></th>\n      <th>Area Code</th>\n      <th>Borough</th>\n      <th>Year-2012</th>\n      <th>Year-2013</th>\n      <th>Year-2014</th>\n      <th>Year-2015</th>\n      <th>Year-2016</th>\n      <th>Year-2017</th>\n    </tr>\n  </thead>\n  <tbody>\n    <tr>\n      <th>0</th>\n      <td>E09000001</td>\n      <td>City of London</td>\n      <td>NaN</td>\n      <td>NaN</td>\n      <td>NaN</td>\n      <td>NaN</td>\n      <td>NaN</td>\n      <td>NaN</td>\n    </tr>\n    <tr>\n      <th>1</th>\n      <td>E09000002</td>\n      <td>Barking and Dagenham</td>\n      <td>27000.0</td>\n      <td>32000.0</td>\n      <td>33000.0</td>\n      <td>40000.0</td>\n      <td>40000.0</td>\n      <td>48000.0</td>\n    </tr>\n    <tr>\n      <th>2</th>\n      <td>E09000003</td>\n      <td>Barnet</td>\n      <td>66000.0</td>\n      <td>43000.0</td>\n      <td>53000.0</td>\n      <td>54000.0</td>\n      <td>68000.0</td>\n      <td>58000.0</td>\n    </tr>\n    <tr>\n      <th>3</th>\n      <td>E09000004</td>\n      <td>Bexley</td>\n      <td>8000.0</td>\n      <td>7000.0</td>\n      <td>10000.0</td>\n      <td>14000.0</td>\n      <td>18000.0</td>\n      <td>16000.0</td>\n    </tr>\n    <tr>\n      <th>4</th>\n      <td>E09000005</td>\n      <td>Brent</td>\n      <td>109000.0</td>\n      <td>111000.0</td>\n      <td>100000.0</td>\n      <td>109000.0</td>\n      <td>106000.0</td>\n      <td>103000.0</td>\n    </tr>\n  </tbody>\n</table>\n</div>", 
                        "text/plain": "   Area Code               Borough  Year-2012  Year-2013  Year-2014  \\\n0  E09000001        City of London        NaN        NaN        NaN   \n1  E09000002  Barking and Dagenham    27000.0    32000.0    33000.0   \n2  E09000003                Barnet    66000.0    43000.0    53000.0   \n3  E09000004                Bexley     8000.0     7000.0    10000.0   \n4  E09000005                 Brent   109000.0   111000.0   100000.0   \n\n   Year-2015  Year-2016  Year-2017  \n0        NaN        NaN        NaN  \n1    40000.0    40000.0    48000.0  \n2    54000.0    68000.0    58000.0  \n3    14000.0    18000.0    16000.0  \n4   109000.0   106000.0   103000.0  "
                    }, 
                    "output_type": "execute_result"
                }
            ], 
            "source": "df_popu.head()"
        }, 
        {
            "source": "#### Note: The data for the borough City of London is NOT AVAILABLE, so I will drop that row from my dataframe", 
            "cell_type": "markdown", 
            "metadata": {}
        }, 
        {
            "execution_count": 119, 
            "cell_type": "code", 
            "metadata": {}, 
            "outputs": [], 
            "source": "df_popu = df_popu.dropna(how='any')"
        }, 
        {
            "execution_count": 120, 
            "cell_type": "code", 
            "metadata": {}, 
            "outputs": [
                {
                    "execution_count": 120, 
                    "metadata": {}, 
                    "data": {
                        "text/html": "<div>\n<style scoped>\n    .dataframe tbody tr th:only-of-type {\n        vertical-align: middle;\n    }\n\n    .dataframe tbody tr th {\n        vertical-align: top;\n    }\n\n    .dataframe thead th {\n        text-align: right;\n    }\n</style>\n<table border=\"1\" class=\"dataframe\">\n  <thead>\n    <tr style=\"text-align: right;\">\n      <th></th>\n      <th>Area Code</th>\n      <th>Borough</th>\n      <th>Year-2012</th>\n      <th>Year-2013</th>\n      <th>Year-2014</th>\n      <th>Year-2015</th>\n      <th>Year-2016</th>\n      <th>Year-2017</th>\n    </tr>\n  </thead>\n  <tbody>\n    <tr>\n      <th>1</th>\n      <td>E09000002</td>\n      <td>Barking and Dagenham</td>\n      <td>27000.0</td>\n      <td>32000.0</td>\n      <td>33000.0</td>\n      <td>40000.0</td>\n      <td>40000.0</td>\n      <td>48000.0</td>\n    </tr>\n    <tr>\n      <th>2</th>\n      <td>E09000003</td>\n      <td>Barnet</td>\n      <td>66000.0</td>\n      <td>43000.0</td>\n      <td>53000.0</td>\n      <td>54000.0</td>\n      <td>68000.0</td>\n      <td>58000.0</td>\n    </tr>\n    <tr>\n      <th>3</th>\n      <td>E09000004</td>\n      <td>Bexley</td>\n      <td>8000.0</td>\n      <td>7000.0</td>\n      <td>10000.0</td>\n      <td>14000.0</td>\n      <td>18000.0</td>\n      <td>16000.0</td>\n    </tr>\n    <tr>\n      <th>4</th>\n      <td>E09000005</td>\n      <td>Brent</td>\n      <td>109000.0</td>\n      <td>111000.0</td>\n      <td>100000.0</td>\n      <td>109000.0</td>\n      <td>106000.0</td>\n      <td>103000.0</td>\n    </tr>\n    <tr>\n      <th>5</th>\n      <td>E09000006</td>\n      <td>Bromley</td>\n      <td>19000.0</td>\n      <td>20000.0</td>\n      <td>20000.0</td>\n      <td>16000.0</td>\n      <td>17000.0</td>\n      <td>26000.0</td>\n    </tr>\n  </tbody>\n</table>\n</div>", 
                        "text/plain": "   Area Code               Borough  Year-2012  Year-2013  Year-2014  \\\n1  E09000002  Barking and Dagenham    27000.0    32000.0    33000.0   \n2  E09000003                Barnet    66000.0    43000.0    53000.0   \n3  E09000004                Bexley     8000.0     7000.0    10000.0   \n4  E09000005                 Brent   109000.0   111000.0   100000.0   \n5  E09000006               Bromley    19000.0    20000.0    20000.0   \n\n   Year-2015  Year-2016  Year-2017  \n1    40000.0    40000.0    48000.0  \n2    54000.0    68000.0    58000.0  \n3    14000.0    18000.0    16000.0  \n4   109000.0   106000.0   103000.0  \n5    16000.0    17000.0    26000.0  "
                    }, 
                    "output_type": "execute_result"
                }
            ], 
            "source": "df_popu.head()"
        }, 
        {
            "source": "#### Setting the Area Code as Index.", 
            "cell_type": "markdown", 
            "metadata": {}
        }, 
        {
            "execution_count": 121, 
            "cell_type": "code", 
            "metadata": {}, 
            "outputs": [
                {
                    "execution_count": 121, 
                    "metadata": {}, 
                    "data": {
                        "text/html": "<div>\n<style scoped>\n    .dataframe tbody tr th:only-of-type {\n        vertical-align: middle;\n    }\n\n    .dataframe tbody tr th {\n        vertical-align: top;\n    }\n\n    .dataframe thead th {\n        text-align: right;\n    }\n</style>\n<table border=\"1\" class=\"dataframe\">\n  <thead>\n    <tr style=\"text-align: right;\">\n      <th></th>\n      <th>Borough</th>\n      <th>Year-2012</th>\n      <th>Year-2013</th>\n      <th>Year-2014</th>\n      <th>Year-2015</th>\n      <th>Year-2016</th>\n      <th>Year-2017</th>\n    </tr>\n    <tr>\n      <th>Area Code</th>\n      <th></th>\n      <th></th>\n      <th></th>\n      <th></th>\n      <th></th>\n      <th></th>\n      <th></th>\n    </tr>\n  </thead>\n  <tbody>\n    <tr>\n      <th>E09000002</th>\n      <td>Barking and Dagenham</td>\n      <td>27000.0</td>\n      <td>32000.0</td>\n      <td>33000.0</td>\n      <td>40000.0</td>\n      <td>40000.0</td>\n      <td>48000.0</td>\n    </tr>\n    <tr>\n      <th>E09000003</th>\n      <td>Barnet</td>\n      <td>66000.0</td>\n      <td>43000.0</td>\n      <td>53000.0</td>\n      <td>54000.0</td>\n      <td>68000.0</td>\n      <td>58000.0</td>\n    </tr>\n    <tr>\n      <th>E09000004</th>\n      <td>Bexley</td>\n      <td>8000.0</td>\n      <td>7000.0</td>\n      <td>10000.0</td>\n      <td>14000.0</td>\n      <td>18000.0</td>\n      <td>16000.0</td>\n    </tr>\n    <tr>\n      <th>E09000005</th>\n      <td>Brent</td>\n      <td>109000.0</td>\n      <td>111000.0</td>\n      <td>100000.0</td>\n      <td>109000.0</td>\n      <td>106000.0</td>\n      <td>103000.0</td>\n    </tr>\n    <tr>\n      <th>E09000006</th>\n      <td>Bromley</td>\n      <td>19000.0</td>\n      <td>20000.0</td>\n      <td>20000.0</td>\n      <td>16000.0</td>\n      <td>17000.0</td>\n      <td>26000.0</td>\n    </tr>\n  </tbody>\n</table>\n</div>", 
                        "text/plain": "                        Borough  Year-2012  Year-2013  Year-2014  Year-2015  \\\nArea Code                                                                     \nE09000002  Barking and Dagenham    27000.0    32000.0    33000.0    40000.0   \nE09000003                Barnet    66000.0    43000.0    53000.0    54000.0   \nE09000004                Bexley     8000.0     7000.0    10000.0    14000.0   \nE09000005                 Brent   109000.0   111000.0   100000.0   109000.0   \nE09000006               Bromley    19000.0    20000.0    20000.0    16000.0   \n\n           Year-2016  Year-2017  \nArea Code                        \nE09000002    40000.0    48000.0  \nE09000003    68000.0    58000.0  \nE09000004    18000.0    16000.0  \nE09000005   106000.0   103000.0  \nE09000006    17000.0    26000.0  "
                    }, 
                    "output_type": "execute_result"
                }
            ], 
            "source": "df_popu = df_popu.set_index(['Area Code'])\ndf_popu.head()"
        }, 
        {
            "source": "#### I have the population data of 6 years from 2012 to 2017, So to get the Current population of the Asians living in London , I will take the average of the existing population.", 
            "cell_type": "markdown", 
            "metadata": {}
        }, 
        {
            "execution_count": 122, 
            "cell_type": "code", 
            "metadata": {}, 
            "outputs": [], 
            "source": "df_popu['Population'] = df_popu.mean(numeric_only=True, axis=1)"
        }, 
        {
            "execution_count": 123, 
            "cell_type": "code", 
            "metadata": {}, 
            "outputs": [
                {
                    "execution_count": 123, 
                    "metadata": {}, 
                    "data": {
                        "text/html": "<div>\n<style scoped>\n    .dataframe tbody tr th:only-of-type {\n        vertical-align: middle;\n    }\n\n    .dataframe tbody tr th {\n        vertical-align: top;\n    }\n\n    .dataframe thead th {\n        text-align: right;\n    }\n</style>\n<table border=\"1\" class=\"dataframe\">\n  <thead>\n    <tr style=\"text-align: right;\">\n      <th></th>\n      <th>Borough</th>\n      <th>Year-2012</th>\n      <th>Year-2013</th>\n      <th>Year-2014</th>\n      <th>Year-2015</th>\n      <th>Year-2016</th>\n      <th>Year-2017</th>\n      <th>Population</th>\n    </tr>\n    <tr>\n      <th>Area Code</th>\n      <th></th>\n      <th></th>\n      <th></th>\n      <th></th>\n      <th></th>\n      <th></th>\n      <th></th>\n      <th></th>\n    </tr>\n  </thead>\n  <tbody>\n    <tr>\n      <th>E09000002</th>\n      <td>Barking and Dagenham</td>\n      <td>27000.0</td>\n      <td>32000.0</td>\n      <td>33000.0</td>\n      <td>40000.0</td>\n      <td>40000.0</td>\n      <td>48000.0</td>\n      <td>36666.666667</td>\n    </tr>\n    <tr>\n      <th>E09000003</th>\n      <td>Barnet</td>\n      <td>66000.0</td>\n      <td>43000.0</td>\n      <td>53000.0</td>\n      <td>54000.0</td>\n      <td>68000.0</td>\n      <td>58000.0</td>\n      <td>57000.000000</td>\n    </tr>\n    <tr>\n      <th>E09000004</th>\n      <td>Bexley</td>\n      <td>8000.0</td>\n      <td>7000.0</td>\n      <td>10000.0</td>\n      <td>14000.0</td>\n      <td>18000.0</td>\n      <td>16000.0</td>\n      <td>12166.666667</td>\n    </tr>\n    <tr>\n      <th>E09000005</th>\n      <td>Brent</td>\n      <td>109000.0</td>\n      <td>111000.0</td>\n      <td>100000.0</td>\n      <td>109000.0</td>\n      <td>106000.0</td>\n      <td>103000.0</td>\n      <td>106333.333333</td>\n    </tr>\n    <tr>\n      <th>E09000006</th>\n      <td>Bromley</td>\n      <td>19000.0</td>\n      <td>20000.0</td>\n      <td>20000.0</td>\n      <td>16000.0</td>\n      <td>17000.0</td>\n      <td>26000.0</td>\n      <td>19666.666667</td>\n    </tr>\n  </tbody>\n</table>\n</div>", 
                        "text/plain": "                        Borough  Year-2012  Year-2013  Year-2014  Year-2015  \\\nArea Code                                                                     \nE09000002  Barking and Dagenham    27000.0    32000.0    33000.0    40000.0   \nE09000003                Barnet    66000.0    43000.0    53000.0    54000.0   \nE09000004                Bexley     8000.0     7000.0    10000.0    14000.0   \nE09000005                 Brent   109000.0   111000.0   100000.0   109000.0   \nE09000006               Bromley    19000.0    20000.0    20000.0    16000.0   \n\n           Year-2016  Year-2017     Population  \nArea Code                                       \nE09000002    40000.0    48000.0   36666.666667  \nE09000003    68000.0    58000.0   57000.000000  \nE09000004    18000.0    16000.0   12166.666667  \nE09000005   106000.0   103000.0  106333.333333  \nE09000006    17000.0    26000.0   19666.666667  "
                    }, 
                    "output_type": "execute_result"
                }
            ], 
            "source": "df_popu.head()"
        }, 
        {
            "source": "#### Rounding off the values in Population column.", 
            "cell_type": "markdown", 
            "metadata": {}
        }, 
        {
            "execution_count": 124, 
            "cell_type": "code", 
            "metadata": {}, 
            "outputs": [], 
            "source": "df_popu.Population = df_popu.Population.round()"
        }, 
        {
            "execution_count": 125, 
            "cell_type": "code", 
            "metadata": {}, 
            "outputs": [
                {
                    "execution_count": 125, 
                    "metadata": {}, 
                    "data": {
                        "text/html": "<div>\n<style scoped>\n    .dataframe tbody tr th:only-of-type {\n        vertical-align: middle;\n    }\n\n    .dataframe tbody tr th {\n        vertical-align: top;\n    }\n\n    .dataframe thead th {\n        text-align: right;\n    }\n</style>\n<table border=\"1\" class=\"dataframe\">\n  <thead>\n    <tr style=\"text-align: right;\">\n      <th></th>\n      <th>Borough</th>\n      <th>Year-2012</th>\n      <th>Year-2013</th>\n      <th>Year-2014</th>\n      <th>Year-2015</th>\n      <th>Year-2016</th>\n      <th>Year-2017</th>\n      <th>Population</th>\n    </tr>\n    <tr>\n      <th>Area Code</th>\n      <th></th>\n      <th></th>\n      <th></th>\n      <th></th>\n      <th></th>\n      <th></th>\n      <th></th>\n      <th></th>\n    </tr>\n  </thead>\n  <tbody>\n    <tr>\n      <th>E09000002</th>\n      <td>Barking and Dagenham</td>\n      <td>27000.0</td>\n      <td>32000.0</td>\n      <td>33000.0</td>\n      <td>40000.0</td>\n      <td>40000.0</td>\n      <td>48000.0</td>\n      <td>36667.0</td>\n    </tr>\n    <tr>\n      <th>E09000003</th>\n      <td>Barnet</td>\n      <td>66000.0</td>\n      <td>43000.0</td>\n      <td>53000.0</td>\n      <td>54000.0</td>\n      <td>68000.0</td>\n      <td>58000.0</td>\n      <td>57000.0</td>\n    </tr>\n    <tr>\n      <th>E09000004</th>\n      <td>Bexley</td>\n      <td>8000.0</td>\n      <td>7000.0</td>\n      <td>10000.0</td>\n      <td>14000.0</td>\n      <td>18000.0</td>\n      <td>16000.0</td>\n      <td>12167.0</td>\n    </tr>\n    <tr>\n      <th>E09000005</th>\n      <td>Brent</td>\n      <td>109000.0</td>\n      <td>111000.0</td>\n      <td>100000.0</td>\n      <td>109000.0</td>\n      <td>106000.0</td>\n      <td>103000.0</td>\n      <td>106333.0</td>\n    </tr>\n    <tr>\n      <th>E09000006</th>\n      <td>Bromley</td>\n      <td>19000.0</td>\n      <td>20000.0</td>\n      <td>20000.0</td>\n      <td>16000.0</td>\n      <td>17000.0</td>\n      <td>26000.0</td>\n      <td>19667.0</td>\n    </tr>\n  </tbody>\n</table>\n</div>", 
                        "text/plain": "                        Borough  Year-2012  Year-2013  Year-2014  Year-2015  \\\nArea Code                                                                     \nE09000002  Barking and Dagenham    27000.0    32000.0    33000.0    40000.0   \nE09000003                Barnet    66000.0    43000.0    53000.0    54000.0   \nE09000004                Bexley     8000.0     7000.0    10000.0    14000.0   \nE09000005                 Brent   109000.0   111000.0   100000.0   109000.0   \nE09000006               Bromley    19000.0    20000.0    20000.0    16000.0   \n\n           Year-2016  Year-2017  Population  \nArea Code                                    \nE09000002    40000.0    48000.0     36667.0  \nE09000003    68000.0    58000.0     57000.0  \nE09000004    18000.0    16000.0     12167.0  \nE09000005   106000.0   103000.0    106333.0  \nE09000006    17000.0    26000.0     19667.0  "
                    }, 
                    "output_type": "execute_result"
                }
            ], 
            "source": "df_popu.head()"
        }, 
        {
            "source": "#### Finding the Borough, that has highest population ", 
            "cell_type": "markdown", 
            "metadata": {}
        }, 
        {
            "execution_count": 126, 
            "cell_type": "code", 
            "metadata": {}, 
            "outputs": [
                {
                    "execution_count": 126, 
                    "metadata": {}, 
                    "data": {
                        "text/plain": "Borough       Newham\nYear-2012     143000\nYear-2013     146000\nYear-2014     143000\nYear-2015     125000\nYear-2016     142000\nYear-2017     143000\nPopulation    140333\nName: E09000025, dtype: object"
                    }, 
                    "output_type": "execute_result"
                }
            ], 
            "source": "df_popu.loc[df_popu['Population'].idxmax()]"
        }, 
        {
            "source": "### As the Newham borough is having highest asian population, we will consider this borough as our preferred location for our asian restuarant.", 
            "cell_type": "markdown", 
            "metadata": {}
        }, 
        {
            "source": "#### Read the data of Newham borough as a separate DataFrame", 
            "cell_type": "markdown", 
            "metadata": {}
        }, 
        {
            "execution_count": 127, 
            "cell_type": "code", 
            "metadata": {}, 
            "outputs": [], 
            "source": "df_Newham_asians = df_popu.loc[df_popu['Borough'] == 'Newham']"
        }, 
        {
            "execution_count": 128, 
            "cell_type": "code", 
            "metadata": {}, 
            "outputs": [
                {
                    "execution_count": 128, 
                    "metadata": {}, 
                    "data": {
                        "text/html": "<div>\n<style scoped>\n    .dataframe tbody tr th:only-of-type {\n        vertical-align: middle;\n    }\n\n    .dataframe tbody tr th {\n        vertical-align: top;\n    }\n\n    .dataframe thead th {\n        text-align: right;\n    }\n</style>\n<table border=\"1\" class=\"dataframe\">\n  <thead>\n    <tr style=\"text-align: right;\">\n      <th></th>\n      <th>Borough</th>\n      <th>Year-2012</th>\n      <th>Year-2013</th>\n      <th>Year-2014</th>\n      <th>Year-2015</th>\n      <th>Year-2016</th>\n      <th>Year-2017</th>\n      <th>Population</th>\n    </tr>\n    <tr>\n      <th>Area Code</th>\n      <th></th>\n      <th></th>\n      <th></th>\n      <th></th>\n      <th></th>\n      <th></th>\n      <th></th>\n      <th></th>\n    </tr>\n  </thead>\n  <tbody>\n    <tr>\n      <th>E09000025</th>\n      <td>Newham</td>\n      <td>143000.0</td>\n      <td>146000.0</td>\n      <td>143000.0</td>\n      <td>125000.0</td>\n      <td>142000.0</td>\n      <td>143000.0</td>\n      <td>140333.0</td>\n    </tr>\n  </tbody>\n</table>\n</div>", 
                        "text/plain": "          Borough  Year-2012  Year-2013  Year-2014  Year-2015  Year-2016  \\\nArea Code                                                                  \nE09000025  Newham   143000.0   146000.0   143000.0   125000.0   142000.0   \n\n           Year-2017  Population  \nArea Code                         \nE09000025   143000.0    140333.0  "
                    }, 
                    "output_type": "execute_result"
                }
            ], 
            "source": "df_Newham_asians"
        }, 
        {
            "source": "### 2) Read the \"Weekly Earnings data of the asian Ethnicity in each borough\" into a DataFrame ", 
            "cell_type": "markdown", 
            "metadata": {}
        }, 
        {
            "execution_count": 129, 
            "cell_type": "code", 
            "metadata": {}, 
            "outputs": [], 
            "source": "# Your data file was loaded into a botocore.response.StreamingBody object.\n# Please read the documentation of ibm_boto3 and pandas to learn more about your possibilities to load the data.\n# ibm_boto3 documentation: https://ibm.github.io/ibm-cos-sdk-python/\n# pandas documentation: http://pandas.pydata.org/\nstreaming_body_3 = client_b7d20049bd8143c2944110c6dbbf6031.get_object(Bucket='battleofneighborhoods-donotdelete-pr-iawjsijjjrsgkl', Key='Z03-Earnings-by-borough.xls')['Body']\n# add missing __iter__ method so pandas accepts body as file-like object\nif not hasattr(streaming_body_3, \"__iter__\"): streaming_body_3.__iter__ = types.MethodType( __iter__, streaming_body_3 ) \n\n"
        }, 
        {
            "execution_count": 130, 
            "cell_type": "code", 
            "metadata": {}, 
            "outputs": [], 
            "source": "df_earnings = pd.read_excel(streaming_body_3)"
        }, 
        {
            "execution_count": 131, 
            "cell_type": "code", 
            "metadata": {}, 
            "outputs": [
                {
                    "execution_count": 131, 
                    "metadata": {}, 
                    "data": {
                        "text/plain": "(33, 13)"
                    }, 
                    "output_type": "execute_result"
                }
            ], 
            "source": "df_earnings.shape"
        }, 
        {
            "execution_count": 132, 
            "cell_type": "code", 
            "metadata": {}, 
            "outputs": [
                {
                    "execution_count": 132, 
                    "metadata": {}, 
                    "data": {
                        "text/html": "<div>\n<style scoped>\n    .dataframe tbody tr th:only-of-type {\n        vertical-align: middle;\n    }\n\n    .dataframe tbody tr th {\n        vertical-align: top;\n    }\n\n    .dataframe thead th {\n        text-align: right;\n    }\n</style>\n<table border=\"1\" class=\"dataframe\">\n  <thead>\n    <tr style=\"text-align: right;\">\n      <th></th>\n      <th>Area Code</th>\n      <th>Borough</th>\n      <th>Year_2008</th>\n      <th>Year_2009</th>\n      <th>Year_2010</th>\n      <th>Year_2011</th>\n      <th>Year_2012</th>\n      <th>Year_2013</th>\n      <th>Year_2014</th>\n      <th>Year_2015</th>\n      <th>Year_2016</th>\n      <th>Year_2017</th>\n      <th>Year_2018</th>\n    </tr>\n  </thead>\n  <tbody>\n    <tr>\n      <th>0</th>\n      <td>E09000001</td>\n      <td>City of London</td>\n      <td>NaN</td>\n      <td>762.4</td>\n      <td>NaN</td>\n      <td>NaN</td>\n      <td>NaN</td>\n      <td>NaN</td>\n      <td>NaN</td>\n      <td>NaN</td>\n      <td>NaN</td>\n      <td>NaN</td>\n      <td>901.6</td>\n    </tr>\n    <tr>\n      <th>1</th>\n      <td>E09000002</td>\n      <td>Barking and Dagenham</td>\n      <td>449.9</td>\n      <td>448.8</td>\n      <td>429.3</td>\n      <td>452.1</td>\n      <td>450.0</td>\n      <td>441.2</td>\n      <td>422.5</td>\n      <td>436.6</td>\n      <td>462.2</td>\n      <td>461.0</td>\n      <td>479.1</td>\n    </tr>\n    <tr>\n      <th>2</th>\n      <td>E09000003</td>\n      <td>Barnet</td>\n      <td>502.2</td>\n      <td>528.1</td>\n      <td>501.6</td>\n      <td>498.3</td>\n      <td>503.1</td>\n      <td>517.5</td>\n      <td>479.1</td>\n      <td>491.0</td>\n      <td>485.6</td>\n      <td>522.6</td>\n      <td>536.6</td>\n    </tr>\n    <tr>\n      <th>3</th>\n      <td>E09000004</td>\n      <td>Bexley</td>\n      <td>483.9</td>\n      <td>486.3</td>\n      <td>518.1</td>\n      <td>505.1</td>\n      <td>509.1</td>\n      <td>497.9</td>\n      <td>512.6</td>\n      <td>491.1</td>\n      <td>487.0</td>\n      <td>513.0</td>\n      <td>513.8</td>\n    </tr>\n    <tr>\n      <th>4</th>\n      <td>E09000005</td>\n      <td>Brent</td>\n      <td>437.0</td>\n      <td>439.1</td>\n      <td>423.1</td>\n      <td>414.9</td>\n      <td>442.0</td>\n      <td>441.8</td>\n      <td>441.8</td>\n      <td>457.6</td>\n      <td>467.0</td>\n      <td>471.0</td>\n      <td>480.0</td>\n    </tr>\n  </tbody>\n</table>\n</div>", 
                        "text/plain": "   Area Code               Borough  Year_2008  Year_2009  Year_2010  \\\n0  E09000001        City of London        NaN      762.4        NaN   \n1  E09000002  Barking and Dagenham      449.9      448.8      429.3   \n2  E09000003                Barnet      502.2      528.1      501.6   \n3  E09000004                Bexley      483.9      486.3      518.1   \n4  E09000005                 Brent      437.0      439.1      423.1   \n\n   Year_2011  Year_2012  Year_2013  Year_2014  Year_2015  Year_2016  \\\n0        NaN        NaN        NaN        NaN        NaN        NaN   \n1      452.1      450.0      441.2      422.5      436.6      462.2   \n2      498.3      503.1      517.5      479.1      491.0      485.6   \n3      505.1      509.1      497.9      512.6      491.1      487.0   \n4      414.9      442.0      441.8      441.8      457.6      467.0   \n\n   Year_2017  Year_2018  \n0        NaN      901.6  \n1      461.0      479.1  \n2      522.6      536.6  \n3      513.0      513.8  \n4      471.0      480.0  "
                    }, 
                    "output_type": "execute_result"
                }
            ], 
            "source": "df_earnings.head()"
        }, 
        {
            "source": "#### Drop the row for Borough City of London, as there is no data for most of the years", 
            "cell_type": "markdown", 
            "metadata": {}
        }, 
        {
            "execution_count": 133, 
            "cell_type": "code", 
            "metadata": {}, 
            "outputs": [], 
            "source": "df_earnings = df_earnings.dropna(how='any')"
        }, 
        {
            "execution_count": 134, 
            "cell_type": "code", 
            "metadata": {}, 
            "outputs": [
                {
                    "execution_count": 134, 
                    "metadata": {}, 
                    "data": {
                        "text/plain": "(32, 13)"
                    }, 
                    "output_type": "execute_result"
                }
            ], 
            "source": "df_earnings.shape"
        }, 
        {
            "execution_count": 135, 
            "cell_type": "code", 
            "metadata": {}, 
            "outputs": [
                {
                    "execution_count": 135, 
                    "metadata": {}, 
                    "data": {
                        "text/html": "<div>\n<style scoped>\n    .dataframe tbody tr th:only-of-type {\n        vertical-align: middle;\n    }\n\n    .dataframe tbody tr th {\n        vertical-align: top;\n    }\n\n    .dataframe thead th {\n        text-align: right;\n    }\n</style>\n<table border=\"1\" class=\"dataframe\">\n  <thead>\n    <tr style=\"text-align: right;\">\n      <th></th>\n      <th>Area Code</th>\n      <th>Borough</th>\n      <th>Year_2008</th>\n      <th>Year_2009</th>\n      <th>Year_2010</th>\n      <th>Year_2011</th>\n      <th>Year_2012</th>\n      <th>Year_2013</th>\n      <th>Year_2014</th>\n      <th>Year_2015</th>\n      <th>Year_2016</th>\n      <th>Year_2017</th>\n      <th>Year_2018</th>\n    </tr>\n  </thead>\n  <tbody>\n    <tr>\n      <th>1</th>\n      <td>E09000002</td>\n      <td>Barking and Dagenham</td>\n      <td>449.9</td>\n      <td>448.8</td>\n      <td>429.3</td>\n      <td>452.1</td>\n      <td>450.0</td>\n      <td>441.2</td>\n      <td>422.5</td>\n      <td>436.6</td>\n      <td>462.2</td>\n      <td>461.0</td>\n      <td>479.1</td>\n    </tr>\n    <tr>\n      <th>2</th>\n      <td>E09000003</td>\n      <td>Barnet</td>\n      <td>502.2</td>\n      <td>528.1</td>\n      <td>501.6</td>\n      <td>498.3</td>\n      <td>503.1</td>\n      <td>517.5</td>\n      <td>479.1</td>\n      <td>491.0</td>\n      <td>485.6</td>\n      <td>522.6</td>\n      <td>536.6</td>\n    </tr>\n    <tr>\n      <th>3</th>\n      <td>E09000004</td>\n      <td>Bexley</td>\n      <td>483.9</td>\n      <td>486.3</td>\n      <td>518.1</td>\n      <td>505.1</td>\n      <td>509.1</td>\n      <td>497.9</td>\n      <td>512.6</td>\n      <td>491.1</td>\n      <td>487.0</td>\n      <td>513.0</td>\n      <td>513.8</td>\n    </tr>\n    <tr>\n      <th>4</th>\n      <td>E09000005</td>\n      <td>Brent</td>\n      <td>437.0</td>\n      <td>439.1</td>\n      <td>423.1</td>\n      <td>414.9</td>\n      <td>442.0</td>\n      <td>441.8</td>\n      <td>441.8</td>\n      <td>457.6</td>\n      <td>467.0</td>\n      <td>471.0</td>\n      <td>480.0</td>\n    </tr>\n    <tr>\n      <th>5</th>\n      <td>E09000006</td>\n      <td>Bromley</td>\n      <td>546.0</td>\n      <td>545.6</td>\n      <td>527.2</td>\n      <td>551.7</td>\n      <td>566.6</td>\n      <td>581.1</td>\n      <td>578.5</td>\n      <td>583.8</td>\n      <td>584.3</td>\n      <td>608.0</td>\n      <td>632.5</td>\n    </tr>\n  </tbody>\n</table>\n</div>", 
                        "text/plain": "   Area Code               Borough  Year_2008  Year_2009  Year_2010  \\\n1  E09000002  Barking and Dagenham      449.9      448.8      429.3   \n2  E09000003                Barnet      502.2      528.1      501.6   \n3  E09000004                Bexley      483.9      486.3      518.1   \n4  E09000005                 Brent      437.0      439.1      423.1   \n5  E09000006               Bromley      546.0      545.6      527.2   \n\n   Year_2011  Year_2012  Year_2013  Year_2014  Year_2015  Year_2016  \\\n1      452.1      450.0      441.2      422.5      436.6      462.2   \n2      498.3      503.1      517.5      479.1      491.0      485.6   \n3      505.1      509.1      497.9      512.6      491.1      487.0   \n4      414.9      442.0      441.8      441.8      457.6      467.0   \n5      551.7      566.6      581.1      578.5      583.8      584.3   \n\n   Year_2017  Year_2018  \n1      461.0      479.1  \n2      522.6      536.6  \n3      513.0      513.8  \n4      471.0      480.0  \n5      608.0      632.5  "
                    }, 
                    "output_type": "execute_result"
                }
            ], 
            "source": "df_earnings.head()"
        }, 
        {
            "source": "#### Setting the Area Code as Index ", 
            "cell_type": "markdown", 
            "metadata": {}
        }, 
        {
            "execution_count": 136, 
            "cell_type": "code", 
            "metadata": {}, 
            "outputs": [], 
            "source": "df_earnings = df_earnings.set_index(['Area Code'])"
        }, 
        {
            "execution_count": 137, 
            "cell_type": "code", 
            "metadata": {
                "scrolled": true
            }, 
            "outputs": [
                {
                    "execution_count": 137, 
                    "metadata": {}, 
                    "data": {
                        "text/html": "<div>\n<style scoped>\n    .dataframe tbody tr th:only-of-type {\n        vertical-align: middle;\n    }\n\n    .dataframe tbody tr th {\n        vertical-align: top;\n    }\n\n    .dataframe thead th {\n        text-align: right;\n    }\n</style>\n<table border=\"1\" class=\"dataframe\">\n  <thead>\n    <tr style=\"text-align: right;\">\n      <th></th>\n      <th>Borough</th>\n      <th>Year_2008</th>\n      <th>Year_2009</th>\n      <th>Year_2010</th>\n      <th>Year_2011</th>\n      <th>Year_2012</th>\n      <th>Year_2013</th>\n      <th>Year_2014</th>\n      <th>Year_2015</th>\n      <th>Year_2016</th>\n      <th>Year_2017</th>\n      <th>Year_2018</th>\n    </tr>\n    <tr>\n      <th>Area Code</th>\n      <th></th>\n      <th></th>\n      <th></th>\n      <th></th>\n      <th></th>\n      <th></th>\n      <th></th>\n      <th></th>\n      <th></th>\n      <th></th>\n      <th></th>\n      <th></th>\n    </tr>\n  </thead>\n  <tbody>\n    <tr>\n      <th>E09000002</th>\n      <td>Barking and Dagenham</td>\n      <td>449.9</td>\n      <td>448.8</td>\n      <td>429.3</td>\n      <td>452.1</td>\n      <td>450.0</td>\n      <td>441.2</td>\n      <td>422.5</td>\n      <td>436.6</td>\n      <td>462.2</td>\n      <td>461.0</td>\n      <td>479.1</td>\n    </tr>\n    <tr>\n      <th>E09000003</th>\n      <td>Barnet</td>\n      <td>502.2</td>\n      <td>528.1</td>\n      <td>501.6</td>\n      <td>498.3</td>\n      <td>503.1</td>\n      <td>517.5</td>\n      <td>479.1</td>\n      <td>491.0</td>\n      <td>485.6</td>\n      <td>522.6</td>\n      <td>536.6</td>\n    </tr>\n    <tr>\n      <th>E09000004</th>\n      <td>Bexley</td>\n      <td>483.9</td>\n      <td>486.3</td>\n      <td>518.1</td>\n      <td>505.1</td>\n      <td>509.1</td>\n      <td>497.9</td>\n      <td>512.6</td>\n      <td>491.1</td>\n      <td>487.0</td>\n      <td>513.0</td>\n      <td>513.8</td>\n    </tr>\n    <tr>\n      <th>E09000005</th>\n      <td>Brent</td>\n      <td>437.0</td>\n      <td>439.1</td>\n      <td>423.1</td>\n      <td>414.9</td>\n      <td>442.0</td>\n      <td>441.8</td>\n      <td>441.8</td>\n      <td>457.6</td>\n      <td>467.0</td>\n      <td>471.0</td>\n      <td>480.0</td>\n    </tr>\n    <tr>\n      <th>E09000006</th>\n      <td>Bromley</td>\n      <td>546.0</td>\n      <td>545.6</td>\n      <td>527.2</td>\n      <td>551.7</td>\n      <td>566.6</td>\n      <td>581.1</td>\n      <td>578.5</td>\n      <td>583.8</td>\n      <td>584.3</td>\n      <td>608.0</td>\n      <td>632.5</td>\n    </tr>\n  </tbody>\n</table>\n</div>", 
                        "text/plain": "                        Borough  Year_2008  Year_2009  Year_2010  Year_2011  \\\nArea Code                                                                     \nE09000002  Barking and Dagenham      449.9      448.8      429.3      452.1   \nE09000003                Barnet      502.2      528.1      501.6      498.3   \nE09000004                Bexley      483.9      486.3      518.1      505.1   \nE09000005                 Brent      437.0      439.1      423.1      414.9   \nE09000006               Bromley      546.0      545.6      527.2      551.7   \n\n           Year_2012  Year_2013  Year_2014  Year_2015  Year_2016  Year_2017  \\\nArea Code                                                                     \nE09000002      450.0      441.2      422.5      436.6      462.2      461.0   \nE09000003      503.1      517.5      479.1      491.0      485.6      522.6   \nE09000004      509.1      497.9      512.6      491.1      487.0      513.0   \nE09000005      442.0      441.8      441.8      457.6      467.0      471.0   \nE09000006      566.6      581.1      578.5      583.8      584.3      608.0   \n\n           Year_2018  \nArea Code             \nE09000002      479.1  \nE09000003      536.6  \nE09000004      513.8  \nE09000005      480.0  \nE09000006      632.5  "
                    }, 
                    "output_type": "execute_result"
                }
            ], 
            "source": "df_earnings.head()"
        }, 
        {
            "source": "### As the Newham borough has highest asian population, we will consider the earnings data of only this borough.", 
            "cell_type": "markdown", 
            "metadata": {}
        }, 
        {
            "source": "#### Read the Earnings data for Newham borough", 
            "cell_type": "markdown", 
            "metadata": {}
        }, 
        {
            "execution_count": 138, 
            "cell_type": "code", 
            "metadata": {}, 
            "outputs": [], 
            "source": "df_Newham_earnings = df_earnings.loc[df_earnings['Borough'] == 'Newham']"
        }, 
        {
            "execution_count": 139, 
            "cell_type": "code", 
            "metadata": {}, 
            "outputs": [
                {
                    "execution_count": 139, 
                    "metadata": {}, 
                    "data": {
                        "text/html": "<div>\n<style scoped>\n    .dataframe tbody tr th:only-of-type {\n        vertical-align: middle;\n    }\n\n    .dataframe tbody tr th {\n        vertical-align: top;\n    }\n\n    .dataframe thead th {\n        text-align: right;\n    }\n</style>\n<table border=\"1\" class=\"dataframe\">\n  <thead>\n    <tr style=\"text-align: right;\">\n      <th></th>\n      <th>Borough</th>\n      <th>Year_2008</th>\n      <th>Year_2009</th>\n      <th>Year_2010</th>\n      <th>Year_2011</th>\n      <th>Year_2012</th>\n      <th>Year_2013</th>\n      <th>Year_2014</th>\n      <th>Year_2015</th>\n      <th>Year_2016</th>\n      <th>Year_2017</th>\n      <th>Year_2018</th>\n    </tr>\n    <tr>\n      <th>Area Code</th>\n      <th></th>\n      <th></th>\n      <th></th>\n      <th></th>\n      <th></th>\n      <th></th>\n      <th></th>\n      <th></th>\n      <th></th>\n      <th></th>\n      <th></th>\n      <th></th>\n    </tr>\n  </thead>\n  <tbody>\n    <tr>\n      <th>E09000025</th>\n      <td>Newham</td>\n      <td>403.0</td>\n      <td>421.6</td>\n      <td>422.4</td>\n      <td>382.5</td>\n      <td>369.8</td>\n      <td>387.6</td>\n      <td>393.7</td>\n      <td>421.6</td>\n      <td>436.7</td>\n      <td>471.3</td>\n      <td>479.1</td>\n    </tr>\n  </tbody>\n</table>\n</div>", 
                        "text/plain": "          Borough  Year_2008  Year_2009  Year_2010  Year_2011  Year_2012  \\\nArea Code                                                                  \nE09000025  Newham      403.0      421.6      422.4      382.5      369.8   \n\n           Year_2013  Year_2014  Year_2015  Year_2016  Year_2017  Year_2018  \nArea Code                                                                    \nE09000025      387.6      393.7      421.6      436.7      471.3      479.1  "
                    }, 
                    "output_type": "execute_result"
                }
            ], 
            "source": "df_Newham_earnings"
        }, 
        {
            "source": "### 3) Read the existing \"Licensed Restuarants in each borough\" data into a DataFrame", 
            "cell_type": "markdown", 
            "metadata": {}
        }, 
        {
            "execution_count": 140, 
            "cell_type": "code", 
            "metadata": {}, 
            "outputs": [], 
            "source": "# Your data file was loaded into a botocore.response.StreamingBody object.\n# Please read the documentation of ibm_boto3 and pandas to learn more about your possibilities to load the data.\n# ibm_boto3 documentation: https://ibm.github.io/ibm-cos-sdk-python/\n# pandas documentation: http://pandas.pydata.org/\nstreaming_body_4 = client_b7d20049bd8143c2944110c6dbbf6031.get_object(Bucket='battleofneighborhoods-donotdelete-pr-iawjsijjjrsgkl', Key='Z04-Licensed-restaurants-by-borough.xls')['Body']\n# add missing __iter__ method so pandas accepts body as file-like object\nif not hasattr(streaming_body_4, \"__iter__\"): streaming_body_4.__iter__ = types.MethodType( __iter__, streaming_body_4 )"
        }, 
        {
            "execution_count": 141, 
            "cell_type": "code", 
            "metadata": {}, 
            "outputs": [], 
            "source": "df_lres = pd.read_excel(streaming_body_4)"
        }, 
        {
            "source": "#### Take only years 2008 to 2018 ", 
            "cell_type": "markdown", 
            "metadata": {}
        }, 
        {
            "execution_count": 142, 
            "cell_type": "code", 
            "metadata": {}, 
            "outputs": [], 
            "source": "df_lres = df_lres.filter(['Area Code', 'Borough', 'Year_2008',\n       'Year_2009', 'Year_2010', 'Year_2011', 'Year_2012', 'Year_2013',\n       'Year_2014', 'Year_2015', 'Year_2016', 'Year_2017', 'Year_2018'], axis=1)"
        }, 
        {
            "execution_count": 143, 
            "cell_type": "code", 
            "metadata": {}, 
            "outputs": [
                {
                    "execution_count": 143, 
                    "metadata": {}, 
                    "data": {
                        "text/plain": "Index(['Area Code', 'Borough', 'Year_2008', 'Year_2009', 'Year_2010',\n       'Year_2011', 'Year_2012', 'Year_2013', 'Year_2014', 'Year_2015',\n       'Year_2016', 'Year_2017', 'Year_2018'],\n      dtype='object')"
                    }, 
                    "output_type": "execute_result"
                }
            ], 
            "source": "df_lres.columns"
        }, 
        {
            "source": "#### Setting the Area Code as Index", 
            "cell_type": "markdown", 
            "metadata": {}
        }, 
        {
            "execution_count": 144, 
            "cell_type": "code", 
            "metadata": {}, 
            "outputs": [], 
            "source": "df_lres = df_lres.set_index(['Area Code'])"
        }, 
        {
            "execution_count": 145, 
            "cell_type": "code", 
            "metadata": {}, 
            "outputs": [
                {
                    "execution_count": 145, 
                    "metadata": {}, 
                    "data": {
                        "text/html": "<div>\n<style scoped>\n    .dataframe tbody tr th:only-of-type {\n        vertical-align: middle;\n    }\n\n    .dataframe tbody tr th {\n        vertical-align: top;\n    }\n\n    .dataframe thead th {\n        text-align: right;\n    }\n</style>\n<table border=\"1\" class=\"dataframe\">\n  <thead>\n    <tr style=\"text-align: right;\">\n      <th></th>\n      <th>Borough</th>\n      <th>Year_2008</th>\n      <th>Year_2009</th>\n      <th>Year_2010</th>\n      <th>Year_2011</th>\n      <th>Year_2012</th>\n      <th>Year_2013</th>\n      <th>Year_2014</th>\n      <th>Year_2015</th>\n      <th>Year_2016</th>\n      <th>Year_2017</th>\n      <th>Year_2018</th>\n    </tr>\n    <tr>\n      <th>Area Code</th>\n      <th></th>\n      <th></th>\n      <th></th>\n      <th></th>\n      <th></th>\n      <th></th>\n      <th></th>\n      <th></th>\n      <th></th>\n      <th></th>\n      <th></th>\n      <th></th>\n    </tr>\n  </thead>\n  <tbody>\n    <tr>\n      <th>E09000001</th>\n      <td>City of London</td>\n      <td>185</td>\n      <td>180</td>\n      <td>195</td>\n      <td>190</td>\n      <td>205</td>\n      <td>230</td>\n      <td>255</td>\n      <td>270</td>\n      <td>270</td>\n      <td>295</td>\n      <td>310</td>\n    </tr>\n    <tr>\n      <th>E09000002</th>\n      <td>Barking and Dagenham</td>\n      <td>35</td>\n      <td>30</td>\n      <td>30</td>\n      <td>30</td>\n      <td>40</td>\n      <td>40</td>\n      <td>35</td>\n      <td>45</td>\n      <td>40</td>\n      <td>35</td>\n      <td>40</td>\n    </tr>\n    <tr>\n      <th>E09000003</th>\n      <td>Barnet</td>\n      <td>195</td>\n      <td>210</td>\n      <td>215</td>\n      <td>205</td>\n      <td>235</td>\n      <td>250</td>\n      <td>240</td>\n      <td>255</td>\n      <td>245</td>\n      <td>270</td>\n      <td>279</td>\n    </tr>\n    <tr>\n      <th>E09000004</th>\n      <td>Bexley</td>\n      <td>95</td>\n      <td>90</td>\n      <td>95</td>\n      <td>95</td>\n      <td>105</td>\n      <td>105</td>\n      <td>105</td>\n      <td>100</td>\n      <td>110</td>\n      <td>110</td>\n      <td>117</td>\n    </tr>\n    <tr>\n      <th>E09000005</th>\n      <td>Brent</td>\n      <td>140</td>\n      <td>145</td>\n      <td>150</td>\n      <td>155</td>\n      <td>165</td>\n      <td>170</td>\n      <td>165</td>\n      <td>185</td>\n      <td>200</td>\n      <td>190</td>\n      <td>198</td>\n    </tr>\n  </tbody>\n</table>\n</div>", 
                        "text/plain": "                        Borough  Year_2008  Year_2009  Year_2010  Year_2011  \\\nArea Code                                                                     \nE09000001        City of London        185        180        195        190   \nE09000002  Barking and Dagenham         35         30         30         30   \nE09000003                Barnet        195        210        215        205   \nE09000004                Bexley         95         90         95         95   \nE09000005                 Brent        140        145        150        155   \n\n           Year_2012  Year_2013  Year_2014  Year_2015  Year_2016  Year_2017  \\\nArea Code                                                                     \nE09000001        205        230        255        270        270        295   \nE09000002         40         40         35         45         40         35   \nE09000003        235        250        240        255        245        270   \nE09000004        105        105        105        100        110        110   \nE09000005        165        170        165        185        200        190   \n\n           Year_2018  \nArea Code             \nE09000001        310  \nE09000002         40  \nE09000003        279  \nE09000004        117  \nE09000005        198  "
                    }, 
                    "output_type": "execute_result"
                }
            ], 
            "source": "df_lres.head()"
        }, 
        {
            "source": "#### Drop the row for City of London, as there is no data of other datasets for this borough ", 
            "cell_type": "markdown", 
            "metadata": {}
        }, 
        {
            "execution_count": 146, 
            "cell_type": "code", 
            "metadata": {}, 
            "outputs": [], 
            "source": "df_lres = df_lres.drop(['E09000001'])"
        }, 
        {
            "execution_count": 147, 
            "cell_type": "code", 
            "metadata": {}, 
            "outputs": [
                {
                    "execution_count": 147, 
                    "metadata": {}, 
                    "data": {
                        "text/html": "<div>\n<style scoped>\n    .dataframe tbody tr th:only-of-type {\n        vertical-align: middle;\n    }\n\n    .dataframe tbody tr th {\n        vertical-align: top;\n    }\n\n    .dataframe thead th {\n        text-align: right;\n    }\n</style>\n<table border=\"1\" class=\"dataframe\">\n  <thead>\n    <tr style=\"text-align: right;\">\n      <th></th>\n      <th>Borough</th>\n      <th>Year_2008</th>\n      <th>Year_2009</th>\n      <th>Year_2010</th>\n      <th>Year_2011</th>\n      <th>Year_2012</th>\n      <th>Year_2013</th>\n      <th>Year_2014</th>\n      <th>Year_2015</th>\n      <th>Year_2016</th>\n      <th>Year_2017</th>\n      <th>Year_2018</th>\n    </tr>\n    <tr>\n      <th>Area Code</th>\n      <th></th>\n      <th></th>\n      <th></th>\n      <th></th>\n      <th></th>\n      <th></th>\n      <th></th>\n      <th></th>\n      <th></th>\n      <th></th>\n      <th></th>\n      <th></th>\n    </tr>\n  </thead>\n  <tbody>\n    <tr>\n      <th>E09000002</th>\n      <td>Barking and Dagenham</td>\n      <td>35</td>\n      <td>30</td>\n      <td>30</td>\n      <td>30</td>\n      <td>40</td>\n      <td>40</td>\n      <td>35</td>\n      <td>45</td>\n      <td>40</td>\n      <td>35</td>\n      <td>40</td>\n    </tr>\n    <tr>\n      <th>E09000003</th>\n      <td>Barnet</td>\n      <td>195</td>\n      <td>210</td>\n      <td>215</td>\n      <td>205</td>\n      <td>235</td>\n      <td>250</td>\n      <td>240</td>\n      <td>255</td>\n      <td>245</td>\n      <td>270</td>\n      <td>279</td>\n    </tr>\n    <tr>\n      <th>E09000004</th>\n      <td>Bexley</td>\n      <td>95</td>\n      <td>90</td>\n      <td>95</td>\n      <td>95</td>\n      <td>105</td>\n      <td>105</td>\n      <td>105</td>\n      <td>100</td>\n      <td>110</td>\n      <td>110</td>\n      <td>117</td>\n    </tr>\n    <tr>\n      <th>E09000005</th>\n      <td>Brent</td>\n      <td>140</td>\n      <td>145</td>\n      <td>150</td>\n      <td>155</td>\n      <td>165</td>\n      <td>170</td>\n      <td>165</td>\n      <td>185</td>\n      <td>200</td>\n      <td>190</td>\n      <td>198</td>\n    </tr>\n    <tr>\n      <th>E09000006</th>\n      <td>Bromley</td>\n      <td>165</td>\n      <td>170</td>\n      <td>175</td>\n      <td>160</td>\n      <td>180</td>\n      <td>185</td>\n      <td>180</td>\n      <td>180</td>\n      <td>190</td>\n      <td>200</td>\n      <td>208</td>\n    </tr>\n  </tbody>\n</table>\n</div>", 
                        "text/plain": "                        Borough  Year_2008  Year_2009  Year_2010  Year_2011  \\\nArea Code                                                                     \nE09000002  Barking and Dagenham         35         30         30         30   \nE09000003                Barnet        195        210        215        205   \nE09000004                Bexley         95         90         95         95   \nE09000005                 Brent        140        145        150        155   \nE09000006               Bromley        165        170        175        160   \n\n           Year_2012  Year_2013  Year_2014  Year_2015  Year_2016  Year_2017  \\\nArea Code                                                                     \nE09000002         40         40         35         45         40         35   \nE09000003        235        250        240        255        245        270   \nE09000004        105        105        105        100        110        110   \nE09000005        165        170        165        185        200        190   \nE09000006        180        185        180        180        190        200   \n\n           Year_2018  \nArea Code             \nE09000002         40  \nE09000003        279  \nE09000004        117  \nE09000005        198  \nE09000006        208  "
                    }, 
                    "output_type": "execute_result"
                }
            ], 
            "source": "df_lres.head()"
        }, 
        {
            "source": "### As the we have considered Newham borough as our preferred location for our restuarant, we will take the licensed restuarants data of Newham borough only.", 
            "cell_type": "markdown", 
            "metadata": {}
        }, 
        {
            "source": "#### Read the Newham borough restaurant data.", 
            "cell_type": "markdown", 
            "metadata": {}
        }, 
        {
            "execution_count": 148, 
            "cell_type": "code", 
            "metadata": {}, 
            "outputs": [], 
            "source": "df_Newham_res = df_lres.loc[df_lres['Borough'] == 'Newham']"
        }, 
        {
            "execution_count": 149, 
            "cell_type": "code", 
            "metadata": {}, 
            "outputs": [
                {
                    "execution_count": 149, 
                    "metadata": {}, 
                    "data": {
                        "text/html": "<div>\n<style scoped>\n    .dataframe tbody tr th:only-of-type {\n        vertical-align: middle;\n    }\n\n    .dataframe tbody tr th {\n        vertical-align: top;\n    }\n\n    .dataframe thead th {\n        text-align: right;\n    }\n</style>\n<table border=\"1\" class=\"dataframe\">\n  <thead>\n    <tr style=\"text-align: right;\">\n      <th></th>\n      <th>Borough</th>\n      <th>Year_2008</th>\n      <th>Year_2009</th>\n      <th>Year_2010</th>\n      <th>Year_2011</th>\n      <th>Year_2012</th>\n      <th>Year_2013</th>\n      <th>Year_2014</th>\n      <th>Year_2015</th>\n      <th>Year_2016</th>\n      <th>Year_2017</th>\n      <th>Year_2018</th>\n    </tr>\n    <tr>\n      <th>Area Code</th>\n      <th></th>\n      <th></th>\n      <th></th>\n      <th></th>\n      <th></th>\n      <th></th>\n      <th></th>\n      <th></th>\n      <th></th>\n      <th></th>\n      <th></th>\n      <th></th>\n    </tr>\n  </thead>\n  <tbody>\n    <tr>\n      <th>E09000025</th>\n      <td>Newham</td>\n      <td>80</td>\n      <td>75</td>\n      <td>80</td>\n      <td>85</td>\n      <td>95</td>\n      <td>110</td>\n      <td>115</td>\n      <td>120</td>\n      <td>128</td>\n      <td>135</td>\n      <td>146</td>\n    </tr>\n  </tbody>\n</table>\n</div>", 
                        "text/plain": "          Borough  Year_2008  Year_2009  Year_2010  Year_2011  Year_2012  \\\nArea Code                                                                  \nE09000025  Newham         80         75         80         85         95   \n\n           Year_2013  Year_2014  Year_2015  Year_2016  Year_2017  Year_2018  \nArea Code                                                                    \nE09000025        110        115        120        128        135        146  "
                    }, 
                    "output_type": "execute_result"
                }
            ], 
            "source": "df_Newham_res"
        }, 
        {
            "source": "### 4) Read the \"Rated Value per Sqm of the retail space in each borough of London\" data into a DataFrame", 
            "cell_type": "markdown", 
            "metadata": {}
        }, 
        {
            "execution_count": 150, 
            "cell_type": "code", 
            "metadata": {}, 
            "outputs": [], 
            "source": "# Your data file was loaded into a botocore.response.StreamingBody object.\n# Please read the documentation of ibm_boto3 and pandas to learn more about your possibilities to load the data.\n# ibm_boto3 documentation: https://ibm.github.io/ibm-cos-sdk-python/\n# pandas documentation: http://pandas.pydata.org/\nstreaming_body_5 = client_b7d20049bd8143c2944110c6dbbf6031.get_object(Bucket='battleofneighborhoods-donotdelete-pr-iawjsijjjrsgkl', Key='Z05-Rated-Value-by-borough.xls')['Body']\n# add missing __iter__ method so pandas accepts body as file-like object\nif not hasattr(streaming_body_5, \"__iter__\"): streaming_body_5.__iter__ = types.MethodType( __iter__, streaming_body_5 ) \n"
        }, 
        {
            "execution_count": 151, 
            "cell_type": "code", 
            "metadata": {}, 
            "outputs": [], 
            "source": "df_rate = pd.read_excel(streaming_body_5)"
        }, 
        {
            "execution_count": 152, 
            "cell_type": "code", 
            "metadata": {}, 
            "outputs": [
                {
                    "execution_count": 152, 
                    "metadata": {}, 
                    "data": {
                        "text/html": "<div>\n<style scoped>\n    .dataframe tbody tr th:only-of-type {\n        vertical-align: middle;\n    }\n\n    .dataframe tbody tr th {\n        vertical-align: top;\n    }\n\n    .dataframe thead th {\n        text-align: right;\n    }\n</style>\n<table border=\"1\" class=\"dataframe\">\n  <thead>\n    <tr style=\"text-align: right;\">\n      <th></th>\n      <th>Area Code</th>\n      <th>Borough</th>\n      <th>Year_2008</th>\n      <th>Year_2009</th>\n      <th>Year_2010</th>\n      <th>Year_2011</th>\n      <th>Year_2012</th>\n      <th>Year_2013</th>\n      <th>Year_2014</th>\n      <th>Year_2015</th>\n      <th>Year_2016</th>\n      <th>Year_2017</th>\n      <th>Year_2018</th>\n    </tr>\n  </thead>\n  <tbody>\n    <tr>\n      <th>0</th>\n      <td>E09000001</td>\n      <td>City of London</td>\n      <td>340</td>\n      <td>331</td>\n      <td>320</td>\n      <td>460</td>\n      <td>463</td>\n      <td>447</td>\n      <td>420</td>\n      <td>417</td>\n      <td>509</td>\n      <td>509</td>\n      <td>NaN</td>\n    </tr>\n    <tr>\n      <th>1</th>\n      <td>E09000002</td>\n      <td>Barking and Dagenham</td>\n      <td>84</td>\n      <td>85</td>\n      <td>85</td>\n      <td>103</td>\n      <td>103</td>\n      <td>105</td>\n      <td>103</td>\n      <td>103</td>\n      <td>137</td>\n      <td>139</td>\n      <td>NaN</td>\n    </tr>\n    <tr>\n      <th>2</th>\n      <td>E09000003</td>\n      <td>Barnet</td>\n      <td>149</td>\n      <td>149</td>\n      <td>148</td>\n      <td>181</td>\n      <td>182</td>\n      <td>184</td>\n      <td>184</td>\n      <td>183</td>\n      <td>239</td>\n      <td>240</td>\n      <td>NaN</td>\n    </tr>\n    <tr>\n      <th>3</th>\n      <td>E09000004</td>\n      <td>Bexley</td>\n      <td>98</td>\n      <td>96</td>\n      <td>96</td>\n      <td>118</td>\n      <td>117</td>\n      <td>116</td>\n      <td>116</td>\n      <td>116</td>\n      <td>137</td>\n      <td>139</td>\n      <td>NaN</td>\n    </tr>\n    <tr>\n      <th>4</th>\n      <td>E09000005</td>\n      <td>Brent</td>\n      <td>97</td>\n      <td>96</td>\n      <td>95</td>\n      <td>122</td>\n      <td>124</td>\n      <td>127</td>\n      <td>127</td>\n      <td>128</td>\n      <td>162</td>\n      <td>161</td>\n      <td>NaN</td>\n    </tr>\n  </tbody>\n</table>\n</div>", 
                        "text/plain": "   Area Code               Borough  Year_2008  Year_2009  Year_2010  \\\n0  E09000001        City of London        340        331        320   \n1  E09000002  Barking and Dagenham         84         85         85   \n2  E09000003                Barnet        149        149        148   \n3  E09000004                Bexley         98         96         96   \n4  E09000005                 Brent         97         96         95   \n\n   Year_2011  Year_2012  Year_2013  Year_2014  Year_2015  Year_2016  \\\n0        460        463        447        420        417        509   \n1        103        103        105        103        103        137   \n2        181        182        184        184        183        239   \n3        118        117        116        116        116        137   \n4        122        124        127        127        128        162   \n\n   Year_2017  Year_2018  \n0        509        NaN  \n1        139        NaN  \n2        240        NaN  \n3        139        NaN  \n4        161        NaN  "
                    }, 
                    "output_type": "execute_result"
                }
            ], 
            "source": "df_rate.head()"
        }, 
        {
            "source": "#### Note: These prices are Pounds per Square Metre in each borough, for the retail land space. As I had the Data Set for Retail, Industrial and Other land spaces, I have considered Restuarant Business as a Retail and hence took the Retail data from the dataset.", 
            "cell_type": "markdown", 
            "metadata": {}
        }, 
        {
            "source": "#### Setting the Area Code as Index ", 
            "cell_type": "markdown", 
            "metadata": {}
        }, 
        {
            "execution_count": 153, 
            "cell_type": "code", 
            "metadata": {}, 
            "outputs": [], 
            "source": "df_rate = df_rate.set_index(['Area Code'])"
        }, 
        {
            "execution_count": 154, 
            "cell_type": "code", 
            "metadata": {}, 
            "outputs": [
                {
                    "execution_count": 154, 
                    "metadata": {}, 
                    "data": {
                        "text/html": "<div>\n<style scoped>\n    .dataframe tbody tr th:only-of-type {\n        vertical-align: middle;\n    }\n\n    .dataframe tbody tr th {\n        vertical-align: top;\n    }\n\n    .dataframe thead th {\n        text-align: right;\n    }\n</style>\n<table border=\"1\" class=\"dataframe\">\n  <thead>\n    <tr style=\"text-align: right;\">\n      <th></th>\n      <th>Borough</th>\n      <th>Year_2008</th>\n      <th>Year_2009</th>\n      <th>Year_2010</th>\n      <th>Year_2011</th>\n      <th>Year_2012</th>\n      <th>Year_2013</th>\n      <th>Year_2014</th>\n      <th>Year_2015</th>\n      <th>Year_2016</th>\n      <th>Year_2017</th>\n      <th>Year_2018</th>\n    </tr>\n    <tr>\n      <th>Area Code</th>\n      <th></th>\n      <th></th>\n      <th></th>\n      <th></th>\n      <th></th>\n      <th></th>\n      <th></th>\n      <th></th>\n      <th></th>\n      <th></th>\n      <th></th>\n      <th></th>\n    </tr>\n  </thead>\n  <tbody>\n    <tr>\n      <th>E09000001</th>\n      <td>City of London</td>\n      <td>340</td>\n      <td>331</td>\n      <td>320</td>\n      <td>460</td>\n      <td>463</td>\n      <td>447</td>\n      <td>420</td>\n      <td>417</td>\n      <td>509</td>\n      <td>509</td>\n      <td>NaN</td>\n    </tr>\n    <tr>\n      <th>E09000002</th>\n      <td>Barking and Dagenham</td>\n      <td>84</td>\n      <td>85</td>\n      <td>85</td>\n      <td>103</td>\n      <td>103</td>\n      <td>105</td>\n      <td>103</td>\n      <td>103</td>\n      <td>137</td>\n      <td>139</td>\n      <td>NaN</td>\n    </tr>\n    <tr>\n      <th>E09000003</th>\n      <td>Barnet</td>\n      <td>149</td>\n      <td>149</td>\n      <td>148</td>\n      <td>181</td>\n      <td>182</td>\n      <td>184</td>\n      <td>184</td>\n      <td>183</td>\n      <td>239</td>\n      <td>240</td>\n      <td>NaN</td>\n    </tr>\n    <tr>\n      <th>E09000004</th>\n      <td>Bexley</td>\n      <td>98</td>\n      <td>96</td>\n      <td>96</td>\n      <td>118</td>\n      <td>117</td>\n      <td>116</td>\n      <td>116</td>\n      <td>116</td>\n      <td>137</td>\n      <td>139</td>\n      <td>NaN</td>\n    </tr>\n    <tr>\n      <th>E09000005</th>\n      <td>Brent</td>\n      <td>97</td>\n      <td>96</td>\n      <td>95</td>\n      <td>122</td>\n      <td>124</td>\n      <td>127</td>\n      <td>127</td>\n      <td>128</td>\n      <td>162</td>\n      <td>161</td>\n      <td>NaN</td>\n    </tr>\n  </tbody>\n</table>\n</div>", 
                        "text/plain": "                        Borough  Year_2008  Year_2009  Year_2010  Year_2011  \\\nArea Code                                                                     \nE09000001        City of London        340        331        320        460   \nE09000002  Barking and Dagenham         84         85         85        103   \nE09000003                Barnet        149        149        148        181   \nE09000004                Bexley         98         96         96        118   \nE09000005                 Brent         97         96         95        122   \n\n           Year_2012  Year_2013  Year_2014  Year_2015  Year_2016  Year_2017  \\\nArea Code                                                                     \nE09000001        463        447        420        417        509        509   \nE09000002        103        105        103        103        137        139   \nE09000003        182        184        184        183        239        240   \nE09000004        117        116        116        116        137        139   \nE09000005        124        127        127        128        162        161   \n\n           Year_2018  \nArea Code             \nE09000001        NaN  \nE09000002        NaN  \nE09000003        NaN  \nE09000004        NaN  \nE09000005        NaN  "
                    }, 
                    "output_type": "execute_result"
                }
            ], 
            "source": "df_rate.head()"
        }, 
        {
            "source": "#### Note: For Earnings and Restuarants dataframe, I have taken the data of Newham borough, hence for Rated Value also, I will take the data of the same borough.", 
            "cell_type": "markdown", 
            "metadata": {}
        }, 
        {
            "execution_count": 155, 
            "cell_type": "code", 
            "metadata": {}, 
            "outputs": [], 
            "source": "df_Newham_rv = df_rate.loc[df_rate['Borough'] == 'Newham']"
        }, 
        {
            "execution_count": 156, 
            "cell_type": "code", 
            "metadata": {}, 
            "outputs": [
                {
                    "execution_count": 156, 
                    "metadata": {}, 
                    "data": {
                        "text/html": "<div>\n<style scoped>\n    .dataframe tbody tr th:only-of-type {\n        vertical-align: middle;\n    }\n\n    .dataframe tbody tr th {\n        vertical-align: top;\n    }\n\n    .dataframe thead th {\n        text-align: right;\n    }\n</style>\n<table border=\"1\" class=\"dataframe\">\n  <thead>\n    <tr style=\"text-align: right;\">\n      <th></th>\n      <th>Borough</th>\n      <th>Year_2008</th>\n      <th>Year_2009</th>\n      <th>Year_2010</th>\n      <th>Year_2011</th>\n      <th>Year_2012</th>\n      <th>Year_2013</th>\n      <th>Year_2014</th>\n      <th>Year_2015</th>\n      <th>Year_2016</th>\n      <th>Year_2017</th>\n      <th>Year_2018</th>\n    </tr>\n    <tr>\n      <th>Area Code</th>\n      <th></th>\n      <th></th>\n      <th></th>\n      <th></th>\n      <th></th>\n      <th></th>\n      <th></th>\n      <th></th>\n      <th></th>\n      <th></th>\n      <th></th>\n      <th></th>\n    </tr>\n  </thead>\n  <tbody>\n    <tr>\n      <th>E09000025</th>\n      <td>Newham</td>\n      <td>100</td>\n      <td>95</td>\n      <td>100</td>\n      <td>126</td>\n      <td>125</td>\n      <td>122</td>\n      <td>121</td>\n      <td>122</td>\n      <td>162</td>\n      <td>161</td>\n      <td>NaN</td>\n    </tr>\n  </tbody>\n</table>\n</div>", 
                        "text/plain": "          Borough  Year_2008  Year_2009  Year_2010  Year_2011  Year_2012  \\\nArea Code                                                                  \nE09000025  Newham        100         95        100        126        125   \n\n           Year_2013  Year_2014  Year_2015  Year_2016  Year_2017  Year_2018  \nArea Code                                                                    \nE09000025        122        121        122        162        161        NaN  "
                    }, 
                    "output_type": "execute_result"
                }
            ], 
            "source": "df_Newham_rv"
        }, 
        {
            "source": "### As I have the Rated Value data from 2008 to 2017, I have to predict what will be the rated value in 2018. I will use Linear Regression Machine Learning algorithm to predict the 2018 rated value.\n### I am taking the Earnings data and Licensed Restaurants data of \"Newham\" borough as the Independant Variables (X - variables) and will predict the Rated Value of the same borough and this predicted rated value becomes our Depedant Variable(Y-Variable)", 
            "cell_type": "markdown", 
            "metadata": {}
        }, 
        {
            "source": "# Machine Learning >>>> start", 
            "cell_type": "markdown", 
            "metadata": {}
        }, 
        {
            "execution_count": 157, 
            "cell_type": "code", 
            "metadata": {}, 
            "outputs": [], 
            "source": "import matplotlib.pyplot as plt\nimport pandas as pd\nimport pylab as pl\nimport numpy as np\n%matplotlib inline"
        }, 
        {
            "source": "#### Transpose all the 3 DataFrames - Earnings, Licensed Restaurants and Rated Value", 
            "cell_type": "markdown", 
            "metadata": {}
        }, 
        {
            "source": "### Earnings DataFrame - Data Cleaning and Preparation", 
            "cell_type": "markdown", 
            "metadata": {}
        }, 
        {
            "execution_count": 158, 
            "cell_type": "code", 
            "metadata": {}, 
            "outputs": [
                {
                    "execution_count": 158, 
                    "metadata": {}, 
                    "data": {
                        "text/html": "<div>\n<style scoped>\n    .dataframe tbody tr th:only-of-type {\n        vertical-align: middle;\n    }\n\n    .dataframe tbody tr th {\n        vertical-align: top;\n    }\n\n    .dataframe thead th {\n        text-align: right;\n    }\n</style>\n<table border=\"1\" class=\"dataframe\">\n  <thead>\n    <tr style=\"text-align: right;\">\n      <th></th>\n      <th>Borough</th>\n      <th>Year_2008</th>\n      <th>Year_2009</th>\n      <th>Year_2010</th>\n      <th>Year_2011</th>\n      <th>Year_2012</th>\n      <th>Year_2013</th>\n      <th>Year_2014</th>\n      <th>Year_2015</th>\n      <th>Year_2016</th>\n      <th>Year_2017</th>\n      <th>Year_2018</th>\n    </tr>\n    <tr>\n      <th>Area Code</th>\n      <th></th>\n      <th></th>\n      <th></th>\n      <th></th>\n      <th></th>\n      <th></th>\n      <th></th>\n      <th></th>\n      <th></th>\n      <th></th>\n      <th></th>\n      <th></th>\n    </tr>\n  </thead>\n  <tbody>\n    <tr>\n      <th>E09000025</th>\n      <td>Newham</td>\n      <td>403.0</td>\n      <td>421.6</td>\n      <td>422.4</td>\n      <td>382.5</td>\n      <td>369.8</td>\n      <td>387.6</td>\n      <td>393.7</td>\n      <td>421.6</td>\n      <td>436.7</td>\n      <td>471.3</td>\n      <td>479.1</td>\n    </tr>\n  </tbody>\n</table>\n</div>", 
                        "text/plain": "          Borough  Year_2008  Year_2009  Year_2010  Year_2011  Year_2012  \\\nArea Code                                                                  \nE09000025  Newham      403.0      421.6      422.4      382.5      369.8   \n\n           Year_2013  Year_2014  Year_2015  Year_2016  Year_2017  Year_2018  \nArea Code                                                                    \nE09000025      387.6      393.7      421.6      436.7      471.3      479.1  "
                    }, 
                    "output_type": "execute_result"
                }
            ], 
            "source": "df_Newham_earnings"
        }, 
        {
            "source": "#### Round off the data in df_max_earnings dataframe", 
            "cell_type": "markdown", 
            "metadata": {}
        }, 
        {
            "execution_count": 159, 
            "cell_type": "code", 
            "metadata": {}, 
            "outputs": [], 
            "source": "df_Newham_earnings = df_Newham_earnings.round()"
        }, 
        {
            "execution_count": 160, 
            "cell_type": "code", 
            "metadata": {}, 
            "outputs": [
                {
                    "execution_count": 160, 
                    "metadata": {}, 
                    "data": {
                        "text/html": "<div>\n<style scoped>\n    .dataframe tbody tr th:only-of-type {\n        vertical-align: middle;\n    }\n\n    .dataframe tbody tr th {\n        vertical-align: top;\n    }\n\n    .dataframe thead th {\n        text-align: right;\n    }\n</style>\n<table border=\"1\" class=\"dataframe\">\n  <thead>\n    <tr style=\"text-align: right;\">\n      <th></th>\n      <th>Borough</th>\n      <th>Year_2008</th>\n      <th>Year_2009</th>\n      <th>Year_2010</th>\n      <th>Year_2011</th>\n      <th>Year_2012</th>\n      <th>Year_2013</th>\n      <th>Year_2014</th>\n      <th>Year_2015</th>\n      <th>Year_2016</th>\n      <th>Year_2017</th>\n      <th>Year_2018</th>\n    </tr>\n    <tr>\n      <th>Area Code</th>\n      <th></th>\n      <th></th>\n      <th></th>\n      <th></th>\n      <th></th>\n      <th></th>\n      <th></th>\n      <th></th>\n      <th></th>\n      <th></th>\n      <th></th>\n      <th></th>\n    </tr>\n  </thead>\n  <tbody>\n    <tr>\n      <th>E09000025</th>\n      <td>Newham</td>\n      <td>403.0</td>\n      <td>422.0</td>\n      <td>422.0</td>\n      <td>382.0</td>\n      <td>370.0</td>\n      <td>388.0</td>\n      <td>394.0</td>\n      <td>422.0</td>\n      <td>437.0</td>\n      <td>471.0</td>\n      <td>479.0</td>\n    </tr>\n  </tbody>\n</table>\n</div>", 
                        "text/plain": "          Borough  Year_2008  Year_2009  Year_2010  Year_2011  Year_2012  \\\nArea Code                                                                  \nE09000025  Newham      403.0      422.0      422.0      382.0      370.0   \n\n           Year_2013  Year_2014  Year_2015  Year_2016  Year_2017  Year_2018  \nArea Code                                                                    \nE09000025      388.0      394.0      422.0      437.0      471.0      479.0  "
                    }, 
                    "output_type": "execute_result"
                }
            ], 
            "source": "df_Newham_earnings"
        }, 
        {
            "source": "#### Transpose the dataframe", 
            "cell_type": "markdown", 
            "metadata": {}
        }, 
        {
            "execution_count": 161, 
            "cell_type": "code", 
            "metadata": {}, 
            "outputs": [], 
            "source": "df_inp1 = df_Newham_earnings.T.reset_index()"
        }, 
        {
            "execution_count": 162, 
            "cell_type": "code", 
            "metadata": {}, 
            "outputs": [
                {
                    "execution_count": 162, 
                    "metadata": {}, 
                    "data": {
                        "text/plain": "(12, 2)"
                    }, 
                    "output_type": "execute_result"
                }
            ], 
            "source": "df_inp1.shape"
        }, 
        {
            "execution_count": 163, 
            "cell_type": "code", 
            "metadata": {}, 
            "outputs": [
                {
                    "execution_count": 163, 
                    "metadata": {}, 
                    "data": {
                        "text/html": "<div>\n<style scoped>\n    .dataframe tbody tr th:only-of-type {\n        vertical-align: middle;\n    }\n\n    .dataframe tbody tr th {\n        vertical-align: top;\n    }\n\n    .dataframe thead th {\n        text-align: right;\n    }\n</style>\n<table border=\"1\" class=\"dataframe\">\n  <thead>\n    <tr style=\"text-align: right;\">\n      <th>Area Code</th>\n      <th>index</th>\n      <th>E09000025</th>\n    </tr>\n  </thead>\n  <tbody>\n    <tr>\n      <th>0</th>\n      <td>Borough</td>\n      <td>Newham</td>\n    </tr>\n    <tr>\n      <th>1</th>\n      <td>Year_2008</td>\n      <td>403</td>\n    </tr>\n    <tr>\n      <th>2</th>\n      <td>Year_2009</td>\n      <td>422</td>\n    </tr>\n    <tr>\n      <th>3</th>\n      <td>Year_2010</td>\n      <td>422</td>\n    </tr>\n    <tr>\n      <th>4</th>\n      <td>Year_2011</td>\n      <td>382</td>\n    </tr>\n  </tbody>\n</table>\n</div>", 
                        "text/plain": "Area Code      index E09000025\n0            Borough    Newham\n1          Year_2008       403\n2          Year_2009       422\n3          Year_2010       422\n4          Year_2011       382"
                    }, 
                    "output_type": "execute_result"
                }
            ], 
            "source": "df_inp1.head()"
        }, 
        {
            "source": "#### Rename the column names to Year and Earnings", 
            "cell_type": "markdown", 
            "metadata": {}
        }, 
        {
            "execution_count": 164, 
            "cell_type": "code", 
            "metadata": {}, 
            "outputs": [], 
            "source": "df_inp1.rename(columns={'index':'Year', 'E09000025':'Earnings'},inplace=True)"
        }, 
        {
            "execution_count": 165, 
            "cell_type": "code", 
            "metadata": {}, 
            "outputs": [
                {
                    "execution_count": 165, 
                    "metadata": {}, 
                    "data": {
                        "text/html": "<div>\n<style scoped>\n    .dataframe tbody tr th:only-of-type {\n        vertical-align: middle;\n    }\n\n    .dataframe tbody tr th {\n        vertical-align: top;\n    }\n\n    .dataframe thead th {\n        text-align: right;\n    }\n</style>\n<table border=\"1\" class=\"dataframe\">\n  <thead>\n    <tr style=\"text-align: right;\">\n      <th>Area Code</th>\n      <th>Year</th>\n      <th>Earnings</th>\n    </tr>\n  </thead>\n  <tbody>\n    <tr>\n      <th>0</th>\n      <td>Borough</td>\n      <td>Newham</td>\n    </tr>\n    <tr>\n      <th>1</th>\n      <td>Year_2008</td>\n      <td>403</td>\n    </tr>\n    <tr>\n      <th>2</th>\n      <td>Year_2009</td>\n      <td>422</td>\n    </tr>\n    <tr>\n      <th>3</th>\n      <td>Year_2010</td>\n      <td>422</td>\n    </tr>\n    <tr>\n      <th>4</th>\n      <td>Year_2011</td>\n      <td>382</td>\n    </tr>\n  </tbody>\n</table>\n</div>", 
                        "text/plain": "Area Code       Year Earnings\n0            Borough   Newham\n1          Year_2008      403\n2          Year_2009      422\n3          Year_2010      422\n4          Year_2011      382"
                    }, 
                    "output_type": "execute_result"
                }
            ], 
            "source": "df_inp1.head()"
        }, 
        {
            "source": "#### Remove the first row and reset the index", 
            "cell_type": "markdown", 
            "metadata": {}
        }, 
        {
            "execution_count": 166, 
            "cell_type": "code", 
            "metadata": {}, 
            "outputs": [], 
            "source": "df_inp1 = df_inp1.drop([0]).reset_index(drop=True)"
        }, 
        {
            "execution_count": 167, 
            "cell_type": "code", 
            "metadata": {}, 
            "outputs": [
                {
                    "execution_count": 167, 
                    "metadata": {}, 
                    "data": {
                        "text/plain": "(11, 2)"
                    }, 
                    "output_type": "execute_result"
                }
            ], 
            "source": "df_inp1.shape"
        }, 
        {
            "execution_count": 168, 
            "cell_type": "code", 
            "metadata": {}, 
            "outputs": [
                {
                    "execution_count": 168, 
                    "metadata": {}, 
                    "data": {
                        "text/html": "<div>\n<style scoped>\n    .dataframe tbody tr th:only-of-type {\n        vertical-align: middle;\n    }\n\n    .dataframe tbody tr th {\n        vertical-align: top;\n    }\n\n    .dataframe thead th {\n        text-align: right;\n    }\n</style>\n<table border=\"1\" class=\"dataframe\">\n  <thead>\n    <tr style=\"text-align: right;\">\n      <th>Area Code</th>\n      <th>Year</th>\n      <th>Earnings</th>\n    </tr>\n  </thead>\n  <tbody>\n    <tr>\n      <th>0</th>\n      <td>Year_2008</td>\n      <td>403</td>\n    </tr>\n    <tr>\n      <th>1</th>\n      <td>Year_2009</td>\n      <td>422</td>\n    </tr>\n    <tr>\n      <th>2</th>\n      <td>Year_2010</td>\n      <td>422</td>\n    </tr>\n    <tr>\n      <th>3</th>\n      <td>Year_2011</td>\n      <td>382</td>\n    </tr>\n    <tr>\n      <th>4</th>\n      <td>Year_2012</td>\n      <td>370</td>\n    </tr>\n  </tbody>\n</table>\n</div>", 
                        "text/plain": "Area Code       Year Earnings\n0          Year_2008      403\n1          Year_2009      422\n2          Year_2010      422\n3          Year_2011      382\n4          Year_2012      370"
                    }, 
                    "output_type": "execute_result"
                }
            ], 
            "source": "df_inp1.head()"
        }, 
        {
            "source": "### Licensed Restaurants DataFrame - Data Cleaning and Preparation", 
            "cell_type": "markdown", 
            "metadata": {}
        }, 
        {
            "execution_count": 169, 
            "cell_type": "code", 
            "metadata": {}, 
            "outputs": [
                {
                    "execution_count": 169, 
                    "metadata": {}, 
                    "data": {
                        "text/html": "<div>\n<style scoped>\n    .dataframe tbody tr th:only-of-type {\n        vertical-align: middle;\n    }\n\n    .dataframe tbody tr th {\n        vertical-align: top;\n    }\n\n    .dataframe thead th {\n        text-align: right;\n    }\n</style>\n<table border=\"1\" class=\"dataframe\">\n  <thead>\n    <tr style=\"text-align: right;\">\n      <th></th>\n      <th>Borough</th>\n      <th>Year_2008</th>\n      <th>Year_2009</th>\n      <th>Year_2010</th>\n      <th>Year_2011</th>\n      <th>Year_2012</th>\n      <th>Year_2013</th>\n      <th>Year_2014</th>\n      <th>Year_2015</th>\n      <th>Year_2016</th>\n      <th>Year_2017</th>\n      <th>Year_2018</th>\n    </tr>\n    <tr>\n      <th>Area Code</th>\n      <th></th>\n      <th></th>\n      <th></th>\n      <th></th>\n      <th></th>\n      <th></th>\n      <th></th>\n      <th></th>\n      <th></th>\n      <th></th>\n      <th></th>\n      <th></th>\n    </tr>\n  </thead>\n  <tbody>\n    <tr>\n      <th>E09000025</th>\n      <td>Newham</td>\n      <td>80</td>\n      <td>75</td>\n      <td>80</td>\n      <td>85</td>\n      <td>95</td>\n      <td>110</td>\n      <td>115</td>\n      <td>120</td>\n      <td>128</td>\n      <td>135</td>\n      <td>146</td>\n    </tr>\n  </tbody>\n</table>\n</div>", 
                        "text/plain": "          Borough  Year_2008  Year_2009  Year_2010  Year_2011  Year_2012  \\\nArea Code                                                                  \nE09000025  Newham         80         75         80         85         95   \n\n           Year_2013  Year_2014  Year_2015  Year_2016  Year_2017  Year_2018  \nArea Code                                                                    \nE09000025        110        115        120        128        135        146  "
                    }, 
                    "output_type": "execute_result"
                }
            ], 
            "source": "df_Newham_res"
        }, 
        {
            "source": "#### Transpose the dataframe", 
            "cell_type": "markdown", 
            "metadata": {}
        }, 
        {
            "execution_count": 170, 
            "cell_type": "code", 
            "metadata": {}, 
            "outputs": [], 
            "source": "df_inp2 = df_Newham_res.T.reset_index()"
        }, 
        {
            "execution_count": 171, 
            "cell_type": "code", 
            "metadata": {}, 
            "outputs": [
                {
                    "execution_count": 171, 
                    "metadata": {}, 
                    "data": {
                        "text/plain": "(12, 2)"
                    }, 
                    "output_type": "execute_result"
                }
            ], 
            "source": "df_inp2.shape"
        }, 
        {
            "execution_count": 172, 
            "cell_type": "code", 
            "metadata": {}, 
            "outputs": [
                {
                    "execution_count": 172, 
                    "metadata": {}, 
                    "data": {
                        "text/html": "<div>\n<style scoped>\n    .dataframe tbody tr th:only-of-type {\n        vertical-align: middle;\n    }\n\n    .dataframe tbody tr th {\n        vertical-align: top;\n    }\n\n    .dataframe thead th {\n        text-align: right;\n    }\n</style>\n<table border=\"1\" class=\"dataframe\">\n  <thead>\n    <tr style=\"text-align: right;\">\n      <th>Area Code</th>\n      <th>index</th>\n      <th>E09000025</th>\n    </tr>\n  </thead>\n  <tbody>\n    <tr>\n      <th>0</th>\n      <td>Borough</td>\n      <td>Newham</td>\n    </tr>\n    <tr>\n      <th>1</th>\n      <td>Year_2008</td>\n      <td>80</td>\n    </tr>\n    <tr>\n      <th>2</th>\n      <td>Year_2009</td>\n      <td>75</td>\n    </tr>\n    <tr>\n      <th>3</th>\n      <td>Year_2010</td>\n      <td>80</td>\n    </tr>\n    <tr>\n      <th>4</th>\n      <td>Year_2011</td>\n      <td>85</td>\n    </tr>\n  </tbody>\n</table>\n</div>", 
                        "text/plain": "Area Code      index E09000025\n0            Borough    Newham\n1          Year_2008        80\n2          Year_2009        75\n3          Year_2010        80\n4          Year_2011        85"
                    }, 
                    "output_type": "execute_result"
                }
            ], 
            "source": "df_inp2.head()"
        }, 
        {
            "source": "#### Rename the Column Names to Year and No_of_Restuarants", 
            "cell_type": "markdown", 
            "metadata": {}
        }, 
        {
            "execution_count": 173, 
            "cell_type": "code", 
            "metadata": {}, 
            "outputs": [], 
            "source": "df_inp2.rename(columns={'index':'Year', 'E09000025':'No_of_Restaurants'},inplace=True)"
        }, 
        {
            "execution_count": 174, 
            "cell_type": "code", 
            "metadata": {}, 
            "outputs": [
                {
                    "execution_count": 174, 
                    "metadata": {}, 
                    "data": {
                        "text/html": "<div>\n<style scoped>\n    .dataframe tbody tr th:only-of-type {\n        vertical-align: middle;\n    }\n\n    .dataframe tbody tr th {\n        vertical-align: top;\n    }\n\n    .dataframe thead th {\n        text-align: right;\n    }\n</style>\n<table border=\"1\" class=\"dataframe\">\n  <thead>\n    <tr style=\"text-align: right;\">\n      <th>Area Code</th>\n      <th>Year</th>\n      <th>No_of_Restaurants</th>\n    </tr>\n  </thead>\n  <tbody>\n    <tr>\n      <th>0</th>\n      <td>Borough</td>\n      <td>Newham</td>\n    </tr>\n    <tr>\n      <th>1</th>\n      <td>Year_2008</td>\n      <td>80</td>\n    </tr>\n    <tr>\n      <th>2</th>\n      <td>Year_2009</td>\n      <td>75</td>\n    </tr>\n    <tr>\n      <th>3</th>\n      <td>Year_2010</td>\n      <td>80</td>\n    </tr>\n    <tr>\n      <th>4</th>\n      <td>Year_2011</td>\n      <td>85</td>\n    </tr>\n  </tbody>\n</table>\n</div>", 
                        "text/plain": "Area Code       Year No_of_Restaurants\n0            Borough            Newham\n1          Year_2008                80\n2          Year_2009                75\n3          Year_2010                80\n4          Year_2011                85"
                    }, 
                    "output_type": "execute_result"
                }
            ], 
            "source": "df_inp2.head()"
        }, 
        {
            "source": "#### Remove the first row and reset the index", 
            "cell_type": "markdown", 
            "metadata": {}
        }, 
        {
            "execution_count": 175, 
            "cell_type": "code", 
            "metadata": {}, 
            "outputs": [], 
            "source": "df_inp2 = df_inp2.drop([0]).reset_index(drop=True)"
        }, 
        {
            "execution_count": 176, 
            "cell_type": "code", 
            "metadata": {}, 
            "outputs": [
                {
                    "execution_count": 176, 
                    "metadata": {}, 
                    "data": {
                        "text/plain": "(11, 2)"
                    }, 
                    "output_type": "execute_result"
                }
            ], 
            "source": "df_inp2.shape"
        }, 
        {
            "execution_count": 177, 
            "cell_type": "code", 
            "metadata": {}, 
            "outputs": [
                {
                    "execution_count": 177, 
                    "metadata": {}, 
                    "data": {
                        "text/html": "<div>\n<style scoped>\n    .dataframe tbody tr th:only-of-type {\n        vertical-align: middle;\n    }\n\n    .dataframe tbody tr th {\n        vertical-align: top;\n    }\n\n    .dataframe thead th {\n        text-align: right;\n    }\n</style>\n<table border=\"1\" class=\"dataframe\">\n  <thead>\n    <tr style=\"text-align: right;\">\n      <th>Area Code</th>\n      <th>Year</th>\n      <th>No_of_Restaurants</th>\n    </tr>\n  </thead>\n  <tbody>\n    <tr>\n      <th>0</th>\n      <td>Year_2008</td>\n      <td>80</td>\n    </tr>\n    <tr>\n      <th>1</th>\n      <td>Year_2009</td>\n      <td>75</td>\n    </tr>\n    <tr>\n      <th>2</th>\n      <td>Year_2010</td>\n      <td>80</td>\n    </tr>\n    <tr>\n      <th>3</th>\n      <td>Year_2011</td>\n      <td>85</td>\n    </tr>\n    <tr>\n      <th>4</th>\n      <td>Year_2012</td>\n      <td>95</td>\n    </tr>\n  </tbody>\n</table>\n</div>", 
                        "text/plain": "Area Code       Year No_of_Restaurants\n0          Year_2008                80\n1          Year_2009                75\n2          Year_2010                80\n3          Year_2011                85\n4          Year_2012                95"
                    }, 
                    "output_type": "execute_result"
                }
            ], 
            "source": "df_inp2.head()"
        }, 
        {
            "source": "### Rated Value DataFrame - Data Cleaning and Preparation", 
            "cell_type": "markdown", 
            "metadata": {}
        }, 
        {
            "execution_count": 178, 
            "cell_type": "code", 
            "metadata": {}, 
            "outputs": [
                {
                    "execution_count": 178, 
                    "metadata": {}, 
                    "data": {
                        "text/html": "<div>\n<style scoped>\n    .dataframe tbody tr th:only-of-type {\n        vertical-align: middle;\n    }\n\n    .dataframe tbody tr th {\n        vertical-align: top;\n    }\n\n    .dataframe thead th {\n        text-align: right;\n    }\n</style>\n<table border=\"1\" class=\"dataframe\">\n  <thead>\n    <tr style=\"text-align: right;\">\n      <th></th>\n      <th>Borough</th>\n      <th>Year_2008</th>\n      <th>Year_2009</th>\n      <th>Year_2010</th>\n      <th>Year_2011</th>\n      <th>Year_2012</th>\n      <th>Year_2013</th>\n      <th>Year_2014</th>\n      <th>Year_2015</th>\n      <th>Year_2016</th>\n      <th>Year_2017</th>\n      <th>Year_2018</th>\n    </tr>\n    <tr>\n      <th>Area Code</th>\n      <th></th>\n      <th></th>\n      <th></th>\n      <th></th>\n      <th></th>\n      <th></th>\n      <th></th>\n      <th></th>\n      <th></th>\n      <th></th>\n      <th></th>\n      <th></th>\n    </tr>\n  </thead>\n  <tbody>\n    <tr>\n      <th>E09000025</th>\n      <td>Newham</td>\n      <td>100</td>\n      <td>95</td>\n      <td>100</td>\n      <td>126</td>\n      <td>125</td>\n      <td>122</td>\n      <td>121</td>\n      <td>122</td>\n      <td>162</td>\n      <td>161</td>\n      <td>NaN</td>\n    </tr>\n  </tbody>\n</table>\n</div>", 
                        "text/plain": "          Borough  Year_2008  Year_2009  Year_2010  Year_2011  Year_2012  \\\nArea Code                                                                  \nE09000025  Newham        100         95        100        126        125   \n\n           Year_2013  Year_2014  Year_2015  Year_2016  Year_2017  Year_2018  \nArea Code                                                                    \nE09000025        122        121        122        162        161        NaN  "
                    }, 
                    "output_type": "execute_result"
                }
            ], 
            "source": "df_Newham_rv"
        }, 
        {
            "source": "#### Transpose the dataframe", 
            "cell_type": "markdown", 
            "metadata": {}
        }, 
        {
            "execution_count": 179, 
            "cell_type": "code", 
            "metadata": {}, 
            "outputs": [], 
            "source": "df_inp3 = df_Newham_rv.T.reset_index()"
        }, 
        {
            "execution_count": 180, 
            "cell_type": "code", 
            "metadata": {}, 
            "outputs": [
                {
                    "execution_count": 180, 
                    "metadata": {}, 
                    "data": {
                        "text/plain": "(12, 2)"
                    }, 
                    "output_type": "execute_result"
                }
            ], 
            "source": "df_inp3.shape"
        }, 
        {
            "execution_count": 181, 
            "cell_type": "code", 
            "metadata": {}, 
            "outputs": [
                {
                    "execution_count": 181, 
                    "metadata": {}, 
                    "data": {
                        "text/html": "<div>\n<style scoped>\n    .dataframe tbody tr th:only-of-type {\n        vertical-align: middle;\n    }\n\n    .dataframe tbody tr th {\n        vertical-align: top;\n    }\n\n    .dataframe thead th {\n        text-align: right;\n    }\n</style>\n<table border=\"1\" class=\"dataframe\">\n  <thead>\n    <tr style=\"text-align: right;\">\n      <th>Area Code</th>\n      <th>index</th>\n      <th>E09000025</th>\n    </tr>\n  </thead>\n  <tbody>\n    <tr>\n      <th>0</th>\n      <td>Borough</td>\n      <td>Newham</td>\n    </tr>\n    <tr>\n      <th>1</th>\n      <td>Year_2008</td>\n      <td>100</td>\n    </tr>\n    <tr>\n      <th>2</th>\n      <td>Year_2009</td>\n      <td>95</td>\n    </tr>\n    <tr>\n      <th>3</th>\n      <td>Year_2010</td>\n      <td>100</td>\n    </tr>\n    <tr>\n      <th>4</th>\n      <td>Year_2011</td>\n      <td>126</td>\n    </tr>\n  </tbody>\n</table>\n</div>", 
                        "text/plain": "Area Code      index E09000025\n0            Borough    Newham\n1          Year_2008       100\n2          Year_2009        95\n3          Year_2010       100\n4          Year_2011       126"
                    }, 
                    "output_type": "execute_result"
                }
            ], 
            "source": "df_inp3.head()"
        }, 
        {
            "source": "#### Rename the Column Names to Year and Rated_Value", 
            "cell_type": "markdown", 
            "metadata": {}
        }, 
        {
            "execution_count": 182, 
            "cell_type": "code", 
            "metadata": {}, 
            "outputs": [], 
            "source": "df_inp3.rename(columns={'index':'Year', 'E09000025':'Rated_Value'},inplace=True)"
        }, 
        {
            "execution_count": 183, 
            "cell_type": "code", 
            "metadata": {}, 
            "outputs": [
                {
                    "execution_count": 183, 
                    "metadata": {}, 
                    "data": {
                        "text/html": "<div>\n<style scoped>\n    .dataframe tbody tr th:only-of-type {\n        vertical-align: middle;\n    }\n\n    .dataframe tbody tr th {\n        vertical-align: top;\n    }\n\n    .dataframe thead th {\n        text-align: right;\n    }\n</style>\n<table border=\"1\" class=\"dataframe\">\n  <thead>\n    <tr style=\"text-align: right;\">\n      <th>Area Code</th>\n      <th>Year</th>\n      <th>Rated_Value</th>\n    </tr>\n  </thead>\n  <tbody>\n    <tr>\n      <th>0</th>\n      <td>Borough</td>\n      <td>Newham</td>\n    </tr>\n    <tr>\n      <th>1</th>\n      <td>Year_2008</td>\n      <td>100</td>\n    </tr>\n    <tr>\n      <th>2</th>\n      <td>Year_2009</td>\n      <td>95</td>\n    </tr>\n    <tr>\n      <th>3</th>\n      <td>Year_2010</td>\n      <td>100</td>\n    </tr>\n    <tr>\n      <th>4</th>\n      <td>Year_2011</td>\n      <td>126</td>\n    </tr>\n  </tbody>\n</table>\n</div>", 
                        "text/plain": "Area Code       Year Rated_Value\n0            Borough      Newham\n1          Year_2008         100\n2          Year_2009          95\n3          Year_2010         100\n4          Year_2011         126"
                    }, 
                    "output_type": "execute_result"
                }
            ], 
            "source": "df_inp3.head()"
        }, 
        {
            "source": "#### Remove the first row and reset the index", 
            "cell_type": "markdown", 
            "metadata": {}
        }, 
        {
            "execution_count": 184, 
            "cell_type": "code", 
            "metadata": {}, 
            "outputs": [], 
            "source": "df_inp3 = df_inp3.drop([0]).reset_index(drop=True)"
        }, 
        {
            "execution_count": 185, 
            "cell_type": "code", 
            "metadata": {}, 
            "outputs": [
                {
                    "execution_count": 185, 
                    "metadata": {}, 
                    "data": {
                        "text/plain": "(11, 2)"
                    }, 
                    "output_type": "execute_result"
                }
            ], 
            "source": "df_inp3.shape"
        }, 
        {
            "execution_count": 186, 
            "cell_type": "code", 
            "metadata": {}, 
            "outputs": [
                {
                    "execution_count": 186, 
                    "metadata": {}, 
                    "data": {
                        "text/html": "<div>\n<style scoped>\n    .dataframe tbody tr th:only-of-type {\n        vertical-align: middle;\n    }\n\n    .dataframe tbody tr th {\n        vertical-align: top;\n    }\n\n    .dataframe thead th {\n        text-align: right;\n    }\n</style>\n<table border=\"1\" class=\"dataframe\">\n  <thead>\n    <tr style=\"text-align: right;\">\n      <th>Area Code</th>\n      <th>Year</th>\n      <th>Rated_Value</th>\n    </tr>\n  </thead>\n  <tbody>\n    <tr>\n      <th>0</th>\n      <td>Year_2008</td>\n      <td>100</td>\n    </tr>\n    <tr>\n      <th>1</th>\n      <td>Year_2009</td>\n      <td>95</td>\n    </tr>\n    <tr>\n      <th>2</th>\n      <td>Year_2010</td>\n      <td>100</td>\n    </tr>\n    <tr>\n      <th>3</th>\n      <td>Year_2011</td>\n      <td>126</td>\n    </tr>\n    <tr>\n      <th>4</th>\n      <td>Year_2012</td>\n      <td>125</td>\n    </tr>\n  </tbody>\n</table>\n</div>", 
                        "text/plain": "Area Code       Year Rated_Value\n0          Year_2008         100\n1          Year_2009          95\n2          Year_2010         100\n3          Year_2011         126\n4          Year_2012         125"
                    }, 
                    "output_type": "execute_result"
                }
            ], 
            "source": "df_inp3.head()"
        }, 
        {
            "execution_count": 187, 
            "cell_type": "code", 
            "metadata": {}, 
            "outputs": [
                {
                    "execution_count": 187, 
                    "metadata": {}, 
                    "data": {
                        "text/plain": "Index(['Year', 'Earnings'], dtype='object', name='Area Code')"
                    }, 
                    "output_type": "execute_result"
                }
            ], 
            "source": "df_inp1.columns"
        }, 
        {
            "execution_count": 188, 
            "cell_type": "code", 
            "metadata": {}, 
            "outputs": [
                {
                    "execution_count": 188, 
                    "metadata": {}, 
                    "data": {
                        "text/plain": "Index(['Year', 'No_of_Restaurants'], dtype='object', name='Area Code')"
                    }, 
                    "output_type": "execute_result"
                }
            ], 
            "source": "df_inp2.columns"
        }, 
        {
            "execution_count": 189, 
            "cell_type": "code", 
            "metadata": {}, 
            "outputs": [
                {
                    "execution_count": 189, 
                    "metadata": {}, 
                    "data": {
                        "text/plain": "Index(['Year', 'Rated_Value'], dtype='object', name='Area Code')"
                    }, 
                    "output_type": "execute_result"
                }
            ], 
            "source": "df_inp3.columns"
        }, 
        {
            "source": "#### Now Merge all the 3 DataFrames of Earnings, Licensed Restaurants and Rated Value into a new DataFrame", 
            "cell_type": "markdown", 
            "metadata": {}
        }, 
        {
            "execution_count": 190, 
            "cell_type": "code", 
            "metadata": {}, 
            "outputs": [], 
            "source": "df_one = pd.merge(df_inp1,df_inp2, on='Year')"
        }, 
        {
            "execution_count": 191, 
            "cell_type": "code", 
            "metadata": {}, 
            "outputs": [
                {
                    "execution_count": 191, 
                    "metadata": {}, 
                    "data": {
                        "text/plain": "(11, 3)"
                    }, 
                    "output_type": "execute_result"
                }
            ], 
            "source": "df_one.shape"
        }, 
        {
            "execution_count": 192, 
            "cell_type": "code", 
            "metadata": {}, 
            "outputs": [
                {
                    "execution_count": 192, 
                    "metadata": {}, 
                    "data": {
                        "text/html": "<div>\n<style scoped>\n    .dataframe tbody tr th:only-of-type {\n        vertical-align: middle;\n    }\n\n    .dataframe tbody tr th {\n        vertical-align: top;\n    }\n\n    .dataframe thead th {\n        text-align: right;\n    }\n</style>\n<table border=\"1\" class=\"dataframe\">\n  <thead>\n    <tr style=\"text-align: right;\">\n      <th>Area Code</th>\n      <th>Year</th>\n      <th>Earnings</th>\n      <th>No_of_Restaurants</th>\n    </tr>\n  </thead>\n  <tbody>\n    <tr>\n      <th>0</th>\n      <td>Year_2008</td>\n      <td>403</td>\n      <td>80</td>\n    </tr>\n    <tr>\n      <th>1</th>\n      <td>Year_2009</td>\n      <td>422</td>\n      <td>75</td>\n    </tr>\n    <tr>\n      <th>2</th>\n      <td>Year_2010</td>\n      <td>422</td>\n      <td>80</td>\n    </tr>\n    <tr>\n      <th>3</th>\n      <td>Year_2011</td>\n      <td>382</td>\n      <td>85</td>\n    </tr>\n    <tr>\n      <th>4</th>\n      <td>Year_2012</td>\n      <td>370</td>\n      <td>95</td>\n    </tr>\n  </tbody>\n</table>\n</div>", 
                        "text/plain": "Area Code       Year Earnings No_of_Restaurants\n0          Year_2008      403                80\n1          Year_2009      422                75\n2          Year_2010      422                80\n3          Year_2011      382                85\n4          Year_2012      370                95"
                    }, 
                    "output_type": "execute_result"
                }
            ], 
            "source": "df_one.head()"
        }, 
        {
            "execution_count": 193, 
            "cell_type": "code", 
            "metadata": {}, 
            "outputs": [], 
            "source": "df_final = pd.merge(df_one, df_inp3, on='Year')"
        }, 
        {
            "execution_count": 194, 
            "cell_type": "code", 
            "metadata": {}, 
            "outputs": [
                {
                    "execution_count": 194, 
                    "metadata": {}, 
                    "data": {
                        "text/plain": "(11, 4)"
                    }, 
                    "output_type": "execute_result"
                }
            ], 
            "source": "df_final.shape"
        }, 
        {
            "execution_count": 195, 
            "cell_type": "code", 
            "metadata": {}, 
            "outputs": [
                {
                    "execution_count": 195, 
                    "metadata": {}, 
                    "data": {
                        "text/html": "<div>\n<style scoped>\n    .dataframe tbody tr th:only-of-type {\n        vertical-align: middle;\n    }\n\n    .dataframe tbody tr th {\n        vertical-align: top;\n    }\n\n    .dataframe thead th {\n        text-align: right;\n    }\n</style>\n<table border=\"1\" class=\"dataframe\">\n  <thead>\n    <tr style=\"text-align: right;\">\n      <th>Area Code</th>\n      <th>Year</th>\n      <th>Earnings</th>\n      <th>No_of_Restaurants</th>\n      <th>Rated_Value</th>\n    </tr>\n  </thead>\n  <tbody>\n    <tr>\n      <th>0</th>\n      <td>Year_2008</td>\n      <td>403</td>\n      <td>80</td>\n      <td>100</td>\n    </tr>\n    <tr>\n      <th>1</th>\n      <td>Year_2009</td>\n      <td>422</td>\n      <td>75</td>\n      <td>95</td>\n    </tr>\n    <tr>\n      <th>2</th>\n      <td>Year_2010</td>\n      <td>422</td>\n      <td>80</td>\n      <td>100</td>\n    </tr>\n    <tr>\n      <th>3</th>\n      <td>Year_2011</td>\n      <td>382</td>\n      <td>85</td>\n      <td>126</td>\n    </tr>\n    <tr>\n      <th>4</th>\n      <td>Year_2012</td>\n      <td>370</td>\n      <td>95</td>\n      <td>125</td>\n    </tr>\n    <tr>\n      <th>5</th>\n      <td>Year_2013</td>\n      <td>388</td>\n      <td>110</td>\n      <td>122</td>\n    </tr>\n    <tr>\n      <th>6</th>\n      <td>Year_2014</td>\n      <td>394</td>\n      <td>115</td>\n      <td>121</td>\n    </tr>\n    <tr>\n      <th>7</th>\n      <td>Year_2015</td>\n      <td>422</td>\n      <td>120</td>\n      <td>122</td>\n    </tr>\n    <tr>\n      <th>8</th>\n      <td>Year_2016</td>\n      <td>437</td>\n      <td>128</td>\n      <td>162</td>\n    </tr>\n    <tr>\n      <th>9</th>\n      <td>Year_2017</td>\n      <td>471</td>\n      <td>135</td>\n      <td>161</td>\n    </tr>\n    <tr>\n      <th>10</th>\n      <td>Year_2018</td>\n      <td>479</td>\n      <td>146</td>\n      <td>NaN</td>\n    </tr>\n  </tbody>\n</table>\n</div>", 
                        "text/plain": "Area Code       Year Earnings No_of_Restaurants Rated_Value\n0          Year_2008      403                80         100\n1          Year_2009      422                75          95\n2          Year_2010      422                80         100\n3          Year_2011      382                85         126\n4          Year_2012      370                95         125\n5          Year_2013      388               110         122\n6          Year_2014      394               115         121\n7          Year_2015      422               120         122\n8          Year_2016      437               128         162\n9          Year_2017      471               135         161\n10         Year_2018      479               146         NaN"
                    }, 
                    "output_type": "execute_result"
                }
            ], 
            "source": "df_final"
        }, 
        {
            "execution_count": 196, 
            "cell_type": "code", 
            "metadata": {}, 
            "outputs": [], 
            "source": "df_final = df_final.set_index(['Year'])"
        }, 
        {
            "execution_count": 197, 
            "cell_type": "code", 
            "metadata": {}, 
            "outputs": [
                {
                    "execution_count": 197, 
                    "metadata": {}, 
                    "data": {
                        "text/plain": "(11, 3)"
                    }, 
                    "output_type": "execute_result"
                }
            ], 
            "source": "df_final.shape"
        }, 
        {
            "execution_count": 198, 
            "cell_type": "code", 
            "metadata": {}, 
            "outputs": [
                {
                    "execution_count": 198, 
                    "metadata": {}, 
                    "data": {
                        "text/html": "<div>\n<style scoped>\n    .dataframe tbody tr th:only-of-type {\n        vertical-align: middle;\n    }\n\n    .dataframe tbody tr th {\n        vertical-align: top;\n    }\n\n    .dataframe thead th {\n        text-align: right;\n    }\n</style>\n<table border=\"1\" class=\"dataframe\">\n  <thead>\n    <tr style=\"text-align: right;\">\n      <th>Area Code</th>\n      <th>Earnings</th>\n      <th>No_of_Restaurants</th>\n      <th>Rated_Value</th>\n    </tr>\n    <tr>\n      <th>Year</th>\n      <th></th>\n      <th></th>\n      <th></th>\n    </tr>\n  </thead>\n  <tbody>\n    <tr>\n      <th>Year_2008</th>\n      <td>403</td>\n      <td>80</td>\n      <td>100</td>\n    </tr>\n    <tr>\n      <th>Year_2009</th>\n      <td>422</td>\n      <td>75</td>\n      <td>95</td>\n    </tr>\n    <tr>\n      <th>Year_2010</th>\n      <td>422</td>\n      <td>80</td>\n      <td>100</td>\n    </tr>\n    <tr>\n      <th>Year_2011</th>\n      <td>382</td>\n      <td>85</td>\n      <td>126</td>\n    </tr>\n    <tr>\n      <th>Year_2012</th>\n      <td>370</td>\n      <td>95</td>\n      <td>125</td>\n    </tr>\n    <tr>\n      <th>Year_2013</th>\n      <td>388</td>\n      <td>110</td>\n      <td>122</td>\n    </tr>\n    <tr>\n      <th>Year_2014</th>\n      <td>394</td>\n      <td>115</td>\n      <td>121</td>\n    </tr>\n    <tr>\n      <th>Year_2015</th>\n      <td>422</td>\n      <td>120</td>\n      <td>122</td>\n    </tr>\n    <tr>\n      <th>Year_2016</th>\n      <td>437</td>\n      <td>128</td>\n      <td>162</td>\n    </tr>\n    <tr>\n      <th>Year_2017</th>\n      <td>471</td>\n      <td>135</td>\n      <td>161</td>\n    </tr>\n    <tr>\n      <th>Year_2018</th>\n      <td>479</td>\n      <td>146</td>\n      <td>NaN</td>\n    </tr>\n  </tbody>\n</table>\n</div>", 
                        "text/plain": "Area Code Earnings No_of_Restaurants Rated_Value\nYear                                            \nYear_2008      403                80         100\nYear_2009      422                75          95\nYear_2010      422                80         100\nYear_2011      382                85         126\nYear_2012      370                95         125\nYear_2013      388               110         122\nYear_2014      394               115         121\nYear_2015      422               120         122\nYear_2016      437               128         162\nYear_2017      471               135         161\nYear_2018      479               146         NaN"
                    }, 
                    "output_type": "execute_result"
                }
            ], 
            "source": "df_final"
        }, 
        {
            "source": "## Data Exploration", 
            "cell_type": "markdown", 
            "metadata": {}
        }, 
        {
            "execution_count": 199, 
            "cell_type": "code", 
            "metadata": {}, 
            "outputs": [
                {
                    "execution_count": 199, 
                    "metadata": {}, 
                    "data": {
                        "text/plain": "Area Code\nEarnings             object\nNo_of_Restaurants    object\nRated_Value          object\ndtype: object"
                    }, 
                    "output_type": "execute_result"
                }
            ], 
            "source": "df_final.dtypes"
        }, 
        {
            "execution_count": 200, 
            "cell_type": "code", 
            "metadata": {}, 
            "outputs": [], 
            "source": "df_final = df_final.apply(pd.to_numeric, errors='coerce')"
        }, 
        {
            "execution_count": 201, 
            "cell_type": "code", 
            "metadata": {}, 
            "outputs": [
                {
                    "execution_count": 201, 
                    "metadata": {}, 
                    "data": {
                        "text/html": "<div>\n<style scoped>\n    .dataframe tbody tr th:only-of-type {\n        vertical-align: middle;\n    }\n\n    .dataframe tbody tr th {\n        vertical-align: top;\n    }\n\n    .dataframe thead th {\n        text-align: right;\n    }\n</style>\n<table border=\"1\" class=\"dataframe\">\n  <thead>\n    <tr style=\"text-align: right;\">\n      <th>Area Code</th>\n      <th>Earnings</th>\n      <th>No_of_Restaurants</th>\n      <th>Rated_Value</th>\n    </tr>\n  </thead>\n  <tbody>\n    <tr>\n      <th>count</th>\n      <td>11.000000</td>\n      <td>11.000000</td>\n      <td>10.000000</td>\n    </tr>\n    <tr>\n      <th>mean</th>\n      <td>417.272727</td>\n      <td>106.272727</td>\n      <td>123.400000</td>\n    </tr>\n    <tr>\n      <th>std</th>\n      <td>34.977395</td>\n      <td>24.682346</td>\n      <td>23.152634</td>\n    </tr>\n    <tr>\n      <th>min</th>\n      <td>370.000000</td>\n      <td>75.000000</td>\n      <td>95.000000</td>\n    </tr>\n    <tr>\n      <th>25%</th>\n      <td>391.000000</td>\n      <td>82.500000</td>\n      <td>105.250000</td>\n    </tr>\n    <tr>\n      <th>50%</th>\n      <td>422.000000</td>\n      <td>110.000000</td>\n      <td>122.000000</td>\n    </tr>\n    <tr>\n      <th>75%</th>\n      <td>429.500000</td>\n      <td>124.000000</td>\n      <td>125.750000</td>\n    </tr>\n    <tr>\n      <th>max</th>\n      <td>479.000000</td>\n      <td>146.000000</td>\n      <td>162.000000</td>\n    </tr>\n  </tbody>\n</table>\n</div>", 
                        "text/plain": "Area Code    Earnings  No_of_Restaurants  Rated_Value\ncount       11.000000          11.000000    10.000000\nmean       417.272727         106.272727   123.400000\nstd         34.977395          24.682346    23.152634\nmin        370.000000          75.000000    95.000000\n25%        391.000000          82.500000   105.250000\n50%        422.000000         110.000000   122.000000\n75%        429.500000         124.000000   125.750000\nmax        479.000000         146.000000   162.000000"
                    }, 
                    "output_type": "execute_result"
                }
            ], 
            "source": "df_final.describe()"
        }, 
        {
            "execution_count": 202, 
            "cell_type": "code", 
            "metadata": {}, 
            "outputs": [
                {
                    "output_type": "display_data", 
                    "data": {
                        "image/png": "[encoded data removed]", 
                        "text/plain": "<matplotlib.figure.Figure at 0x7fe38e4ec390>"
                    }, 
                    "metadata": {}
                }
            ], 
            "source": "viz = df_final[['Earnings','No_of_Restaurants', 'Rated_Value']]\nviz.hist()\nplt.show()"
        }, 
        {
            "source": "# Simple Linear Regression Model\n#### Linear Regression fits a linear model with coefficients  \u03b8=(\u03b81,...,\u03b8n)  to minimize the 'residual sum of squares' between the independent x in the dataset, and the dependent y by the linear approximation.", 
            "cell_type": "markdown", 
            "metadata": {}
        }, 
        {
            "source": "#### Let us plot a Scatter Plot between these 2 features with the Target variable \"Rated Value\" ", 
            "cell_type": "markdown", 
            "metadata": {}
        }, 
        {
            "execution_count": 203, 
            "cell_type": "code", 
            "metadata": {}, 
            "outputs": [
                {
                    "output_type": "display_data", 
                    "data": {
                        "image/png": "[encoded data removed]", 
                        "text/plain": "<matplotlib.figure.Figure at 0x7fe38e46ebe0>"
                    }, 
                    "metadata": {}
                }
            ], 
            "source": "plt.scatter(df_final.Earnings, df_final.Rated_Value, color='blue')\nplt.xlabel(\"Earnings\")\nplt.ylabel(\"Rated_Value\")\nplt.show()"
        }, 
        {
            "execution_count": 204, 
            "cell_type": "code", 
            "metadata": {}, 
            "outputs": [
                {
                    "output_type": "display_data", 
                    "data": {
                        "image/png": "[encoded data removed]", 
                        "text/plain": "<matplotlib.figure.Figure at 0x7fe38e44d828>"
                    }, 
                    "metadata": {}
                }
            ], 
            "source": "plt.scatter(df_final.No_of_Restaurants, df_final.Rated_Value, color='blue')\nplt.xlabel(\"No_of_Restaurants\")\nplt.ylabel(\"Rated_Value\")\nplt.show()"
        }, 
        {
            "source": "From the above 2 Scatter Plots, it is observed that the Linear relationship exists between the Restaurants and the Rated Value. A scatter plot clearly shows the relation between variables where changes in one variable explain or possibly cause changes in the other variable. Also, it indicates that these variables are linearly related.", 
            "cell_type": "raw", 
            "metadata": {}
        }, 
        {
            "source": "With linear regression you can fit a line through the data. For instance, as the number of restaurants increases, so do the Rated value. With linear regression you can model the relationship of these variables. A good model can be used to predict what the approximate rated value of the location.", 
            "cell_type": "raw", 
            "metadata": {}
        }, 
        {
            "source": "### Creating train and test dataset", 
            "cell_type": "markdown", 
            "metadata": {}
        }, 
        {
            "source": "#### As we do not have the Rated Value for the Year 2018 and we need to predict this value using the Simple Linear Regression model, hence we will remove this Year 2018 data from the final dataframe and prepare the Train and Test data from the remaining data", 
            "cell_type": "markdown", 
            "metadata": {}
        }, 
        {
            "execution_count": 205, 
            "cell_type": "code", 
            "metadata": {}, 
            "outputs": [], 
            "source": "df_final = df_final.drop(['Year_2018'])"
        }, 
        {
            "execution_count": 206, 
            "cell_type": "code", 
            "metadata": {}, 
            "outputs": [
                {
                    "execution_count": 206, 
                    "metadata": {}, 
                    "data": {
                        "text/plain": "(10, 3)"
                    }, 
                    "output_type": "execute_result"
                }
            ], 
            "source": "df_final.shape"
        }, 
        {
            "execution_count": 207, 
            "cell_type": "code", 
            "metadata": {}, 
            "outputs": [], 
            "source": "msk = np.random.rand(len(df_final)) < 0.75\ntrain = df_final[msk]\ntest = df_final[~msk]"
        }, 
        {
            "execution_count": 208, 
            "cell_type": "code", 
            "metadata": {}, 
            "outputs": [
                {
                    "output_type": "stream", 
                    "name": "stdout", 
                    "text": "Area Code  Earnings  No_of_Restaurants  Rated_Value\nYear                                               \nYear_2009     422.0                 75         95.0\nYear_2010     422.0                 80        100.0\nYear_2013     388.0                110        122.0\nYear_2016     437.0                128        162.0\n"
                }
            ], 
            "source": "print(train)"
        }, 
        {
            "execution_count": 209, 
            "cell_type": "code", 
            "metadata": {}, 
            "outputs": [
                {
                    "output_type": "stream", 
                    "name": "stdout", 
                    "text": "Area Code  Earnings  No_of_Restaurants  Rated_Value\nYear                                               \nYear_2008     403.0                 80        100.0\nYear_2011     382.0                 85        126.0\nYear_2012     370.0                 95        125.0\nYear_2014     394.0                115        121.0\nYear_2015     422.0                120        122.0\nYear_2017     471.0                135        161.0\n"
                }
            ], 
            "source": "print(test)"
        }, 
        {
            "source": "### Train Data Distribution", 
            "cell_type": "markdown", 
            "metadata": {}
        }, 
        {
            "execution_count": 210, 
            "cell_type": "code", 
            "metadata": {}, 
            "outputs": [
                {
                    "output_type": "display_data", 
                    "data": {
                        "image/png": "[encoded data removed]", 
                        "text/plain": "<matplotlib.figure.Figure at 0x7fe38e412da0>"
                    }, 
                    "metadata": {}
                }
            ], 
            "source": "plt.scatter(train.No_of_Restaurants, train.Rated_Value,  color='blue')\nplt.xlabel(\"No_of_Restaurants\")\nplt.ylabel(\"Rated_Value\")\nplt.show()"
        }, 
        {
            "source": "## Modelling ", 
            "cell_type": "markdown", 
            "metadata": {}
        }, 
        {
            "execution_count": 211, 
            "cell_type": "code", 
            "metadata": {}, 
            "outputs": [
                {
                    "output_type": "stream", 
                    "name": "stdout", 
                    "text": "Coefficients:  [[ 1.17002768]]\nIntercept:  [ 4.79478055]\n"
                }
            ], 
            "source": "from sklearn import linear_model\nregr = linear_model.LinearRegression()\ntrain_x = np.asanyarray(train[[\"No_of_Restaurants\"]])\ntrain_y = np.asanyarray(train[[\"Rated_Value\"]])\nregr.fit (train_x, train_y)\n# The coefficients\nprint ('Coefficients: ', regr.coef_)\nprint ('Intercept: ',regr.intercept_)"
        }, 
        {
            "source": "## Draw the best fit line (Intercept line) to our train data", 
            "cell_type": "markdown", 
            "metadata": {}
        }, 
        {
            "execution_count": 212, 
            "cell_type": "code", 
            "metadata": {}, 
            "outputs": [
                {
                    "execution_count": 212, 
                    "metadata": {}, 
                    "data": {
                        "text/plain": "Text(0,0.5,'Rated_Value')"
                    }, 
                    "output_type": "execute_result"
                }, 
                {
                    "output_type": "display_data", 
                    "data": {
                        "image/png": "[encoded data removed]", 
                        "text/plain": "<matplotlib.figure.Figure at 0x7fe38e3b2518>"
                    }, 
                    "metadata": {}
                }
            ], 
            "source": "plt.scatter(train.No_of_Restaurants, train.Rated_Value,  color='blue')\nplt.plot(train_x, regr.coef_[0][0]*train_x + regr.intercept_[0], '-r')\nplt.xlabel(\"No_of_Restaurants\")\nplt.ylabel(\"Rated_Value\")"
        }, 
        {
            "source": "### Conclusion: By seeing the above Scatter Plot with a best possible fit line, the Rated Value in Newham borough for the year 2018 can be predicted somewhere between 160 to 165", 
            "cell_type": "markdown", 
            "metadata": {}
        }, 
        {
            "source": "## Evaluation", 
            "cell_type": "markdown", 
            "metadata": {}
        }, 
        {
            "source": "There are different model evaluation metrics, lets use MSE here to calculate the accuracy of our model based on the test set:\n\n\u2022 Mean absolute error: It is the mean of the absolute value of the errors. This is the easiest of the metrics to     understand since it\u2019s just average error.\n\u2022 Mean Squared Error (MSE): Mean Squared Error (MSE) is the mean of the squared error. It\u2019s more popular than Mean   absolute error because the focus is geared more towards large errors. This is due to the squared term               exponentially increasing larger errors in comparison to smaller ones.\n\u2022 Root Mean Squared Error (RMSE): This is the square root of the Mean Square Error.\n\u2022 R-squared is not error, but is a popular metric for accuracy of your model. It represents how close the data are   to the fitted regression line. The higher the R-squared, the better the model fits your data. Best possible score   is 1.0 and it can be negative (because the model can be arbitrarily worse).", 
            "cell_type": "raw", 
            "metadata": {}
        }, 
        {
            "execution_count": 213, 
            "cell_type": "code", 
            "metadata": {}, 
            "outputs": [
                {
                    "output_type": "stream", 
                    "name": "stdout", 
                    "text": "Mean absolute error: 12.62\nResidual sum of squares (MSE): 239.26\nR2-score: 0.55\n"
                }
            ], 
            "source": "from sklearn.metrics import r2_score\ntest_x = np.asanyarray(test[['No_of_Restaurants']])\ntest_y = np.asanyarray(test[['Rated_Value']])\ntest_y_hat = regr.predict(test_x)\n\nprint(\"Mean absolute error: %.2f\" % np.mean(np.absolute(test_y_hat - test_y)))\nprint(\"Residual sum of squares (MSE): %.2f\" % np.mean((test_y_hat - test_y) ** 2))\nprint(\"R2-score: %.2f\" % r2_score(test_y_hat , test_y) )"
        }, 
        {
            "source": "# Machine Learning             <<<<<<< END ", 
            "cell_type": "markdown", 
            "metadata": {}
        }, 
        {
            "source": "# Segmenting and Clustering Neighborhoods in London City", 
            "cell_type": "markdown", 
            "metadata": {}
        }, 
        {
            "execution_count": 214, 
            "cell_type": "code", 
            "metadata": {}, 
            "outputs": [], 
            "source": "import requests \nimport pandas as pd\nimport numpy as np\nfrom bs4 import BeautifulSoup\nfrom urllib.request import urlopen\nimport re\nfrom geopy.geocoders import Nominatim # convert an address into latitude and longitude values\n# import folium # map rendering library\nimport json # library to handle JSON files\nfrom pandas.io.json import json_normalize # tranform JSON file into a pandas dataframe\n# import k-means from clustering stage\nfrom sklearn.cluster import KMeans\n\n# Matplotlib and associated plotting modules\nimport matplotlib.cm as cm\nimport matplotlib.colors as colors\n\n# import k-means from clustering stage\nfrom sklearn.cluster import KMeans"
        }, 
        {
            "execution_count": 215, 
            "cell_type": "code", 
            "metadata": {}, 
            "outputs": [], 
            "source": "# install and import folium library \n!pip -q install folium\nimport folium "
        }, 
        {
            "source": "### 1) Download and Explore the Dataset", 
            "cell_type": "markdown", 
            "metadata": {}
        }, 
        {
            "source": "#### Read the latitude and longitude coordinates of all Boroughs in London from a Wikipedia link", 
            "cell_type": "markdown", 
            "metadata": {}
        }, 
        {
            "execution_count": 216, 
            "cell_type": "code", 
            "metadata": {}, 
            "outputs": [], 
            "source": "URL = \"https://en.wikipedia.org/wiki/List_of_London_boroughs\"\nres = requests.get(URL).text\nsoup = BeautifulSoup(res,'lxml')\n\ndf_list = []\n# print(soup)\nfor items in soup.find('table', class_= 'wikitable sortable').find_all('tr')[1::]:\n    data = items.find_all(['td'])\n    data1 = data[0]\n    data8 = data[8]    \n    try:\n        borough_name = data1.get_text()\n        borough_name = borough_name.split('[')\n        borough_name = borough_name[0]\n        borough_name = borough_name.strip()\n        \n        ll = data8.get_text()\n        ll = ll.split('/')\n        lat_long = ll[2]\n        lat_long = lat_long.split('(')\n        lat_long = lat_long[0]\n        lat_long = lat_long.split(';')\n        latitude = lat_long[0]\n        latitude = latitude.strip()\n        longitude = lat_long[1]\n        longitude = longitude.strip()\n        longitude = longitude.replace(u'\\ufeff', '')\n        latitude = float(latitude)\n        longitude = float(longitude)\n\n#       Append the borough name, latitude and logitude in a list\n        df_list.append((borough_name, latitude, longitude))\n    except IndexError:pass"
        }, 
        {
            "execution_count": 217, 
            "cell_type": "code", 
            "metadata": {}, 
            "outputs": [], 
            "source": "df_boroughs = pd.DataFrame(df_list, columns=['Borough', 'Latitude' , 'Longitude'])"
        }, 
        {
            "execution_count": 218, 
            "cell_type": "code", 
            "metadata": {}, 
            "outputs": [
                {
                    "execution_count": 218, 
                    "metadata": {}, 
                    "data": {
                        "text/plain": "(32, 3)"
                    }, 
                    "output_type": "execute_result"
                }
            ], 
            "source": "df_boroughs.shape"
        }, 
        {
            "execution_count": 219, 
            "cell_type": "code", 
            "metadata": {}, 
            "outputs": [
                {
                    "execution_count": 219, 
                    "metadata": {}, 
                    "data": {
                        "text/html": "<div>\n<style scoped>\n    .dataframe tbody tr th:only-of-type {\n        vertical-align: middle;\n    }\n\n    .dataframe tbody tr th {\n        vertical-align: top;\n    }\n\n    .dataframe thead th {\n        text-align: right;\n    }\n</style>\n<table border=\"1\" class=\"dataframe\">\n  <thead>\n    <tr style=\"text-align: right;\">\n      <th></th>\n      <th>Borough</th>\n      <th>Latitude</th>\n      <th>Longitude</th>\n    </tr>\n  </thead>\n  <tbody>\n    <tr>\n      <th>0</th>\n      <td>Barking and Dagenham</td>\n      <td>51.5607</td>\n      <td>0.1557</td>\n    </tr>\n    <tr>\n      <th>1</th>\n      <td>Barnet</td>\n      <td>51.6252</td>\n      <td>-0.1517</td>\n    </tr>\n    <tr>\n      <th>2</th>\n      <td>Bexley</td>\n      <td>51.4549</td>\n      <td>0.1505</td>\n    </tr>\n    <tr>\n      <th>3</th>\n      <td>Brent</td>\n      <td>51.5588</td>\n      <td>-0.2817</td>\n    </tr>\n    <tr>\n      <th>4</th>\n      <td>Bromley</td>\n      <td>51.4039</td>\n      <td>0.0198</td>\n    </tr>\n  </tbody>\n</table>\n</div>", 
                        "text/plain": "                Borough  Latitude  Longitude\n0  Barking and Dagenham   51.5607     0.1557\n1                Barnet   51.6252    -0.1517\n2                Bexley   51.4549     0.1505\n3                 Brent   51.5588    -0.2817\n4               Bromley   51.4039     0.0198"
                    }, 
                    "output_type": "execute_result"
                }
            ], 
            "source": "df_boroughs.head()"
        }, 
        {
            "execution_count": 220, 
            "cell_type": "code", 
            "metadata": {}, 
            "outputs": [
                {
                    "execution_count": 220, 
                    "metadata": {}, 
                    "data": {
                        "text/plain": "Borough       object\nLatitude     float64\nLongitude    float64\ndtype: object"
                    }, 
                    "output_type": "execute_result"
                }
            ], 
            "source": "df_boroughs.dtypes"
        }, 
        {
            "execution_count": 221, 
            "cell_type": "code", 
            "metadata": {}, 
            "outputs": [
                {
                    "execution_count": 221, 
                    "metadata": {}, 
                    "data": {
                        "text/html": "<div>\n<style scoped>\n    .dataframe tbody tr th:only-of-type {\n        vertical-align: middle;\n    }\n\n    .dataframe tbody tr th {\n        vertical-align: top;\n    }\n\n    .dataframe thead th {\n        text-align: right;\n    }\n</style>\n<table border=\"1\" class=\"dataframe\">\n  <thead>\n    <tr style=\"text-align: right;\">\n      <th></th>\n      <th>Borough</th>\n      <th>Latitude</th>\n      <th>Longitude</th>\n    </tr>\n  </thead>\n  <tbody>\n    <tr>\n      <th>23</th>\n      <td>Newham</td>\n      <td>51.5077</td>\n      <td>0.0469</td>\n    </tr>\n  </tbody>\n</table>\n</div>", 
                        "text/plain": "   Borough  Latitude  Longitude\n23  Newham   51.5077     0.0469"
                    }, 
                    "output_type": "execute_result"
                }
            ], 
            "source": "df_boroughs.loc[df_boroughs['Borough'] == 'Newham']"
        }, 
        {
            "source": "#### Get the Latitude and Longitude of London City using geopy library", 
            "cell_type": "markdown", 
            "metadata": {}
        }, 
        {
            "execution_count": 222, 
            "cell_type": "code", 
            "metadata": {}, 
            "outputs": [
                {
                    "output_type": "stream", 
                    "name": "stdout", 
                    "text": "The geograpical coordinate of London City are 51.5073219, -0.1276474.\n"
                }
            ], 
            "source": "address = 'London, UK'\ngeolocator = Nominatim()\nlocation = geolocator.geocode(address)\nlatitude = location.latitude\nlongitude = location.longitude\nprint('The geograpical coordinate of London City are {}, {}.'.format(latitude, longitude))"
        }, 
        {
            "source": "#### Create a map of London with Boroughs superimposed on top.", 
            "cell_type": "markdown", 
            "metadata": {}
        }, 
        {
            "execution_count": 223, 
            "cell_type": "code", 
            "metadata": {}, 
            "outputs": [], 
            "source": "# create map of London using latitude and longitude values\nmap_london = folium.Map(location=[latitude, longitude], zoom_start=10)"
        }, 
        {
            "execution_count": 224, 
            "cell_type": "code", 
            "metadata": {
                "scrolled": false
            }, 
            "outputs": [
                {
                    "execution_count": 224, 
                    "metadata": {}, 
                    "data": {
                        "text/html": "<div style=\"width:100%;\"><div style=\"position:relative;width:100%;height:0;padding-bottom:60%;\"><iframe src=\"data:text/html;charset=utf-8;base64,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\" style=\"position:absolute;width:100%;height:100%;left:0;top:0;border:none !important;\" allowfullscreen webkitallowfullscreen mozallowfullscreen></iframe></div></div>", 
                        "text/plain": "<folium.folium.Map at 0x7fe38e39eeb8>"
                    }, 
                    "output_type": "execute_result"
                }
            ], 
            "source": "# add markers to map\nfor lat, lng, borough in zip(df_boroughs['Latitude'], df_boroughs['Longitude'], df_boroughs['Borough']):\n    label = '{}'.format(borough)\n    label = folium.Popup(label, parse_html=True)\n    folium.CircleMarker(\n        [lat, lng],\n        radius=5,\n        popup=label,\n        color='blue',\n        fill=True,\n        fill_color='#3186cc',\n        fill_opacity=0.7).add_to(map_london)  \n\nmap_london\n    "
        }, 
        {
            "source": "## Preferred location for Asian restuarant - Newham Borough", 
            "cell_type": "markdown", 
            "metadata": {}
        }, 
        {
            "source": "#### As the borough Newham is having high asian population, we will consider to Segment and Cluster only the neighbourhoods of this borough. For that we have to get the latitude and longitude details of all the areas(neighbourhoods) of Newham borough.", 
            "cell_type": "markdown", 
            "metadata": {}
        }, 
        {
            "source": "#### Read the latitude and longitude coordinates of all the neighborhoods(areas) in Newham Borough", 
            "cell_type": "markdown", 
            "metadata": {}
        }, 
        {
            "execution_count": 225, 
            "cell_type": "code", 
            "metadata": {}, 
            "outputs": [], 
            "source": "from urllib.request import urlopen\nimport re\nURL = \"https://en.wikipedia.org/wiki/List_of_areas_of_London\"\nres = requests.get(URL).text\nsoup = BeautifulSoup(res,'lxml')\n\ncodes = []\nareas_list = []\nhref_links_list = []\nfor items in soup.find('table', class_= 'wikitable sortable').find_all('tr')[1::]:\n    data = items.find_all(['td'])\n    data0 = data[0]\n    area_name = data0.text\n\n    data1 = data[1]\n    data1 = data1.text\n    borough = data1.split('[')\n    borough_name = borough[0]\n    data5 = data[5]\n    code = data5.text\n    code = code.strip()\n    \n    if borough_name == 'Newham':\n        codes.append(code)\n        areas_list.append((borough_name,area_name,code))\n\n                \nfor link in soup.findAll('a', attrs={'href': re.compile(\"^https://tools.wmflabs.org\")}):\n            htext = link.text\n            if htext in codes:\n                hlink = link.get('href')\n                href_links_list.append((htext, hlink))"
        }, 
        {
            "source": "#### Create a DataFrame from the Areas list ", 
            "cell_type": "markdown", 
            "metadata": {}
        }, 
        {
            "execution_count": 226, 
            "cell_type": "code", 
            "metadata": {}, 
            "outputs": [], 
            "source": "df_areas = pd.DataFrame(areas_list, columns=['Borough', 'Area', 'Code'])"
        }, 
        {
            "execution_count": 227, 
            "cell_type": "code", 
            "metadata": {}, 
            "outputs": [
                {
                    "execution_count": 227, 
                    "metadata": {}, 
                    "data": {
                        "text/html": "<div>\n<style scoped>\n    .dataframe tbody tr th:only-of-type {\n        vertical-align: middle;\n    }\n\n    .dataframe tbody tr th {\n        vertical-align: top;\n    }\n\n    .dataframe thead th {\n        text-align: right;\n    }\n</style>\n<table border=\"1\" class=\"dataframe\">\n  <thead>\n    <tr style=\"text-align: right;\">\n      <th></th>\n      <th>Borough</th>\n      <th>Area</th>\n      <th>Code</th>\n    </tr>\n  </thead>\n  <tbody>\n    <tr>\n      <th>0</th>\n      <td>Newham</td>\n      <td>Beckton</td>\n      <td>TQ435815</td>\n    </tr>\n    <tr>\n      <th>1</th>\n      <td>Newham</td>\n      <td>Canning Town</td>\n      <td>TQ405815</td>\n    </tr>\n    <tr>\n      <th>2</th>\n      <td>Newham</td>\n      <td>Custom House</td>\n      <td>TQ408807</td>\n    </tr>\n    <tr>\n      <th>3</th>\n      <td>Newham</td>\n      <td>East Ham</td>\n      <td>TQ425835</td>\n    </tr>\n    <tr>\n      <th>4</th>\n      <td>Newham</td>\n      <td>Forest Gate</td>\n      <td>TQ405855</td>\n    </tr>\n    <tr>\n      <th>5</th>\n      <td>Newham</td>\n      <td>Little Ilford</td>\n      <td>TQ435855</td>\n    </tr>\n    <tr>\n      <th>6</th>\n      <td>Newham</td>\n      <td>Manor Park</td>\n      <td>TQ425855</td>\n    </tr>\n    <tr>\n      <th>7</th>\n      <td>Newham</td>\n      <td>Maryland</td>\n      <td>TQ391849</td>\n    </tr>\n    <tr>\n      <th>8</th>\n      <td>Newham</td>\n      <td>North Woolwich</td>\n      <td>TQ435795</td>\n    </tr>\n    <tr>\n      <th>9</th>\n      <td>Newham</td>\n      <td>Plaistow</td>\n      <td>TQ405825</td>\n    </tr>\n    <tr>\n      <th>10</th>\n      <td>Newham</td>\n      <td>Silvertown</td>\n      <td>TQ415795</td>\n    </tr>\n    <tr>\n      <th>11</th>\n      <td>Newham</td>\n      <td>Stratford</td>\n      <td>TQ385845</td>\n    </tr>\n    <tr>\n      <th>12</th>\n      <td>Newham</td>\n      <td>Upton Park</td>\n      <td>TQ405837</td>\n    </tr>\n    <tr>\n      <th>13</th>\n      <td>Newham</td>\n      <td>West Ham</td>\n      <td>TQ405837</td>\n    </tr>\n  </tbody>\n</table>\n</div>", 
                        "text/plain": "   Borough            Area      Code\n0   Newham         Beckton  TQ435815\n1   Newham    Canning Town  TQ405815\n2   Newham    Custom House  TQ408807\n3   Newham        East Ham  TQ425835\n4   Newham     Forest Gate  TQ405855\n5   Newham   Little Ilford  TQ435855\n6   Newham      Manor Park  TQ425855\n7   Newham        Maryland  TQ391849\n8   Newham  North Woolwich  TQ435795\n9   Newham        Plaistow  TQ405825\n10  Newham      Silvertown  TQ415795\n11  Newham       Stratford  TQ385845\n12  Newham      Upton Park  TQ405837\n13  Newham        West Ham  TQ405837"
                    }, 
                    "output_type": "execute_result"
                }
            ], 
            "source": "df_areas"
        }, 
        {
            "execution_count": 228, 
            "cell_type": "code", 
            "metadata": {}, 
            "outputs": [
                {
                    "execution_count": 228, 
                    "metadata": {}, 
                    "data": {
                        "text/plain": "Index(['Borough', 'Area', 'Code'], dtype='object')"
                    }, 
                    "output_type": "execute_result"
                }
            ], 
            "source": "df_areas.columns"
        }, 
        {
            "execution_count": 229, 
            "cell_type": "code", 
            "metadata": {}, 
            "outputs": [
                {
                    "execution_count": 229, 
                    "metadata": {}, 
                    "data": {
                        "text/plain": "(14, 3)"
                    }, 
                    "output_type": "execute_result"
                }
            ], 
            "source": "df_areas.shape"
        }, 
        {
            "source": "#### Create a DataFrame from the list of href links", 
            "cell_type": "markdown", 
            "metadata": {}
        }, 
        {
            "execution_count": 230, 
            "cell_type": "code", 
            "metadata": {}, 
            "outputs": [], 
            "source": "df_links = pd.DataFrame(href_links_list, columns=['Code','href'])"
        }, 
        {
            "execution_count": 231, 
            "cell_type": "code", 
            "metadata": {}, 
            "outputs": [
                {
                    "execution_count": 231, 
                    "metadata": {}, 
                    "data": {
                        "text/plain": "Index(['Code', 'href'], dtype='object')"
                    }, 
                    "output_type": "execute_result"
                }
            ], 
            "source": "df_links.columns"
        }, 
        {
            "execution_count": 232, 
            "cell_type": "code", 
            "metadata": {}, 
            "outputs": [
                {
                    "execution_count": 232, 
                    "metadata": {}, 
                    "data": {
                        "text/plain": "(15, 2)"
                    }, 
                    "output_type": "execute_result"
                }
            ], 
            "source": "df_links.shape"
        }, 
        {
            "execution_count": 233, 
            "cell_type": "code", 
            "metadata": {}, 
            "outputs": [
                {
                    "execution_count": 233, 
                    "metadata": {}, 
                    "data": {
                        "text/html": "<div>\n<style scoped>\n    .dataframe tbody tr th:only-of-type {\n        vertical-align: middle;\n    }\n\n    .dataframe tbody tr th {\n        vertical-align: top;\n    }\n\n    .dataframe thead th {\n        text-align: right;\n    }\n</style>\n<table border=\"1\" class=\"dataframe\">\n  <thead>\n    <tr style=\"text-align: right;\">\n      <th></th>\n      <th>Code</th>\n      <th>href</th>\n    </tr>\n  </thead>\n  <tbody>\n    <tr>\n      <th>0</th>\n      <td>TQ435815</td>\n      <td>https://tools.wmflabs.org/os/coor_g/?pagename=...</td>\n    </tr>\n    <tr>\n      <th>1</th>\n      <td>TQ405815</td>\n      <td>https://tools.wmflabs.org/os/coor_g/?pagename=...</td>\n    </tr>\n    <tr>\n      <th>2</th>\n      <td>TQ408807</td>\n      <td>https://tools.wmflabs.org/os/coor_g/?pagename=...</td>\n    </tr>\n    <tr>\n      <th>3</th>\n      <td>TQ425835</td>\n      <td>https://tools.wmflabs.org/os/coor_g/?pagename=...</td>\n    </tr>\n    <tr>\n      <th>4</th>\n      <td>TQ405855</td>\n      <td>https://tools.wmflabs.org/os/coor_g/?pagename=...</td>\n    </tr>\n    <tr>\n      <th>5</th>\n      <td>TQ435855</td>\n      <td>https://tools.wmflabs.org/os/coor_g/?pagename=...</td>\n    </tr>\n    <tr>\n      <th>6</th>\n      <td>TQ425855</td>\n      <td>https://tools.wmflabs.org/os/coor_g/?pagename=...</td>\n    </tr>\n    <tr>\n      <th>7</th>\n      <td>TQ391849</td>\n      <td>https://tools.wmflabs.org/os/coor_g/?pagename=...</td>\n    </tr>\n    <tr>\n      <th>8</th>\n      <td>TQ435795</td>\n      <td>https://tools.wmflabs.org/os/coor_g/?pagename=...</td>\n    </tr>\n    <tr>\n      <th>9</th>\n      <td>TQ405825</td>\n      <td>https://tools.wmflabs.org/os/coor_g/?pagename=...</td>\n    </tr>\n    <tr>\n      <th>10</th>\n      <td>TQ415795</td>\n      <td>https://tools.wmflabs.org/os/coor_g/?pagename=...</td>\n    </tr>\n    <tr>\n      <th>11</th>\n      <td>TQ385845</td>\n      <td>https://tools.wmflabs.org/os/coor_g/?pagename=...</td>\n    </tr>\n    <tr>\n      <th>12</th>\n      <td>TQ405837</td>\n      <td>https://tools.wmflabs.org/os/coor_g/?pagename=...</td>\n    </tr>\n    <tr>\n      <th>13</th>\n      <td>TQ405837</td>\n      <td>https://tools.wmflabs.org/os/coor_g/?pagename=...</td>\n    </tr>\n    <tr>\n      <th>14</th>\n      <td>TQ435795</td>\n      <td>https://tools.wmflabs.org/os/coor_g/?pagename=...</td>\n    </tr>\n  </tbody>\n</table>\n</div>", 
                        "text/plain": "        Code                                               href\n0   TQ435815  https://tools.wmflabs.org/os/coor_g/?pagename=...\n1   TQ405815  https://tools.wmflabs.org/os/coor_g/?pagename=...\n2   TQ408807  https://tools.wmflabs.org/os/coor_g/?pagename=...\n3   TQ425835  https://tools.wmflabs.org/os/coor_g/?pagename=...\n4   TQ405855  https://tools.wmflabs.org/os/coor_g/?pagename=...\n5   TQ435855  https://tools.wmflabs.org/os/coor_g/?pagename=...\n6   TQ425855  https://tools.wmflabs.org/os/coor_g/?pagename=...\n7   TQ391849  https://tools.wmflabs.org/os/coor_g/?pagename=...\n8   TQ435795  https://tools.wmflabs.org/os/coor_g/?pagename=...\n9   TQ405825  https://tools.wmflabs.org/os/coor_g/?pagename=...\n10  TQ415795  https://tools.wmflabs.org/os/coor_g/?pagename=...\n11  TQ385845  https://tools.wmflabs.org/os/coor_g/?pagename=...\n12  TQ405837  https://tools.wmflabs.org/os/coor_g/?pagename=...\n13  TQ405837  https://tools.wmflabs.org/os/coor_g/?pagename=...\n14  TQ435795  https://tools.wmflabs.org/os/coor_g/?pagename=..."
                    }, 
                    "output_type": "execute_result"
                }
            ], 
            "source": "df_links"
        }, 
        {
            "source": "#### Merge the Areas and href Links DataFrames", 
            "cell_type": "markdown", 
            "metadata": {}
        }, 
        {
            "execution_count": 234, 
            "cell_type": "code", 
            "metadata": {}, 
            "outputs": [], 
            "source": "cols = df_links.columns.difference(df_areas.columns)"
        }, 
        {
            "execution_count": 235, 
            "cell_type": "code", 
            "metadata": {}, 
            "outputs": [
                {
                    "execution_count": 235, 
                    "metadata": {}, 
                    "data": {
                        "text/plain": "Index(['href'], dtype='object')"
                    }, 
                    "output_type": "execute_result"
                }
            ], 
            "source": "cols"
        }, 
        {
            "execution_count": 236, 
            "cell_type": "code", 
            "metadata": {}, 
            "outputs": [], 
            "source": "df_areas_links = pd.concat([df_areas, df_links[cols]], axis=1)"
        }, 
        {
            "execution_count": 237, 
            "cell_type": "code", 
            "metadata": {}, 
            "outputs": [
                {
                    "execution_count": 237, 
                    "metadata": {}, 
                    "data": {
                        "text/plain": "(15, 4)"
                    }, 
                    "output_type": "execute_result"
                }
            ], 
            "source": "df_areas_links.shape"
        }, 
        {
            "execution_count": 238, 
            "cell_type": "code", 
            "metadata": {}, 
            "outputs": [
                {
                    "execution_count": 238, 
                    "metadata": {}, 
                    "data": {
                        "text/html": "<div>\n<style scoped>\n    .dataframe tbody tr th:only-of-type {\n        vertical-align: middle;\n    }\n\n    .dataframe tbody tr th {\n        vertical-align: top;\n    }\n\n    .dataframe thead th {\n        text-align: right;\n    }\n</style>\n<table border=\"1\" class=\"dataframe\">\n  <thead>\n    <tr style=\"text-align: right;\">\n      <th></th>\n      <th>Borough</th>\n      <th>Area</th>\n      <th>Code</th>\n      <th>href</th>\n    </tr>\n  </thead>\n  <tbody>\n    <tr>\n      <th>0</th>\n      <td>Newham</td>\n      <td>Beckton</td>\n      <td>TQ435815</td>\n      <td>https://tools.wmflabs.org/os/coor_g/?pagename=...</td>\n    </tr>\n    <tr>\n      <th>1</th>\n      <td>Newham</td>\n      <td>Canning Town</td>\n      <td>TQ405815</td>\n      <td>https://tools.wmflabs.org/os/coor_g/?pagename=...</td>\n    </tr>\n    <tr>\n      <th>2</th>\n      <td>Newham</td>\n      <td>Custom House</td>\n      <td>TQ408807</td>\n      <td>https://tools.wmflabs.org/os/coor_g/?pagename=...</td>\n    </tr>\n    <tr>\n      <th>3</th>\n      <td>Newham</td>\n      <td>East Ham</td>\n      <td>TQ425835</td>\n      <td>https://tools.wmflabs.org/os/coor_g/?pagename=...</td>\n    </tr>\n    <tr>\n      <th>4</th>\n      <td>Newham</td>\n      <td>Forest Gate</td>\n      <td>TQ405855</td>\n      <td>https://tools.wmflabs.org/os/coor_g/?pagename=...</td>\n    </tr>\n    <tr>\n      <th>5</th>\n      <td>Newham</td>\n      <td>Little Ilford</td>\n      <td>TQ435855</td>\n      <td>https://tools.wmflabs.org/os/coor_g/?pagename=...</td>\n    </tr>\n    <tr>\n      <th>6</th>\n      <td>Newham</td>\n      <td>Manor Park</td>\n      <td>TQ425855</td>\n      <td>https://tools.wmflabs.org/os/coor_g/?pagename=...</td>\n    </tr>\n    <tr>\n      <th>7</th>\n      <td>Newham</td>\n      <td>Maryland</td>\n      <td>TQ391849</td>\n      <td>https://tools.wmflabs.org/os/coor_g/?pagename=...</td>\n    </tr>\n    <tr>\n      <th>8</th>\n      <td>Newham</td>\n      <td>North Woolwich</td>\n      <td>TQ435795</td>\n      <td>https://tools.wmflabs.org/os/coor_g/?pagename=...</td>\n    </tr>\n    <tr>\n      <th>9</th>\n      <td>Newham</td>\n      <td>Plaistow</td>\n      <td>TQ405825</td>\n      <td>https://tools.wmflabs.org/os/coor_g/?pagename=...</td>\n    </tr>\n    <tr>\n      <th>10</th>\n      <td>Newham</td>\n      <td>Silvertown</td>\n      <td>TQ415795</td>\n      <td>https://tools.wmflabs.org/os/coor_g/?pagename=...</td>\n    </tr>\n    <tr>\n      <th>11</th>\n      <td>Newham</td>\n      <td>Stratford</td>\n      <td>TQ385845</td>\n      <td>https://tools.wmflabs.org/os/coor_g/?pagename=...</td>\n    </tr>\n    <tr>\n      <th>12</th>\n      <td>Newham</td>\n      <td>Upton Park</td>\n      <td>TQ405837</td>\n      <td>https://tools.wmflabs.org/os/coor_g/?pagename=...</td>\n    </tr>\n    <tr>\n      <th>13</th>\n      <td>Newham</td>\n      <td>West Ham</td>\n      <td>TQ405837</td>\n      <td>https://tools.wmflabs.org/os/coor_g/?pagename=...</td>\n    </tr>\n    <tr>\n      <th>14</th>\n      <td>NaN</td>\n      <td>NaN</td>\n      <td>NaN</td>\n      <td>https://tools.wmflabs.org/os/coor_g/?pagename=...</td>\n    </tr>\n  </tbody>\n</table>\n</div>", 
                        "text/plain": "   Borough            Area      Code  \\\n0   Newham         Beckton  TQ435815   \n1   Newham    Canning Town  TQ405815   \n2   Newham    Custom House  TQ408807   \n3   Newham        East Ham  TQ425835   \n4   Newham     Forest Gate  TQ405855   \n5   Newham   Little Ilford  TQ435855   \n6   Newham      Manor Park  TQ425855   \n7   Newham        Maryland  TQ391849   \n8   Newham  North Woolwich  TQ435795   \n9   Newham        Plaistow  TQ405825   \n10  Newham      Silvertown  TQ415795   \n11  Newham       Stratford  TQ385845   \n12  Newham      Upton Park  TQ405837   \n13  Newham        West Ham  TQ405837   \n14     NaN             NaN       NaN   \n\n                                                 href  \n0   https://tools.wmflabs.org/os/coor_g/?pagename=...  \n1   https://tools.wmflabs.org/os/coor_g/?pagename=...  \n2   https://tools.wmflabs.org/os/coor_g/?pagename=...  \n3   https://tools.wmflabs.org/os/coor_g/?pagename=...  \n4   https://tools.wmflabs.org/os/coor_g/?pagename=...  \n5   https://tools.wmflabs.org/os/coor_g/?pagename=...  \n6   https://tools.wmflabs.org/os/coor_g/?pagename=...  \n7   https://tools.wmflabs.org/os/coor_g/?pagename=...  \n8   https://tools.wmflabs.org/os/coor_g/?pagename=...  \n9   https://tools.wmflabs.org/os/coor_g/?pagename=...  \n10  https://tools.wmflabs.org/os/coor_g/?pagename=...  \n11  https://tools.wmflabs.org/os/coor_g/?pagename=...  \n12  https://tools.wmflabs.org/os/coor_g/?pagename=...  \n13  https://tools.wmflabs.org/os/coor_g/?pagename=...  \n14  https://tools.wmflabs.org/os/coor_g/?pagename=...  "
                    }, 
                    "output_type": "execute_result"
                }
            ], 
            "source": "df_areas_links"
        }, 
        {
            "source": "#### Remove the row where there is no data ", 
            "cell_type": "markdown", 
            "metadata": {}
        }, 
        {
            "execution_count": 239, 
            "cell_type": "code", 
            "metadata": {}, 
            "outputs": [], 
            "source": "df_areas_links = df_areas_links.dropna(how='any')"
        }, 
        {
            "execution_count": 240, 
            "cell_type": "code", 
            "metadata": {}, 
            "outputs": [
                {
                    "execution_count": 240, 
                    "metadata": {}, 
                    "data": {
                        "text/html": "<div>\n<style scoped>\n    .dataframe tbody tr th:only-of-type {\n        vertical-align: middle;\n    }\n\n    .dataframe tbody tr th {\n        vertical-align: top;\n    }\n\n    .dataframe thead th {\n        text-align: right;\n    }\n</style>\n<table border=\"1\" class=\"dataframe\">\n  <thead>\n    <tr style=\"text-align: right;\">\n      <th></th>\n      <th>Borough</th>\n      <th>Area</th>\n      <th>Code</th>\n      <th>href</th>\n    </tr>\n  </thead>\n  <tbody>\n    <tr>\n      <th>0</th>\n      <td>Newham</td>\n      <td>Beckton</td>\n      <td>TQ435815</td>\n      <td>https://tools.wmflabs.org/os/coor_g/?pagename=...</td>\n    </tr>\n    <tr>\n      <th>1</th>\n      <td>Newham</td>\n      <td>Canning Town</td>\n      <td>TQ405815</td>\n      <td>https://tools.wmflabs.org/os/coor_g/?pagename=...</td>\n    </tr>\n    <tr>\n      <th>2</th>\n      <td>Newham</td>\n      <td>Custom House</td>\n      <td>TQ408807</td>\n      <td>https://tools.wmflabs.org/os/coor_g/?pagename=...</td>\n    </tr>\n    <tr>\n      <th>3</th>\n      <td>Newham</td>\n      <td>East Ham</td>\n      <td>TQ425835</td>\n      <td>https://tools.wmflabs.org/os/coor_g/?pagename=...</td>\n    </tr>\n    <tr>\n      <th>4</th>\n      <td>Newham</td>\n      <td>Forest Gate</td>\n      <td>TQ405855</td>\n      <td>https://tools.wmflabs.org/os/coor_g/?pagename=...</td>\n    </tr>\n    <tr>\n      <th>5</th>\n      <td>Newham</td>\n      <td>Little Ilford</td>\n      <td>TQ435855</td>\n      <td>https://tools.wmflabs.org/os/coor_g/?pagename=...</td>\n    </tr>\n    <tr>\n      <th>6</th>\n      <td>Newham</td>\n      <td>Manor Park</td>\n      <td>TQ425855</td>\n      <td>https://tools.wmflabs.org/os/coor_g/?pagename=...</td>\n    </tr>\n    <tr>\n      <th>7</th>\n      <td>Newham</td>\n      <td>Maryland</td>\n      <td>TQ391849</td>\n      <td>https://tools.wmflabs.org/os/coor_g/?pagename=...</td>\n    </tr>\n    <tr>\n      <th>8</th>\n      <td>Newham</td>\n      <td>North Woolwich</td>\n      <td>TQ435795</td>\n      <td>https://tools.wmflabs.org/os/coor_g/?pagename=...</td>\n    </tr>\n    <tr>\n      <th>9</th>\n      <td>Newham</td>\n      <td>Plaistow</td>\n      <td>TQ405825</td>\n      <td>https://tools.wmflabs.org/os/coor_g/?pagename=...</td>\n    </tr>\n    <tr>\n      <th>10</th>\n      <td>Newham</td>\n      <td>Silvertown</td>\n      <td>TQ415795</td>\n      <td>https://tools.wmflabs.org/os/coor_g/?pagename=...</td>\n    </tr>\n    <tr>\n      <th>11</th>\n      <td>Newham</td>\n      <td>Stratford</td>\n      <td>TQ385845</td>\n      <td>https://tools.wmflabs.org/os/coor_g/?pagename=...</td>\n    </tr>\n    <tr>\n      <th>12</th>\n      <td>Newham</td>\n      <td>Upton Park</td>\n      <td>TQ405837</td>\n      <td>https://tools.wmflabs.org/os/coor_g/?pagename=...</td>\n    </tr>\n    <tr>\n      <th>13</th>\n      <td>Newham</td>\n      <td>West Ham</td>\n      <td>TQ405837</td>\n      <td>https://tools.wmflabs.org/os/coor_g/?pagename=...</td>\n    </tr>\n  </tbody>\n</table>\n</div>", 
                        "text/plain": "   Borough            Area      Code  \\\n0   Newham         Beckton  TQ435815   \n1   Newham    Canning Town  TQ405815   \n2   Newham    Custom House  TQ408807   \n3   Newham        East Ham  TQ425835   \n4   Newham     Forest Gate  TQ405855   \n5   Newham   Little Ilford  TQ435855   \n6   Newham      Manor Park  TQ425855   \n7   Newham        Maryland  TQ391849   \n8   Newham  North Woolwich  TQ435795   \n9   Newham        Plaistow  TQ405825   \n10  Newham      Silvertown  TQ415795   \n11  Newham       Stratford  TQ385845   \n12  Newham      Upton Park  TQ405837   \n13  Newham        West Ham  TQ405837   \n\n                                                 href  \n0   https://tools.wmflabs.org/os/coor_g/?pagename=...  \n1   https://tools.wmflabs.org/os/coor_g/?pagename=...  \n2   https://tools.wmflabs.org/os/coor_g/?pagename=...  \n3   https://tools.wmflabs.org/os/coor_g/?pagename=...  \n4   https://tools.wmflabs.org/os/coor_g/?pagename=...  \n5   https://tools.wmflabs.org/os/coor_g/?pagename=...  \n6   https://tools.wmflabs.org/os/coor_g/?pagename=...  \n7   https://tools.wmflabs.org/os/coor_g/?pagename=...  \n8   https://tools.wmflabs.org/os/coor_g/?pagename=...  \n9   https://tools.wmflabs.org/os/coor_g/?pagename=...  \n10  https://tools.wmflabs.org/os/coor_g/?pagename=...  \n11  https://tools.wmflabs.org/os/coor_g/?pagename=...  \n12  https://tools.wmflabs.org/os/coor_g/?pagename=...  \n13  https://tools.wmflabs.org/os/coor_g/?pagename=...  "
                    }, 
                    "output_type": "execute_result"
                }
            ], 
            "source": "df_areas_links"
        }, 
        {
            "source": "#### Get the geo co-ordinates for all the areas in the Newham borough", 
            "cell_type": "markdown", 
            "metadata": {}
        }, 
        {
            "execution_count": 241, 
            "cell_type": "code", 
            "metadata": {}, 
            "outputs": [
                {
                    "output_type": "stream", 
                    "name": "stdout", 
                    "text": "[('TQ435815', 51.514642, 0.067375), ('TQ405815', 51.515396, 0.024169), ('TQ408807', 51.508133, 0.028171), ('TQ425835', 51.532867, 0.053782), ('TQ405855', 51.551339, 0.025765), ('TQ435855', 51.550584, 0.069004), ('TQ425855', 51.550838, 0.054591), ('TQ391849', 51.546294, 0.005349), ('TQ435795', 51.496671, 0.066561), ('TQ405825', 51.524382, 0.024568), ('TQ415795', 51.497175, 0.037769), ('TQ385845', 51.542847, -0.003456), ('TQ405837', 51.535165, 0.025046), ('TQ405837', 51.535165, 0.025046)]\n"
                }
            ], 
            "source": "geo_codes = []\nfor row in df_areas_links.itertuples():\n    url = row.href\n    code = row.Code\n    res = requests.get(url).text\n    soup1 = BeautifulSoup(res,'lxml')\n    \n    for lat in soup1.find('span',{'class':'latitude'}):\n        latitude = lat\n        latitude = float(latitude)\n            \n    for long in soup1.find('span',{'class':'longitude'}):    \n        longitude = long\n        longitude = float(longitude)\n        \n    geo_codes.append((code, latitude, longitude))\n\nprint(geo_codes)    "
        }, 
        {
            "source": "#### Create a DataFrame from the above list", 
            "cell_type": "markdown", 
            "metadata": {}
        }, 
        {
            "execution_count": 242, 
            "cell_type": "code", 
            "metadata": {}, 
            "outputs": [], 
            "source": "df_geo_codes = pd.DataFrame(geo_codes, columns=['Code','Latitude','Longitude'])"
        }, 
        {
            "execution_count": 243, 
            "cell_type": "code", 
            "metadata": {}, 
            "outputs": [
                {
                    "execution_count": 243, 
                    "metadata": {}, 
                    "data": {
                        "text/html": "<div>\n<style scoped>\n    .dataframe tbody tr th:only-of-type {\n        vertical-align: middle;\n    }\n\n    .dataframe tbody tr th {\n        vertical-align: top;\n    }\n\n    .dataframe thead th {\n        text-align: right;\n    }\n</style>\n<table border=\"1\" class=\"dataframe\">\n  <thead>\n    <tr style=\"text-align: right;\">\n      <th></th>\n      <th>Code</th>\n      <th>Latitude</th>\n      <th>Longitude</th>\n    </tr>\n  </thead>\n  <tbody>\n    <tr>\n      <th>0</th>\n      <td>TQ435815</td>\n      <td>51.514642</td>\n      <td>0.067375</td>\n    </tr>\n    <tr>\n      <th>1</th>\n      <td>TQ405815</td>\n      <td>51.515396</td>\n      <td>0.024169</td>\n    </tr>\n    <tr>\n      <th>2</th>\n      <td>TQ408807</td>\n      <td>51.508133</td>\n      <td>0.028171</td>\n    </tr>\n    <tr>\n      <th>3</th>\n      <td>TQ425835</td>\n      <td>51.532867</td>\n      <td>0.053782</td>\n    </tr>\n    <tr>\n      <th>4</th>\n      <td>TQ405855</td>\n      <td>51.551339</td>\n      <td>0.025765</td>\n    </tr>\n    <tr>\n      <th>5</th>\n      <td>TQ435855</td>\n      <td>51.550584</td>\n      <td>0.069004</td>\n    </tr>\n    <tr>\n      <th>6</th>\n      <td>TQ425855</td>\n      <td>51.550838</td>\n      <td>0.054591</td>\n    </tr>\n    <tr>\n      <th>7</th>\n      <td>TQ391849</td>\n      <td>51.546294</td>\n      <td>0.005349</td>\n    </tr>\n    <tr>\n      <th>8</th>\n      <td>TQ435795</td>\n      <td>51.496671</td>\n      <td>0.066561</td>\n    </tr>\n    <tr>\n      <th>9</th>\n      <td>TQ405825</td>\n      <td>51.524382</td>\n      <td>0.024568</td>\n    </tr>\n    <tr>\n      <th>10</th>\n      <td>TQ415795</td>\n      <td>51.497175</td>\n      <td>0.037769</td>\n    </tr>\n    <tr>\n      <th>11</th>\n      <td>TQ385845</td>\n      <td>51.542847</td>\n      <td>-0.003456</td>\n    </tr>\n    <tr>\n      <th>12</th>\n      <td>TQ405837</td>\n      <td>51.535165</td>\n      <td>0.025046</td>\n    </tr>\n    <tr>\n      <th>13</th>\n      <td>TQ405837</td>\n      <td>51.535165</td>\n      <td>0.025046</td>\n    </tr>\n  </tbody>\n</table>\n</div>", 
                        "text/plain": "        Code   Latitude  Longitude\n0   TQ435815  51.514642   0.067375\n1   TQ405815  51.515396   0.024169\n2   TQ408807  51.508133   0.028171\n3   TQ425835  51.532867   0.053782\n4   TQ405855  51.551339   0.025765\n5   TQ435855  51.550584   0.069004\n6   TQ425855  51.550838   0.054591\n7   TQ391849  51.546294   0.005349\n8   TQ435795  51.496671   0.066561\n9   TQ405825  51.524382   0.024568\n10  TQ415795  51.497175   0.037769\n11  TQ385845  51.542847  -0.003456\n12  TQ405837  51.535165   0.025046\n13  TQ405837  51.535165   0.025046"
                    }, 
                    "output_type": "execute_result"
                }
            ], 
            "source": "df_geo_codes"
        }, 
        {
            "source": "#### Now merge the Areas(Neighborhoods) and Geocodes DataFrames", 
            "cell_type": "markdown", 
            "metadata": {}
        }, 
        {
            "execution_count": 244, 
            "cell_type": "code", 
            "metadata": {}, 
            "outputs": [
                {
                    "execution_count": 244, 
                    "metadata": {}, 
                    "data": {
                        "text/plain": "Index(['Borough', 'Area', 'Code'], dtype='object')"
                    }, 
                    "output_type": "execute_result"
                }
            ], 
            "source": "df_areas.columns"
        }, 
        {
            "execution_count": 245, 
            "cell_type": "code", 
            "metadata": {}, 
            "outputs": [
                {
                    "execution_count": 245, 
                    "metadata": {}, 
                    "data": {
                        "text/plain": "(14, 3)"
                    }, 
                    "output_type": "execute_result"
                }
            ], 
            "source": "df_areas.shape"
        }, 
        {
            "execution_count": 246, 
            "cell_type": "code", 
            "metadata": {}, 
            "outputs": [
                {
                    "execution_count": 246, 
                    "metadata": {}, 
                    "data": {
                        "text/plain": "Index(['Code', 'Latitude', 'Longitude'], dtype='object')"
                    }, 
                    "output_type": "execute_result"
                }
            ], 
            "source": "df_geo_codes.columns"
        }, 
        {
            "execution_count": 247, 
            "cell_type": "code", 
            "metadata": {}, 
            "outputs": [
                {
                    "execution_count": 247, 
                    "metadata": {}, 
                    "data": {
                        "text/plain": "(14, 3)"
                    }, 
                    "output_type": "execute_result"
                }
            ], 
            "source": "df_geo_codes.shape"
        }, 
        {
            "execution_count": 248, 
            "cell_type": "code", 
            "metadata": {}, 
            "outputs": [], 
            "source": "cols = df_geo_codes.columns.difference(df_areas.columns)"
        }, 
        {
            "execution_count": 249, 
            "cell_type": "code", 
            "metadata": {}, 
            "outputs": [
                {
                    "execution_count": 249, 
                    "metadata": {}, 
                    "data": {
                        "text/plain": "Index(['Latitude', 'Longitude'], dtype='object')"
                    }, 
                    "output_type": "execute_result"
                }
            ], 
            "source": "cols"
        }, 
        {
            "execution_count": 250, 
            "cell_type": "code", 
            "metadata": {}, 
            "outputs": [], 
            "source": "Newham_borough = pd.concat([df_areas, df_geo_codes[cols]], axis=1)"
        }, 
        {
            "execution_count": 251, 
            "cell_type": "code", 
            "metadata": {}, 
            "outputs": [
                {
                    "execution_count": 251, 
                    "metadata": {}, 
                    "data": {
                        "text/html": "<div>\n<style scoped>\n    .dataframe tbody tr th:only-of-type {\n        vertical-align: middle;\n    }\n\n    .dataframe tbody tr th {\n        vertical-align: top;\n    }\n\n    .dataframe thead th {\n        text-align: right;\n    }\n</style>\n<table border=\"1\" class=\"dataframe\">\n  <thead>\n    <tr style=\"text-align: right;\">\n      <th></th>\n      <th>Borough</th>\n      <th>Area</th>\n      <th>Code</th>\n      <th>Latitude</th>\n      <th>Longitude</th>\n    </tr>\n  </thead>\n  <tbody>\n    <tr>\n      <th>0</th>\n      <td>Newham</td>\n      <td>Beckton</td>\n      <td>TQ435815</td>\n      <td>51.514642</td>\n      <td>0.067375</td>\n    </tr>\n    <tr>\n      <th>1</th>\n      <td>Newham</td>\n      <td>Canning Town</td>\n      <td>TQ405815</td>\n      <td>51.515396</td>\n      <td>0.024169</td>\n    </tr>\n    <tr>\n      <th>2</th>\n      <td>Newham</td>\n      <td>Custom House</td>\n      <td>TQ408807</td>\n      <td>51.508133</td>\n      <td>0.028171</td>\n    </tr>\n    <tr>\n      <th>3</th>\n      <td>Newham</td>\n      <td>East Ham</td>\n      <td>TQ425835</td>\n      <td>51.532867</td>\n      <td>0.053782</td>\n    </tr>\n    <tr>\n      <th>4</th>\n      <td>Newham</td>\n      <td>Forest Gate</td>\n      <td>TQ405855</td>\n      <td>51.551339</td>\n      <td>0.025765</td>\n    </tr>\n    <tr>\n      <th>5</th>\n      <td>Newham</td>\n      <td>Little Ilford</td>\n      <td>TQ435855</td>\n      <td>51.550584</td>\n      <td>0.069004</td>\n    </tr>\n    <tr>\n      <th>6</th>\n      <td>Newham</td>\n      <td>Manor Park</td>\n      <td>TQ425855</td>\n      <td>51.550838</td>\n      <td>0.054591</td>\n    </tr>\n    <tr>\n      <th>7</th>\n      <td>Newham</td>\n      <td>Maryland</td>\n      <td>TQ391849</td>\n      <td>51.546294</td>\n      <td>0.005349</td>\n    </tr>\n    <tr>\n      <th>8</th>\n      <td>Newham</td>\n      <td>North Woolwich</td>\n      <td>TQ435795</td>\n      <td>51.496671</td>\n      <td>0.066561</td>\n    </tr>\n    <tr>\n      <th>9</th>\n      <td>Newham</td>\n      <td>Plaistow</td>\n      <td>TQ405825</td>\n      <td>51.524382</td>\n      <td>0.024568</td>\n    </tr>\n    <tr>\n      <th>10</th>\n      <td>Newham</td>\n      <td>Silvertown</td>\n      <td>TQ415795</td>\n      <td>51.497175</td>\n      <td>0.037769</td>\n    </tr>\n    <tr>\n      <th>11</th>\n      <td>Newham</td>\n      <td>Stratford</td>\n      <td>TQ385845</td>\n      <td>51.542847</td>\n      <td>-0.003456</td>\n    </tr>\n    <tr>\n      <th>12</th>\n      <td>Newham</td>\n      <td>Upton Park</td>\n      <td>TQ405837</td>\n      <td>51.535165</td>\n      <td>0.025046</td>\n    </tr>\n    <tr>\n      <th>13</th>\n      <td>Newham</td>\n      <td>West Ham</td>\n      <td>TQ405837</td>\n      <td>51.535165</td>\n      <td>0.025046</td>\n    </tr>\n  </tbody>\n</table>\n</div>", 
                        "text/plain": "   Borough            Area      Code   Latitude  Longitude\n0   Newham         Beckton  TQ435815  51.514642   0.067375\n1   Newham    Canning Town  TQ405815  51.515396   0.024169\n2   Newham    Custom House  TQ408807  51.508133   0.028171\n3   Newham        East Ham  TQ425835  51.532867   0.053782\n4   Newham     Forest Gate  TQ405855  51.551339   0.025765\n5   Newham   Little Ilford  TQ435855  51.550584   0.069004\n6   Newham      Manor Park  TQ425855  51.550838   0.054591\n7   Newham        Maryland  TQ391849  51.546294   0.005349\n8   Newham  North Woolwich  TQ435795  51.496671   0.066561\n9   Newham        Plaistow  TQ405825  51.524382   0.024568\n10  Newham      Silvertown  TQ415795  51.497175   0.037769\n11  Newham       Stratford  TQ385845  51.542847  -0.003456\n12  Newham      Upton Park  TQ405837  51.535165   0.025046\n13  Newham        West Ham  TQ405837  51.535165   0.025046"
                    }, 
                    "output_type": "execute_result"
                }
            ], 
            "source": "Newham_borough"
        }, 
        {
            "source": "#### Change the name of the column 'Area' to 'Neighborhood '", 
            "cell_type": "markdown", 
            "metadata": {}
        }, 
        {
            "execution_count": 252, 
            "cell_type": "code", 
            "metadata": {}, 
            "outputs": [], 
            "source": "Newham_borough = Newham_borough.rename(columns={'Area' :'Neighborhood'})"
        }, 
        {
            "source": "#### We do not need the column Code for our further analysis, so we will drop it ", 
            "cell_type": "markdown", 
            "metadata": {}
        }, 
        {
            "execution_count": 253, 
            "cell_type": "code", 
            "metadata": {}, 
            "outputs": [], 
            "source": "Newham_borough.drop(['Code'], axis=1, inplace=True)"
        }, 
        {
            "execution_count": 254, 
            "cell_type": "code", 
            "metadata": {}, 
            "outputs": [
                {
                    "execution_count": 254, 
                    "metadata": {}, 
                    "data": {
                        "text/plain": "Index(['Borough', 'Neighborhood', 'Latitude', 'Longitude'], dtype='object')"
                    }, 
                    "output_type": "execute_result"
                }
            ], 
            "source": "Newham_borough.columns"
        }, 
        {
            "execution_count": 255, 
            "cell_type": "code", 
            "metadata": {}, 
            "outputs": [
                {
                    "execution_count": 255, 
                    "metadata": {}, 
                    "data": {
                        "text/html": "<div>\n<style scoped>\n    .dataframe tbody tr th:only-of-type {\n        vertical-align: middle;\n    }\n\n    .dataframe tbody tr th {\n        vertical-align: top;\n    }\n\n    .dataframe thead th {\n        text-align: right;\n    }\n</style>\n<table border=\"1\" class=\"dataframe\">\n  <thead>\n    <tr style=\"text-align: right;\">\n      <th></th>\n      <th>Borough</th>\n      <th>Neighborhood</th>\n      <th>Latitude</th>\n      <th>Longitude</th>\n    </tr>\n  </thead>\n  <tbody>\n    <tr>\n      <th>0</th>\n      <td>Newham</td>\n      <td>Beckton</td>\n      <td>51.514642</td>\n      <td>0.067375</td>\n    </tr>\n    <tr>\n      <th>1</th>\n      <td>Newham</td>\n      <td>Canning Town</td>\n      <td>51.515396</td>\n      <td>0.024169</td>\n    </tr>\n    <tr>\n      <th>2</th>\n      <td>Newham</td>\n      <td>Custom House</td>\n      <td>51.508133</td>\n      <td>0.028171</td>\n    </tr>\n    <tr>\n      <th>3</th>\n      <td>Newham</td>\n      <td>East Ham</td>\n      <td>51.532867</td>\n      <td>0.053782</td>\n    </tr>\n    <tr>\n      <th>4</th>\n      <td>Newham</td>\n      <td>Forest Gate</td>\n      <td>51.551339</td>\n      <td>0.025765</td>\n    </tr>\n    <tr>\n      <th>5</th>\n      <td>Newham</td>\n      <td>Little Ilford</td>\n      <td>51.550584</td>\n      <td>0.069004</td>\n    </tr>\n    <tr>\n      <th>6</th>\n      <td>Newham</td>\n      <td>Manor Park</td>\n      <td>51.550838</td>\n      <td>0.054591</td>\n    </tr>\n    <tr>\n      <th>7</th>\n      <td>Newham</td>\n      <td>Maryland</td>\n      <td>51.546294</td>\n      <td>0.005349</td>\n    </tr>\n    <tr>\n      <th>8</th>\n      <td>Newham</td>\n      <td>North Woolwich</td>\n      <td>51.496671</td>\n      <td>0.066561</td>\n    </tr>\n    <tr>\n      <th>9</th>\n      <td>Newham</td>\n      <td>Plaistow</td>\n      <td>51.524382</td>\n      <td>0.024568</td>\n    </tr>\n    <tr>\n      <th>10</th>\n      <td>Newham</td>\n      <td>Silvertown</td>\n      <td>51.497175</td>\n      <td>0.037769</td>\n    </tr>\n    <tr>\n      <th>11</th>\n      <td>Newham</td>\n      <td>Stratford</td>\n      <td>51.542847</td>\n      <td>-0.003456</td>\n    </tr>\n    <tr>\n      <th>12</th>\n      <td>Newham</td>\n      <td>Upton Park</td>\n      <td>51.535165</td>\n      <td>0.025046</td>\n    </tr>\n    <tr>\n      <th>13</th>\n      <td>Newham</td>\n      <td>West Ham</td>\n      <td>51.535165</td>\n      <td>0.025046</td>\n    </tr>\n  </tbody>\n</table>\n</div>", 
                        "text/plain": "   Borough    Neighborhood   Latitude  Longitude\n0   Newham         Beckton  51.514642   0.067375\n1   Newham    Canning Town  51.515396   0.024169\n2   Newham    Custom House  51.508133   0.028171\n3   Newham        East Ham  51.532867   0.053782\n4   Newham     Forest Gate  51.551339   0.025765\n5   Newham   Little Ilford  51.550584   0.069004\n6   Newham      Manor Park  51.550838   0.054591\n7   Newham        Maryland  51.546294   0.005349\n8   Newham  North Woolwich  51.496671   0.066561\n9   Newham        Plaistow  51.524382   0.024568\n10  Newham      Silvertown  51.497175   0.037769\n11  Newham       Stratford  51.542847  -0.003456\n12  Newham      Upton Park  51.535165   0.025046\n13  Newham        West Ham  51.535165   0.025046"
                    }, 
                    "output_type": "execute_result"
                }
            ], 
            "source": "Newham_borough"
        }, 
        {
            "execution_count": 256, 
            "cell_type": "code", 
            "metadata": {}, 
            "outputs": [
                {
                    "execution_count": 256, 
                    "metadata": {}, 
                    "data": {
                        "text/plain": "Borough          object\nNeighborhood     object\nLatitude        float64\nLongitude       float64\ndtype: object"
                    }, 
                    "output_type": "execute_result"
                }
            ], 
            "source": "Newham_borough.dtypes"
        }, 
        {
            "source": "#### Now lets get the Coordinates of Newham Borough", 
            "cell_type": "markdown", 
            "metadata": {}
        }, 
        {
            "execution_count": 257, 
            "cell_type": "code", 
            "metadata": {}, 
            "outputs": [
                {
                    "output_type": "stream", 
                    "name": "stdout", 
                    "text": "The geograpical coordinate of Newham are 51.52999955, 0.0293179602938221.\n"
                }
            ], 
            "source": "address = 'Newham, London'\n\ngeolocator = Nominatim()\nlocation = geolocator.geocode(address)\nlatitude = location.latitude\nlongitude = location.longitude\nprint('The geograpical coordinate of Newham are {}, {}.'.format(latitude, longitude))"
        }, 
        {
            "source": "### Let's Visualize the Areas(Neighborhoods) of Newham Borough", 
            "cell_type": "markdown", 
            "metadata": {}
        }, 
        {
            "execution_count": 258, 
            "cell_type": "code", 
            "metadata": {}, 
            "outputs": [
                {
                    "execution_count": 258, 
                    "metadata": {}, 
                    "data": {
                        "text/html": "<div style=\"width:100%;\"><div style=\"position:relative;width:100%;height:0;padding-bottom:60%;\"><iframe src=\"data:text/html;charset=utf-8;base64,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\" style=\"position:absolute;width:100%;height:100%;left:0;top:0;border:none !important;\" allowfullscreen webkitallowfullscreen mozallowfullscreen></iframe></div></div>", 
                        "text/plain": "<folium.folium.Map at 0x7fe38d5166a0>"
                    }, 
                    "output_type": "execute_result"
                }
            ], 
            "source": "# create map of Manhattan using latitude and longitude values\nmap_Newham = folium.Map(location=[latitude, longitude], zoom_start=11)\n\n# add markers to map\nfor lat, lng, label in zip(Newham_borough['Latitude'], Newham_borough['Longitude'], Newham_borough['Neighborhood']):\n    label = folium.Popup(label, parse_html=True)\n    folium.CircleMarker(\n        [lat, lng],\n        radius=5,\n        popup=label,\n        color='blue',\n        fill=True,\n        fill_color='#3186cc',\n        fill_opacity=0.7).add_to(map_Newham)  \n    \nmap_Newham"
        }, 
        {
            "source": "#### Define FourSquare Credentials ", 
            "cell_type": "markdown", 
            "metadata": {}
        }, 
        {
            "execution_count": 259, 
            "cell_type": "code", 
            "metadata": {}, 
            "outputs": [
                {
                    "output_type": "stream", 
                    "name": "stdout", 
                    "text": "Your credentails:\nCLIENT_ID: 2SOZTXSIXUULTVR1H5IXJJNRWOLETFJ3A1ZUMKN2T4Z30HFG\nCLIENT_SECRET:Z2H2BVM2JJH5KX5SWJ2UTFHOKZWBG4ELJ4UWJKAHIZID5MNJ\n"
                }
            ], 
            "source": "CLIENT_ID = '2SOZTXSIXUULTVR1H5IXJJNRWOLETFJ3A1ZUMKN2T4Z30HFG' # your Foursquare ID\nCLIENT_SECRET = 'Z2H2BVM2JJH5KX5SWJ2UTFHOKZWBG4ELJ4UWJKAHIZID5MNJ' # your Foursquare Secret\nVERSION = '20180605' # Foursquare API version\n\nprint('Your credentails:')\nprint('CLIENT_ID: ' + CLIENT_ID)\nprint('CLIENT_SECRET:' + CLIENT_SECRET)"
        }, 
        {
            "source": "#### Let's explore the first Neighborhood(Area) in Newham Borough", 
            "cell_type": "markdown", 
            "metadata": {}
        }, 
        {
            "execution_count": 260, 
            "cell_type": "code", 
            "metadata": {}, 
            "outputs": [
                {
                    "execution_count": 260, 
                    "metadata": {}, 
                    "data": {
                        "text/plain": "(14, 4)"
                    }, 
                    "output_type": "execute_result"
                }
            ], 
            "source": "Newham_borough.shape"
        }, 
        {
            "execution_count": 261, 
            "cell_type": "code", 
            "metadata": {}, 
            "outputs": [
                {
                    "execution_count": 261, 
                    "metadata": {}, 
                    "data": {
                        "text/plain": "Index(['Borough', 'Neighborhood', 'Latitude', 'Longitude'], dtype='object')"
                    }, 
                    "output_type": "execute_result"
                }
            ], 
            "source": "Newham_borough.columns"
        }, 
        {
            "execution_count": 262, 
            "cell_type": "code", 
            "metadata": {}, 
            "outputs": [
                {
                    "execution_count": 262, 
                    "metadata": {}, 
                    "data": {
                        "text/plain": "'Beckton'"
                    }, 
                    "output_type": "execute_result"
                }
            ], 
            "source": "Newham_borough.loc[0, 'Neighborhood']"
        }, 
        {
            "execution_count": 263, 
            "cell_type": "code", 
            "metadata": {}, 
            "outputs": [
                {
                    "execution_count": 263, 
                    "metadata": {}, 
                    "data": {
                        "text/plain": "Borough           Newham\nNeighborhood     Beckton\nLatitude         51.5146\nLongitude       0.067375\nName: 0, dtype: object"
                    }, 
                    "output_type": "execute_result"
                }
            ], 
            "source": "Newham_borough.loc[0]"
        }, 
        {
            "source": "#### Get the Neighborhood's latitude and longitude value ", 
            "cell_type": "markdown", 
            "metadata": {}
        }, 
        {
            "execution_count": 264, 
            "cell_type": "code", 
            "metadata": {}, 
            "outputs": [
                {
                    "output_type": "stream", 
                    "name": "stdout", 
                    "text": "Latitude and longitude values of Beckton are 51.514642, 0.067375.\n"
                }
            ], 
            "source": "neighborhood_latitude = Newham_borough.loc[0, 'Latitude'] # neighborhood latitude value\nneighborhood_longitude = Newham_borough.loc[0, 'Longitude'] # neighborhood longitude value\n\nneighborhood_name = Newham_borough.loc[0, 'Neighborhood'] # neighborhood name\n\nprint('Latitude and longitude values of {} are {}, {}.'.format(neighborhood_name, \n                                                               neighborhood_latitude, \n                                                               neighborhood_longitude))"
        }, 
        {
            "source": "#### Now get the top 100 places of Newham Neighborhood within 500KM radius \n#### Create the GET request URL. Name your URL url.", 
            "cell_type": "markdown", 
            "metadata": {}
        }, 
        {
            "execution_count": 265, 
            "cell_type": "code", 
            "metadata": {}, 
            "outputs": [
                {
                    "execution_count": 265, 
                    "metadata": {}, 
                    "data": {
                        "text/plain": "'https://api.foursquare.com/v2/venues/explore?&client_id=2SOZTXSIXUULTVR1H5IXJJNRWOLETFJ3A1ZUMKN2T4Z30HFG&client_secret=       Z2H2BVM2JJH5KX5SWJ2UTFHOKZWBG4ELJ4UWJKAHIZID5MNJ&v=20180605&ll=51.514642,0.067375&radius=500&limit=100'"
                    }, 
                    "output_type": "execute_result"
                }
            ], 
            "source": "LIMIT = 100 # limit of number of venues returned by Foursquare API\nradius = 500 # define radius\n# create URL\nurl = 'https://api.foursquare.com/v2/venues/explore?&client_id={}&client_secret=\\\n       {}&v={}&ll={},{}&radius={}&limit={}'.format(\n    CLIENT_ID, \n    CLIENT_SECRET, \n    VERSION, \n    neighborhood_latitude, \n    neighborhood_longitude, \n    radius, \n    LIMIT)\nurl # display URL"
        }, 
        {
            "execution_count": 266, 
            "cell_type": "code", 
            "metadata": {}, 
            "outputs": [
                {
                    "execution_count": 266, 
                    "metadata": {}, 
                    "data": {
                        "text/plain": "{'meta': {'code': 200, 'requestId': '5c523e13f594df20ee14ce51'},\n 'response': {'groups': [{'items': [{'reasons': {'count': 0,\n       'items': [{'reasonName': 'globalInteractionReason',\n         'summary': 'This spot is popular',\n         'type': 'general'}]},\n      'referralId': 'e-0-4cd462e4886cb60c1bcb7d89-0',\n      'venue': {'categories': [{'icon': {'prefix': 'https://ss3.4sqi.net/img/categories_v2/shops/food_grocery_',\n          'suffix': '.png'},\n         'id': '4bf58dd8d48988d118951735',\n         'name': 'Grocery Store',\n         'pluralName': 'Grocery Stores',\n         'primary': True,\n         'shortName': 'Grocery Store'}],\n       'id': '4cd462e4886cb60c1bcb7d89',\n       'location': {'address': 'Alpine Way (Unit 4C, Beckton Retail Park)',\n        'cc': 'GB',\n        'city': 'London',\n        'country': 'United Kingdom',\n        'distance': 367,\n        'formattedAddress': ['Alpine Way (Unit 4C, Beckton Retail Park)',\n         'London',\n         'Greater London',\n         'E6 6LA',\n         'United Kingdom'],\n        'labeledLatLngs': [{'label': 'display',\n          'lat': 51.51644209755886,\n          'lng': 0.06292681188810904}],\n        'lat': 51.51644209755886,\n        'lng': 0.06292681188810904,\n        'postalCode': 'E6 6LA',\n        'state': 'Greater London'},\n       'name': 'Lituanica',\n       'photos': {'count': 0, 'groups': []}}},\n     {'reasons': {'count': 0,\n       'items': [{'reasonName': 'globalInteractionReason',\n         'summary': 'This spot is popular',\n         'type': 'general'}]},\n      'referralId': 'e-0-52cecf5711d25db28fc70b17-1',\n      'venue': {'categories': [{'icon': {'prefix': 'https://ss3.4sqi.net/img/categories_v2/shops/discountstore_',\n          'suffix': '.png'},\n         'id': '52dea92d3cf9994f4e043dbb',\n         'name': 'Discount Store',\n         'pluralName': 'Discount Stores',\n         'primary': True,\n         'shortName': 'Discount Store'}],\n       'id': '52cecf5711d25db28fc70b17',\n       'location': {'address': 'Alpine Way',\n        'cc': 'GB',\n        'country': 'United Kingdom',\n        'distance': 427,\n        'formattedAddress': ['Alpine Way', 'United Kingdom'],\n        'labeledLatLngs': [{'label': 'display',\n          'lat': 51.517190267073836,\n          'lng': 0.06275368423335088}],\n        'lat': 51.517190267073836,\n        'lng': 0.06275368423335088},\n       'name': 'Home Bargains',\n       'photos': {'count': 0, 'groups': []}}},\n     {'reasons': {'count': 0,\n       'items': [{'reasonName': 'globalInteractionReason',\n         'summary': 'This spot is popular',\n         'type': 'general'}]},\n      'referralId': 'e-0-4bbed90a98f4952177d8d163-2',\n      'venue': {'categories': [{'icon': {'prefix': 'https://ss3.4sqi.net/img/categories_v2/travel/hotel_',\n          'suffix': '.png'},\n         'id': '4bf58dd8d48988d1fa931735',\n         'name': 'Hotel',\n         'pluralName': 'Hotels',\n         'primary': True,\n         'shortName': 'Hotel'}],\n       'id': '4bbed90a98f4952177d8d163',\n       'location': {'address': '1 Woolwich Manor Way',\n        'cc': 'GB',\n        'city': 'London',\n        'country': 'United Kingdom',\n        'crossStreet': '1 Woolwich Manor Way',\n        'distance': 445,\n        'formattedAddress': ['1 Woolwich Manor Way (1 Woolwich Manor Way)',\n         'London',\n         'E6 5NT',\n         'United Kingdom'],\n        'labeledLatLngs': [{'label': 'display',\n          'lat': 51.5150175,\n          'lng': 0.0609785}],\n        'lat': 51.5150175,\n        'lng': 0.0609785,\n        'postalCode': 'E6 5NT'},\n       'name': 'Premier Inn London Beckton',\n       'photos': {'count': 0, 'groups': []}}},\n     {'reasons': {'count': 0,\n       'items': [{'reasonName': 'globalInteractionReason',\n         'summary': 'This spot is popular',\n         'type': 'general'}]},\n      'referralId': 'e-0-4f942748e4b04c0c9f9862d0-3',\n      'venue': {'categories': [{'icon': {'prefix': 'https://ss3.4sqi.net/img/categories_v2/shops/furniture_',\n          'suffix': '.png'},\n         'id': '4bf58dd8d48988d1f8941735',\n         'name': 'Furniture / Home Store',\n         'pluralName': 'Furniture / Home Stores',\n         'primary': True,\n         'shortName': 'Furniture / Home'}],\n       'id': '4f942748e4b04c0c9f9862d0',\n       'location': {'address': 'Beckton Retail Park, Alpine Way',\n        'cc': 'GB',\n        'city': 'Beckton',\n        'country': 'United Kingdom',\n        'distance': 342,\n        'formattedAddress': ['Beckton Retail Park, Alpine Way',\n         'Beckton',\n         'Greater London',\n         'E6 6LA',\n         'United Kingdom'],\n        'labeledLatLngs': [{'label': 'display',\n          'lat': 51.516101,\n          'lng': 0.063028}],\n        'lat': 51.516101,\n        'lng': 0.063028,\n        'postalCode': 'E6 6LA',\n        'state': 'Greater London'},\n       'name': 'Dreams Beckton',\n       'photos': {'count': 0, 'groups': []}}},\n     {'reasons': {'count': 0,\n       'items': [{'reasonName': 'globalInteractionReason',\n         'summary': 'This spot is popular',\n         'type': 'general'}]},\n      'referralId': 'e-0-4bf69e4cbfeac92898a19436-4',\n      'venue': {'categories': [{'icon': {'prefix': 'https://ss3.4sqi.net/img/categories_v2/travel/lightrail_',\n          'suffix': '.png'},\n         'id': '4bf58dd8d48988d1fc931735',\n         'name': 'Light Rail Station',\n         'pluralName': 'Light Rail Stations',\n         'primary': True,\n         'shortName': 'Light Rail'}],\n       'id': '4bf69e4cbfeac92898a19436',\n       'location': {'address': 'Woolwich Manor Way',\n        'cc': 'GB',\n        'city': 'Beckton',\n        'country': 'United Kingdom',\n        'distance': 410,\n        'formattedAddress': ['Woolwich Manor Way',\n         'Beckton',\n         'Greater London',\n         'E6 5NT',\n         'United Kingdom'],\n        'labeledLatLngs': [{'label': 'display',\n          'lat': 51.51436463106562,\n          'lng': 0.061460137367248535}],\n        'lat': 51.51436463106562,\n        'lng': 0.061460137367248535,\n        'postalCode': 'E6 5NT',\n        'state': 'Greater London'},\n       'name': 'Beckton DLR Station',\n       'photos': {'count': 0, 'groups': []}}},\n     {'reasons': {'count': 0,\n       'items': [{'reasonName': 'globalInteractionReason',\n         'summary': 'This spot is popular',\n         'type': 'general'}]},\n      'referralId': 'e-0-50228c58e4b057124f4b1b58-5',\n      'venue': {'categories': [{'icon': {'prefix': 'https://ss3.4sqi.net/img/categories_v2/shops/apparel_',\n          'suffix': '.png'},\n         'id': '4bf58dd8d48988d103951735',\n         'name': 'Clothing Store',\n         'pluralName': 'Clothing Stores',\n         'primary': True,\n         'shortName': 'Apparel'}],\n       'id': '50228c58e4b057124f4b1b58',\n       'location': {'address': '8, Beckton Retail Park, Alpine Way',\n        'cc': 'GB',\n        'city': 'Beckton',\n        'country': 'United Kingdom',\n        'distance': 416,\n        'formattedAddress': ['8, Beckton Retail Park, Alpine Way',\n         'Beckton',\n         'E6 6LA',\n         'United Kingdom'],\n        'labeledLatLngs': [{'label': 'display',\n          'lat': 51.51626701119118,\n          'lng': 0.06196051215582541}],\n        'lat': 51.51626701119118,\n        'lng': 0.06196051215582541,\n        'postalCode': 'E6 6LA'},\n       'name': 'Matalan',\n       'photos': {'count': 0, 'groups': []}}},\n     {'reasons': {'count': 0,\n       'items': [{'reasonName': 'globalInteractionReason',\n         'summary': 'This spot is popular',\n         'type': 'general'}]},\n      'referralId': 'e-0-4cee7f6d0acea35d33ebe9ae-6',\n      'venue': {'categories': [{'icon': {'prefix': 'https://ss3.4sqi.net/img/categories_v2/shops/mall_',\n          'suffix': '.png'},\n         'id': '5744ccdfe4b0c0459246b4dc',\n         'name': 'Shopping Plaza',\n         'pluralName': 'Shopping Plazas',\n         'primary': True,\n         'shortName': 'Shopping Plaza'}],\n       'id': '4cee7f6d0acea35d33ebe9ae',\n       'location': {'address': '9 Alpine Way',\n        'cc': 'GB',\n        'city': 'Beckton',\n        'country': 'United Kingdom',\n        'distance': 483,\n        'formattedAddress': ['9 Alpine Way',\n         'Beckton',\n         'Greater London',\n         'E6 6LA',\n         'United Kingdom'],\n        'labeledLatLngs': [{'label': 'display',\n          'lat': 51.51527720416674,\n          'lng': 0.06047142600895339}],\n        'lat': 51.51527720416674,\n        'lng': 0.06047142600895339,\n        'postalCode': 'E6 6LA',\n        'state': 'Greater London'},\n       'name': 'Beckton Retail Park',\n       'photos': {'count': 0, 'groups': []}}},\n     {'reasons': {'count': 0,\n       'items': [{'reasonName': 'globalInteractionReason',\n         'summary': 'This spot is popular',\n         'type': 'general'}]},\n      'referralId': 'e-0-4c07fc177e3fc928ea98ef82-7',\n      'venue': {'categories': [{'icon': {'prefix': 'https://ss3.4sqi.net/img/categories_v2/nightlife/pub_',\n          'suffix': '.png'},\n         'id': '4bf58dd8d48988d11b941735',\n         'name': 'Pub',\n         'pluralName': 'Pubs',\n         'primary': True,\n         'shortName': 'Pub'}],\n       'id': '4c07fc177e3fc928ea98ef82',\n       'location': {'address': '1 Woolwich Manor Way',\n        'cc': 'GB',\n        'city': 'Beckton',\n        'country': 'United Kingdom',\n        'distance': 451,\n        'formattedAddress': ['1 Woolwich Manor Way',\n         'Beckton',\n         'Greater London',\n         'E6 5NT',\n         'United Kingdom'],\n        'labeledLatLngs': [{'label': 'display',\n          'lat': 51.51481196163808,\n          'lng': 0.06086126705726321}],\n        'lat': 51.51481196163808,\n        'lng': 0.06086126705726321,\n        'postalCode': 'E6 5NT',\n        'state': 'Greater London'},\n       'name': 'Brewers Fayre',\n       'photos': {'count': 0, 'groups': []}}}],\n    'name': 'recommended',\n    'type': 'Recommended Places'}],\n  'headerFullLocation': 'Beckton, London',\n  'headerLocation': 'Beckton',\n  'headerLocationGranularity': 'neighborhood',\n  'suggestedBounds': {'ne': {'lat': 51.519142004500004,\n    'lng': 0.07459257505421912},\n   'sw': {'lat': 51.5101419955, 'lng': 0.060157424945780885}},\n  'totalResults': 8}}"
                    }, 
                    "output_type": "execute_result"
                }
            ], 
            "source": "results = requests.get(url).json()\nresults"
        }, 
        {
            "source": "#### Extract the Categories of the Venues", 
            "cell_type": "markdown", 
            "metadata": {}
        }, 
        {
            "execution_count": 267, 
            "cell_type": "code", 
            "metadata": {}, 
            "outputs": [], 
            "source": "# function that extracts the category of the venue\ndef get_category_type(row):\n    try:\n        categories_list = row['categories']\n    except:\n        categories_list = row['venue.categories']\n        \n    if len(categories_list) == 0:\n        return None\n    else:\n        return categories_list[0]['name']"
        }, 
        {
            "source": "#### We are ready to clean the json and structure it into a pandas dataframe.", 
            "cell_type": "markdown", 
            "metadata": {}
        }, 
        {
            "execution_count": 268, 
            "cell_type": "code", 
            "metadata": {}, 
            "outputs": [
                {
                    "execution_count": 268, 
                    "metadata": {}, 
                    "data": {
                        "text/html": "<div>\n<style scoped>\n    .dataframe tbody tr th:only-of-type {\n        vertical-align: middle;\n    }\n\n    .dataframe tbody tr th {\n        vertical-align: top;\n    }\n\n    .dataframe thead th {\n        text-align: right;\n    }\n</style>\n<table border=\"1\" class=\"dataframe\">\n  <thead>\n    <tr style=\"text-align: right;\">\n      <th></th>\n      <th>name</th>\n      <th>categories</th>\n      <th>lat</th>\n      <th>lng</th>\n    </tr>\n  </thead>\n  <tbody>\n    <tr>\n      <th>0</th>\n      <td>Lituanica</td>\n      <td>Grocery Store</td>\n      <td>51.516442</td>\n      <td>0.062927</td>\n    </tr>\n    <tr>\n      <th>1</th>\n      <td>Home Bargains</td>\n      <td>Discount Store</td>\n      <td>51.517190</td>\n      <td>0.062754</td>\n    </tr>\n    <tr>\n      <th>2</th>\n      <td>Premier Inn London Beckton</td>\n      <td>Hotel</td>\n      <td>51.515017</td>\n      <td>0.060978</td>\n    </tr>\n    <tr>\n      <th>3</th>\n      <td>Dreams Beckton</td>\n      <td>Furniture / Home Store</td>\n      <td>51.516101</td>\n      <td>0.063028</td>\n    </tr>\n    <tr>\n      <th>4</th>\n      <td>Beckton DLR Station</td>\n      <td>Light Rail Station</td>\n      <td>51.514365</td>\n      <td>0.061460</td>\n    </tr>\n  </tbody>\n</table>\n</div>", 
                        "text/plain": "                         name              categories        lat       lng\n0                   Lituanica           Grocery Store  51.516442  0.062927\n1               Home Bargains          Discount Store  51.517190  0.062754\n2  Premier Inn London Beckton                   Hotel  51.515017  0.060978\n3              Dreams Beckton  Furniture / Home Store  51.516101  0.063028\n4         Beckton DLR Station      Light Rail Station  51.514365  0.061460"
                    }, 
                    "output_type": "execute_result"
                }
            ], 
            "source": "venues = results['response']['groups'][0]['items']\nnearby_venues = json_normalize(venues) # flatten JSON\n\n# filter columns\nfiltered_columns = ['venue.name', 'venue.categories', 'venue.location.lat', 'venue.location.lng']\nnearby_venues =nearby_venues.loc[:, filtered_columns]\n\n# filter the category for each row\nnearby_venues['venue.categories'] = nearby_venues.apply(get_category_type, axis=1)\n\n# clean columns\nnearby_venues.columns = [col.split(\".\")[-1] for col in nearby_venues.columns]\nnearby_venues.head()"
        }, 
        {
            "execution_count": 269, 
            "cell_type": "code", 
            "metadata": {}, 
            "outputs": [
                {
                    "execution_count": 269, 
                    "metadata": {}, 
                    "data": {
                        "text/plain": "(8, 4)"
                    }, 
                    "output_type": "execute_result"
                }
            ], 
            "source": "nearby_venues.shape"
        }, 
        {
            "execution_count": 270, 
            "cell_type": "code", 
            "metadata": {}, 
            "outputs": [
                {
                    "execution_count": 270, 
                    "metadata": {}, 
                    "data": {
                        "text/plain": "Dreams Beckton                1\nLituanica                     1\nBeckton Retail Park           1\nHome Bargains                 1\nMatalan                       1\nBeckton DLR Station           1\nPremier Inn London Beckton    1\nBrewers Fayre                 1\nName: name, dtype: int64"
                    }, 
                    "output_type": "execute_result"
                }
            ], 
            "source": "nearby_venues['name'].value_counts()"
        }, 
        {
            "source": "#### And how many venues were returned by Foursquare?", 
            "cell_type": "markdown", 
            "metadata": {}
        }, 
        {
            "execution_count": 271, 
            "cell_type": "code", 
            "metadata": {}, 
            "outputs": [
                {
                    "output_type": "stream", 
                    "name": "stdout", 
                    "text": "8 venues were returned by Foursquare.\n"
                }
            ], 
            "source": "print('{} venues were returned by Foursquare.'.format(nearby_venues.shape[0]))"
        }, 
        {
            "source": "### 2) Explore Neighborhoods in Newham Borough", 
            "cell_type": "markdown", 
            "metadata": {}
        }, 
        {
            "execution_count": 272, 
            "cell_type": "code", 
            "metadata": {}, 
            "outputs": [], 
            "source": "def getNearbyVenues(names, latitudes, longitudes, radius=500):\n    \n    venues_list=[]\n    for name, lat, lng in zip(names, latitudes, longitudes):\n        print(name)\n            \n        # create the API request URL\n        url = 'https://api.foursquare.com/v2/venues/explore?&client_id={}&client_secret={}&v={}&ll={},{}&radius={}&limit={}'.format(\n            CLIENT_ID, \n            CLIENT_SECRET, \n            VERSION, \n            lat, \n            lng, \n            radius, \n            LIMIT)\n            \n        # make the GET request\n        results = requests.get(url).json()[\"response\"]['groups'][0]['items']\n        \n        # return only relevant information for each nearby venue\n        venues_list.append([(\n            name, \n            lat, \n            lng, \n            v['venue']['name'], \n            v['venue']['location']['lat'], \n            v['venue']['location']['lng'],  \n            v['venue']['categories'][0]['name']) for v in results])\n\n    nearby_venues = pd.DataFrame([item for venue_list in venues_list for item in venue_list])\n    nearby_venues.columns = ['Neighborhood', \n                             'Neighborhood Latitude', \n                             'Neighborhood Longitude', \n                             'Venue', \n                             'Venue Latitude', \n                             'Venue Longitude', \n                             'Venue Category']\n    \n    return(nearby_venues)"
        }, 
        {
            "source": "#### Now write the code to run the above function on each neighborhood and create a new dataframe called Newham venues", 
            "cell_type": "markdown", 
            "metadata": {}
        }, 
        {
            "execution_count": 273, 
            "cell_type": "code", 
            "metadata": {}, 
            "outputs": [
                {
                    "output_type": "stream", 
                    "name": "stdout", 
                    "text": "Beckton\nCanning Town\nCustom House\nEast Ham\nForest Gate\nLittle Ilford\nManor Park\nMaryland\nNorth Woolwich\nPlaistow\nSilvertown\nStratford\nUpton Park\nWest Ham\n"
                }
            ], 
            "source": "Newham_venues = getNearbyVenues(names=Newham_borough['Neighborhood'],\n                                   latitudes=Newham_borough['Latitude'],\n                                   longitudes=Newham_borough['Longitude']\n                                  )"
        }, 
        {
            "execution_count": 274, 
            "cell_type": "code", 
            "metadata": {}, 
            "outputs": [
                {
                    "execution_count": 274, 
                    "metadata": {}, 
                    "data": {
                        "text/plain": "(208, 7)"
                    }, 
                    "output_type": "execute_result"
                }
            ], 
            "source": "Newham_venues.shape"
        }, 
        {
            "execution_count": 275, 
            "cell_type": "code", 
            "metadata": {}, 
            "outputs": [
                {
                    "execution_count": 275, 
                    "metadata": {}, 
                    "data": {
                        "text/html": "<div>\n<style scoped>\n    .dataframe tbody tr th:only-of-type {\n        vertical-align: middle;\n    }\n\n    .dataframe tbody tr th {\n        vertical-align: top;\n    }\n\n    .dataframe thead th {\n        text-align: right;\n    }\n</style>\n<table border=\"1\" class=\"dataframe\">\n  <thead>\n    <tr style=\"text-align: right;\">\n      <th></th>\n      <th>Neighborhood</th>\n      <th>Neighborhood Latitude</th>\n      <th>Neighborhood Longitude</th>\n      <th>Venue</th>\n      <th>Venue Latitude</th>\n      <th>Venue Longitude</th>\n      <th>Venue Category</th>\n    </tr>\n  </thead>\n  <tbody>\n    <tr>\n      <th>0</th>\n      <td>Beckton</td>\n      <td>51.514642</td>\n      <td>0.067375</td>\n      <td>Lituanica</td>\n      <td>51.516442</td>\n      <td>0.062927</td>\n      <td>Grocery Store</td>\n    </tr>\n    <tr>\n      <th>1</th>\n      <td>Beckton</td>\n      <td>51.514642</td>\n      <td>0.067375</td>\n      <td>Home Bargains</td>\n      <td>51.517190</td>\n      <td>0.062754</td>\n      <td>Discount Store</td>\n    </tr>\n    <tr>\n      <th>2</th>\n      <td>Beckton</td>\n      <td>51.514642</td>\n      <td>0.067375</td>\n      <td>Premier Inn London Beckton</td>\n      <td>51.515017</td>\n      <td>0.060978</td>\n      <td>Hotel</td>\n    </tr>\n    <tr>\n      <th>3</th>\n      <td>Beckton</td>\n      <td>51.514642</td>\n      <td>0.067375</td>\n      <td>Dreams Beckton</td>\n      <td>51.516101</td>\n      <td>0.063028</td>\n      <td>Furniture / Home Store</td>\n    </tr>\n    <tr>\n      <th>4</th>\n      <td>Beckton</td>\n      <td>51.514642</td>\n      <td>0.067375</td>\n      <td>Beckton DLR Station</td>\n      <td>51.514365</td>\n      <td>0.061460</td>\n      <td>Light Rail Station</td>\n    </tr>\n  </tbody>\n</table>\n</div>", 
                        "text/plain": "  Neighborhood  Neighborhood Latitude  Neighborhood Longitude  \\\n0      Beckton              51.514642                0.067375   \n1      Beckton              51.514642                0.067375   \n2      Beckton              51.514642                0.067375   \n3      Beckton              51.514642                0.067375   \n4      Beckton              51.514642                0.067375   \n\n                        Venue  Venue Latitude  Venue Longitude  \\\n0                   Lituanica       51.516442         0.062927   \n1               Home Bargains       51.517190         0.062754   \n2  Premier Inn London Beckton       51.515017         0.060978   \n3              Dreams Beckton       51.516101         0.063028   \n4         Beckton DLR Station       51.514365         0.061460   \n\n           Venue Category  \n0           Grocery Store  \n1          Discount Store  \n2                   Hotel  \n3  Furniture / Home Store  \n4      Light Rail Station  "
                    }, 
                    "output_type": "execute_result"
                }
            ], 
            "source": "Newham_venues.head()"
        }, 
        {
            "source": "#### Let's check how many venues were returned for each neighborhood", 
            "cell_type": "markdown", 
            "metadata": {}
        }, 
        {
            "execution_count": 276, 
            "cell_type": "code", 
            "metadata": {}, 
            "outputs": [
                {
                    "execution_count": 276, 
                    "metadata": {}, 
                    "data": {
                        "text/html": "<div>\n<style scoped>\n    .dataframe tbody tr th:only-of-type {\n        vertical-align: middle;\n    }\n\n    .dataframe tbody tr th {\n        vertical-align: top;\n    }\n\n    .dataframe thead th {\n        text-align: right;\n    }\n</style>\n<table border=\"1\" class=\"dataframe\">\n  <thead>\n    <tr style=\"text-align: right;\">\n      <th></th>\n      <th>Neighborhood Latitude</th>\n      <th>Neighborhood Longitude</th>\n      <th>Venue</th>\n      <th>Venue Latitude</th>\n      <th>Venue Longitude</th>\n      <th>Venue Category</th>\n    </tr>\n    <tr>\n      <th>Neighborhood</th>\n      <th></th>\n      <th></th>\n      <th></th>\n      <th></th>\n      <th></th>\n      <th></th>\n    </tr>\n  </thead>\n  <tbody>\n    <tr>\n      <th>Beckton</th>\n      <td>8</td>\n      <td>8</td>\n      <td>8</td>\n      <td>8</td>\n      <td>8</td>\n      <td>8</td>\n    </tr>\n    <tr>\n      <th>Canning Town</th>\n      <td>4</td>\n      <td>4</td>\n      <td>4</td>\n      <td>4</td>\n      <td>4</td>\n      <td>4</td>\n    </tr>\n    <tr>\n      <th>Custom House</th>\n      <td>26</td>\n      <td>26</td>\n      <td>26</td>\n      <td>26</td>\n      <td>26</td>\n      <td>26</td>\n    </tr>\n    <tr>\n      <th>East Ham</th>\n      <td>20</td>\n      <td>20</td>\n      <td>20</td>\n      <td>20</td>\n      <td>20</td>\n      <td>20</td>\n    </tr>\n    <tr>\n      <th>Forest Gate</th>\n      <td>9</td>\n      <td>9</td>\n      <td>9</td>\n      <td>9</td>\n      <td>9</td>\n      <td>9</td>\n    </tr>\n    <tr>\n      <th>Little Ilford</th>\n      <td>4</td>\n      <td>4</td>\n      <td>4</td>\n      <td>4</td>\n      <td>4</td>\n      <td>4</td>\n    </tr>\n    <tr>\n      <th>Manor Park</th>\n      <td>4</td>\n      <td>4</td>\n      <td>4</td>\n      <td>4</td>\n      <td>4</td>\n      <td>4</td>\n    </tr>\n    <tr>\n      <th>Maryland</th>\n      <td>22</td>\n      <td>22</td>\n      <td>22</td>\n      <td>22</td>\n      <td>22</td>\n      <td>22</td>\n    </tr>\n    <tr>\n      <th>North Woolwich</th>\n      <td>18</td>\n      <td>18</td>\n      <td>18</td>\n      <td>18</td>\n      <td>18</td>\n      <td>18</td>\n    </tr>\n    <tr>\n      <th>Plaistow</th>\n      <td>8</td>\n      <td>8</td>\n      <td>8</td>\n      <td>8</td>\n      <td>8</td>\n      <td>8</td>\n    </tr>\n    <tr>\n      <th>Silvertown</th>\n      <td>8</td>\n      <td>8</td>\n      <td>8</td>\n      <td>8</td>\n      <td>8</td>\n      <td>8</td>\n    </tr>\n    <tr>\n      <th>Stratford</th>\n      <td>67</td>\n      <td>67</td>\n      <td>67</td>\n      <td>67</td>\n      <td>67</td>\n      <td>67</td>\n    </tr>\n    <tr>\n      <th>Upton Park</th>\n      <td>5</td>\n      <td>5</td>\n      <td>5</td>\n      <td>5</td>\n      <td>5</td>\n      <td>5</td>\n    </tr>\n    <tr>\n      <th>West Ham</th>\n      <td>5</td>\n      <td>5</td>\n      <td>5</td>\n      <td>5</td>\n      <td>5</td>\n      <td>5</td>\n    </tr>\n  </tbody>\n</table>\n</div>", 
                        "text/plain": "                Neighborhood Latitude  Neighborhood Longitude  Venue  \\\nNeighborhood                                                           \nBeckton                             8                       8      8   \nCanning Town                        4                       4      4   \nCustom House                       26                      26     26   \nEast Ham                           20                      20     20   \nForest Gate                         9                       9      9   \nLittle Ilford                       4                       4      4   \nManor Park                          4                       4      4   \nMaryland                           22                      22     22   \nNorth Woolwich                     18                      18     18   \nPlaistow                            8                       8      8   \nSilvertown                          8                       8      8   \nStratford                          67                      67     67   \nUpton Park                          5                       5      5   \nWest Ham                            5                       5      5   \n\n                Venue Latitude  Venue Longitude  Venue Category  \nNeighborhood                                                     \nBeckton                      8                8               8  \nCanning Town                 4                4               4  \nCustom House                26               26              26  \nEast Ham                    20               20              20  \nForest Gate                  9                9               9  \nLittle Ilford                4                4               4  \nManor Park                   4                4               4  \nMaryland                    22               22              22  \nNorth Woolwich              18               18              18  \nPlaistow                     8                8               8  \nSilvertown                   8                8               8  \nStratford                   67               67              67  \nUpton Park                   5                5               5  \nWest Ham                     5                5               5  "
                    }, 
                    "output_type": "execute_result"
                }
            ], 
            "source": "Newham_venues.groupby('Neighborhood').count()"
        }, 
        {
            "source": "#### Let's find out how many unique categories can be curated from all the returned venues  ", 
            "cell_type": "markdown", 
            "metadata": {}
        }, 
        {
            "execution_count": 277, 
            "cell_type": "code", 
            "metadata": {}, 
            "outputs": [
                {
                    "output_type": "stream", 
                    "name": "stdout", 
                    "text": "There are 95 uniques categories.\n"
                }
            ], 
            "source": "print('There are {} uniques categories.'.format(len(Newham_venues['Venue Category'].unique())))"
        }, 
        {
            "source": "## 3) Analyze Each Neighborhood in Newham borough", 
            "cell_type": "markdown", 
            "metadata": {}
        }, 
        {
            "execution_count": 278, 
            "cell_type": "code", 
            "metadata": {}, 
            "outputs": [
                {
                    "execution_count": 278, 
                    "metadata": {}, 
                    "data": {
                        "text/html": "<div>\n<style scoped>\n    .dataframe tbody tr th:only-of-type {\n        vertical-align: middle;\n    }\n\n    .dataframe tbody tr th {\n        vertical-align: top;\n    }\n\n    .dataframe thead th {\n        text-align: right;\n    }\n</style>\n<table border=\"1\" class=\"dataframe\">\n  <thead>\n    <tr style=\"text-align: right;\">\n      <th></th>\n      <th>Neighborhood</th>\n      <th>Accessories Store</th>\n      <th>American Restaurant</th>\n      <th>Art Gallery</th>\n      <th>Asian Restaurant</th>\n      <th>Bagel Shop</th>\n      <th>Bakery</th>\n      <th>Bar</th>\n      <th>Boat or Ferry</th>\n      <th>Bookstore</th>\n      <th>...</th>\n      <th>Tapas Restaurant</th>\n      <th>Tennis Court</th>\n      <th>Thai Restaurant</th>\n      <th>Theater</th>\n      <th>Toy / Game Store</th>\n      <th>Train Station</th>\n      <th>Tunnel</th>\n      <th>Turkish Restaurant</th>\n      <th>Warehouse Store</th>\n      <th>Wine Bar</th>\n    </tr>\n  </thead>\n  <tbody>\n    <tr>\n      <th>0</th>\n      <td>Beckton</td>\n      <td>0</td>\n      <td>0</td>\n      <td>0</td>\n      <td>0</td>\n      <td>0</td>\n      <td>0</td>\n      <td>0</td>\n      <td>0</td>\n      <td>0</td>\n      <td>...</td>\n      <td>0</td>\n      <td>0</td>\n      <td>0</td>\n      <td>0</td>\n      <td>0</td>\n      <td>0</td>\n      <td>0</td>\n      <td>0</td>\n      <td>0</td>\n      <td>0</td>\n    </tr>\n    <tr>\n      <th>1</th>\n      <td>Beckton</td>\n      <td>0</td>\n      <td>0</td>\n      <td>0</td>\n      <td>0</td>\n      <td>0</td>\n      <td>0</td>\n      <td>0</td>\n      <td>0</td>\n      <td>0</td>\n      <td>...</td>\n      <td>0</td>\n      <td>0</td>\n      <td>0</td>\n      <td>0</td>\n      <td>0</td>\n      <td>0</td>\n      <td>0</td>\n      <td>0</td>\n      <td>0</td>\n      <td>0</td>\n    </tr>\n    <tr>\n      <th>2</th>\n      <td>Beckton</td>\n      <td>0</td>\n      <td>0</td>\n      <td>0</td>\n      <td>0</td>\n      <td>0</td>\n      <td>0</td>\n      <td>0</td>\n      <td>0</td>\n      <td>0</td>\n      <td>...</td>\n      <td>0</td>\n      <td>0</td>\n      <td>0</td>\n      <td>0</td>\n      <td>0</td>\n      <td>0</td>\n      <td>0</td>\n      <td>0</td>\n      <td>0</td>\n      <td>0</td>\n    </tr>\n    <tr>\n      <th>3</th>\n      <td>Beckton</td>\n      <td>0</td>\n      <td>0</td>\n      <td>0</td>\n      <td>0</td>\n      <td>0</td>\n      <td>0</td>\n      <td>0</td>\n      <td>0</td>\n      <td>0</td>\n      <td>...</td>\n      <td>0</td>\n      <td>0</td>\n      <td>0</td>\n      <td>0</td>\n      <td>0</td>\n      <td>0</td>\n      <td>0</td>\n      <td>0</td>\n      <td>0</td>\n      <td>0</td>\n    </tr>\n    <tr>\n      <th>4</th>\n      <td>Beckton</td>\n      <td>0</td>\n      <td>0</td>\n      <td>0</td>\n      <td>0</td>\n      <td>0</td>\n      <td>0</td>\n      <td>0</td>\n      <td>0</td>\n      <td>0</td>\n      <td>...</td>\n      <td>0</td>\n      <td>0</td>\n      <td>0</td>\n      <td>0</td>\n      <td>0</td>\n      <td>0</td>\n      <td>0</td>\n      <td>0</td>\n      <td>0</td>\n      <td>0</td>\n    </tr>\n  </tbody>\n</table>\n<p>5 rows \u00d7 96 columns</p>\n</div>", 
                        "text/plain": "  Neighborhood  Accessories Store  American Restaurant  Art Gallery  \\\n0      Beckton                  0                    0            0   \n1      Beckton                  0                    0            0   \n2      Beckton                  0                    0            0   \n3      Beckton                  0                    0            0   \n4      Beckton                  0                    0            0   \n\n   Asian Restaurant  Bagel Shop  Bakery  Bar  Boat or Ferry  Bookstore  \\\n0                 0           0       0    0              0          0   \n1                 0           0       0    0              0          0   \n2                 0           0       0    0              0          0   \n3                 0           0       0    0              0          0   \n4                 0           0       0    0              0          0   \n\n     ...     Tapas Restaurant  Tennis Court  Thai Restaurant  Theater  \\\n0    ...                    0             0                0        0   \n1    ...                    0             0                0        0   \n2    ...                    0             0                0        0   \n3    ...                    0             0                0        0   \n4    ...                    0             0                0        0   \n\n   Toy / Game Store  Train Station  Tunnel  Turkish Restaurant  \\\n0                 0              0       0                   0   \n1                 0              0       0                   0   \n2                 0              0       0                   0   \n3                 0              0       0                   0   \n4                 0              0       0                   0   \n\n   Warehouse Store  Wine Bar  \n0                0         0  \n1                0         0  \n2                0         0  \n3                0         0  \n4                0         0  \n\n[5 rows x 96 columns]"
                    }, 
                    "output_type": "execute_result"
                }
            ], 
            "source": "# one hot encoding\nNewham_onehot = pd.get_dummies(Newham_venues[['Venue Category']], prefix=\"\", prefix_sep=\"\")\n\n# add neighborhood column back to dataframe\nNewham_onehot['Neighborhood'] = Newham_venues['Neighborhood'] \n\n# move neighborhood column to the first column\nfixed_columns = [Newham_onehot.columns[-1]] + list(Newham_onehot.columns[:-1])\nNewham_onehot = Newham_onehot[fixed_columns]\n\nNewham_onehot.head()"
        }, 
        {
            "execution_count": 279, 
            "cell_type": "code", 
            "metadata": {}, 
            "outputs": [
                {
                    "execution_count": 279, 
                    "metadata": {}, 
                    "data": {
                        "text/plain": "(208, 96)"
                    }, 
                    "output_type": "execute_result"
                }
            ], 
            "source": "Newham_onehot.shape"
        }, 
        {
            "source": "#### Let's group rows by neighborhood and by taking the mean of the frequency of occurrence of each category", 
            "cell_type": "markdown", 
            "metadata": {}
        }, 
        {
            "execution_count": 280, 
            "cell_type": "code", 
            "metadata": {}, 
            "outputs": [
                {
                    "execution_count": 280, 
                    "metadata": {}, 
                    "data": {
                        "text/html": "<div>\n<style scoped>\n    .dataframe tbody tr th:only-of-type {\n        vertical-align: middle;\n    }\n\n    .dataframe tbody tr th {\n        vertical-align: top;\n    }\n\n    .dataframe thead th {\n        text-align: right;\n    }\n</style>\n<table border=\"1\" class=\"dataframe\">\n  <thead>\n    <tr style=\"text-align: right;\">\n      <th></th>\n      <th>Neighborhood</th>\n      <th>Accessories Store</th>\n      <th>American Restaurant</th>\n      <th>Art Gallery</th>\n      <th>Asian Restaurant</th>\n      <th>Bagel Shop</th>\n      <th>Bakery</th>\n      <th>Bar</th>\n      <th>Boat or Ferry</th>\n      <th>Bookstore</th>\n      <th>...</th>\n      <th>Tapas Restaurant</th>\n      <th>Tennis Court</th>\n      <th>Thai Restaurant</th>\n      <th>Theater</th>\n      <th>Toy / Game Store</th>\n      <th>Train Station</th>\n      <th>Tunnel</th>\n      <th>Turkish Restaurant</th>\n      <th>Warehouse Store</th>\n      <th>Wine Bar</th>\n    </tr>\n  </thead>\n  <tbody>\n    <tr>\n      <th>0</th>\n      <td>Beckton</td>\n      <td>0.000000</td>\n      <td>0.000000</td>\n      <td>0.000000</td>\n      <td>0.000000</td>\n      <td>0.000000</td>\n      <td>0.000000</td>\n      <td>0.000000</td>\n      <td>0.000000</td>\n      <td>0.000000</td>\n      <td>...</td>\n      <td>0.000000</td>\n      <td>0.00</td>\n      <td>0.000000</td>\n      <td>0.000</td>\n      <td>0.000000</td>\n      <td>0.000000</td>\n      <td>0.000000</td>\n      <td>0.00</td>\n      <td>0.000000</td>\n      <td>0.000000</td>\n    </tr>\n    <tr>\n      <th>1</th>\n      <td>Canning Town</td>\n      <td>0.000000</td>\n      <td>0.000000</td>\n      <td>0.000000</td>\n      <td>0.000000</td>\n      <td>0.000000</td>\n      <td>0.000000</td>\n      <td>0.000000</td>\n      <td>0.000000</td>\n      <td>0.000000</td>\n      <td>...</td>\n      <td>0.000000</td>\n      <td>0.25</td>\n      <td>0.000000</td>\n      <td>0.000</td>\n      <td>0.000000</td>\n      <td>0.000000</td>\n      <td>0.000000</td>\n      <td>0.00</td>\n      <td>0.000000</td>\n      <td>0.000000</td>\n    </tr>\n    <tr>\n      <th>2</th>\n      <td>Custom House</td>\n      <td>0.000000</td>\n      <td>0.038462</td>\n      <td>0.000000</td>\n      <td>0.000000</td>\n      <td>0.038462</td>\n      <td>0.038462</td>\n      <td>0.000000</td>\n      <td>0.000000</td>\n      <td>0.000000</td>\n      <td>...</td>\n      <td>0.038462</td>\n      <td>0.00</td>\n      <td>0.000000</td>\n      <td>0.000</td>\n      <td>0.000000</td>\n      <td>0.000000</td>\n      <td>0.000000</td>\n      <td>0.00</td>\n      <td>0.000000</td>\n      <td>0.038462</td>\n    </tr>\n    <tr>\n      <th>3</th>\n      <td>East Ham</td>\n      <td>0.000000</td>\n      <td>0.000000</td>\n      <td>0.000000</td>\n      <td>0.000000</td>\n      <td>0.000000</td>\n      <td>0.050000</td>\n      <td>0.000000</td>\n      <td>0.000000</td>\n      <td>0.050000</td>\n      <td>...</td>\n      <td>0.000000</td>\n      <td>0.00</td>\n      <td>0.000000</td>\n      <td>0.000</td>\n      <td>0.000000</td>\n      <td>0.000000</td>\n      <td>0.000000</td>\n      <td>0.05</td>\n      <td>0.050000</td>\n      <td>0.000000</td>\n    </tr>\n    <tr>\n      <th>4</th>\n      <td>Forest Gate</td>\n      <td>0.000000</td>\n      <td>0.000000</td>\n      <td>0.000000</td>\n      <td>0.000000</td>\n      <td>0.000000</td>\n      <td>0.111111</td>\n      <td>0.000000</td>\n      <td>0.000000</td>\n      <td>0.000000</td>\n      <td>...</td>\n      <td>0.000000</td>\n      <td>0.00</td>\n      <td>0.000000</td>\n      <td>0.000</td>\n      <td>0.000000</td>\n      <td>0.111111</td>\n      <td>0.000000</td>\n      <td>0.00</td>\n      <td>0.000000</td>\n      <td>0.000000</td>\n    </tr>\n    <tr>\n      <th>5</th>\n      <td>Little Ilford</td>\n      <td>0.000000</td>\n      <td>0.000000</td>\n      <td>0.000000</td>\n      <td>0.000000</td>\n      <td>0.000000</td>\n      <td>0.000000</td>\n      <td>0.000000</td>\n      <td>0.000000</td>\n      <td>0.000000</td>\n      <td>...</td>\n      <td>0.000000</td>\n      <td>0.00</td>\n      <td>0.000000</td>\n      <td>0.000</td>\n      <td>0.000000</td>\n      <td>0.000000</td>\n      <td>0.000000</td>\n      <td>0.00</td>\n      <td>0.000000</td>\n      <td>0.000000</td>\n    </tr>\n    <tr>\n      <th>6</th>\n      <td>Manor Park</td>\n      <td>0.000000</td>\n      <td>0.000000</td>\n      <td>0.000000</td>\n      <td>0.000000</td>\n      <td>0.000000</td>\n      <td>0.000000</td>\n      <td>0.000000</td>\n      <td>0.000000</td>\n      <td>0.000000</td>\n      <td>...</td>\n      <td>0.000000</td>\n      <td>0.00</td>\n      <td>0.000000</td>\n      <td>0.000</td>\n      <td>0.000000</td>\n      <td>0.000000</td>\n      <td>0.000000</td>\n      <td>0.25</td>\n      <td>0.000000</td>\n      <td>0.000000</td>\n    </tr>\n    <tr>\n      <th>7</th>\n      <td>Maryland</td>\n      <td>0.000000</td>\n      <td>0.000000</td>\n      <td>0.000000</td>\n      <td>0.000000</td>\n      <td>0.000000</td>\n      <td>0.000000</td>\n      <td>0.045455</td>\n      <td>0.000000</td>\n      <td>0.000000</td>\n      <td>...</td>\n      <td>0.000000</td>\n      <td>0.00</td>\n      <td>0.000000</td>\n      <td>0.000</td>\n      <td>0.000000</td>\n      <td>0.000000</td>\n      <td>0.000000</td>\n      <td>0.00</td>\n      <td>0.000000</td>\n      <td>0.000000</td>\n    </tr>\n    <tr>\n      <th>8</th>\n      <td>North Woolwich</td>\n      <td>0.000000</td>\n      <td>0.000000</td>\n      <td>0.000000</td>\n      <td>0.000000</td>\n      <td>0.000000</td>\n      <td>0.000000</td>\n      <td>0.000000</td>\n      <td>0.055556</td>\n      <td>0.000000</td>\n      <td>...</td>\n      <td>0.000000</td>\n      <td>0.00</td>\n      <td>0.000000</td>\n      <td>0.000</td>\n      <td>0.000000</td>\n      <td>0.000000</td>\n      <td>0.055556</td>\n      <td>0.00</td>\n      <td>0.000000</td>\n      <td>0.000000</td>\n    </tr>\n    <tr>\n      <th>9</th>\n      <td>Plaistow</td>\n      <td>0.000000</td>\n      <td>0.000000</td>\n      <td>0.000000</td>\n      <td>0.000000</td>\n      <td>0.000000</td>\n      <td>0.000000</td>\n      <td>0.000000</td>\n      <td>0.000000</td>\n      <td>0.000000</td>\n      <td>...</td>\n      <td>0.000000</td>\n      <td>0.00</td>\n      <td>0.000000</td>\n      <td>0.000</td>\n      <td>0.000000</td>\n      <td>0.000000</td>\n      <td>0.000000</td>\n      <td>0.00</td>\n      <td>0.000000</td>\n      <td>0.000000</td>\n    </tr>\n    <tr>\n      <th>10</th>\n      <td>Silvertown</td>\n      <td>0.000000</td>\n      <td>0.000000</td>\n      <td>0.000000</td>\n      <td>0.000000</td>\n      <td>0.000000</td>\n      <td>0.000000</td>\n      <td>0.000000</td>\n      <td>0.000000</td>\n      <td>0.000000</td>\n      <td>...</td>\n      <td>0.000000</td>\n      <td>0.00</td>\n      <td>0.000000</td>\n      <td>0.125</td>\n      <td>0.000000</td>\n      <td>0.000000</td>\n      <td>0.000000</td>\n      <td>0.00</td>\n      <td>0.000000</td>\n      <td>0.000000</td>\n    </tr>\n    <tr>\n      <th>11</th>\n      <td>Stratford</td>\n      <td>0.014925</td>\n      <td>0.000000</td>\n      <td>0.014925</td>\n      <td>0.014925</td>\n      <td>0.000000</td>\n      <td>0.014925</td>\n      <td>0.029851</td>\n      <td>0.000000</td>\n      <td>0.029851</td>\n      <td>...</td>\n      <td>0.000000</td>\n      <td>0.00</td>\n      <td>0.014925</td>\n      <td>0.000</td>\n      <td>0.029851</td>\n      <td>0.000000</td>\n      <td>0.000000</td>\n      <td>0.00</td>\n      <td>0.014925</td>\n      <td>0.000000</td>\n    </tr>\n    <tr>\n      <th>12</th>\n      <td>Upton Park</td>\n      <td>0.000000</td>\n      <td>0.000000</td>\n      <td>0.000000</td>\n      <td>0.000000</td>\n      <td>0.000000</td>\n      <td>0.000000</td>\n      <td>0.000000</td>\n      <td>0.000000</td>\n      <td>0.000000</td>\n      <td>...</td>\n      <td>0.000000</td>\n      <td>0.00</td>\n      <td>0.000000</td>\n      <td>0.000</td>\n      <td>0.000000</td>\n      <td>0.000000</td>\n      <td>0.000000</td>\n      <td>0.00</td>\n      <td>0.000000</td>\n      <td>0.000000</td>\n    </tr>\n    <tr>\n      <th>13</th>\n      <td>West Ham</td>\n      <td>0.000000</td>\n      <td>0.000000</td>\n      <td>0.000000</td>\n      <td>0.000000</td>\n      <td>0.000000</td>\n      <td>0.000000</td>\n      <td>0.000000</td>\n      <td>0.000000</td>\n      <td>0.000000</td>\n      <td>...</td>\n      <td>0.000000</td>\n      <td>0.00</td>\n      <td>0.000000</td>\n      <td>0.000</td>\n      <td>0.000000</td>\n      <td>0.000000</td>\n      <td>0.000000</td>\n      <td>0.00</td>\n      <td>0.000000</td>\n      <td>0.000000</td>\n    </tr>\n  </tbody>\n</table>\n<p>14 rows \u00d7 96 columns</p>\n</div>", 
                        "text/plain": "      Neighborhood  Accessories Store  American Restaurant  Art Gallery  \\\n0          Beckton           0.000000             0.000000     0.000000   \n1     Canning Town           0.000000             0.000000     0.000000   \n2     Custom House           0.000000             0.038462     0.000000   \n3         East Ham           0.000000             0.000000     0.000000   \n4      Forest Gate           0.000000             0.000000     0.000000   \n5    Little Ilford           0.000000             0.000000     0.000000   \n6       Manor Park           0.000000             0.000000     0.000000   \n7         Maryland           0.000000             0.000000     0.000000   \n8   North Woolwich           0.000000             0.000000     0.000000   \n9         Plaistow           0.000000             0.000000     0.000000   \n10      Silvertown           0.000000             0.000000     0.000000   \n11       Stratford           0.014925             0.000000     0.014925   \n12      Upton Park           0.000000             0.000000     0.000000   \n13        West Ham           0.000000             0.000000     0.000000   \n\n    Asian Restaurant  Bagel Shop    Bakery       Bar  Boat or Ferry  \\\n0           0.000000    0.000000  0.000000  0.000000       0.000000   \n1           0.000000    0.000000  0.000000  0.000000       0.000000   \n2           0.000000    0.038462  0.038462  0.000000       0.000000   \n3           0.000000    0.000000  0.050000  0.000000       0.000000   \n4           0.000000    0.000000  0.111111  0.000000       0.000000   \n5           0.000000    0.000000  0.000000  0.000000       0.000000   \n6           0.000000    0.000000  0.000000  0.000000       0.000000   \n7           0.000000    0.000000  0.000000  0.045455       0.000000   \n8           0.000000    0.000000  0.000000  0.000000       0.055556   \n9           0.000000    0.000000  0.000000  0.000000       0.000000   \n10          0.000000    0.000000  0.000000  0.000000       0.000000   \n11          0.014925    0.000000  0.014925  0.029851       0.000000   \n12          0.000000    0.000000  0.000000  0.000000       0.000000   \n13          0.000000    0.000000  0.000000  0.000000       0.000000   \n\n    Bookstore    ...     Tapas Restaurant  Tennis Court  Thai Restaurant  \\\n0    0.000000    ...             0.000000          0.00         0.000000   \n1    0.000000    ...             0.000000          0.25         0.000000   \n2    0.000000    ...             0.038462          0.00         0.000000   \n3    0.050000    ...             0.000000          0.00         0.000000   \n4    0.000000    ...             0.000000          0.00         0.000000   \n5    0.000000    ...             0.000000          0.00         0.000000   \n6    0.000000    ...             0.000000          0.00         0.000000   \n7    0.000000    ...             0.000000          0.00         0.000000   \n8    0.000000    ...             0.000000          0.00         0.000000   \n9    0.000000    ...             0.000000          0.00         0.000000   \n10   0.000000    ...             0.000000          0.00         0.000000   \n11   0.029851    ...             0.000000          0.00         0.014925   \n12   0.000000    ...             0.000000          0.00         0.000000   \n13   0.000000    ...             0.000000          0.00         0.000000   \n\n    Theater  Toy / Game Store  Train Station    Tunnel  Turkish Restaurant  \\\n0     0.000          0.000000       0.000000  0.000000                0.00   \n1     0.000          0.000000       0.000000  0.000000                0.00   \n2     0.000          0.000000       0.000000  0.000000                0.00   \n3     0.000          0.000000       0.000000  0.000000                0.05   \n4     0.000          0.000000       0.111111  0.000000                0.00   \n5     0.000          0.000000       0.000000  0.000000                0.00   \n6     0.000          0.000000       0.000000  0.000000                0.25   \n7     0.000          0.000000       0.000000  0.000000                0.00   \n8     0.000          0.000000       0.000000  0.055556                0.00   \n9     0.000          0.000000       0.000000  0.000000                0.00   \n10    0.125          0.000000       0.000000  0.000000                0.00   \n11    0.000          0.029851       0.000000  0.000000                0.00   \n12    0.000          0.000000       0.000000  0.000000                0.00   \n13    0.000          0.000000       0.000000  0.000000                0.00   \n\n    Warehouse Store  Wine Bar  \n0          0.000000  0.000000  \n1          0.000000  0.000000  \n2          0.000000  0.038462  \n3          0.050000  0.000000  \n4          0.000000  0.000000  \n5          0.000000  0.000000  \n6          0.000000  0.000000  \n7          0.000000  0.000000  \n8          0.000000  0.000000  \n9          0.000000  0.000000  \n10         0.000000  0.000000  \n11         0.014925  0.000000  \n12         0.000000  0.000000  \n13         0.000000  0.000000  \n\n[14 rows x 96 columns]"
                    }, 
                    "output_type": "execute_result"
                }
            ], 
            "source": "Newham_grouped = Newham_onehot.groupby('Neighborhood').mean().reset_index()\nNewham_grouped"
        }, 
        {
            "execution_count": 281, 
            "cell_type": "code", 
            "metadata": {}, 
            "outputs": [
                {
                    "execution_count": 281, 
                    "metadata": {}, 
                    "data": {
                        "text/plain": "Index(['Neighborhood', 'Accessories Store', 'American Restaurant',\n       'Art Gallery', 'Asian Restaurant', 'Bagel Shop', 'Bakery', 'Bar',\n       'Boat or Ferry', 'Bookstore', 'Boutique', 'Brewery', 'Bridal Shop',\n       'Bridge', 'Bubble Tea Shop', 'Burger Joint', 'Bus Line', 'Bus Stop',\n       'Caf\u00e9', 'Chinese Restaurant', 'Clothing Store', 'Coffee Shop',\n       'Construction & Landscaping', 'Convenience Store', 'Cosmetics Shop',\n       'Creperie', 'Dance Studio', 'Department Store', 'Dessert Shop',\n       'Discount Store', 'Doner Restaurant', 'Eastern European Restaurant',\n       'Electronics Store', 'English Restaurant', 'Fast Food Restaurant',\n       'Food Court', 'Fried Chicken Joint', 'Furniture / Home Store',\n       'Gas Station', 'General Entertainment', 'Gift Shop', 'Go Kart Track',\n       'Greek Restaurant', 'Grocery Store', 'Gym / Fitness Center', 'Gym Pool',\n       'History Museum', 'Hotel', 'Hotel Bar', 'Ice Cream Shop',\n       'Indian Restaurant', 'Indie Movie Theater', 'Indie Theater',\n       'Italian Restaurant', 'Japanese Restaurant', 'Juice Bar',\n       'Latin American Restaurant', 'Light Rail Station', 'Lingerie Store',\n       'Liquor Store', 'Market', 'Mediterranean Restaurant', 'Men's Store',\n       'Mexican Restaurant', 'Movie Theater', 'Moving Target', 'Museum',\n       'Outdoor Sculpture', 'Paintball Field', 'Park', 'Pharmacy', 'Pier',\n       'Pizza Place', 'Plaza', 'Portuguese Restaurant', 'Pub', 'Restaurant',\n       'Salad Place', 'Sandwich Place', 'Scenic Lookout', 'Sculpture Garden',\n       'Shopping Mall', 'Shopping Plaza', 'Sporting Goods Shop', 'Supermarket',\n       'Sushi Restaurant', 'Tapas Restaurant', 'Tennis Court',\n       'Thai Restaurant', 'Theater', 'Toy / Game Store', 'Train Station',\n       'Tunnel', 'Turkish Restaurant', 'Warehouse Store', 'Wine Bar'],\n      dtype='object')"
                    }, 
                    "output_type": "execute_result"
                }
            ], 
            "source": "Newham_grouped.columns"
        }, 
        {
            "execution_count": 282, 
            "cell_type": "code", 
            "metadata": {}, 
            "outputs": [
                {
                    "execution_count": 282, 
                    "metadata": {}, 
                    "data": {
                        "text/plain": "(14, 96)"
                    }, 
                    "output_type": "execute_result"
                }
            ], 
            "source": "Newham_grouped.shape"
        }, 
        {
            "source": "#### Let's print each neighborhood along with the top 5 most common venues", 
            "cell_type": "markdown", 
            "metadata": {}
        }, 
        {
            "execution_count": 283, 
            "cell_type": "code", 
            "metadata": {}, 
            "outputs": [
                {
                    "output_type": "stream", 
                    "name": "stdout", 
                    "text": "----Beckton----\n                    venue  freq\n0          Discount Store  0.12\n1  Furniture / Home Store  0.12\n2                   Hotel  0.12\n3                     Pub  0.12\n4      Light Rail Station  0.12\n\n\n----Canning Town----\n                      venue  freq\n0               Gas Station  0.25\n1         Convenience Store  0.25\n2                      Park  0.25\n3              Tennis Court  0.25\n4  Mediterranean Restaurant  0.00\n\n\n----Custom House----\n                 venue  freq\n0                Hotel  0.19\n1                  Pub  0.08\n2            Hotel Bar  0.04\n3  Japanese Restaurant  0.04\n4    Convenience Store  0.04\n\n\n----East Ham----\n                  venue  freq\n0        Clothing Store  0.10\n1  Fast Food Restaurant  0.10\n2         Grocery Store  0.05\n3              Gym Pool  0.05\n4         Shopping Mall  0.05\n\n\n----Forest Gate----\n                venue  freq\n0       Grocery Store  0.22\n1  Italian Restaurant  0.11\n2                 Pub  0.11\n3              Bakery  0.11\n4       Train Station  0.11\n\n\n----Little Ilford----\n                 venue  freq\n0       Ice Cream Shop  0.25\n1        Grocery Store  0.25\n2  Fried Chicken Joint  0.25\n3    Indian Restaurant  0.25\n4   Italian Restaurant  0.00\n\n\n----Manor Park----\n                      venue  freq\n0         Indian Restaurant  0.25\n1        Turkish Restaurant  0.25\n2      Gym / Fitness Center  0.25\n3                Restaurant  0.25\n4  Mediterranean Restaurant  0.00\n\n\n----Maryland----\n                   venue  freq\n0                    Pub  0.14\n1                  Hotel  0.14\n2               Bus Stop  0.09\n3          Grocery Store  0.09\n4  Portuguese Restaurant  0.05\n\n\n----North Woolwich----\n                venue  freq\n0                Pier  0.17\n1      History Museum  0.11\n2  Italian Restaurant  0.06\n3       Grocery Store  0.06\n4               Plaza  0.06\n\n\n----Plaistow----\n                  venue  freq\n0                  Park  0.25\n1                  Caf\u00e9  0.25\n2     Indian Restaurant  0.12\n3  Gym / Fitness Center  0.12\n4         Grocery Store  0.12\n\n\n----Silvertown----\n                        venue  freq\n0                        Park  0.12\n1             Paintball Field  0.12\n2  Construction & Landscaping  0.12\n3        Gym / Fitness Center  0.12\n4                     Theater  0.12\n\n\n----Stratford----\n                  venue  freq\n0                   Pub  0.06\n1        Sandwich Place  0.04\n2  Fast Food Restaurant  0.03\n3           Pizza Place  0.03\n4                 Hotel  0.03\n\n\n----Upton Park----\n               venue  freq\n0                Pub   0.2\n1  Convenience Store   0.2\n2           Boutique   0.2\n3           Bus Stop   0.2\n4           Bus Line   0.2\n\n\n----West Ham----\n               venue  freq\n0                Pub   0.2\n1  Convenience Store   0.2\n2           Boutique   0.2\n3           Bus Stop   0.2\n4           Bus Line   0.2\n\n\n"
                }
            ], 
            "source": "num_top_venues = 5\nfor hood in Newham_grouped['Neighborhood']:\n    print(\"----\"+hood+\"----\")\n    temp = Newham_grouped[Newham_grouped['Neighborhood'] == hood].T.reset_index()\n    temp.columns = ['venue','freq']\n    temp = temp.iloc[1:]\n    temp['freq'] = temp['freq'].astype(float)\n    temp = temp.round({'freq': 2})\n    print(temp.sort_values('freq', ascending=False).reset_index(drop=True).head(num_top_venues))\n    print('\\n')"
        }, 
        {
            "source": "#### Let's put that into a pandas dataframe\n#### First, let's write a function to sort the venues in descending order.", 
            "cell_type": "markdown", 
            "metadata": {}
        }, 
        {
            "execution_count": 284, 
            "cell_type": "code", 
            "metadata": {}, 
            "outputs": [], 
            "source": "def return_most_common_venues(row, num_top_venues):\n    row_categories = row.iloc[1:]\n    row_categories_sorted = row_categories.sort_values(ascending=False)\n    \n    return row_categories_sorted.index.values[0:num_top_venues]"
        }, 
        {
            "source": "#### Now let's create the new dataframe and display the top 10 venues for each neighborhood.", 
            "cell_type": "markdown", 
            "metadata": {}
        }, 
        {
            "execution_count": 285, 
            "cell_type": "code", 
            "metadata": {}, 
            "outputs": [
                {
                    "execution_count": 285, 
                    "metadata": {}, 
                    "data": {
                        "text/html": "<div>\n<style scoped>\n    .dataframe tbody tr th:only-of-type {\n        vertical-align: middle;\n    }\n\n    .dataframe tbody tr th {\n        vertical-align: top;\n    }\n\n    .dataframe thead th {\n        text-align: right;\n    }\n</style>\n<table border=\"1\" class=\"dataframe\">\n  <thead>\n    <tr style=\"text-align: right;\">\n      <th></th>\n      <th>Neighborhood</th>\n      <th>1st Most Common Venue</th>\n      <th>2nd Most Common Venue</th>\n      <th>3rd Most Common Venue</th>\n      <th>4th Most Common Venue</th>\n      <th>5th Most Common Venue</th>\n      <th>6th Most Common Venue</th>\n      <th>7th Most Common Venue</th>\n      <th>8th Most Common Venue</th>\n      <th>9th Most Common Venue</th>\n      <th>10th Most Common Venue</th>\n    </tr>\n  </thead>\n  <tbody>\n    <tr>\n      <th>0</th>\n      <td>Beckton</td>\n      <td>Hotel</td>\n      <td>Furniture / Home Store</td>\n      <td>Clothing Store</td>\n      <td>Pub</td>\n      <td>Discount Store</td>\n      <td>Light Rail Station</td>\n      <td>Shopping Plaza</td>\n      <td>Grocery Store</td>\n      <td>General Entertainment</td>\n      <td>Eastern European Restaurant</td>\n    </tr>\n    <tr>\n      <th>1</th>\n      <td>Canning Town</td>\n      <td>Convenience Store</td>\n      <td>Tennis Court</td>\n      <td>Gas Station</td>\n      <td>Park</td>\n      <td>Greek Restaurant</td>\n      <td>Go Kart Track</td>\n      <td>Creperie</td>\n      <td>Dance Studio</td>\n      <td>Department Store</td>\n      <td>Dessert Shop</td>\n    </tr>\n    <tr>\n      <th>2</th>\n      <td>Custom House</td>\n      <td>Hotel</td>\n      <td>Pub</td>\n      <td>Wine Bar</td>\n      <td>English Restaurant</td>\n      <td>Light Rail Station</td>\n      <td>Japanese Restaurant</td>\n      <td>Italian Restaurant</td>\n      <td>Gym / Fitness Center</td>\n      <td>Convenience Store</td>\n      <td>Salad Place</td>\n    </tr>\n    <tr>\n      <th>3</th>\n      <td>East Ham</td>\n      <td>Fast Food Restaurant</td>\n      <td>Clothing Store</td>\n      <td>Park</td>\n      <td>Sporting Goods Shop</td>\n      <td>Pub</td>\n      <td>Sandwich Place</td>\n      <td>Caf\u00e9</td>\n      <td>Chinese Restaurant</td>\n      <td>Shopping Mall</td>\n      <td>Grocery Store</td>\n    </tr>\n    <tr>\n      <th>4</th>\n      <td>Forest Gate</td>\n      <td>Grocery Store</td>\n      <td>Train Station</td>\n      <td>Moving Target</td>\n      <td>Bakery</td>\n      <td>Italian Restaurant</td>\n      <td>Pub</td>\n      <td>Caf\u00e9</td>\n      <td>Fast Food Restaurant</td>\n      <td>Wine Bar</td>\n      <td>Electronics Store</td>\n    </tr>\n    <tr>\n      <th>5</th>\n      <td>Little Ilford</td>\n      <td>Fried Chicken Joint</td>\n      <td>Ice Cream Shop</td>\n      <td>Indian Restaurant</td>\n      <td>Grocery Store</td>\n      <td>Fast Food Restaurant</td>\n      <td>Dance Studio</td>\n      <td>Department Store</td>\n      <td>Dessert Shop</td>\n      <td>Discount Store</td>\n      <td>Doner Restaurant</td>\n    </tr>\n    <tr>\n      <th>6</th>\n      <td>Manor Park</td>\n      <td>Turkish Restaurant</td>\n      <td>Gym / Fitness Center</td>\n      <td>Indian Restaurant</td>\n      <td>Restaurant</td>\n      <td>Wine Bar</td>\n      <td>Fast Food Restaurant</td>\n      <td>Dance Studio</td>\n      <td>Department Store</td>\n      <td>Dessert Shop</td>\n      <td>Discount Store</td>\n    </tr>\n    <tr>\n      <th>7</th>\n      <td>Maryland</td>\n      <td>Hotel</td>\n      <td>Pub</td>\n      <td>Bus Stop</td>\n      <td>Grocery Store</td>\n      <td>Supermarket</td>\n      <td>Liquor Store</td>\n      <td>Portuguese Restaurant</td>\n      <td>Caf\u00e9</td>\n      <td>Sculpture Garden</td>\n      <td>Dance Studio</td>\n    </tr>\n    <tr>\n      <th>8</th>\n      <td>North Woolwich</td>\n      <td>Pier</td>\n      <td>History Museum</td>\n      <td>Clothing Store</td>\n      <td>Scenic Lookout</td>\n      <td>Gym / Fitness Center</td>\n      <td>Hotel</td>\n      <td>Italian Restaurant</td>\n      <td>Outdoor Sculpture</td>\n      <td>Pharmacy</td>\n      <td>Chinese Restaurant</td>\n    </tr>\n    <tr>\n      <th>9</th>\n      <td>Plaistow</td>\n      <td>Park</td>\n      <td>Caf\u00e9</td>\n      <td>Gym / Fitness Center</td>\n      <td>Indian Restaurant</td>\n      <td>Grocery Store</td>\n      <td>Bus Stop</td>\n      <td>English Restaurant</td>\n      <td>Dance Studio</td>\n      <td>Department Store</td>\n      <td>Dessert Shop</td>\n    </tr>\n    <tr>\n      <th>10</th>\n      <td>Silvertown</td>\n      <td>Gym / Fitness Center</td>\n      <td>Theater</td>\n      <td>Construction &amp; Landscaping</td>\n      <td>Museum</td>\n      <td>Caf\u00e9</td>\n      <td>Park</td>\n      <td>Paintball Field</td>\n      <td>Go Kart Track</td>\n      <td>General Entertainment</td>\n      <td>Discount Store</td>\n    </tr>\n    <tr>\n      <th>11</th>\n      <td>Stratford</td>\n      <td>Pub</td>\n      <td>Sandwich Place</td>\n      <td>Caf\u00e9</td>\n      <td>Cosmetics Shop</td>\n      <td>Pizza Place</td>\n      <td>Bookstore</td>\n      <td>Burger Joint</td>\n      <td>Bar</td>\n      <td>Coffee Shop</td>\n      <td>Toy / Game Store</td>\n    </tr>\n    <tr>\n      <th>12</th>\n      <td>Upton Park</td>\n      <td>Convenience Store</td>\n      <td>Pub</td>\n      <td>Bus Stop</td>\n      <td>Boutique</td>\n      <td>Bus Line</td>\n      <td>Fast Food Restaurant</td>\n      <td>Department Store</td>\n      <td>Dessert Shop</td>\n      <td>Discount Store</td>\n      <td>Doner Restaurant</td>\n    </tr>\n    <tr>\n      <th>13</th>\n      <td>West Ham</td>\n      <td>Convenience Store</td>\n      <td>Pub</td>\n      <td>Bus Stop</td>\n      <td>Boutique</td>\n      <td>Bus Line</td>\n      <td>Fast Food Restaurant</td>\n      <td>Department Store</td>\n      <td>Dessert Shop</td>\n      <td>Discount Store</td>\n      <td>Doner Restaurant</td>\n    </tr>\n  </tbody>\n</table>\n</div>", 
                        "text/plain": "      Neighborhood 1st Most Common Venue   2nd Most Common Venue  \\\n0          Beckton                 Hotel  Furniture / Home Store   \n1     Canning Town     Convenience Store            Tennis Court   \n2     Custom House                 Hotel                     Pub   \n3         East Ham  Fast Food Restaurant          Clothing Store   \n4      Forest Gate         Grocery Store           Train Station   \n5    Little Ilford   Fried Chicken Joint          Ice Cream Shop   \n6       Manor Park    Turkish Restaurant    Gym / Fitness Center   \n7         Maryland                 Hotel                     Pub   \n8   North Woolwich                  Pier          History Museum   \n9         Plaistow                  Park                    Caf\u00e9   \n10      Silvertown  Gym / Fitness Center                 Theater   \n11       Stratford                   Pub          Sandwich Place   \n12      Upton Park     Convenience Store                     Pub   \n13        West Ham     Convenience Store                     Pub   \n\n         3rd Most Common Venue 4th Most Common Venue 5th Most Common Venue  \\\n0               Clothing Store                   Pub        Discount Store   \n1                  Gas Station                  Park      Greek Restaurant   \n2                     Wine Bar    English Restaurant    Light Rail Station   \n3                         Park   Sporting Goods Shop                   Pub   \n4                Moving Target                Bakery    Italian Restaurant   \n5            Indian Restaurant         Grocery Store  Fast Food Restaurant   \n6            Indian Restaurant            Restaurant              Wine Bar   \n7                     Bus Stop         Grocery Store           Supermarket   \n8               Clothing Store        Scenic Lookout  Gym / Fitness Center   \n9         Gym / Fitness Center     Indian Restaurant         Grocery Store   \n10  Construction & Landscaping                Museum                  Caf\u00e9   \n11                        Caf\u00e9        Cosmetics Shop           Pizza Place   \n12                    Bus Stop              Boutique              Bus Line   \n13                    Bus Stop              Boutique              Bus Line   \n\n   6th Most Common Venue  7th Most Common Venue 8th Most Common Venue  \\\n0     Light Rail Station         Shopping Plaza         Grocery Store   \n1          Go Kart Track               Creperie          Dance Studio   \n2    Japanese Restaurant     Italian Restaurant  Gym / Fitness Center   \n3         Sandwich Place                   Caf\u00e9    Chinese Restaurant   \n4                    Pub                   Caf\u00e9  Fast Food Restaurant   \n5           Dance Studio       Department Store          Dessert Shop   \n6   Fast Food Restaurant           Dance Studio      Department Store   \n7           Liquor Store  Portuguese Restaurant                  Caf\u00e9   \n8                  Hotel     Italian Restaurant     Outdoor Sculpture   \n9               Bus Stop     English Restaurant          Dance Studio   \n10                  Park        Paintball Field         Go Kart Track   \n11             Bookstore           Burger Joint                   Bar   \n12  Fast Food Restaurant       Department Store          Dessert Shop   \n13  Fast Food Restaurant       Department Store          Dessert Shop   \n\n    9th Most Common Venue       10th Most Common Venue  \n0   General Entertainment  Eastern European Restaurant  \n1        Department Store                 Dessert Shop  \n2       Convenience Store                  Salad Place  \n3           Shopping Mall                Grocery Store  \n4                Wine Bar            Electronics Store  \n5          Discount Store             Doner Restaurant  \n6            Dessert Shop               Discount Store  \n7        Sculpture Garden                 Dance Studio  \n8                Pharmacy           Chinese Restaurant  \n9        Department Store                 Dessert Shop  \n10  General Entertainment               Discount Store  \n11            Coffee Shop             Toy / Game Store  \n12         Discount Store             Doner Restaurant  \n13         Discount Store             Doner Restaurant  "
                    }, 
                    "output_type": "execute_result"
                }
            ], 
            "source": "num_top_venues = 10\n\nindicators = ['st', 'nd', 'rd']\n\n# create columns according to number of top venues\ncolumns = ['Neighborhood']\nfor ind in np.arange(num_top_venues):\n    try:\n        columns.append('{}{} Most Common Venue'.format(ind+1, indicators[ind]))\n    except:\n        columns.append('{}th Most Common Venue'.format(ind+1))\n\n# create a new dataframe\nneighborhoods_venues_sorted = pd.DataFrame(columns=columns)\nneighborhoods_venues_sorted['Neighborhood'] = Newham_grouped['Neighborhood']\n\nfor ind in np.arange(Newham_grouped.shape[0]):\n    neighborhoods_venues_sorted.iloc[ind, 1:] = return_most_common_venues(Newham_grouped.iloc[ind, :], num_top_venues)\n\nneighborhoods_venues_sorted"
        }, 
        {
            "source": "### 4) Cluster the Neighborhoods", 
            "cell_type": "markdown", 
            "metadata": {}
        }, 
        {
            "source": "### Run K-means algorithm to cluster the neighborhood into 5 clusters.", 
            "cell_type": "markdown", 
            "metadata": {}
        }, 
        {
            "execution_count": 286, 
            "cell_type": "code", 
            "metadata": {}, 
            "outputs": [
                {
                    "execution_count": 286, 
                    "metadata": {}, 
                    "data": {
                        "text/plain": "array([1, 0, 1, 1, 1, 3, 4, 1, 1, 0], dtype=int32)"
                    }, 
                    "output_type": "execute_result"
                }
            ], 
            "source": "# set number of clusters\nkclusters = 5\n\nNewham_grouped_clustering = Newham_grouped.drop('Neighborhood', 1)\n\n# run k-means clustering\nkmeans = KMeans(n_clusters=kclusters, random_state=0).fit(Newham_grouped_clustering)\n\n# check cluster labels generated for each row in the dataframe\nkmeans.labels_[0:10] "
        }, 
        {
            "source": "#### Let's create a new dataframe that includes the cluster as well as the top 10 venues for each neighborhood.", 
            "cell_type": "markdown", 
            "metadata": {}
        }, 
        {
            "execution_count": 287, 
            "cell_type": "code", 
            "metadata": {}, 
            "outputs": [
                {
                    "execution_count": 287, 
                    "metadata": {}, 
                    "data": {
                        "text/html": "<div>\n<style scoped>\n    .dataframe tbody tr th:only-of-type {\n        vertical-align: middle;\n    }\n\n    .dataframe tbody tr th {\n        vertical-align: top;\n    }\n\n    .dataframe thead th {\n        text-align: right;\n    }\n</style>\n<table border=\"1\" class=\"dataframe\">\n  <thead>\n    <tr style=\"text-align: right;\">\n      <th></th>\n      <th>Borough</th>\n      <th>Neighborhood</th>\n      <th>Latitude</th>\n      <th>Longitude</th>\n      <th>Cluster Labels</th>\n      <th>1st Most Common Venue</th>\n      <th>2nd Most Common Venue</th>\n      <th>3rd Most Common Venue</th>\n      <th>4th Most Common Venue</th>\n      <th>5th Most Common Venue</th>\n      <th>6th Most Common Venue</th>\n      <th>7th Most Common Venue</th>\n      <th>8th Most Common Venue</th>\n      <th>9th Most Common Venue</th>\n      <th>10th Most Common Venue</th>\n    </tr>\n  </thead>\n  <tbody>\n    <tr>\n      <th>0</th>\n      <td>Newham</td>\n      <td>Beckton</td>\n      <td>51.514642</td>\n      <td>0.067375</td>\n      <td>1</td>\n      <td>Hotel</td>\n      <td>Furniture / Home Store</td>\n      <td>Clothing Store</td>\n      <td>Pub</td>\n      <td>Discount Store</td>\n      <td>Light Rail Station</td>\n      <td>Shopping Plaza</td>\n      <td>Grocery Store</td>\n      <td>General Entertainment</td>\n      <td>Eastern European Restaurant</td>\n    </tr>\n    <tr>\n      <th>1</th>\n      <td>Newham</td>\n      <td>Canning Town</td>\n      <td>51.515396</td>\n      <td>0.024169</td>\n      <td>0</td>\n      <td>Convenience Store</td>\n      <td>Tennis Court</td>\n      <td>Gas Station</td>\n      <td>Park</td>\n      <td>Greek Restaurant</td>\n      <td>Go Kart Track</td>\n      <td>Creperie</td>\n      <td>Dance Studio</td>\n      <td>Department Store</td>\n      <td>Dessert Shop</td>\n    </tr>\n    <tr>\n      <th>2</th>\n      <td>Newham</td>\n      <td>Custom House</td>\n      <td>51.508133</td>\n      <td>0.028171</td>\n      <td>1</td>\n      <td>Hotel</td>\n      <td>Pub</td>\n      <td>Wine Bar</td>\n      <td>English Restaurant</td>\n      <td>Light Rail Station</td>\n      <td>Japanese Restaurant</td>\n      <td>Italian Restaurant</td>\n      <td>Gym / Fitness Center</td>\n      <td>Convenience Store</td>\n      <td>Salad Place</td>\n    </tr>\n    <tr>\n      <th>3</th>\n      <td>Newham</td>\n      <td>East Ham</td>\n      <td>51.532867</td>\n      <td>0.053782</td>\n      <td>1</td>\n      <td>Fast Food Restaurant</td>\n      <td>Clothing Store</td>\n      <td>Park</td>\n      <td>Sporting Goods Shop</td>\n      <td>Pub</td>\n      <td>Sandwich Place</td>\n      <td>Caf\u00e9</td>\n      <td>Chinese Restaurant</td>\n      <td>Shopping Mall</td>\n      <td>Grocery Store</td>\n    </tr>\n    <tr>\n      <th>4</th>\n      <td>Newham</td>\n      <td>Forest Gate</td>\n      <td>51.551339</td>\n      <td>0.025765</td>\n      <td>1</td>\n      <td>Grocery Store</td>\n      <td>Train Station</td>\n      <td>Moving Target</td>\n      <td>Bakery</td>\n      <td>Italian Restaurant</td>\n      <td>Pub</td>\n      <td>Caf\u00e9</td>\n      <td>Fast Food Restaurant</td>\n      <td>Wine Bar</td>\n      <td>Electronics Store</td>\n    </tr>\n  </tbody>\n</table>\n</div>", 
                        "text/plain": "  Borough  Neighborhood   Latitude  Longitude  Cluster Labels  \\\n0  Newham       Beckton  51.514642   0.067375               1   \n1  Newham  Canning Town  51.515396   0.024169               0   \n2  Newham  Custom House  51.508133   0.028171               1   \n3  Newham      East Ham  51.532867   0.053782               1   \n4  Newham   Forest Gate  51.551339   0.025765               1   \n\n  1st Most Common Venue   2nd Most Common Venue 3rd Most Common Venue  \\\n0                 Hotel  Furniture / Home Store        Clothing Store   \n1     Convenience Store            Tennis Court           Gas Station   \n2                 Hotel                     Pub              Wine Bar   \n3  Fast Food Restaurant          Clothing Store                  Park   \n4         Grocery Store           Train Station         Moving Target   \n\n  4th Most Common Venue 5th Most Common Venue 6th Most Common Venue  \\\n0                   Pub        Discount Store    Light Rail Station   \n1                  Park      Greek Restaurant         Go Kart Track   \n2    English Restaurant    Light Rail Station   Japanese Restaurant   \n3   Sporting Goods Shop                   Pub        Sandwich Place   \n4                Bakery    Italian Restaurant                   Pub   \n\n  7th Most Common Venue 8th Most Common Venue  9th Most Common Venue  \\\n0        Shopping Plaza         Grocery Store  General Entertainment   \n1              Creperie          Dance Studio       Department Store   \n2    Italian Restaurant  Gym / Fitness Center      Convenience Store   \n3                  Caf\u00e9    Chinese Restaurant          Shopping Mall   \n4                  Caf\u00e9  Fast Food Restaurant               Wine Bar   \n\n        10th Most Common Venue  \n0  Eastern European Restaurant  \n1                 Dessert Shop  \n2                  Salad Place  \n3                Grocery Store  \n4            Electronics Store  "
                    }, 
                    "output_type": "execute_result"
                }
            ], 
            "source": "Newham_merged = Newham_borough\n\n# add clustering labels\nNewham_merged['Cluster Labels'] = kmeans.labels_\n\n# merge Neighborhoods dataframe with Newham borough dataframe to add latitude/longitude for each neighborhood\nNewham_merged = Newham_merged.join(neighborhoods_venues_sorted.set_index('Neighborhood'), on='Neighborhood')\n\nNewham_merged.head() # check the last columns!\n"
        }, 
        {
            "source": "#### Let's Visualize the Cluster ", 
            "cell_type": "markdown", 
            "metadata": {}
        }, 
        {
            "execution_count": 288, 
            "cell_type": "code", 
            "metadata": {
                "scrolled": true
            }, 
            "outputs": [
                {
                    "execution_count": 288, 
                    "metadata": {}, 
                    "data": {
                        "text/html": "<div style=\"width:100%;\"><div style=\"position:relative;width:100%;height:0;padding-bottom:60%;\"><iframe src=\"data:text/html;charset=utf-8;base64,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\" style=\"position:absolute;width:100%;height:100%;left:0;top:0;border:none !important;\" allowfullscreen webkitallowfullscreen mozallowfullscreen></iframe></div></div>", 
                        "text/plain": "<folium.folium.Map at 0x7fe38d415c18>"
                    }, 
                    "output_type": "execute_result"
                }
            ], 
            "source": "# create map\nmap_clusters = folium.Map(location=[latitude, longitude], zoom_start=11)\n\n# set color scheme for the clusters\nx = np.arange(kclusters)\nys = [i+x+(i*x)**2 for i in range(kclusters)]\ncolors_array = cm.rainbow(np.linspace(0, 1, len(ys)))\nrainbow = [colors.rgb2hex(i) for i in colors_array]\n\n# add markers to the map\nmarkers_colors = []\nfor lat, lon, poi, cluster in zip(Newham_merged['Latitude'], Newham_merged['Longitude'], Newham_merged['Neighborhood'], Newham_merged['Cluster Labels']):\n    label = folium.Popup(str(poi) + ' Cluster ' + str(cluster), parse_html=True)\n    folium.CircleMarker(\n        [lat, lon],\n        radius=5,\n        popup=label,\n        color=rainbow[cluster-1],\n        fill=True,\n        fill_color=rainbow[cluster-1],\n        fill_opacity=0.7).add_to(map_clusters)\n       \nmap_clusters"
        }, 
        {
            "source": "### 5) Examine the Clusters", 
            "cell_type": "markdown", 
            "metadata": {}
        }, 
        {
            "execution_count": 289, 
            "cell_type": "code", 
            "metadata": {}, 
            "outputs": [
                {
                    "execution_count": 289, 
                    "metadata": {}, 
                    "data": {
                        "text/html": "<div>\n<style scoped>\n    .dataframe tbody tr th:only-of-type {\n        vertical-align: middle;\n    }\n\n    .dataframe tbody tr th {\n        vertical-align: top;\n    }\n\n    .dataframe thead th {\n        text-align: right;\n    }\n</style>\n<table border=\"1\" class=\"dataframe\">\n  <thead>\n    <tr style=\"text-align: right;\">\n      <th></th>\n      <th>Neighborhood</th>\n      <th>1st Most Common Venue</th>\n      <th>2nd Most Common Venue</th>\n      <th>3rd Most Common Venue</th>\n      <th>4th Most Common Venue</th>\n      <th>5th Most Common Venue</th>\n      <th>6th Most Common Venue</th>\n      <th>7th Most Common Venue</th>\n      <th>8th Most Common Venue</th>\n      <th>9th Most Common Venue</th>\n      <th>10th Most Common Venue</th>\n    </tr>\n  </thead>\n  <tbody>\n    <tr>\n      <th>1</th>\n      <td>Canning Town</td>\n      <td>Convenience Store</td>\n      <td>Tennis Court</td>\n      <td>Gas Station</td>\n      <td>Park</td>\n      <td>Greek Restaurant</td>\n      <td>Go Kart Track</td>\n      <td>Creperie</td>\n      <td>Dance Studio</td>\n      <td>Department Store</td>\n      <td>Dessert Shop</td>\n    </tr>\n    <tr>\n      <th>9</th>\n      <td>Plaistow</td>\n      <td>Park</td>\n      <td>Caf\u00e9</td>\n      <td>Gym / Fitness Center</td>\n      <td>Indian Restaurant</td>\n      <td>Grocery Store</td>\n      <td>Bus Stop</td>\n      <td>English Restaurant</td>\n      <td>Dance Studio</td>\n      <td>Department Store</td>\n      <td>Dessert Shop</td>\n    </tr>\n    <tr>\n      <th>10</th>\n      <td>Silvertown</td>\n      <td>Gym / Fitness Center</td>\n      <td>Theater</td>\n      <td>Construction &amp; Landscaping</td>\n      <td>Museum</td>\n      <td>Caf\u00e9</td>\n      <td>Park</td>\n      <td>Paintball Field</td>\n      <td>Go Kart Track</td>\n      <td>General Entertainment</td>\n      <td>Discount Store</td>\n    </tr>\n  </tbody>\n</table>\n</div>", 
                        "text/plain": "    Neighborhood 1st Most Common Venue 2nd Most Common Venue  \\\n1   Canning Town     Convenience Store          Tennis Court   \n9       Plaistow                  Park                  Caf\u00e9   \n10    Silvertown  Gym / Fitness Center               Theater   \n\n         3rd Most Common Venue 4th Most Common Venue 5th Most Common Venue  \\\n1                  Gas Station                  Park      Greek Restaurant   \n9         Gym / Fitness Center     Indian Restaurant         Grocery Store   \n10  Construction & Landscaping                Museum                  Caf\u00e9   \n\n   6th Most Common Venue 7th Most Common Venue 8th Most Common Venue  \\\n1          Go Kart Track              Creperie          Dance Studio   \n9               Bus Stop    English Restaurant          Dance Studio   \n10                  Park       Paintball Field         Go Kart Track   \n\n    9th Most Common Venue 10th Most Common Venue  \n1        Department Store           Dessert Shop  \n9        Department Store           Dessert Shop  \n10  General Entertainment         Discount Store  "
                    }, 
                    "output_type": "execute_result"
                }
            ], 
            "source": "Newham_merged.loc[Newham_merged['Cluster Labels'] == 0, Newham_merged.columns[[1] + list(range(5, Newham_merged.shape[1]))]]"
        }, 
        {
            "execution_count": 290, 
            "cell_type": "code", 
            "metadata": {}, 
            "outputs": [
                {
                    "execution_count": 290, 
                    "metadata": {}, 
                    "data": {
                        "text/html": "<div>\n<style scoped>\n    .dataframe tbody tr th:only-of-type {\n        vertical-align: middle;\n    }\n\n    .dataframe tbody tr th {\n        vertical-align: top;\n    }\n\n    .dataframe thead th {\n        text-align: right;\n    }\n</style>\n<table border=\"1\" class=\"dataframe\">\n  <thead>\n    <tr style=\"text-align: right;\">\n      <th></th>\n      <th>Neighborhood</th>\n      <th>1st Most Common Venue</th>\n      <th>2nd Most Common Venue</th>\n      <th>3rd Most Common Venue</th>\n      <th>4th Most Common Venue</th>\n      <th>5th Most Common Venue</th>\n      <th>6th Most Common Venue</th>\n      <th>7th Most Common Venue</th>\n      <th>8th Most Common Venue</th>\n      <th>9th Most Common Venue</th>\n      <th>10th Most Common Venue</th>\n    </tr>\n  </thead>\n  <tbody>\n    <tr>\n      <th>0</th>\n      <td>Beckton</td>\n      <td>Hotel</td>\n      <td>Furniture / Home Store</td>\n      <td>Clothing Store</td>\n      <td>Pub</td>\n      <td>Discount Store</td>\n      <td>Light Rail Station</td>\n      <td>Shopping Plaza</td>\n      <td>Grocery Store</td>\n      <td>General Entertainment</td>\n      <td>Eastern European Restaurant</td>\n    </tr>\n    <tr>\n      <th>2</th>\n      <td>Custom House</td>\n      <td>Hotel</td>\n      <td>Pub</td>\n      <td>Wine Bar</td>\n      <td>English Restaurant</td>\n      <td>Light Rail Station</td>\n      <td>Japanese Restaurant</td>\n      <td>Italian Restaurant</td>\n      <td>Gym / Fitness Center</td>\n      <td>Convenience Store</td>\n      <td>Salad Place</td>\n    </tr>\n    <tr>\n      <th>3</th>\n      <td>East Ham</td>\n      <td>Fast Food Restaurant</td>\n      <td>Clothing Store</td>\n      <td>Park</td>\n      <td>Sporting Goods Shop</td>\n      <td>Pub</td>\n      <td>Sandwich Place</td>\n      <td>Caf\u00e9</td>\n      <td>Chinese Restaurant</td>\n      <td>Shopping Mall</td>\n      <td>Grocery Store</td>\n    </tr>\n    <tr>\n      <th>4</th>\n      <td>Forest Gate</td>\n      <td>Grocery Store</td>\n      <td>Train Station</td>\n      <td>Moving Target</td>\n      <td>Bakery</td>\n      <td>Italian Restaurant</td>\n      <td>Pub</td>\n      <td>Caf\u00e9</td>\n      <td>Fast Food Restaurant</td>\n      <td>Wine Bar</td>\n      <td>Electronics Store</td>\n    </tr>\n    <tr>\n      <th>7</th>\n      <td>Maryland</td>\n      <td>Hotel</td>\n      <td>Pub</td>\n      <td>Bus Stop</td>\n      <td>Grocery Store</td>\n      <td>Supermarket</td>\n      <td>Liquor Store</td>\n      <td>Portuguese Restaurant</td>\n      <td>Caf\u00e9</td>\n      <td>Sculpture Garden</td>\n      <td>Dance Studio</td>\n    </tr>\n    <tr>\n      <th>8</th>\n      <td>North Woolwich</td>\n      <td>Pier</td>\n      <td>History Museum</td>\n      <td>Clothing Store</td>\n      <td>Scenic Lookout</td>\n      <td>Gym / Fitness Center</td>\n      <td>Hotel</td>\n      <td>Italian Restaurant</td>\n      <td>Outdoor Sculpture</td>\n      <td>Pharmacy</td>\n      <td>Chinese Restaurant</td>\n    </tr>\n    <tr>\n      <th>11</th>\n      <td>Stratford</td>\n      <td>Pub</td>\n      <td>Sandwich Place</td>\n      <td>Caf\u00e9</td>\n      <td>Cosmetics Shop</td>\n      <td>Pizza Place</td>\n      <td>Bookstore</td>\n      <td>Burger Joint</td>\n      <td>Bar</td>\n      <td>Coffee Shop</td>\n      <td>Toy / Game Store</td>\n    </tr>\n  </tbody>\n</table>\n</div>", 
                        "text/plain": "      Neighborhood 1st Most Common Venue   2nd Most Common Venue  \\\n0          Beckton                 Hotel  Furniture / Home Store   \n2     Custom House                 Hotel                     Pub   \n3         East Ham  Fast Food Restaurant          Clothing Store   \n4      Forest Gate         Grocery Store           Train Station   \n7         Maryland                 Hotel                     Pub   \n8   North Woolwich                  Pier          History Museum   \n11       Stratford                   Pub          Sandwich Place   \n\n   3rd Most Common Venue 4th Most Common Venue 5th Most Common Venue  \\\n0         Clothing Store                   Pub        Discount Store   \n2               Wine Bar    English Restaurant    Light Rail Station   \n3                   Park   Sporting Goods Shop                   Pub   \n4          Moving Target                Bakery    Italian Restaurant   \n7               Bus Stop         Grocery Store           Supermarket   \n8         Clothing Store        Scenic Lookout  Gym / Fitness Center   \n11                  Caf\u00e9        Cosmetics Shop           Pizza Place   \n\n   6th Most Common Venue  7th Most Common Venue 8th Most Common Venue  \\\n0     Light Rail Station         Shopping Plaza         Grocery Store   \n2    Japanese Restaurant     Italian Restaurant  Gym / Fitness Center   \n3         Sandwich Place                   Caf\u00e9    Chinese Restaurant   \n4                    Pub                   Caf\u00e9  Fast Food Restaurant   \n7           Liquor Store  Portuguese Restaurant                  Caf\u00e9   \n8                  Hotel     Italian Restaurant     Outdoor Sculpture   \n11             Bookstore           Burger Joint                   Bar   \n\n    9th Most Common Venue       10th Most Common Venue  \n0   General Entertainment  Eastern European Restaurant  \n2       Convenience Store                  Salad Place  \n3           Shopping Mall                Grocery Store  \n4                Wine Bar            Electronics Store  \n7        Sculpture Garden                 Dance Studio  \n8                Pharmacy           Chinese Restaurant  \n11            Coffee Shop             Toy / Game Store  "
                    }, 
                    "output_type": "execute_result"
                }
            ], 
            "source": "Newham_merged.loc[Newham_merged['Cluster Labels'] == 1, Newham_merged.columns[[1] + list(range(5, Newham_merged.shape[1]))]]"
        }, 
        {
            "execution_count": 291, 
            "cell_type": "code", 
            "metadata": {}, 
            "outputs": [
                {
                    "execution_count": 291, 
                    "metadata": {}, 
                    "data": {
                        "text/html": "<div>\n<style scoped>\n    .dataframe tbody tr th:only-of-type {\n        vertical-align: middle;\n    }\n\n    .dataframe tbody tr th {\n        vertical-align: top;\n    }\n\n    .dataframe thead th {\n        text-align: right;\n    }\n</style>\n<table border=\"1\" class=\"dataframe\">\n  <thead>\n    <tr style=\"text-align: right;\">\n      <th></th>\n      <th>Neighborhood</th>\n      <th>1st Most Common Venue</th>\n      <th>2nd Most Common Venue</th>\n      <th>3rd Most Common Venue</th>\n      <th>4th Most Common Venue</th>\n      <th>5th Most Common Venue</th>\n      <th>6th Most Common Venue</th>\n      <th>7th Most Common Venue</th>\n      <th>8th Most Common Venue</th>\n      <th>9th Most Common Venue</th>\n      <th>10th Most Common Venue</th>\n    </tr>\n  </thead>\n  <tbody>\n    <tr>\n      <th>12</th>\n      <td>Upton Park</td>\n      <td>Convenience Store</td>\n      <td>Pub</td>\n      <td>Bus Stop</td>\n      <td>Boutique</td>\n      <td>Bus Line</td>\n      <td>Fast Food Restaurant</td>\n      <td>Department Store</td>\n      <td>Dessert Shop</td>\n      <td>Discount Store</td>\n      <td>Doner Restaurant</td>\n    </tr>\n    <tr>\n      <th>13</th>\n      <td>West Ham</td>\n      <td>Convenience Store</td>\n      <td>Pub</td>\n      <td>Bus Stop</td>\n      <td>Boutique</td>\n      <td>Bus Line</td>\n      <td>Fast Food Restaurant</td>\n      <td>Department Store</td>\n      <td>Dessert Shop</td>\n      <td>Discount Store</td>\n      <td>Doner Restaurant</td>\n    </tr>\n  </tbody>\n</table>\n</div>", 
                        "text/plain": "   Neighborhood 1st Most Common Venue 2nd Most Common Venue  \\\n12   Upton Park     Convenience Store                   Pub   \n13     West Ham     Convenience Store                   Pub   \n\n   3rd Most Common Venue 4th Most Common Venue 5th Most Common Venue  \\\n12              Bus Stop              Boutique              Bus Line   \n13              Bus Stop              Boutique              Bus Line   \n\n   6th Most Common Venue 7th Most Common Venue 8th Most Common Venue  \\\n12  Fast Food Restaurant      Department Store          Dessert Shop   \n13  Fast Food Restaurant      Department Store          Dessert Shop   \n\n   9th Most Common Venue 10th Most Common Venue  \n12        Discount Store       Doner Restaurant  \n13        Discount Store       Doner Restaurant  "
                    }, 
                    "output_type": "execute_result"
                }
            ], 
            "source": "Newham_merged.loc[Newham_merged['Cluster Labels'] == 2, Newham_merged.columns[[1] + list(range(5, Newham_merged.shape[1]))]]"
        }, 
        {
            "execution_count": 292, 
            "cell_type": "code", 
            "metadata": {}, 
            "outputs": [
                {
                    "execution_count": 292, 
                    "metadata": {}, 
                    "data": {
                        "text/html": "<div>\n<style scoped>\n    .dataframe tbody tr th:only-of-type {\n        vertical-align: middle;\n    }\n\n    .dataframe tbody tr th {\n        vertical-align: top;\n    }\n\n    .dataframe thead th {\n        text-align: right;\n    }\n</style>\n<table border=\"1\" class=\"dataframe\">\n  <thead>\n    <tr style=\"text-align: right;\">\n      <th></th>\n      <th>Neighborhood</th>\n      <th>1st Most Common Venue</th>\n      <th>2nd Most Common Venue</th>\n      <th>3rd Most Common Venue</th>\n      <th>4th Most Common Venue</th>\n      <th>5th Most Common Venue</th>\n      <th>6th Most Common Venue</th>\n      <th>7th Most Common Venue</th>\n      <th>8th Most Common Venue</th>\n      <th>9th Most Common Venue</th>\n      <th>10th Most Common Venue</th>\n    </tr>\n  </thead>\n  <tbody>\n    <tr>\n      <th>5</th>\n      <td>Little Ilford</td>\n      <td>Fried Chicken Joint</td>\n      <td>Ice Cream Shop</td>\n      <td>Indian Restaurant</td>\n      <td>Grocery Store</td>\n      <td>Fast Food Restaurant</td>\n      <td>Dance Studio</td>\n      <td>Department Store</td>\n      <td>Dessert Shop</td>\n      <td>Discount Store</td>\n      <td>Doner Restaurant</td>\n    </tr>\n  </tbody>\n</table>\n</div>", 
                        "text/plain": "    Neighborhood 1st Most Common Venue 2nd Most Common Venue  \\\n5  Little Ilford   Fried Chicken Joint        Ice Cream Shop   \n\n  3rd Most Common Venue 4th Most Common Venue 5th Most Common Venue  \\\n5     Indian Restaurant         Grocery Store  Fast Food Restaurant   \n\n  6th Most Common Venue 7th Most Common Venue 8th Most Common Venue  \\\n5          Dance Studio      Department Store          Dessert Shop   \n\n  9th Most Common Venue 10th Most Common Venue  \n5        Discount Store       Doner Restaurant  "
                    }, 
                    "output_type": "execute_result"
                }
            ], 
            "source": "Newham_merged.loc[Newham_merged['Cluster Labels'] == 3, Newham_merged.columns[[1] + list(range(5, Newham_merged.shape[1]))]]"
        }, 
        {
            "execution_count": 293, 
            "cell_type": "code", 
            "metadata": {}, 
            "outputs": [
                {
                    "execution_count": 293, 
                    "metadata": {}, 
                    "data": {
                        "text/html": "<div>\n<style scoped>\n    .dataframe tbody tr th:only-of-type {\n        vertical-align: middle;\n    }\n\n    .dataframe tbody tr th {\n        vertical-align: top;\n    }\n\n    .dataframe thead th {\n        text-align: right;\n    }\n</style>\n<table border=\"1\" class=\"dataframe\">\n  <thead>\n    <tr style=\"text-align: right;\">\n      <th></th>\n      <th>Neighborhood</th>\n      <th>1st Most Common Venue</th>\n      <th>2nd Most Common Venue</th>\n      <th>3rd Most Common Venue</th>\n      <th>4th Most Common Venue</th>\n      <th>5th Most Common Venue</th>\n      <th>6th Most Common Venue</th>\n      <th>7th Most Common Venue</th>\n      <th>8th Most Common Venue</th>\n      <th>9th Most Common Venue</th>\n      <th>10th Most Common Venue</th>\n    </tr>\n  </thead>\n  <tbody>\n    <tr>\n      <th>6</th>\n      <td>Manor Park</td>\n      <td>Turkish Restaurant</td>\n      <td>Gym / Fitness Center</td>\n      <td>Indian Restaurant</td>\n      <td>Restaurant</td>\n      <td>Wine Bar</td>\n      <td>Fast Food Restaurant</td>\n      <td>Dance Studio</td>\n      <td>Department Store</td>\n      <td>Dessert Shop</td>\n      <td>Discount Store</td>\n    </tr>\n  </tbody>\n</table>\n</div>", 
                        "text/plain": "  Neighborhood 1st Most Common Venue 2nd Most Common Venue  \\\n6   Manor Park    Turkish Restaurant  Gym / Fitness Center   \n\n  3rd Most Common Venue 4th Most Common Venue 5th Most Common Venue  \\\n6     Indian Restaurant            Restaurant              Wine Bar   \n\n  6th Most Common Venue 7th Most Common Venue 8th Most Common Venue  \\\n6  Fast Food Restaurant          Dance Studio      Department Store   \n\n  9th Most Common Venue 10th Most Common Venue  \n6          Dessert Shop         Discount Store  "
                    }, 
                    "output_type": "execute_result"
                }
            ], 
            "source": "Newham_merged.loc[Newham_merged['Cluster Labels'] == 4, Newham_merged.columns[[1] + list(range(5, Newham_merged.shape[1]))]]"
        }, 
        {
            "source": "### Conclusion: After examining the above 5 clusters, we can recommend our stakeholders that Beckton,Custom House, Maryland, Eastham and Manor Park are the best neighborhoods in Newham borough, to open their asian restuarant. This is because in these areas, the most common venue visited by the public is the hotel and as these areas are highly populated with asians, opening an asian restuarant would definitley be a good idea.", 
            "cell_type": "markdown", 
            "metadata": {}
        }
    ], 
    "metadata": {
        "kernelspec": {
            "display_name": "Python 3.5", 
            "name": "python3", 
            "language": "python"
        }, 
        "language_info": {
            "mimetype": "text/x-python", 
            "nbconvert_exporter": "python", 
            "version": "3.5.5", 
            "name": "python", 
            "file_extension": ".py", 
            "pygments_lexer": "ipython3", 
            "codemirror_mode": {
                "version": 3, 
                "name": "ipython"
            }
        }
    }, 
    "nbformat": 4
}